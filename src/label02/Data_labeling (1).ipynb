{
 "cells": [
  {
   "cell_type": "markdown",
   "id": "91aba272-d613-4d84-b17a-a0d98b7a2672",
   "metadata": {},
   "source": [
    "# 1. Đọc dữ liệu file user-video và course_video"
   ]
  },
  {
   "cell_type": "code",
   "execution_count": 1,
   "id": "ef720786-49c3-40b3-b201-95fb828245ee",
   "metadata": {},
   "outputs": [
    {
     "name": "stdout",
     "output_type": "stream",
     "text": [
      "                                                      seq     user_id\n",
      "0       [{'video_id': 'V_1395633', 'segment': [{'start...       U_112\n",
      "1       [{'video_id': 'V_6224262', 'segment': [{'start...       U_150\n",
      "2       [{'video_id': 'V_6432959', 'segment': [{'start...       U_172\n",
      "3       [{'video_id': 'V_6334508', 'segment': [{'start...       U_189\n",
      "4       [{'video_id': 'V_1358540', 'segment': [{'start...       U_197\n",
      "...                                                   ...         ...\n",
      "310355  [{'video_id': 'V_8156324', 'segment': [{'start...  U_36053916\n",
      "310356  [{'video_id': 'V_6268956', 'segment': [{'start...  U_36053934\n",
      "310357  [{'video_id': 'V_6388141', 'segment': [{'start...  U_36053946\n",
      "310358  [{'video_id': 'V_8244595', 'segment': [{'start...  U_36053952\n",
      "310359  [{'video_id': 'V_6106087', 'segment': [{'start...  U_36053959\n",
      "\n",
      "[310360 rows x 2 columns]\n",
      "       Unnamed: 0 course_id resource_id\n",
      "0               0  C_674903     V_35117\n",
      "1               1  C_674903     V_35118\n",
      "2               2  C_674903     V_35119\n",
      "3               3  C_674903     V_35120\n",
      "4               4  C_674903     V_35121\n",
      "...           ...       ...         ...\n",
      "65914       65914  C_893812   V_1058509\n",
      "65915       65915  C_893812   V_1058510\n",
      "65916       65916  C_893812   V_1058511\n",
      "65917       65917  C_893812   V_1058512\n",
      "65918       65918  C_893812   V_1058515\n",
      "\n",
      "[65919 rows x 3 columns]\n"
     ]
    }
   ],
   "source": [
    "import pandas as pd\n",
    "import json\n",
    "import os\n",
    "import ast\n",
    "# Đường dẫn tới các file JSON\n",
    "file_paths = {\n",
    "    \"user_video\": r\"D:\\Data_labeling\\user-video.json\",\n",
    "\n",
    "    \n",
    "}\n",
    "\n",
    "# Hàm đọc file JSON và xử lý lỗi\n",
    "def load_json_to_dataframe(file_path):\n",
    "    rows = []\n",
    "    with open(file_path, 'r', encoding='utf-8') as file:\n",
    "        for line in file:  # Đọc từng dòng trong file\n",
    "            try:\n",
    "                rows.append(json.loads(line))  # Chuyển dòng thành đối tượng JSON\n",
    "            except json.JSONDecodeError as e:\n",
    "                print(f\"Lỗi đọc JSON tại file {file_path}, dòng: {line.strip()}, lỗi: {e}\")\n",
    "    return pd.DataFrame(rows) if rows else pd.DataFrame()  # Trả về DataFrame\n",
    "# Tạo DataFrame cho từng file\n",
    "user_video = load_json_to_dataframe(file_paths[\"user_video\"])\n",
    "print(user_video)\n",
    "# Đọc file csv\n",
    "course_video = pd.read_csv(r\"D:\\Data_labeling\\course_video.csv\")\n",
    "print(course_video)\n"
   ]
  },
  {
   "cell_type": "markdown",
   "id": "9384df9d-5882-41cc-9d1e-2595dd210022",
   "metadata": {},
   "source": [
    "# 2. Tiền xử lý dữ liệu"
   ]
  },
  {
   "cell_type": "code",
   "execution_count": 5,
   "id": "136392ed-d931-4521-ac57-6aa7ac2fe18a",
   "metadata": {},
   "outputs": [
    {
     "name": "stdout",
     "output_type": "stream",
     "text": [
      "             user_id   video_id  total_study_time  frequency\n",
      "0              U_112  V_1395633            157.45          4\n",
      "1              U_112  V_1395635             35.00          1\n",
      "2              U_112  V_1395636             52.50          1\n",
      "3              U_112  V_1395639             12.50          2\n",
      "4              U_112  V_6210799            319.25          4\n",
      "...              ...        ...               ...        ...\n",
      "21295742  U_36053916  V_8156324              9.50          1\n",
      "21295743  U_36053934  V_6268956            155.00          1\n",
      "21295744  U_36053946  V_6388141             10.00          1\n",
      "21295745  U_36053952  V_8244595             45.00          6\n",
      "21295746  U_36053959  V_6106087             55.00          2\n",
      "\n",
      "[21295747 rows x 4 columns]\n"
     ]
    }
   ],
   "source": [
    "\n",
    "\n",
    "\n",
    "# === Làm sạch bảng user_video ===\n",
    "# Loại bỏ giá trị thiếu\n",
    "user_video.dropna(subset=[\"seq\", \"user_id\"], inplace=True)\n",
    "\n",
    "# Chuyển đổi các cột không băm được sang định dạng chuỗi\n",
    "user_video[\"seq\"] = user_video[\"seq\"].astype(str)\n",
    "\n",
    "\n",
    "# Hàm làm sạch dữ liệu JSON trong cột 'seq'\n",
    "def clean_seq_data(seq):\n",
    "    try:\n",
    "        # Chuyển chuỗi JSON thành danh sách Python\n",
    "        if isinstance(seq, str):\n",
    "            return ast.literal_eval(seq)\n",
    "        return seq  # Nếu đã là danh sách thì giữ nguyên\n",
    "    except Exception as e:\n",
    "        print(f\"Lỗi khi xử lý chuỗi JSON: {e}\")\n",
    "        return []\n",
    "\n",
    "# Làm sạch cột 'seq'\n",
    "user_video[\"seq\"] = user_video[\"seq\"].apply(clean_seq_data)\n",
    "\n",
    "# Hàm xử lý để tính tổng thời gian học và tần suất từ bảng user_video\n",
    "def calculate_video_stats(user_video_df):\n",
    "    # Danh sách lưu trữ thông tin thống kê\n",
    "    stats = []\n",
    "\n",
    "    # Duyệt qua từng người dùng\n",
    "    for _, row in user_video_df.iterrows():\n",
    "        user_id = row['user_id']\n",
    "        for record in row['seq']:\n",
    "            video_id = record['video_id']\n",
    "            total_study_time = 0\n",
    "            frequency = 0\n",
    "            \n",
    "            # Tính thời gian học và số lần\n",
    "            for segment in record['segment']:\n",
    "                start = segment['start_point']\n",
    "                end = segment['end_point']\n",
    "                total_study_time += end - start  # Tính thời gian học\n",
    "                frequency += 1  # Đếm tần suất\n",
    "            \n",
    "            # Lưu kết quả\n",
    "            stats.append({\n",
    "                \"user_id\": user_id,\n",
    "                \"video_id\": video_id,\n",
    "                \"total_study_time\": total_study_time,\n",
    "                \"frequency\": frequency\n",
    "            })\n",
    "    \n",
    "    # Trả về DataFrame thống kê\n",
    "    return pd.DataFrame(stats)\n",
    "\n",
    "# Tính toán thông tin tần suất và thời gian học\n",
    "stats_df = calculate_video_stats(user_video)\n",
    "print(stats_df)\n",
    "\n"
   ]
  },
  {
   "cell_type": "code",
   "execution_count": 6,
   "id": "65fc1477-ec74-42b2-b556-f4fd40e9bdef",
   "metadata": {},
   "outputs": [
    {
     "name": "stdout",
     "output_type": "stream",
     "text": [
      "             user_id   video_id  total_study_time  frequency\n",
      "34             U_197  V_1358568           -468.75          4\n",
      "76             U_197  V_1358765           -433.60          1\n",
      "82             U_197  V_1358782           -352.10          2\n",
      "189            U_783  V_1358675            -99.00         10\n",
      "228           U_1071  V_1358581            -95.30          5\n",
      "...              ...        ...               ...        ...\n",
      "21295383  U_36051429  V_6267465           -346.30          2\n",
      "21295523  U_36052067  V_6375502            -19.70          1\n",
      "21295581  U_36052491  V_6234827          -5767.30         19\n",
      "21295582  U_36052491  V_6234830           -213.20          4\n",
      "21295691  U_36053306  V_6325346           -384.70          2\n",
      "\n",
      "[18403 rows x 4 columns]\n"
     ]
    }
   ],
   "source": [
    "# Lọc các hàng có giá trị âm trong cột 'total_study_time'\n",
    "negative_study_time = stats_df[stats_df['total_study_time'] < 0]\n",
    "\n",
    "# Kiểm tra kết quả\n",
    "print(negative_study_time)\n"
   ]
  },
  {
   "cell_type": "code",
   "execution_count": 7,
   "id": "8e686390-8c4f-4b0a-92b9-cd57a94a233c",
   "metadata": {},
   "outputs": [],
   "source": [
    "# Xóa các hàng có giá trị âm trong cột 'total_study_time'\n",
    "stats_df = stats_df[stats_df['total_study_time'] >= 0]\n",
    "# Merge 2 bảng user_video và course_video \n",
    "course_video.rename(columns={'resource_id': 'video_id'}, inplace=True)\n",
    "merged_df = pd.merge(course_video, stats_df, on='video_id', how='inner')"
   ]
  },
  {
   "cell_type": "code",
   "execution_count": 11,
   "id": "75b17996-99e4-4fd1-887b-bbbafe039138",
   "metadata": {},
   "outputs": [
    {
     "name": "stdout",
     "output_type": "stream",
     "text": [
      "        Unnamed: 0 course_id   video_id     user_id  total_study_time  \\\n",
      "0              196  C_674920  V_1641825     U_97963             265.1   \n",
      "1              196  C_674920  V_1641825   U_5146831             289.9   \n",
      "2              196  C_674920  V_1641825   U_9013964             315.0   \n",
      "3              196  C_674920  V_1641825  U_13503162             320.0   \n",
      "4              196  C_674920  V_1641825  U_14791778              74.5   \n",
      "...            ...       ...        ...         ...               ...   \n",
      "116759       65658  C_697828   V_559945  U_11959429             241.4   \n",
      "116760       65659  C_697828   V_559946  U_11959429              79.8   \n",
      "116761       65660  C_697828   V_559947  U_11959429             227.3   \n",
      "116762       65661  C_697828   V_559948  U_11959429             370.7   \n",
      "116763       65662  C_697828   V_559949  U_11959429             160.3   \n",
      "\n",
      "        frequency  \n",
      "0               1  \n",
      "1               2  \n",
      "2               2  \n",
      "3               2  \n",
      "4               9  \n",
      "...           ...  \n",
      "116759          1  \n",
      "116760          1  \n",
      "116761          2  \n",
      "116762          2  \n",
      "116763          2  \n",
      "\n",
      "[116764 rows x 6 columns]\n"
     ]
    }
   ],
   "source": [
    "print(merged_df)"
   ]
  },
  {
   "cell_type": "markdown",
   "id": "103ac7e4-1ac4-4475-b3cc-b98bbe12f9d4",
   "metadata": {},
   "source": [
    "# 3. Gán nhãn cho tiêu chí tần suất và thời học video"
   ]
  },
  {
   "cell_type": "code",
   "execution_count": 15,
   "id": "6bb9937c-aaa6-4946-8e1f-2ffd47f87ccb",
   "metadata": {},
   "outputs": [
    {
     "name": "stdout",
     "output_type": "stream",
     "text": [
      "       course_id   video_id     user_id  total_study_time  frequency  \\\n",
      "0       C_674920  V_1641825     U_97963             265.1          1   \n",
      "1       C_674920  V_1641825   U_5146831             289.9          2   \n",
      "2       C_674920  V_1641825   U_9013964             315.0          2   \n",
      "3       C_674920  V_1641825  U_13503162             320.0          2   \n",
      "4       C_674920  V_1641825  U_14791778              74.5          9   \n",
      "...          ...        ...         ...               ...        ...   \n",
      "116759  C_697828   V_559945  U_11959429             241.4          1   \n",
      "116760  C_697828   V_559946  U_11959429              79.8          1   \n",
      "116761  C_697828   V_559947  U_11959429             227.3          2   \n",
      "116762  C_697828   V_559948  U_11959429             370.7          2   \n",
      "116763  C_697828   V_559949  U_11959429             160.3          2   \n",
      "\n",
      "       time_label freq_label  \n",
      "0            High        Low  \n",
      "1            High     Medium  \n",
      "2            High     Medium  \n",
      "3            High     Medium  \n",
      "4            High       High  \n",
      "...           ...        ...  \n",
      "116759       High        Low  \n",
      "116760       High        Low  \n",
      "116761       High     Medium  \n",
      "116762       High     Medium  \n",
      "116763       High     Medium  \n",
      "\n",
      "[116764 rows x 7 columns]\n"
     ]
    }
   ],
   "source": [
    "\n",
    "\n",
    "\n",
    "\n",
    "# Gán nhãn dựa trên tổng thời gian học và tần suất\n",
    "def assign_labels(row):\n",
    "    # Gán nhãn thời gian học\n",
    "    if row['total_study_time'] < 30:\n",
    "        time_label = \"Low\"\n",
    "    elif 30 <= row['total_study_time'] < 60:\n",
    "        time_label = \"Medium\"\n",
    "    else:\n",
    "        time_label = \"High\"\n",
    "\n",
    "    # Gán nhãn tần suất\n",
    "    if row['frequency'] < 2:\n",
    "        freq_label = \"Low\"\n",
    "    elif 2 <= row['frequency'] < 5:\n",
    "        freq_label = \"Medium\"\n",
    "    else:\n",
    "        freq_label = \"High\"\n",
    "    \n",
    "    return time_label, freq_label\n",
    "\n",
    "# Áp dụng hàm gán nhãn\n",
    "merged_df[['time_label', 'freq_label']] = merged_df.apply(assign_labels, axis=1, result_type=\"expand\")\n",
    "merged_df = merged_df.drop('Unnamed: 0', axis=1)\n",
    "\n",
    "# Xuất kết quả\n",
    "print(merged_df)\n"
   ]
  },
  {
   "cell_type": "markdown",
   "id": "369d0ed8-ed00-4b11-90c4-657b054cab25",
   "metadata": {},
   "source": [
    "# 4. Gán nhãn tổng hợp"
   ]
  },
  {
   "cell_type": "code",
   "execution_count": 17,
   "id": "4d1be48e-64da-424f-8533-06643bf9db07",
   "metadata": {},
   "outputs": [],
   "source": [
    "from sklearn.preprocessing import LabelEncoder"
   ]
  },
  {
   "cell_type": "code",
   "execution_count": 21,
   "id": "000c49b5-ff9c-4ea4-a113-0723f9309e28",
   "metadata": {},
   "outputs": [
    {
     "name": "stdout",
     "output_type": "stream",
     "text": [
      "       course_id   video_id     user_id  total_study_time  frequency  \\\n",
      "0       C_674920  V_1641825     U_97963             265.1          1   \n",
      "1       C_674920  V_1641825   U_5146831             289.9          2   \n",
      "2       C_674920  V_1641825   U_9013964             315.0          2   \n",
      "3       C_674920  V_1641825  U_13503162             320.0          2   \n",
      "4       C_674920  V_1641825  U_14791778              74.5          9   \n",
      "...          ...        ...         ...               ...        ...   \n",
      "116759  C_697828   V_559945  U_11959429             241.4          1   \n",
      "116760  C_697828   V_559946  U_11959429              79.8          1   \n",
      "116761  C_697828   V_559947  U_11959429             227.3          2   \n",
      "116762  C_697828   V_559948  U_11959429             370.7          2   \n",
      "116763  C_697828   V_559949  U_11959429             160.3          2   \n",
      "\n",
      "       time_label freq_label  time_label_encoded  freq_label_encoded  \\\n",
      "0            High        Low                   0                   1   \n",
      "1            High     Medium                   0                   2   \n",
      "2            High     Medium                   0                   2   \n",
      "3            High     Medium                   0                   2   \n",
      "4            High       High                   0                   0   \n",
      "...           ...        ...                 ...                 ...   \n",
      "116759       High        Low                   0                   1   \n",
      "116760       High        Low                   0                   1   \n",
      "116761       High     Medium                   0                   2   \n",
      "116762       High     Medium                   0                   2   \n",
      "116763       High     Medium                   0                   2   \n",
      "\n",
      "        new_label  \n",
      "0               3  \n",
      "1               5  \n",
      "2               5  \n",
      "3               5  \n",
      "4               5  \n",
      "...           ...  \n",
      "116759          3  \n",
      "116760          3  \n",
      "116761          5  \n",
      "116762          5  \n",
      "116763          5  \n",
      "\n",
      "[116764 rows x 10 columns]\n"
     ]
    }
   ],
   "source": [
    "# Chuyển đổi các thuộc tính phân loại 'time_label' và 'freq_label' thành các giá trị số\n",
    "label_encoder = LabelEncoder()\n",
    "\n",
    "# Giả sử time_label và freq_label có các giá trị như sau: Low = 1, Medium = 2, High = 0\n",
    "merged_df['time_label_encoded'] = label_encoder.fit_transform(merged_df['time_label'])\n",
    "merged_df['freq_label_encoded'] = label_encoder.fit_transform(merged_df['freq_label'])\n",
    "\n",
    "# Hàm gán nhãn mới theo quy tắc đã cho\n",
    "def assign_new_label(row):\n",
    "    if row['time_label_encoded'] == 1 and row['freq_label_encoded'] == 1:\n",
    "        return 1  # Cả hai đều Low -> nhãn 1\n",
    "    elif (row['time_label_encoded'] == 1 and row['freq_label_encoded'] == 2) or \\\n",
    "         (row['time_label_encoded'] == 2 and row['freq_label_encoded'] == 1):\n",
    "        return 2  # Một trong hai là Low và một là Medium -> nhãn 2\n",
    "    elif (row['time_label_encoded'] == 1 and row['freq_label_encoded'] == 0) or \\\n",
    "         (row['time_label_encoded'] == 0 and row['freq_label_encoded'] == 1):\n",
    "        return 3  # Một trong hai là Low và một là High -> nhãn 3\n",
    "    elif row['time_label_encoded'] == 2 and row['freq_label_encoded'] == 2:\n",
    "        return 4  # Cả hai đều Medium -> nhãn 4\n",
    "    else:\n",
    "        return 5  # Cả hai đều High/High-Medium hoặc Medium-High -> nhãn 5\n",
    "\n",
    "# Áp dụng logic gán nhãn mới\n",
    "merged_df['new_label'] = merged_df.apply(assign_new_label, axis=1)\n",
    "print(merged_df)"
   ]
  },
  {
   "cell_type": "code",
   "execution_count": 23,
   "id": "a68597f0-8fdc-4110-a94f-39413bf4d389",
   "metadata": {},
   "outputs": [],
   "source": [
    "# Lọc chỉ hai cột course_id và new_label\n",
    "merged_df = merged_df[['course_id', 'new_label']]"
   ]
  },
  {
   "cell_type": "code",
   "execution_count": 25,
   "id": "f171153f-c8be-460e-946c-35a0063bc9d9",
   "metadata": {},
   "outputs": [
    {
     "name": "stdout",
     "output_type": "stream",
     "text": [
      "       course_id  new_label\n",
      "0       C_674920          3\n",
      "1       C_674920          5\n",
      "2       C_674920          5\n",
      "3       C_674920          5\n",
      "4       C_674920          5\n",
      "...          ...        ...\n",
      "116759  C_697828          3\n",
      "116760  C_697828          3\n",
      "116761  C_697828          5\n",
      "116762  C_697828          5\n",
      "116763  C_697828          5\n",
      "\n",
      "[116764 rows x 2 columns]\n"
     ]
    }
   ],
   "source": [
    "print(merged_df)"
   ]
  },
  {
   "cell_type": "code",
   "execution_count": 38,
   "id": "037fa3dc-8dfe-4eac-bae2-89af4bd14c3b",
   "metadata": {},
   "outputs": [
    {
     "name": "stdout",
     "output_type": "stream",
     "text": [
      "     course_id  new_label\n",
      "0    C_1159827        4.0\n",
      "1    C_1410156        3.0\n",
      "2    C_1428968        3.0\n",
      "3    C_1429002        2.0\n",
      "4    C_1434593        4.0\n",
      "..         ...        ...\n",
      "298   C_948433        5.0\n",
      "299   C_948435        3.0\n",
      "300   C_948468        4.0\n",
      "301   C_948486        4.0\n",
      "302   C_949540        5.0\n",
      "\n",
      "[303 rows x 2 columns]\n"
     ]
    }
   ],
   "source": [
    "# Nhóm theo course_id và tính trung bình nhãn mới cho từng khóa học\n",
    "course_avg_labels = merged_df.groupby('course_id')['new_label'].mean().reset_index()\n",
    "\n",
    "# Làm tròn giá trị trung bình nhãn về 1, 2, 3, 4, 5\n",
    "course_avg_labels['new_label'] = course_avg_labels['new_label'].round()\n",
    "\n",
    "# Đảm bảo nhãn nằm trong khoảng từ 1 đến 5\n",
    "course_avg_labels['new_label'] = course_avg_labels['new_label'].clip(1, 5)\n",
    "print(course_avg_labels)"
   ]
  },
  {
   "cell_type": "markdown",
   "id": "02ecd64c-0b82-4540-8c92-59f048eaa063",
   "metadata": {},
   "source": [
    "# 5. Xuất biểu đồ đã được gán nhãn theo tiêu chí 2"
   ]
  },
  {
   "cell_type": "code",
   "execution_count": 36,
   "id": "25f12324-28de-41e0-872b-3c54d72647b2",
   "metadata": {},
   "outputs": [
    {
     "data": {
      "image/png": "[encoded data removed]",
      "text/plain": [
       "<Figure size 1000x600 with 1 Axes>"
      ]
     },
     "metadata": {},
     "output_type": "display_data"
    }
   ],
   "source": [
    "import matplotlib.pyplot as plt\n",
    "# Hiển thị biểu đồ phân bố các nhãn\n",
    "plt.figure(figsize=(10, 6))\n",
    "course_avg_labels['new_label'].value_counts().sort_index().plot(kind='bar', color='skyblue', edgecolor='black')\n",
    "plt.title('Phân phối các nhãn thói quen học qua video', fontsize=14)\n",
    "plt.xlabel('Nhãn', fontsize=12)\n",
    "plt.ylabel('Số lượng', fontsize=12)\n",
    "plt.tight_layout()\n",
    "plt.show()"
   ]
  },
  {
   "cell_type": "code",
   "execution_count": null,
   "id": "6c0531c0-7433-49e2-8f45-d597b3d63048",
   "metadata": {},
   "outputs": [],
   "source": []
  }
 ],
 "metadata": {
  "kernelspec": {
   "display_name": "Python 3 (ipykernel)",
   "language": "python",
   "name": "python3"
  },
  "language_info": {
   "codemirror_mode": {
    "name": "ipython",
    "version": 3
   },
   "file_extension": ".py",
   "mimetype": "text/x-python",
   "name": "python",
   "nbconvert_exporter": "python",
   "pygments_lexer": "ipython3",
   "version": "3.12.4"
  }
 },
 "nbformat": 4,
 "nbformat_minor": 5
}
