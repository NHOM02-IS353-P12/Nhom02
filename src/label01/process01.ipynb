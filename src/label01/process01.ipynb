{
 "cells": [
  {
   "cell_type": "code",
   "execution_count": 1,
   "id": "310d5027-aef1-4385-8d9c-f844d5006bc8",
   "metadata": {},
   "outputs": [
    {
     "name": "stdout",
     "output_type": "stream",
     "text": [
      "Lỗi đọc JSON tại file G:\\pjmxh\\filtered_user_problems.json, dòng: {\"log_id\": \"12455261_6875142\", \"problem_id\": \"Pm_6875142\", \", lỗi: Unterminated string starting at: line 1 column 60 (char 59)\n",
      "Lỗi đọc JSON tại file G:\\pjmxh\\problem.json, dòng: {\"problem_id\": 7991724, \"title\": \"Unit 3--7\", \"content\": \"What does “stuffed” mean?\", \"option\": {\"A\": \"They were not hungry any more.\", \"B\": \"Their stomachs were very full.\", \"C\": \"They did not want to have any more frui, lỗi: Unterminated string starting at: line 1 column 181 (char 180)\n",
      "DataFrame user_problems:\n",
      "          log_id  problem_id  user_id  is_correct  attempts  score  \\\n",
      "0  10000_6906522  Pm_6906522  U_10000           0         1    NaN   \n",
      "1  10000_6906523  Pm_6906523  U_10000           0         1    NaN   \n",
      "2  10000_6906524  Pm_6906524  U_10000           1         1    NaN   \n",
      "3  10000_6906525  Pm_6906525  U_10000           0         1    NaN   \n",
      "4  10000_6906526  Pm_6906526  U_10000           0         1    NaN   \n",
      "\n",
      "           submit_time  \n",
      "0  2020-10-27 10:11:56  \n",
      "1  2020-10-27 10:12:13  \n",
      "2  2020-10-27 10:12:28  \n",
      "3  2020-10-27 10:14:56  \n",
      "4  2020-10-27 10:15:18  \n",
      "\n",
      "DataFrame problem:\n",
      "   problem_id            title  \\\n",
      "0        1730  第一课 导论与三家分晋--习题   \n",
      "1        1731  第一课 导论与三家分晋--习题   \n",
      "2        1732  第一课 导论与三家分晋--习题   \n",
      "3        1733  第一课 导论与三家分晋--习题   \n",
      "4        1734  第一课 导论与三家分晋--习题   \n",
      "\n",
      "                                             content  \\\n",
      "0  1、《资治通鉴》卷1记载：智宣子将以瑶为后，智果曰：“……瑶之贤于人者五，其不逮者一也。美鬓...   \n",
      "1                                 2、《资治通鉴》是一部____史书。   \n",
      "2                     3、《资治通鉴》原名____，后由____赐名“资治通鉴”。   \n",
      "3                                  4、“三家分晋”中“三家”具体指：   \n",
      "4                     5、智伯联合韩、魏的军队攻打赵氏时，赵襄子选择退守的阵地是：   \n",
      "\n",
      "                                              option answer  score  type  \\\n",
      "0  {'A': '武艺超群，精通射御之术', 'B': '礼贤下士，虚怀若谷', 'C': '反...  [\"B\"]    1.0     1   \n",
      "1  {'A': '纪传体', 'B': '编年体', 'C': '纪事本末体', 'D': '国...  [\"B\"]    1.0     1   \n",
      "2  {'A': '《通鉴》；宋神宗', 'B': '《通志》；宋徽宗', 'C': '《通鉴》；...  [\"D\"]    1.0     1   \n",
      "3   {'A': '魏赵韩', 'B': '魏韩智', 'C': '赵韩智', 'D': '魏赵智'}  [\"A\"]    1.0     1   \n",
      "4       {'A': '邯郸', 'B': '长子', 'C': '晋阳', 'D': '皋狼'}  [\"C\"]    1.0     1   \n",
      "\n",
      "  typetext location                   context_id exercise_id language  \n",
      "0      单选题      1.4  [8045581, 8045582, 8045583]      Ex_856  Chinese  \n",
      "1      单选题      1.4  [8045581, 8045582, 8045583]      Ex_856  Chinese  \n",
      "2      单选题      1.4  [8045581, 8045582, 8045583]      Ex_856  Chinese  \n",
      "3      单选题      1.4  [8045581, 8045582, 8045583]      Ex_856  Chinese  \n",
      "4      单选题      1.4  [8045581, 8045582, 8045583]      Ex_856  Chinese  \n"
     ]
    }
   ],
   "source": [
    "import pandas as pd\n",
    "import json\n",
    "\n",
    "# Đường dẫn tới các file JSON\n",
    "file_paths_1 = {\n",
    "    \"user_problems\": r\"G:\\pjmxh\\filtered_user_problems.json\",\n",
    "    \"problem\": r\"G:\\pjmxh\\problem.json\",\n",
    "}\n",
    "\n",
    "# Hàm đọc file JSON và xử lý lỗi\n",
    "def load_json_to_dataframe(file_path_1):\n",
    "    rows = []\n",
    "    with open(file_path_1, 'r', encoding='utf-8') as file:\n",
    "        for line in file:  # Đọc từng dòng trong file\n",
    "            try:\n",
    "                rows.append(json.loads(line))  # Chuyển dòng thành đối tượng JSON\n",
    "            except json.JSONDecodeError as e:\n",
    "                print(f\"Lỗi đọc JSON tại file {file_path_1}, dòng: {line.strip()}, lỗi: {e}\")\n",
    "    return pd.DataFrame(rows) if rows else pd.DataFrame()  # Trả về DataFrame\n",
    "\n",
    "# Tạo DataFrame cho từng file\n",
    "user_problems = load_json_to_dataframe(file_paths_1[\"user_problems\"])\n",
    "problem = load_json_to_dataframe(file_paths_1[\"problem\"])\n",
    "\n",
    "# Hiển thị kết quả\n",
    "print(\"DataFrame user_problems:\")\n",
    "print(user_problems.head())\n",
    "\n",
    "print(\"\\nDataFrame problem:\")\n",
    "print(problem.head())"
   ]
  },
  {
   "cell_type": "code",
   "execution_count": 3,
   "id": "2871f7e7-b9db-48a3-8162-57bce79593b7",
   "metadata": {},
   "outputs": [
    {
     "name": "stdout",
     "output_type": "stream",
     "text": [
      "         problem_id     user_id  is_correct  attempts  score\n",
      "0        Pm_6906522     U_10000           0         1    NaN\n",
      "1        Pm_6906523     U_10000           0         1    NaN\n",
      "2        Pm_6906524     U_10000           1         1    NaN\n",
      "3        Pm_6906525     U_10000           0         1    NaN\n",
      "4        Pm_6906526     U_10000           0         1    NaN\n",
      "...             ...         ...         ...       ...    ...\n",
      "8356671  Pm_6875137  U_12455261           1         1    1.0\n",
      "8356672  Pm_6875138  U_12455261           1         1    1.0\n",
      "8356673  Pm_6875139  U_12455261           1         1    1.0\n",
      "8356674  Pm_6875140  U_12455261           1         1    1.0\n",
      "8356675  Pm_6875141  U_12455261           1         1    1.0\n",
      "\n",
      "[8356676 rows x 5 columns]\n"
     ]
    }
   ],
   "source": [
    "# Loại bỏ các cột log_id và submit_time\n",
    "user_problems.drop(columns=['log_id', 'submit_time'], inplace=True)\n",
    "\n",
    "# In kết quả\n",
    "print(user_problems)"
   ]
  },
  {
   "cell_type": "code",
   "execution_count": 5,
   "id": "3de0fdf9-3007-438b-8b1b-e17401694126",
   "metadata": {},
   "outputs": [
    {
     "name": "stdout",
     "output_type": "stream",
     "text": [
      "         problem_id  score  type location exercise_id\n",
      "0              1730    1.0     1      1.4      Ex_856\n",
      "1              1731    1.0     1      1.4      Ex_856\n",
      "2              1732    1.0     1      1.4      Ex_856\n",
      "3              1733    1.0     1      1.4      Ex_856\n",
      "4              1734    1.0     1      1.4      Ex_856\n",
      "...             ...    ...   ...      ...         ...\n",
      "2309703     7991719    NaN     1    2.6.1  Ex_8086636\n",
      "2309704     7991720    NaN     1    2.6.1  Ex_8086636\n",
      "2309705     7991721    NaN     1    2.6.1  Ex_8086636\n",
      "2309706     7991722    NaN     1    2.6.1  Ex_8086636\n",
      "2309707     7991723    NaN     1    2.6.1  Ex_8086636\n",
      "\n",
      "[2309708 rows x 5 columns]\n"
     ]
    }
   ],
   "source": [
    "# Loại bỏ các cột title, content, option, answer, typetext, language\n",
    "problem.drop(columns=['title', 'content', 'option', 'answer', 'typetext', 'language','context_id'], inplace=True)\n",
    "\n",
    "# In kết quả\n",
    "print(problem)"
   ]
  },
  {
   "cell_type": "code",
   "execution_count": 7,
   "id": "7eefdb4a-6901-4ea3-aa07-61e0d441fde8",
   "metadata": {},
   "outputs": [
    {
     "name": "stdout",
     "output_type": "stream",
     "text": [
      "           Exercise   Parameter\n",
      "0            Ex_143        Pm_1\n",
      "1            Ex_143        Pm_2\n",
      "2            Ex_147        Pm_3\n",
      "3            Ex_147        Pm_4\n",
      "4            Ex_151        Pm_5\n",
      "...             ...         ...\n",
      "6252825  Ex_8600262  Pm_8602347\n",
      "6252826  Ex_8753628  Pm_8602348\n",
      "6252827  Ex_8753676  Pm_8602349\n",
      "6252828  Ex_8753787  Pm_8602350\n",
      "6252829  Ex_8600120  Pm_8602351\n",
      "\n",
      "[6252830 rows x 2 columns]\n"
     ]
    }
   ],
   "source": [
    "import pandas as pd\n",
    "\n",
    "# Đường dẫn tới file exercise.txt (đặt cùng thư mục notebook hoặc chỉnh sửa đường dẫn)\n",
    "file_path = r\"G:\\pjmxh\\Label2s\\exercise-problem.txt\"\n",
    "\n",
    "# Tạo DataFrame từ file\n",
    "column_names = ['Exercise', 'Parameter']\n",
    "data = pd.read_csv(file_path, sep='\\t', header=None, names=column_names)\n",
    "\n",
    "# Hiển thị DataFrame\n",
    "print(data)"
   ]
  },
  {
   "cell_type": "code",
   "execution_count": 9,
   "id": "11945ac6-3715-41ed-a0ec-d6b1352cbb24",
   "metadata": {},
   "outputs": [
    {
     "name": "stdout",
     "output_type": "stream",
     "text": [
      "\n",
      "Merged DataFrame:\n",
      "  Exercise Parameter  problem_id  score  type location exercise_id\n",
      "0   Ex_856   Pm_1730        1730    1.0     1      1.4      Ex_856\n",
      "1   Ex_856   Pm_1730        1731    1.0     1      1.4      Ex_856\n",
      "2   Ex_856   Pm_1730        1732    1.0     1      1.4      Ex_856\n",
      "3   Ex_856   Pm_1730        1733    1.0     1      1.4      Ex_856\n",
      "4   Ex_856   Pm_1730        1734    1.0     1      1.4      Ex_856\n"
     ]
    }
   ],
   "source": [
    "# Merge hai DataFrame dựa trên cột Exercise và exercise_id\n",
    "merged_data = pd.merge(data, problem, left_on='Exercise', right_on='exercise_id', how='inner')  # inner, left, right, or outer\n",
    "\n",
    "# Hiển thị kết quả\n",
    "print(\"\\nMerged DataFrame:\")\n",
    "print(merged_data.head())"
   ]
  },
  {
   "cell_type": "code",
   "execution_count": 11,
   "id": "7096e092-0343-4c8f-9f2f-cf9585969fad",
   "metadata": {},
   "outputs": [
    {
     "name": "stdout",
     "output_type": "stream",
     "text": [
      "   problem_id  user_id  is_correct  attempts  score\n",
      "0  Pm_6906522  U_10000           0         1    0.0\n",
      "1  Pm_6906523  U_10000           0         1    0.0\n",
      "2  Pm_6906524  U_10000           1         1    1.0\n",
      "3  Pm_6906525  U_10000           0         1    0.0\n",
      "4  Pm_6906526  U_10000           0         1    0.0\n"
     ]
    }
   ],
   "source": [
    "import pandas as pd\n",
    "import numpy as np\n",
    "\n",
    "# Giả sử 'user_problems' là DataFrame của bạn\n",
    "# Thực hiện xử lý dữ liệu theo các điều kiện bạn yêu cầu\n",
    "\n",
    "def process_row(row):\n",
    "    # Trường hợp khi 'is_correct' = 0 và 'score' NaN thì 'score' = 0\n",
    "    if row['is_correct'] == 0 and pd.isna(row['score']):\n",
    "        row['score'] = 0\n",
    "    \n",
    "    # Trường hợp khi 'is_correct' = 1 và 'score' NaN thì 'score' = 1\n",
    "    elif row['is_correct'] == 1 and pd.isna(row['score']):\n",
    "        row['score'] = 1\n",
    "    \n",
    "    # Trường hợp khi 'attempt' NaN và 'score' = 1 thì 'attempt' = 1\n",
    "    elif pd.isna(row['attempts']) and row['score'] == 1:\n",
    "        row['attempts'] = 1\n",
    "    \n",
    "    # Trường hợp khi 'attempt' NaN và 'score' = 0 thì 'attempt' = 0\n",
    "    elif pd.isna(row['attempts']) and row['score'] == 0:\n",
    "        row['attempts'] = 0\n",
    "    \n",
    "    # Trường hợp khi cả 'score', 'attempt', 'is_correct' đều NaN thì tất cả đều = 0\n",
    "    elif pd.isna(row['score']) and pd.isna(row['attempts']) and pd.isna(row['is_correct']):\n",
    "        row['score'] = 0\n",
    "        row['attempts'] = 0\n",
    "        row['is_correct'] = 0\n",
    "    \n",
    "    # Trường hợp khi 'is_correct' là NaN, nhưng 'score' và 'attempt' có giá trị\n",
    "    elif pd.isna(row['is_correct']) and pd.notna(row['score']) and pd.notna(row['attempts']):\n",
    "        # Nếu score = 1 và attempt = 1 thì is_correct = 1\n",
    "        if row['score'] == 1 and row['attempts'] == 1:\n",
    "            row['is_correct'] = 1\n",
    "        # Nếu score = 0 và attempt = 0 thì is_correct = 0\n",
    "        elif row['score'] == 0 and row['attempts'] == 0:\n",
    "            row['is_correct'] = 0\n",
    "\n",
    "    # Trường hợp khi 'score' là NaN nhưng 'attempt' có giá trị\n",
    "    elif pd.isna(row['score']) and pd.notna(row['attempts']):\n",
    "        if row['attempts'] == 1:\n",
    "            row['score'] = 1  # Giả sử score = 1 nếu attempts = 1\n",
    "        else:\n",
    "            row['score'] = 0  # Nếu attempts != 1 thì score = 0\n",
    "    \n",
    "    # Trường hợp khi 'attempts' là NaN nhưng 'score' có giá trị\n",
    "    elif pd.isna(row['attempts']) and pd.notna(row['score']):\n",
    "        if row['score'] == 1:\n",
    "            row['attempts'] = 1  # Giả sử attempts = 1 nếu score = 1\n",
    "        else:\n",
    "            row['attempts'] = 0  # Nếu score != 1 thì attempts = 0\n",
    "\n",
    "    return row\n",
    "\n",
    "# Áp dụng hàm xử lý cho từng dòng của DataFrame\n",
    "user_problems = user_problems.apply(process_row, axis=1)\n",
    "\n",
    "# Kiểm tra kết quả\n",
    "print(user_problems.head())\n"
   ]
  },
  {
   "cell_type": "code",
   "execution_count": 13,
   "id": "77a930e6-4c3e-459a-8577-db5bdaa7b3bd",
   "metadata": {},
   "outputs": [
    {
     "name": "stdout",
     "output_type": "stream",
     "text": [
      "  Exercise Parameter  problem_id  score  type location exercise_id\n",
      "0   Ex_856   Pm_1730        1730    1.0     1      1.4      Ex_856\n",
      "1   Ex_856   Pm_1730        1731    1.0     1      1.4      Ex_856\n",
      "2   Ex_856   Pm_1730        1732    1.0     1      1.4      Ex_856\n",
      "3   Ex_856   Pm_1730        1733    1.0     1      1.4      Ex_856\n",
      "4   Ex_856   Pm_1730        1734    1.0     1      1.4      Ex_856\n"
     ]
    }
   ],
   "source": [
    "# Sử dụng fillna để thay thế NaN trong cột 'score' thành 0\n",
    "merged_data['score'] = merged_data['score'].fillna(0)\n",
    "\n",
    "# Kiểm tra kết quả\n",
    "print(merged_data.head())\n"
   ]
  },
  {
   "cell_type": "code",
   "execution_count": 15,
   "id": "911a5bea-eb9b-4768-bfcb-8c580d10d5c0",
   "metadata": {},
   "outputs": [
    {
     "name": "stdout",
     "output_type": "stream",
     "text": [
      "\n",
      "Merged DataFrame (user_problems + merged_data):\n",
      "  problem_id_x  user_id  is_correct  attempts  score_x    Exercise  \\\n",
      "0   Pm_6906522  U_10000           0         1      0.0  Ex_7007033   \n",
      "1   Pm_6906522  U_10000           0         1      0.0  Ex_7007033   \n",
      "2   Pm_6906522  U_10000           0         1      0.0  Ex_7007033   \n",
      "3   Pm_6906522  U_10000           0         1      0.0  Ex_7007033   \n",
      "4   Pm_6906522  U_10000           0         1      0.0  Ex_7007033   \n",
      "\n",
      "    Parameter  problem_id_y  score_y  type location exercise_id  \n",
      "0  Pm_6906522       6906522      1.0     1      7.4  Ex_7007033  \n",
      "1  Pm_6906522       6906523      1.0     1      7.4  Ex_7007033  \n",
      "2  Pm_6906522       6906524      1.0     1      7.4  Ex_7007033  \n",
      "3  Pm_6906522       6906525      1.0     1      7.4  Ex_7007033  \n",
      "4  Pm_6906522       6906526      2.0     2      7.4  Ex_7007033  \n"
     ]
    }
   ],
   "source": [
    "# Merge user_problems với merged_data\n",
    "user_data = pd.merge(user_problems, merged_data, left_on='problem_id', right_on='Parameter', how='inner')\n",
    "\n",
    "# Hiển thị kết quả\n",
    "print(\"\\nMerged DataFrame (user_problems + merged_data):\")\n",
    "print(user_data.head())"
   ]
  },
  {
   "cell_type": "code",
   "execution_count": 17,
   "id": "5ffdf443-1d8a-465b-bfc8-8f9c43341a68",
   "metadata": {},
   "outputs": [
    {
     "name": "stdout",
     "output_type": "stream",
     "text": [
      "  problem_id_x  user_id  is_correct  attempts  score_x  score_y  type  \\\n",
      "0   Pm_6906522  U_10000           0         1      0.0      1.0     1   \n",
      "1   Pm_6906522  U_10000           0         1      0.0      1.0     1   \n",
      "2   Pm_6906522  U_10000           0         1      0.0      1.0     1   \n",
      "3   Pm_6906522  U_10000           0         1      0.0      1.0     1   \n",
      "4   Pm_6906522  U_10000           0         1      0.0      2.0     2   \n",
      "\n",
      "  location exercise_id  \n",
      "0      7.4  Ex_7007033  \n",
      "1      7.4  Ex_7007033  \n",
      "2      7.4  Ex_7007033  \n",
      "3      7.4  Ex_7007033  \n",
      "4      7.4  Ex_7007033  \n"
     ]
    }
   ],
   "source": [
    "# Loại bỏ các cột 'Parameter', 'Exercise', và 'problem_id_y'\n",
    "user_data = user_data.drop(columns=['Parameter', 'Exercise', 'problem_id_y'])\n",
    "\n",
    "# Kiểm tra kết quả\n",
    "print(user_data.head())\n"
   ]
  },
  {
   "cell_type": "code",
   "execution_count": 19,
   "id": "addfdb9d-3603-497f-ae2e-40bdf187687b",
   "metadata": {},
   "outputs": [
    {
     "name": "stdout",
     "output_type": "stream",
     "text": [
      "   user_id  avg_score_user\n",
      "0  U_10000             1.0\n",
      "1  U_10000             1.0\n",
      "2  U_10000             1.0\n",
      "3  U_10000             1.0\n",
      "4  U_10000             2.0\n"
     ]
    }
   ],
   "source": [
    "# Tính tổng điểm cho mỗi user_id\n",
    "user_data['total_score'] = user_data['score_x'] + user_data['score_y']\n",
    "\n",
    "# Tính tổng số lần thử cho mỗi user_id\n",
    "# Thực hiện chia cho attempts để tránh chia cho 0\n",
    "user_data['total_attempts'] = user_data['attempts'].fillna(0)\n",
    "\n",
    "# Tính điểm trung bình (avg_score_user) cho mỗi user_id\n",
    "user_data['avg_score_user'] = user_data['total_score'] / user_data['total_attempts']\n",
    "\n",
    "# Gán nhãn avg_score_user vào user_data\n",
    "user_data_with_avg_score = user_data.copy()\n",
    "\n",
    "# In kết quả\n",
    "print(user_data_with_avg_score[['user_id', 'avg_score_user']].head())\n"
   ]
  },
  {
   "cell_type": "code",
   "execution_count": 21,
   "id": "39776493-e807-419a-aaac-7aa85bb887aa",
   "metadata": {},
   "outputs": [
    {
     "name": "stdout",
     "output_type": "stream",
     "text": [
      "  problem_id_x  user_id  is_correct  attempts  score_x  score_y  type  \\\n",
      "0   Pm_6906522  U_10000           0         1      0.0      1.0     1   \n",
      "1   Pm_6906522  U_10000           0         1      0.0      1.0     1   \n",
      "2   Pm_6906522  U_10000           0         1      0.0      1.0     1   \n",
      "3   Pm_6906522  U_10000           0         1      0.0      1.0     1   \n",
      "4   Pm_6906522  U_10000           0         1      0.0      2.0     2   \n",
      "\n",
      "  location exercise_id  total_score  total_attempts  avg_score_user  \n",
      "0      7.4  Ex_7007033          1.0               1             1.0  \n",
      "1      7.4  Ex_7007033          1.0               1             1.0  \n",
      "2      7.4  Ex_7007033          1.0               1             1.0  \n",
      "3      7.4  Ex_7007033          1.0               1             1.0  \n",
      "4      7.4  Ex_7007033          2.0               1             2.0  \n"
     ]
    }
   ],
   "source": [
    "# In kết quả\n",
    "print(user_data_with_avg_score.head())"
   ]
  },
  {
   "cell_type": "code",
   "execution_count": 23,
   "id": "b43ffffd-c298-4445-8124-773edb05212b",
   "metadata": {},
   "outputs": [
    {
     "name": "stdout",
     "output_type": "stream",
     "text": [
      "  problem_id_x  user_id  type location exercise_id  avg_score_user\n",
      "0   Pm_6906522  U_10000     1      7.4  Ex_7007033             1.0\n",
      "1   Pm_6906522  U_10000     1      7.4  Ex_7007033             1.0\n",
      "2   Pm_6906522  U_10000     1      7.4  Ex_7007033             1.0\n",
      "3   Pm_6906522  U_10000     1      7.4  Ex_7007033             1.0\n",
      "4   Pm_6906522  U_10000     2      7.4  Ex_7007033             2.0\n"
     ]
    }
   ],
   "source": [
    "# Loại bỏ các cột không cần thiết\n",
    "user_data_cleaned = user_data_with_avg_score.drop(columns=['score_x', 'score_y', 'attempts', 'is_correct', 'total_score', 'total_attempts'])\n",
    "\n",
    "# In kết quả\n",
    "print(user_data_cleaned.head())\n"
   ]
  },
  {
   "cell_type": "code",
   "execution_count": 25,
   "id": "35027212-a22d-4f0c-a450-c8978190f7a4",
   "metadata": {},
   "outputs": [
    {
     "name": "stdout",
     "output_type": "stream",
     "text": [
      "  problem_id_x  user_id  type location exercise_id  avg_score_user_x  \\\n",
      "0   Pm_6906522  U_10000     1      7.4  Ex_7007033               1.0   \n",
      "1   Pm_6906522  U_10000     1      7.4  Ex_7007033               1.0   \n",
      "2   Pm_6906522  U_10000     1      7.4  Ex_7007033               1.0   \n",
      "3   Pm_6906522  U_10000     1      7.4  Ex_7007033               1.0   \n",
      "4   Pm_6906522  U_10000     2      7.4  Ex_7007033               2.0   \n",
      "\n",
      "   avg_score_user_y  \n",
      "0              2.35  \n",
      "1              2.35  \n",
      "2              2.35  \n",
      "3              2.35  \n",
      "4              2.35  \n"
     ]
    }
   ],
   "source": [
    "# Tính toán avg_score_problem cho từng problem_id_x\n",
    "avg_score_problem = user_data_cleaned.groupby('problem_id_x')['avg_score_user'].mean().reset_index()\n",
    "\n",
    "# Gắn nhãn avg_score_problem vào user_data_cleaned\n",
    "user_data_cleaned = pd.merge(user_data_cleaned, avg_score_problem, on='problem_id_x', how='left')\n",
    "\n",
    "# In kết quả\n",
    "print(user_data_cleaned.head())\n"
   ]
  },
  {
   "cell_type": "code",
   "execution_count": 27,
   "id": "c19a170c-3161-465f-948f-4229e2bb2d3a",
   "metadata": {},
   "outputs": [
    {
     "name": "stdout",
     "output_type": "stream",
     "text": [
      "  problem_id_x  user_id  type location exercise_id  avg_score_user  \\\n",
      "0   Pm_6906522  U_10000     1      7.4  Ex_7007033             1.0   \n",
      "1   Pm_6906522  U_10000     1      7.4  Ex_7007033             1.0   \n",
      "2   Pm_6906522  U_10000     1      7.4  Ex_7007033             1.0   \n",
      "3   Pm_6906522  U_10000     1      7.4  Ex_7007033             1.0   \n",
      "4   Pm_6906522  U_10000     2      7.4  Ex_7007033             2.0   \n",
      "\n",
      "   avg_score_problem  \n",
      "0               2.35  \n",
      "1               2.35  \n",
      "2               2.35  \n",
      "3               2.35  \n",
      "4               2.35  \n"
     ]
    }
   ],
   "source": [
    "# Đổi tên các cột\n",
    "user_data_cleaned = user_data_cleaned.rename(columns={\n",
    "    'avg_score_user_x': 'avg_score_user',\n",
    "    'avg_score_user_y': 'avg_score_problem'\n",
    "})\n",
    "\n",
    "# In kết quả\n",
    "print(user_data_cleaned.head())\n"
   ]
  },
  {
   "cell_type": "code",
   "execution_count": 29,
   "id": "8865514a-38c3-4431-8889-e4585306ba6c",
   "metadata": {},
   "outputs": [
    {
     "name": "stdout",
     "output_type": "stream",
     "text": [
      "  problem_id_x  user_id  type location exercise_id  avg_score_user  \\\n",
      "0   Pm_6906522  U_10000     1      7.4  Ex_7007033             1.0   \n",
      "1   Pm_6906522  U_10000     1      7.4  Ex_7007033             1.0   \n",
      "2   Pm_6906522  U_10000     1      7.4  Ex_7007033             1.0   \n",
      "3   Pm_6906522  U_10000     1      7.4  Ex_7007033             1.0   \n",
      "4   Pm_6906522  U_10000     2      7.4  Ex_7007033             2.0   \n",
      "\n",
      "   avg_score_problem  avg_score_exercise  \n",
      "0               2.35            1.992424  \n",
      "1               2.35            1.992424  \n",
      "2               2.35            1.992424  \n",
      "3               2.35            1.992424  \n",
      "4               2.35            1.992424  \n"
     ]
    }
   ],
   "source": [
    "# Tính giá trị trung bình của avg_score_problem theo exercise_id\n",
    "avg_score_exercise = user_data_cleaned.groupby('exercise_id')['avg_score_problem'].mean().reset_index()\n",
    "\n",
    "# Đổi tên cột avg_score_problem thành avg_score_exercise\n",
    "avg_score_exercise = avg_score_exercise.rename(columns={'avg_score_problem': 'avg_score_exercise'})\n",
    "\n",
    "# Gộp lại với user_data_cleaned để gán nhãn avg_score_exercise cho mỗi exercise_id\n",
    "user_data_cleaned = user_data_cleaned.merge(avg_score_exercise, on='exercise_id', how='left')\n",
    "\n",
    "# In kết quả\n",
    "print(user_data_cleaned.head())\n"
   ]
  },
  {
   "cell_type": "code",
   "execution_count": 32,
   "id": "267c7d05-b2e2-49a7-8508-dd030a067ec1",
   "metadata": {},
   "outputs": [
    {
     "name": "stdout",
     "output_type": "stream",
     "text": [
      "Dữ liệu đã được lưu thành công vào file CSV.\n"
     ]
    }
   ],
   "source": [
    "# Lưu DataFrame user_problems thành file CSV\n",
    "user_data_cleaned.to_csv(r\"G:\\pjmxh\\user_data_cleaned.csv\", index=False)\n",
    "\n",
    "# Hiển thị thông báo thành công\n",
    "print(\"Dữ liệu đã được lưu thành công vào file CSV.\")"
   ]
  },
  {
   "cell_type": "code",
   "execution_count": null,
   "id": "dc869149-df42-4fe9-bccf-76f4c5b2c773",
   "metadata": {},
   "outputs": [],
   "source": []
  }
 ],
 "metadata": {
  "kernelspec": {
   "display_name": "Python 3 (ipykernel)",
   "language": "python",
   "name": "python3"
  },
  "language_info": {
   "codemirror_mode": {
    "name": "ipython",
    "version": 3
   },
   "file_extension": ".py",
   "mimetype": "text/x-python",
   "name": "python",
   "nbconvert_exporter": "python",
   "pygments_lexer": "ipython3",
   "version": "3.12.7"
  }
 },
 "nbformat": 4,
 "nbformat_minor": 5
}
