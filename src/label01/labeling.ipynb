{
 "cells": [
  {
   "cell_type": "code",
   "execution_count": 1,
   "id": "4e6f8336",
   "metadata": {
    "execution": {
     "iopub.execute_input": "2024-12-10T18:02:07.662229Z",
     "iopub.status.busy": "2024-12-10T18:02:07.661853Z",
     "iopub.status.idle": "2024-12-10T18:02:08.602439Z",
     "shell.execute_reply": "2024-12-10T18:02:08.601434Z"
    },
    "papermill": {
     "duration": 0.947861,
     "end_time": "2024-12-10T18:02:08.604631",
     "exception": false,
     "start_time": "2024-12-10T18:02:07.656770",
     "status": "completed"
    },
    "tags": []
   },
   "outputs": [
    {
     "data": {
      "text/html": [
       "<div>\n",
       "<style scoped>\n",
       "    .dataframe tbody tr th:only-of-type {\n",
       "        vertical-align: middle;\n",
       "    }\n",
       "\n",
       "    .dataframe tbody tr th {\n",
       "        vertical-align: top;\n",
       "    }\n",
       "\n",
       "    .dataframe thead th {\n",
       "        text-align: right;\n",
       "    }\n",
       "</style>\n",
       "<table border=\"1\" class=\"dataframe\">\n",
       "  <thead>\n",
       "    <tr style=\"text-align: right;\">\n",
       "      <th></th>\n",
       "      <th>course_order</th>\n",
       "    </tr>\n",
       "  </thead>\n",
       "  <tbody>\n",
       "    <tr>\n",
       "      <th>0</th>\n",
       "      <td>936971</td>\n",
       "    </tr>\n",
       "    <tr>\n",
       "      <th>1</th>\n",
       "      <td>696994</td>\n",
       "    </tr>\n",
       "    <tr>\n",
       "      <th>2</th>\n",
       "      <td>676932</td>\n",
       "    </tr>\n",
       "    <tr>\n",
       "      <th>3</th>\n",
       "      <td>697791</td>\n",
       "    </tr>\n",
       "    <tr>\n",
       "      <th>4</th>\n",
       "      <td>883345</td>\n",
       "    </tr>\n",
       "    <tr>\n",
       "      <th>...</th>\n",
       "      <td>...</td>\n",
       "    </tr>\n",
       "    <tr>\n",
       "      <th>995</th>\n",
       "      <td>1352884</td>\n",
       "    </tr>\n",
       "    <tr>\n",
       "      <th>996</th>\n",
       "      <td>696905</td>\n",
       "    </tr>\n",
       "    <tr>\n",
       "      <th>997</th>\n",
       "      <td>854870</td>\n",
       "    </tr>\n",
       "    <tr>\n",
       "      <th>998</th>\n",
       "      <td>707054</td>\n",
       "    </tr>\n",
       "    <tr>\n",
       "      <th>999</th>\n",
       "      <td>681619</td>\n",
       "    </tr>\n",
       "  </tbody>\n",
       "</table>\n",
       "<p>1000 rows × 1 columns</p>\n",
       "</div>"
      ],
      "text/plain": [
       "     course_order\n",
       "0          936971\n",
       "1          696994\n",
       "2          676932\n",
       "3          697791\n",
       "4          883345\n",
       "..            ...\n",
       "995       1352884\n",
       "996        696905\n",
       "997        854870\n",
       "998        707054\n",
       "999        681619\n",
       "\n",
       "[1000 rows x 1 columns]"
      ]
     },
     "execution_count": 1,
     "metadata": {},
     "output_type": "execute_result"
    }
   ],
   "source": [
    "import numpy as np # linear algebra\n",
    "import pandas as pd \n",
    "\n",
    "course_df = pd.read_csv(\"/kaggle/input/1000course/top_1000_courses.csv\")\n",
    "course_df"
   ]
  },
  {
   "cell_type": "code",
   "execution_count": 2,
   "id": "d49a3815",
   "metadata": {
    "execution": {
     "iopub.execute_input": "2024-12-10T18:02:08.612540Z",
     "iopub.status.busy": "2024-12-10T18:02:08.612146Z",
     "iopub.status.idle": "2024-12-10T18:02:53.746864Z",
     "shell.execute_reply": "2024-12-10T18:02:53.745801Z"
    },
    "papermill": {
     "duration": 45.141502,
     "end_time": "2024-12-10T18:02:53.749456",
     "exception": false,
     "start_time": "2024-12-10T18:02:08.607954",
     "status": "completed"
    },
    "tags": []
   },
   "outputs": [],
   "source": [
    "import pandas as pd\n",
    "\n",
    "# Danh sách các file cần gộp, với file đầu tiên là 'user_data.csv' và các file tiếp theo là 'user_data_2.csv' đến 'user_data_10.csv'\n",
    "file_paths = ['/kaggle/input/label2/user_data.csv'] + [f'/kaggle/input/label2/user_data_{i}.csv' for i in range(2, 11)]\n",
    "\n",
    "# Đọc và kết hợp dữ liệu từ tất cả các file\n",
    "df_list = [pd.read_csv(file_path)[['Course_ID', 'avg_score_course']] for file_path in file_paths]\n",
    "\n",
    "# Gộp tất cả các DataFrame\n",
    "df_combined = pd.concat(df_list, ignore_index=True)\n",
    "\n",
    "# Loại bỏ các dòng trùng lặp\n",
    "df_combined = df_combined.drop_duplicates()\n",
    "\n",
    "# Hiển thị kết quả\n",
    "df_combined.head()\n",
    "\n",
    "# Lưu kết quả gộp vào file mới nếu cần\n",
    "output_path = '/kaggle/working/labeled_1_course.csv'\n",
    "df_combined.to_csv(output_path, index=False)"
   ]
  },
  {
   "cell_type": "code",
   "execution_count": 3,
   "id": "136e70e0",
   "metadata": {
    "execution": {
     "iopub.execute_input": "2024-12-10T18:02:53.757074Z",
     "iopub.status.busy": "2024-12-10T18:02:53.756685Z",
     "iopub.status.idle": "2024-12-10T18:02:53.770242Z",
     "shell.execute_reply": "2024-12-10T18:02:53.769120Z"
    },
    "papermill": {
     "duration": 0.019749,
     "end_time": "2024-12-10T18:02:53.772382",
     "exception": false,
     "start_time": "2024-12-10T18:02:53.752633",
     "status": "completed"
    },
    "tags": []
   },
   "outputs": [
    {
     "data": {
      "text/html": [
       "<div>\n",
       "<style scoped>\n",
       "    .dataframe tbody tr th:only-of-type {\n",
       "        vertical-align: middle;\n",
       "    }\n",
       "\n",
       "    .dataframe tbody tr th {\n",
       "        vertical-align: top;\n",
       "    }\n",
       "\n",
       "    .dataframe thead th {\n",
       "        text-align: right;\n",
       "    }\n",
       "</style>\n",
       "<table border=\"1\" class=\"dataframe\">\n",
       "  <thead>\n",
       "    <tr style=\"text-align: right;\">\n",
       "      <th></th>\n",
       "      <th>Course_ID</th>\n",
       "      <th>avg_score_course</th>\n",
       "    </tr>\n",
       "  </thead>\n",
       "  <tbody>\n",
       "    <tr>\n",
       "      <th>0</th>\n",
       "      <td>680963</td>\n",
       "      <td>2.161166</td>\n",
       "    </tr>\n",
       "    <tr>\n",
       "      <th>1</th>\n",
       "      <td>2033958</td>\n",
       "      <td>2.058446</td>\n",
       "    </tr>\n",
       "    <tr>\n",
       "      <th>2</th>\n",
       "      <td>694149</td>\n",
       "      <td>2.168276</td>\n",
       "    </tr>\n",
       "    <tr>\n",
       "      <th>3</th>\n",
       "      <td>697293</td>\n",
       "      <td>2.144274</td>\n",
       "    </tr>\n",
       "    <tr>\n",
       "      <th>10</th>\n",
       "      <td>696994</td>\n",
       "      <td>2.387187</td>\n",
       "    </tr>\n",
       "    <tr>\n",
       "      <th>...</th>\n",
       "      <td>...</td>\n",
       "      <td>...</td>\n",
       "    </tr>\n",
       "    <tr>\n",
       "      <th>31407260</th>\n",
       "      <td>1909583</td>\n",
       "      <td>1.976322</td>\n",
       "    </tr>\n",
       "    <tr>\n",
       "      <th>31412396</th>\n",
       "      <td>1955101</td>\n",
       "      <td>2.075710</td>\n",
       "    </tr>\n",
       "    <tr>\n",
       "      <th>31412478</th>\n",
       "      <td>605971</td>\n",
       "      <td>2.075710</td>\n",
       "    </tr>\n",
       "    <tr>\n",
       "      <th>31412484</th>\n",
       "      <td>2338329</td>\n",
       "      <td>2.075710</td>\n",
       "    </tr>\n",
       "    <tr>\n",
       "      <th>31417617</th>\n",
       "      <td>1987701</td>\n",
       "      <td>1.875862</td>\n",
       "    </tr>\n",
       "  </tbody>\n",
       "</table>\n",
       "<p>29277 rows × 2 columns</p>\n",
       "</div>"
      ],
      "text/plain": [
       "          Course_ID  avg_score_course\n",
       "0            680963          2.161166\n",
       "1           2033958          2.058446\n",
       "2            694149          2.168276\n",
       "3            697293          2.144274\n",
       "10           696994          2.387187\n",
       "...             ...               ...\n",
       "31407260    1909583          1.976322\n",
       "31412396    1955101          2.075710\n",
       "31412478     605971          2.075710\n",
       "31412484    2338329          2.075710\n",
       "31417617    1987701          1.875862\n",
       "\n",
       "[29277 rows x 2 columns]"
      ]
     },
     "execution_count": 3,
     "metadata": {},
     "output_type": "execute_result"
    }
   ],
   "source": [
    "df_combined"
   ]
  },
  {
   "cell_type": "code",
   "execution_count": 4,
   "id": "fce1d369",
   "metadata": {
    "execution": {
     "iopub.execute_input": "2024-12-10T18:02:53.780282Z",
     "iopub.status.busy": "2024-12-10T18:02:53.779907Z",
     "iopub.status.idle": "2024-12-10T18:02:53.799627Z",
     "shell.execute_reply": "2024-12-10T18:02:53.798619Z"
    },
    "papermill": {
     "duration": 0.026275,
     "end_time": "2024-12-10T18:02:53.801865",
     "exception": false,
     "start_time": "2024-12-10T18:02:53.775590",
     "status": "completed"
    },
    "tags": []
   },
   "outputs": [
    {
     "data": {
      "text/html": [
       "<div>\n",
       "<style scoped>\n",
       "    .dataframe tbody tr th:only-of-type {\n",
       "        vertical-align: middle;\n",
       "    }\n",
       "\n",
       "    .dataframe tbody tr th {\n",
       "        vertical-align: top;\n",
       "    }\n",
       "\n",
       "    .dataframe thead th {\n",
       "        text-align: right;\n",
       "    }\n",
       "</style>\n",
       "<table border=\"1\" class=\"dataframe\">\n",
       "  <thead>\n",
       "    <tr style=\"text-align: right;\">\n",
       "      <th></th>\n",
       "      <th>Course_ID</th>\n",
       "      <th>avg_score_course</th>\n",
       "    </tr>\n",
       "  </thead>\n",
       "  <tbody>\n",
       "    <tr>\n",
       "      <th>0</th>\n",
       "      <td>680963</td>\n",
       "      <td>2.161166</td>\n",
       "    </tr>\n",
       "    <tr>\n",
       "      <th>2</th>\n",
       "      <td>694149</td>\n",
       "      <td>2.168276</td>\n",
       "    </tr>\n",
       "    <tr>\n",
       "      <th>3</th>\n",
       "      <td>697293</td>\n",
       "      <td>2.144274</td>\n",
       "    </tr>\n",
       "    <tr>\n",
       "      <th>10</th>\n",
       "      <td>696994</td>\n",
       "      <td>2.387187</td>\n",
       "    </tr>\n",
       "    <tr>\n",
       "      <th>11</th>\n",
       "      <td>697791</td>\n",
       "      <td>2.119940</td>\n",
       "    </tr>\n",
       "    <tr>\n",
       "      <th>...</th>\n",
       "      <td>...</td>\n",
       "      <td>...</td>\n",
       "    </tr>\n",
       "    <tr>\n",
       "      <th>2778467</th>\n",
       "      <td>1789696</td>\n",
       "      <td>2.516867</td>\n",
       "    </tr>\n",
       "    <tr>\n",
       "      <th>2778494</th>\n",
       "      <td>936968</td>\n",
       "      <td>1.749756</td>\n",
       "    </tr>\n",
       "    <tr>\n",
       "      <th>2778533</th>\n",
       "      <td>2221551</td>\n",
       "      <td>1.836317</td>\n",
       "    </tr>\n",
       "    <tr>\n",
       "      <th>2778534</th>\n",
       "      <td>2199450</td>\n",
       "      <td>1.836340</td>\n",
       "    </tr>\n",
       "    <tr>\n",
       "      <th>2778554</th>\n",
       "      <td>2287003</td>\n",
       "      <td>2.639336</td>\n",
       "    </tr>\n",
       "  </tbody>\n",
       "</table>\n",
       "<p>1000 rows × 2 columns</p>\n",
       "</div>"
      ],
      "text/plain": [
       "         Course_ID  avg_score_course\n",
       "0           680963          2.161166\n",
       "2           694149          2.168276\n",
       "3           697293          2.144274\n",
       "10          696994          2.387187\n",
       "11          697791          2.119940\n",
       "...            ...               ...\n",
       "2778467    1789696          2.516867\n",
       "2778494     936968          1.749756\n",
       "2778533    2221551          1.836317\n",
       "2778534    2199450          1.836340\n",
       "2778554    2287003          2.639336\n",
       "\n",
       "[1000 rows x 2 columns]"
      ]
     },
     "execution_count": 4,
     "metadata": {},
     "output_type": "execute_result"
    }
   ],
   "source": [
    "import pandas as pd\n",
    "\n",
    "# Giả sử bạn đã có hai DataFrame: course_df và df_combined\n",
    "\n",
    "# Loại bỏ các giá trị trùng lặp trong course_df (nếu có)\n",
    "course_df = course_df.drop_duplicates(subset=['course_order'])\n",
    "\n",
    "# Lấy danh sách 1000 khóa học đầu tiên từ course_df\n",
    "course_ids = course_df['course_order'].head(1000).tolist()\n",
    "\n",
    "# Làm tròn giá trị avg_score_course trong df_combined tới 0 chữ số thập phân\n",
    "#df_combined['avg_score_course'] = df_combined['avg_score_course'].round(0)\n",
    "\n",
    "# Lọc những dòng dữ liệu có 'Course_ID' nằm trong danh sách 'course_ids' từ 'course_df'\n",
    "df_combined = df_combined[df_combined['Course_ID'].isin(course_ids)]\n",
    "\n",
    "# Loại bỏ các dòng trùng lặp trong df_combined theo cột 'Course_ID'\n",
    "df_combined = df_combined.drop_duplicates(subset=['Course_ID'])\n",
    "\n",
    "# Lưu kết quả vào file CSV\n",
    "output_path = '/kaggle/working/labeled_1_course(2).csv'\n",
    "df_combined.to_csv(output_path, index=False)\n",
    "\n",
    "# Hiển thị DataFrame kết quả\n",
    "df_combined"
   ]
  },
  {
   "cell_type": "code",
   "execution_count": 5,
   "id": "4c565a5b",
   "metadata": {
    "execution": {
     "iopub.execute_input": "2024-12-10T18:02:53.809978Z",
     "iopub.status.busy": "2024-12-10T18:02:53.809630Z",
     "iopub.status.idle": "2024-12-10T18:02:56.001822Z",
     "shell.execute_reply": "2024-12-10T18:02:56.000608Z"
    },
    "papermill": {
     "duration": 2.198885,
     "end_time": "2024-12-10T18:02:56.004068",
     "exception": false,
     "start_time": "2024-12-10T18:02:53.805183",
     "status": "completed"
    },
    "tags": []
   },
   "outputs": [
    {
     "name": "stderr",
     "output_type": "stream",
     "text": [
      "/opt/conda/lib/python3.10/site-packages/seaborn/_oldcore.py:1119: FutureWarning: use_inf_as_na option is deprecated and will be removed in a future version. Convert inf values to NaN before operating instead.\n",
      "  with pd.option_context('mode.use_inf_as_na', True):\n"
     ]
    },
    {
     "data": {
      "image/png": "[encoded data removed]",
      "text/plain": [
       "<Figure size 1000x600 with 1 Axes>"
      ]
     },
     "metadata": {},
     "output_type": "display_data"
    }
   ],
   "source": [
    "import pandas as pd\n",
    "import matplotlib.pyplot as plt\n",
    "import seaborn as sns\n",
    "\n",
    "# Giả sử bạn đã có DataFrame df_combined\n",
    "\n",
    "# Vẽ biểu đồ phân phối của avg_score_course\n",
    "plt.figure(figsize=(10, 6))\n",
    "sns.histplot(df_combined['avg_score_course'], bins=20, kde=True, color='skyblue')\n",
    "\n",
    "# Thêm tiêu đề và nhãn cho các trục\n",
    "plt.title('Phân phối giá trị avg_score_course', fontsize=16)\n",
    "plt.xlabel('avg_score_course', fontsize=14)\n",
    "plt.ylabel('Số lượng', fontsize=14)\n",
    "\n",
    "# Hiển thị biểu đồ\n",
    "plt.tight_layout()\n",
    "plt.show()"
   ]
  },
  {
   "cell_type": "markdown",
   "id": "1ff8c309",
   "metadata": {
    "papermill": {
     "duration": 0.004462,
     "end_time": "2024-12-10T18:02:56.012832",
     "exception": false,
     "start_time": "2024-12-10T18:02:56.008370",
     "status": "completed"
    },
    "tags": []
   },
   "source": [
    "# Biểu đồ phân phối nhãn TC1"
   ]
  },
  {
   "cell_type": "code",
   "execution_count": 6,
   "id": "64e65778",
   "metadata": {
    "execution": {
     "iopub.execute_input": "2024-12-10T18:02:56.022908Z",
     "iopub.status.busy": "2024-12-10T18:02:56.022393Z",
     "iopub.status.idle": "2024-12-10T18:02:56.033256Z",
     "shell.execute_reply": "2024-12-10T18:02:56.032270Z"
    },
    "papermill": {
     "duration": 0.018535,
     "end_time": "2024-12-10T18:02:56.035489",
     "exception": false,
     "start_time": "2024-12-10T18:02:56.016954",
     "status": "completed"
    },
    "tags": []
   },
   "outputs": [],
   "source": [
    "import pandas as pd\n",
    "\n",
    "# Giả sử bạn đã có DataFrame df_combined\n",
    "\n",
    "# Gán nhãn cho cột 'avg_score_course' dựa trên các điều kiện\n",
    "def assign_label(score):\n",
    "    if score < 1:\n",
    "        return 1\n",
    "    elif 1 <= score < 2:\n",
    "        return 2\n",
    "    elif 2 <= score < 3:\n",
    "        return 3\n",
    "    elif 3 <= score < 4:\n",
    "        return 4\n",
    "    else:\n",
    "        return 5\n",
    "\n",
    "# Áp dụng hàm để tạo cột 'label' mới\n",
    "df_combined['avg_score_course'] = df_combined['avg_score_course'].apply(assign_label)\n",
    "\n",
    "# Lưu kết quả vào file CSV (nếu cần)\n",
    "output_path = '/kaggle/working/labeled_1_course_with_labels.csv'\n",
    "df_combined.to_csv(output_path, index=False)"
   ]
  },
  {
   "cell_type": "code",
   "execution_count": 7,
   "id": "99899788",
   "metadata": {
    "execution": {
     "iopub.execute_input": "2024-12-10T18:02:56.045773Z",
     "iopub.status.busy": "2024-12-10T18:02:56.045411Z",
     "iopub.status.idle": "2024-12-10T18:02:56.056050Z",
     "shell.execute_reply": "2024-12-10T18:02:56.054962Z"
    },
    "papermill": {
     "duration": 0.018318,
     "end_time": "2024-12-10T18:02:56.058140",
     "exception": false,
     "start_time": "2024-12-10T18:02:56.039822",
     "status": "completed"
    },
    "tags": []
   },
   "outputs": [
    {
     "data": {
      "text/html": [
       "<div>\n",
       "<style scoped>\n",
       "    .dataframe tbody tr th:only-of-type {\n",
       "        vertical-align: middle;\n",
       "    }\n",
       "\n",
       "    .dataframe tbody tr th {\n",
       "        vertical-align: top;\n",
       "    }\n",
       "\n",
       "    .dataframe thead th {\n",
       "        text-align: right;\n",
       "    }\n",
       "</style>\n",
       "<table border=\"1\" class=\"dataframe\">\n",
       "  <thead>\n",
       "    <tr style=\"text-align: right;\">\n",
       "      <th></th>\n",
       "      <th>Course_ID</th>\n",
       "      <th>avg_score_course</th>\n",
       "    </tr>\n",
       "  </thead>\n",
       "  <tbody>\n",
       "    <tr>\n",
       "      <th>0</th>\n",
       "      <td>680963</td>\n",
       "      <td>3</td>\n",
       "    </tr>\n",
       "    <tr>\n",
       "      <th>2</th>\n",
       "      <td>694149</td>\n",
       "      <td>3</td>\n",
       "    </tr>\n",
       "    <tr>\n",
       "      <th>3</th>\n",
       "      <td>697293</td>\n",
       "      <td>3</td>\n",
       "    </tr>\n",
       "    <tr>\n",
       "      <th>10</th>\n",
       "      <td>696994</td>\n",
       "      <td>3</td>\n",
       "    </tr>\n",
       "    <tr>\n",
       "      <th>11</th>\n",
       "      <td>697791</td>\n",
       "      <td>3</td>\n",
       "    </tr>\n",
       "    <tr>\n",
       "      <th>...</th>\n",
       "      <td>...</td>\n",
       "      <td>...</td>\n",
       "    </tr>\n",
       "    <tr>\n",
       "      <th>2778467</th>\n",
       "      <td>1789696</td>\n",
       "      <td>3</td>\n",
       "    </tr>\n",
       "    <tr>\n",
       "      <th>2778494</th>\n",
       "      <td>936968</td>\n",
       "      <td>2</td>\n",
       "    </tr>\n",
       "    <tr>\n",
       "      <th>2778533</th>\n",
       "      <td>2221551</td>\n",
       "      <td>2</td>\n",
       "    </tr>\n",
       "    <tr>\n",
       "      <th>2778534</th>\n",
       "      <td>2199450</td>\n",
       "      <td>2</td>\n",
       "    </tr>\n",
       "    <tr>\n",
       "      <th>2778554</th>\n",
       "      <td>2287003</td>\n",
       "      <td>3</td>\n",
       "    </tr>\n",
       "  </tbody>\n",
       "</table>\n",
       "<p>1000 rows × 2 columns</p>\n",
       "</div>"
      ],
      "text/plain": [
       "         Course_ID  avg_score_course\n",
       "0           680963                 3\n",
       "2           694149                 3\n",
       "3           697293                 3\n",
       "10          696994                 3\n",
       "11          697791                 3\n",
       "...            ...               ...\n",
       "2778467    1789696                 3\n",
       "2778494     936968                 2\n",
       "2778533    2221551                 2\n",
       "2778534    2199450                 2\n",
       "2778554    2287003                 3\n",
       "\n",
       "[1000 rows x 2 columns]"
      ]
     },
     "execution_count": 7,
     "metadata": {},
     "output_type": "execute_result"
    }
   ],
   "source": [
    "# Hiển thị kquả\n",
    "df_combined"
   ]
  },
  {
   "cell_type": "code",
   "execution_count": 8,
   "id": "c0821aec",
   "metadata": {
    "execution": {
     "iopub.execute_input": "2024-12-10T18:02:56.069725Z",
     "iopub.status.busy": "2024-12-10T18:02:56.069321Z",
     "iopub.status.idle": "2024-12-10T18:02:56.396700Z",
     "shell.execute_reply": "2024-12-10T18:02:56.395434Z"
    },
    "papermill": {
     "duration": 0.336555,
     "end_time": "2024-12-10T18:02:56.399106",
     "exception": false,
     "start_time": "2024-12-10T18:02:56.062551",
     "status": "completed"
    },
    "tags": []
   },
   "outputs": [
    {
     "data": {
      "image/png": "[encoded data removed]",
      "text/plain": [
       "<Figure size 1000x600 with 1 Axes>"
      ]
     },
     "metadata": {},
     "output_type": "display_data"
    }
   ],
   "source": [
    "import pandas as pd\n",
    "import matplotlib.pyplot as plt\n",
    "import seaborn as sns\n",
    "\n",
    "# Giả sử bạn đã có DataFrame df_combined\n",
    "\n",
    "# Vẽ biểu đồ cột (barplot) cho cột avg_score_course\n",
    "plt.figure(figsize=(10, 6))\n",
    "sns.countplot(x='avg_score_course', data=df_combined, color='skyblue')\n",
    "\n",
    "# Thêm tiêu đề và nhãn cho trục\n",
    "plt.title('Phân phối điểm trung bình khóa học (avg_score_course)', fontsize=14)\n",
    "plt.xlabel('Điểm trung bình khóa học', fontsize=12)\n",
    "plt.ylabel('Số lượng', fontsize=12)\n",
    "\n",
    "# Hiển thị biểu đồ\n",
    "plt.tight_layout()\n",
    "plt.show()"
   ]
  }
 ],
 "metadata": {
  "kaggle": {
   "accelerator": "none",
   "dataSources": [
    {
     "datasetId": 6274491,
     "sourceId": 10161215,
     "sourceType": "datasetVersion"
    },
    {
     "datasetId": 6163275,
     "sourceId": 10011201,
     "sourceType": "datasetVersion"
    }
   ],
   "dockerImageVersionId": 30804,
   "isGpuEnabled": false,
   "isInternetEnabled": true,
   "language": "python",
   "sourceType": "notebook"
  },
  "kernelspec": {
   "display_name": "Python 3",
   "language": "python",
   "name": "python3"
  },
  "language_info": {
   "codemirror_mode": {
    "name": "ipython",
    "version": 3
   },
   "file_extension": ".py",
   "mimetype": "text/x-python",
   "name": "python",
   "nbconvert_exporter": "python",
   "pygments_lexer": "ipython3",
   "version": "3.10.14"
  },
  "papermill": {
   "default_parameters": {},
   "duration": 52.117896,
   "end_time": "2024-12-10T18:02:57.025111",
   "environment_variables": {},
   "exception": null,
   "input_path": "__notebook__.ipynb",
   "output_path": "__notebook__.ipynb",
   "parameters": {},
   "start_time": "2024-12-10T18:02:04.907215",
   "version": "2.6.0"
  }
 },
 "nbformat": 4,
 "nbformat_minor": 5
}
