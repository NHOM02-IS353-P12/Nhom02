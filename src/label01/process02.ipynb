{
 "cells": [
  {
   "cell_type": "code",
   "execution_count": 2,
   "id": "50b32614-6548-4e36-9b34-311a650174f5",
   "metadata": {},
   "outputs": [
    {
     "name": "stderr",
     "output_type": "stream",
     "text": [
      "C:\\Users\\sourcePJ\\AppData\\Local\\Temp\\ipykernel_912\\1377846241.py:4: DtypeWarning: Columns (3) have mixed types. Specify dtype option on import or set low_memory=False.\n",
      "  user_data = pd.read_csv(r\"G:\\pjmxh\\user_data_cleaned.csv\")\n"
     ]
    },
    {
     "name": "stdout",
     "output_type": "stream",
     "text": [
      "  problem_id_x  user_id  type location exercise_id  avg_score_user  \\\n",
      "0   Pm_6906522  U_10000     1      7.4  Ex_7007033             1.0   \n",
      "1   Pm_6906522  U_10000     1      7.4  Ex_7007033             1.0   \n",
      "2   Pm_6906522  U_10000     1      7.4  Ex_7007033             1.0   \n",
      "3   Pm_6906522  U_10000     1      7.4  Ex_7007033             1.0   \n",
      "4   Pm_6906522  U_10000     2      7.4  Ex_7007033             2.0   \n",
      "\n",
      "   avg_score_problem  avg_score_exercise  \n",
      "0               2.35            1.992424  \n",
      "1               2.35            1.992424  \n",
      "2               2.35            1.992424  \n",
      "3               2.35            1.992424  \n",
      "4               2.35            1.992424  \n"
     ]
    }
   ],
   "source": [
    "import pandas as pd\n",
    "\n",
    "# Đọc file CSV\n",
    "user_data = pd.read_csv(r\"G:\\pjmxh\\user_data_cleaned.csv\")\n",
    "print(user_data.head())"
   ]
  },
  {
   "cell_type": "code",
   "execution_count": 4,
   "id": "56df8de9-3510-4dcb-8e98-40826851e7ac",
   "metadata": {},
   "outputs": [
    {
     "name": "stdout",
     "output_type": "stream",
     "text": [
      "             user_id exercise_id  avg_score_exercise\n",
      "0            U_10000  Ex_7007033            1.992424\n",
      "1            U_10000  Ex_7007033            1.992424\n",
      "2            U_10000  Ex_7007033            1.992424\n",
      "3            U_10000  Ex_7007033            1.992424\n",
      "4            U_10000  Ex_7007033            1.992424\n",
      "...              ...         ...                 ...\n",
      "91665432  U_12455261  Ex_1255232            1.411403\n",
      "91665433  U_12455261  Ex_1255232            1.411403\n",
      "91665434  U_12455261  Ex_1255232            1.411403\n",
      "91665435  U_12455261  Ex_1255232            1.411403\n",
      "91665436  U_12455261  Ex_1255232            1.411403\n",
      "\n",
      "[91665437 rows x 3 columns]\n"
     ]
    }
   ],
   "source": [
    "# Loại bỏ các cột không cần thiết\n",
    "columns_to_drop = ['problem_id_x', 'type', 'location', 'avg_score_user', 'avg_score_problem']\n",
    "user_data = user_data.drop(columns=columns_to_drop)\n",
    "\n",
    "# Hiển thị kết quả\n",
    "print(user_data)"
   ]
  },
  {
   "cell_type": "code",
   "execution_count": 6,
   "id": "947887fa-ba05-4d65-adc9-708f7670875a",
   "metadata": {},
   "outputs": [
    {
     "name": "stdout",
     "output_type": "stream",
     "text": [
      "             user_id exercise_id  avg_score_exercise\n",
      "0            U_10000  Ex_7007033            1.992424\n",
      "56         U_1000038  Ex_6249697            1.844455\n",
      "81         U_1000290  Ex_6280714            1.950000\n",
      "130        U_1000290  Ex_6280718            1.965714\n",
      "251        U_1000290  Ex_6280721            1.985185\n",
      "...              ...         ...                 ...\n",
      "91662651  U_12455261  Ex_1255051            1.538114\n",
      "91663435  U_12455261  Ex_1255089            1.282782\n",
      "91664459  U_12455261  Ex_1255150            1.503012\n",
      "91664500  U_12455261  Ex_1255210            1.340535\n",
      "91664861  U_12455261  Ex_1255232            1.411403\n",
      "\n",
      "[1338421 rows x 3 columns]\n"
     ]
    }
   ],
   "source": [
    "import pandas as pd\n",
    "\n",
    "# Giả sử user_data là DataFrame của bạn\n",
    "user_data = user_data.drop_duplicates()\n",
    "\n",
    "# In kết quả\n",
    "print(user_data)"
   ]
  },
  {
   "cell_type": "code",
   "execution_count": 8,
   "id": "ebe62158-c98f-4cef-8437-15089c3155ad",
   "metadata": {},
   "outputs": [
    {
     "name": "stdout",
     "output_type": "stream",
     "text": [
      "           user_id exercise_id  avg_score_exercise\n",
      "0            10000  Ex_7007033            1.992424\n",
      "56         1000038  Ex_6249697            1.844455\n",
      "81         1000290  Ex_6280714            1.950000\n",
      "130        1000290  Ex_6280718            1.965714\n",
      "251        1000290  Ex_6280721            1.985185\n",
      "...            ...         ...                 ...\n",
      "91662651  12455261  Ex_1255051            1.538114\n",
      "91663435  12455261  Ex_1255089            1.282782\n",
      "91664459  12455261  Ex_1255150            1.503012\n",
      "91664500  12455261  Ex_1255210            1.340535\n",
      "91664861  12455261  Ex_1255232            1.411403\n",
      "\n",
      "[1338421 rows x 3 columns]\n"
     ]
    }
   ],
   "source": [
    "import pandas as pd\n",
    "# Loại bỏ chữ \"U_\" khỏi `user_id`\n",
    "user_data['user_id'] = user_data['user_id'].str.replace(\"U_\", \"\", regex=False)\n",
    "\n",
    "# Kiểm tra kết quả\n",
    "print(user_data)"
   ]
  },
  {
   "cell_type": "code",
   "execution_count": 10,
   "id": "5bb2b70d-c9c8-404e-84ff-d1aae8b4c534",
   "metadata": {},
   "outputs": [
    {
     "name": "stdout",
     "output_type": "stream",
     "text": [
      "   Course_ID                                        Student_IDs\n",
      "0     682129  [22, 24, 10362, 11731, 12054, 12669, 24277, 24...\n",
      "1    2294668  [22, 11904, 20400, 27983, 34828, 35688, 41212,...\n",
      "2     597214  [24, 94015, 361418, 570547, 1070216, 1705400, ...\n",
      "3     605512  [24, 112772, 361418, 1325611, 2005701, 3102458...\n",
      "4     597211  [24, 361418, 386441, 570547, 1070216, 1705400,...\n"
     ]
    }
   ],
   "source": [
    "import pandas as pd\n",
    "\n",
    "# Đọc file CSV\n",
    "course_data = pd.read_csv(r\"G:\\pjmxh\\Label2s\\course_students.csv\")\n",
    "\n",
    "# Chuyển đổi `Student_IDs` thành danh sách\n",
    "course_data['Student_IDs'] = course_data['Student_IDs'].apply(\n",
    "    lambda x: [s.strip() for s in str(x).split(',')] if pd.notnull(x) else []\n",
    ")\n",
    "\n",
    "# Kiểm tra kết quả\n",
    "print(course_data.head())"
   ]
  },
  {
   "cell_type": "code",
   "execution_count": 12,
   "id": "93348a17-2643-4720-99e6-d618d0b21f68",
   "metadata": {},
   "outputs": [
    {
     "name": "stdout",
     "output_type": "stream",
     "text": [
      "          user_id exercise_id  avg_score_exercise  Course_ID\n",
      "0           10000  Ex_7007033            1.992424     680963\n",
      "1           10000  Ex_7007033            1.992424    2033958\n",
      "2         1000038  Ex_6249697            1.844455     694149\n",
      "3         1000290  Ex_6280714            1.950000     697293\n",
      "4         1000290  Ex_6280718            1.965714     697293\n",
      "...           ...         ...                 ...        ...\n",
      "4052959  12455261  Ex_1255150            1.503012     749807\n",
      "4052960  12455261  Ex_1255210            1.340535     707456\n",
      "4052961  12455261  Ex_1255210            1.340535     749807\n",
      "4052962  12455261  Ex_1255232            1.411403     707456\n",
      "4052963  12455261  Ex_1255232            1.411403     749807\n",
      "\n",
      "[4052964 rows x 4 columns]\n"
     ]
    }
   ],
   "source": [
    "import pandas as pd\n",
    "\n",
    "# Giả sử `course_data` và `user_data` đã được load vào\n",
    "# Chuyển đổi Student_IDs thành từng hàng riêng lẻ\n",
    "expanded_course_data = course_data.explode('Student_IDs')\n",
    "expanded_course_data['Student_IDs'] = expanded_course_data['Student_IDs'].astype(int)\n",
    "\n",
    "# Đổi tên cột để chuẩn bị ánh xạ\n",
    "mapping = expanded_course_data.rename(columns={'Student_IDs': 'user_id'})\n",
    "\n",
    "# Merge `user_data` với mapping\n",
    "user_data['user_id'] = user_data['user_id'].astype(int)\n",
    "merged_data = user_data.merge(mapping, on='user_id', how='left')\n",
    "\n",
    "# Kết quả\n",
    "print(merged_data)"
   ]
  },
  {
   "cell_type": "code",
   "execution_count": 14,
   "id": "d6ce0775-a363-4eaa-b3ba-b391fa774325",
   "metadata": {},
   "outputs": [
    {
     "name": "stdout",
     "output_type": "stream",
     "text": [
      "          user_id exercise_id  avg_score_exercise  Course_ID  avg_score_course\n",
      "0           10000  Ex_7007033            1.992424     680963          2.161166\n",
      "1           10000  Ex_7007033            1.992424    2033958          2.058446\n",
      "2         1000038  Ex_6249697            1.844455     694149          2.168276\n",
      "3         1000290  Ex_6280714            1.950000     697293          2.144274\n",
      "4         1000290  Ex_6280718            1.965714     697293          2.144274\n",
      "...           ...         ...                 ...        ...               ...\n",
      "4052959  12455261  Ex_1255150            1.503012     749807          1.678172\n",
      "4052960  12455261  Ex_1255210            1.340535     707456          1.612842\n",
      "4052961  12455261  Ex_1255210            1.340535     749807          1.678172\n",
      "4052962  12455261  Ex_1255232            1.411403     707456          1.612842\n",
      "4052963  12455261  Ex_1255232            1.411403     749807          1.678172\n",
      "\n",
      "[4052964 rows x 5 columns]\n"
     ]
    }
   ],
   "source": [
    "import pandas as pd\n",
    "\n",
    "# Giả sử merged_data là dataframe hiện tại của bạn\n",
    "\n",
    "# Tính trung bình `avg_score_exercise` theo `Course_ID`\n",
    "merged_data['avg_score_course'] = merged_data.groupby('Course_ID')['avg_score_exercise'].transform('mean')\n",
    "\n",
    "# In kết quả của merged_data\n",
    "print(merged_data)\n"
   ]
  },
  {
   "cell_type": "code",
   "execution_count": 16,
   "id": "0fb3948f-0f5f-4bba-86b1-10b14c7c9171",
   "metadata": {},
   "outputs": [
    {
     "name": "stdout",
     "output_type": "stream",
     "text": [
      "Requirement already satisfied: matplotlib in c:\\users\\sourcepj\\anaconda3\\lib\\site-packages (3.9.2)\n",
      "Requirement already satisfied: seaborn in c:\\users\\sourcepj\\anaconda3\\lib\\site-packages (0.13.2)\n",
      "Requirement already satisfied: contourpy>=1.0.1 in c:\\users\\sourcepj\\anaconda3\\lib\\site-packages (from matplotlib) (1.2.0)\n",
      "Requirement already satisfied: cycler>=0.10 in c:\\users\\sourcepj\\anaconda3\\lib\\site-packages (from matplotlib) (0.11.0)\n",
      "Requirement already satisfied: fonttools>=4.22.0 in c:\\users\\sourcepj\\anaconda3\\lib\\site-packages (from matplotlib) (4.51.0)\n",
      "Requirement already satisfied: kiwisolver>=1.3.1 in c:\\users\\sourcepj\\anaconda3\\lib\\site-packages (from matplotlib) (1.4.4)\n",
      "Requirement already satisfied: numpy>=1.23 in c:\\users\\sourcepj\\anaconda3\\lib\\site-packages (from matplotlib) (1.26.4)\n",
      "Requirement already satisfied: packaging>=20.0 in c:\\users\\sourcepj\\anaconda3\\lib\\site-packages (from matplotlib) (24.1)\n",
      "Requirement already satisfied: pillow>=8 in c:\\users\\sourcepj\\anaconda3\\lib\\site-packages (from matplotlib) (10.4.0)\n",
      "Requirement already satisfied: pyparsing>=2.3.1 in c:\\users\\sourcepj\\anaconda3\\lib\\site-packages (from matplotlib) (3.1.2)\n",
      "Requirement already satisfied: python-dateutil>=2.7 in c:\\users\\sourcepj\\anaconda3\\lib\\site-packages (from matplotlib) (2.9.0.post0)\n",
      "Requirement already satisfied: pandas>=1.2 in c:\\users\\sourcepj\\anaconda3\\lib\\site-packages (from seaborn) (2.2.2)\n",
      "Requirement already satisfied: pytz>=2020.1 in c:\\users\\sourcepj\\anaconda3\\lib\\site-packages (from pandas>=1.2->seaborn) (2024.1)\n",
      "Requirement already satisfied: tzdata>=2022.7 in c:\\users\\sourcepj\\anaconda3\\lib\\site-packages (from pandas>=1.2->seaborn) (2023.3)\n",
      "Requirement already satisfied: six>=1.5 in c:\\users\\sourcepj\\anaconda3\\lib\\site-packages (from python-dateutil>=2.7->matplotlib) (1.16.0)\n",
      "Note: you may need to restart the kernel to use updated packages.\n"
     ]
    }
   ],
   "source": [
    "pip install matplotlib seaborn\n"
   ]
  },
  {
   "cell_type": "code",
   "execution_count": 18,
   "id": "54f75388-c532-4504-96da-28c19ea7d921",
   "metadata": {},
   "outputs": [
    {
     "data": {
      "image/png": "[encoded data removed]",
      "text/plain": [
       "<Figure size 1000x600 with 1 Axes>"
      ]
     },
     "metadata": {},
     "output_type": "display_data"
    }
   ],
   "source": [
    "import seaborn as sns\n",
    "import matplotlib.pyplot as plt\n",
    "\n",
    "# Giả sử merged_data đã có cột avg_score_course\n",
    "\n",
    "# Vẽ biểu đồ phân phối\n",
    "plt.figure(figsize=(10, 6))\n",
    "sns.histplot(merged_data['avg_score_course'], kde=True, bins=50)\n",
    "\n",
    "# Thêm tiêu đề và nhãn cho trục\n",
    "plt.title('Distribution of avg_score_course', fontsize=16)\n",
    "plt.xlabel('avg_score_course', fontsize=14)\n",
    "plt.ylabel('Frequency', fontsize=14)\n",
    "\n",
    "# Hiển thị biểu đồ\n",
    "plt.show()\n"
   ]
  },
  {
   "cell_type": "code",
   "execution_count": 20,
   "id": "db2cea2b-2190-4e38-b7b8-de8d73d354c1",
   "metadata": {},
   "outputs": [
    {
     "name": "stdout",
     "output_type": "stream",
     "text": [
      "Dữ liệu đã được lưu thành công vào file CSV.\n"
     ]
    }
   ],
   "source": [
    "# Lưu DataFrame user_problems thành file CSV\n",
    "merged_data.to_csv(r\"G:\\pjmxh\\user_data.csv\", index=False)\n",
    "\n",
    "# Hiển thị thông báo thành công\n",
    "print(\"Dữ liệu đã được lưu thành công vào file CSV.\")"
   ]
  },
  {
   "cell_type": "code",
   "execution_count": null,
   "id": "a4b082dd-33b2-4c1b-81ba-701ba18456b1",
   "metadata": {},
   "outputs": [],
   "source": []
  }
 ],
 "metadata": {
  "kernelspec": {
   "display_name": "Python 3 (ipykernel)",
   "language": "python",
   "name": "python3"
  },
  "language_info": {
   "codemirror_mode": {
    "name": "ipython",
    "version": 3
   },
   "file_extension": ".py",
   "mimetype": "text/x-python",
   "name": "python",
   "nbconvert_exporter": "python",
   "pygments_lexer": "ipython3",
   "version": "3.12.7"
  }
 },
 "nbformat": 4,
 "nbformat_minor": 5
}
