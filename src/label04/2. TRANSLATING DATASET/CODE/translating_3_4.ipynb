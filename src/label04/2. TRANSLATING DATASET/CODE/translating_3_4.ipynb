{
 "cells": [
  {
   "cell_type": "code",
   "execution_count": 1,
   "id": "21b4944d",
   "metadata": {
    "execution": {
     "iopub.execute_input": "2024-12-03T16:50:55.796360Z",
     "iopub.status.busy": "2024-12-03T16:50:55.795968Z",
     "iopub.status.idle": "2024-12-03T16:50:55.805760Z",
     "shell.execute_reply": "2024-12-03T16:50:55.804728Z"
    },
    "papermill": {
     "duration": 0.018241,
     "end_time": "2024-12-03T16:50:55.808238",
     "exception": false,
     "start_time": "2024-12-03T16:50:55.789997",
     "status": "completed"
    },
    "tags": []
   },
   "outputs": [],
   "source": [
    "i = 3"
   ]
  },
  {
   "cell_type": "markdown",
   "id": "d9cec007",
   "metadata": {
    "papermill": {
     "duration": 0.003224,
     "end_time": "2024-12-03T16:50:55.815384",
     "exception": false,
     "start_time": "2024-12-03T16:50:55.812160",
     "status": "completed"
    },
    "tags": []
   },
   "source": [
    "# Translating data"
   ]
  },
  {
   "cell_type": "markdown",
   "id": "778bc1d2",
   "metadata": {
    "papermill": {
     "duration": 0.003191,
     "end_time": "2024-12-03T16:50:55.822038",
     "exception": false,
     "start_time": "2024-12-03T16:50:55.818847",
     "status": "completed"
    },
    "tags": []
   },
   "source": [
    "## Đọc dữ liệu"
   ]
  },
  {
   "cell_type": "code",
   "execution_count": 2,
   "id": "b4b3f2c9",
   "metadata": {
    "_cell_guid": "b1076dfc-b9ad-4769-8c92-a6c4dae69d19",
    "_uuid": "8f2839f25d086af736a60e9eeb907d3b93b6e0e5",
    "execution": {
     "iopub.execute_input": "2024-12-03T16:50:55.830296Z",
     "iopub.status.busy": "2024-12-03T16:50:55.829927Z",
     "iopub.status.idle": "2024-12-03T16:50:56.820762Z",
     "shell.execute_reply": "2024-12-03T16:50:56.819571Z"
    },
    "papermill": {
     "duration": 0.997472,
     "end_time": "2024-12-03T16:50:56.822871",
     "exception": false,
     "start_time": "2024-12-03T16:50:55.825399",
     "status": "completed"
    },
    "tags": []
   },
   "outputs": [
    {
     "name": "stdout",
     "output_type": "stream",
     "text": [
      "Số dòng dữ liệu: 6701\n"
     ]
    },
    {
     "data": {
      "text/html": [
       "<div>\n",
       "<style scoped>\n",
       "    .dataframe tbody tr th:only-of-type {\n",
       "        vertical-align: middle;\n",
       "    }\n",
       "\n",
       "    .dataframe tbody tr th {\n",
       "        vertical-align: top;\n",
       "    }\n",
       "\n",
       "    .dataframe thead th {\n",
       "        text-align: right;\n",
       "    }\n",
       "</style>\n",
       "<table border=\"1\" class=\"dataframe\">\n",
       "  <thead>\n",
       "    <tr style=\"text-align: right;\">\n",
       "      <th></th>\n",
       "      <th>course_id</th>\n",
       "      <th>text</th>\n",
       "      <th>filtered_text</th>\n",
       "      <th>count</th>\n",
       "    </tr>\n",
       "  </thead>\n",
       "  <tbody>\n",
       "    <tr>\n",
       "      <th>0</th>\n",
       "      <td>C_674950</td>\n",
       "      <td>经济地理学是研究经济活动区位空间组织及其与地理环境相互关系的学科包括经济活动的内容经济活动区...</td>\n",
       "      <td>经济地理学研究经济活动区位空间组织地理环境相互关系学科包括经济活动内容经济活动区位经济活动空...</td>\n",
       "      <td>1.0</td>\n",
       "    </tr>\n",
       "    <tr>\n",
       "      <th>1</th>\n",
       "      <td>C_674950</td>\n",
       "      <td>是两者的结合</td>\n",
       "      <td>结合</td>\n",
       "      <td>1.0</td>\n",
       "    </tr>\n",
       "    <tr>\n",
       "      <th>2</th>\n",
       "      <td>C_674950</td>\n",
       "      <td>所谓农地的三权是指所有权承包权经营权也就是说原来的承包经营权一分为二了承包权还是归农民经营权...</td>\n",
       "      <td>所谓农地三权指所有权承包权经营权也就是说原来承包经营权一分为二承包权农民经营权流转经营权流转农户</td>\n",
       "      <td>2.0</td>\n",
       "    </tr>\n",
       "    <tr>\n",
       "      <th>3</th>\n",
       "      <td>C_674950</td>\n",
       "      <td>我觉得这是有好处的三权分置创新产生于农村土地承包实践服务于农业经营制度创新与农业现代化建设推...</td>\n",
       "      <td>觉得好处三权分置创新产生农村土地承包实践服务农业经营制度创新农业现代化建设推进三权分置目的落...</td>\n",
       "      <td>1.0</td>\n",
       "    </tr>\n",
       "    <tr>\n",
       "      <th>4</th>\n",
       "      <td>C_674950</td>\n",
       "      <td>资本追逐劳动力可以缩小地区差距但是牺牲了投资的效率后者是工业化和城镇化相吻合的道路</td>\n",
       "      <td>资本追逐劳动力缩小地区差距牺牲投资效率工业化城镇化相吻合道路</td>\n",
       "      <td>1.0</td>\n",
       "    </tr>\n",
       "  </tbody>\n",
       "</table>\n",
       "</div>"
      ],
      "text/plain": [
       "  course_id                                               text  \\\n",
       "0  C_674950  经济地理学是研究经济活动区位空间组织及其与地理环境相互关系的学科包括经济活动的内容经济活动区...   \n",
       "1  C_674950                                             是两者的结合   \n",
       "2  C_674950  所谓农地的三权是指所有权承包权经营权也就是说原来的承包经营权一分为二了承包权还是归农民经营权...   \n",
       "3  C_674950  我觉得这是有好处的三权分置创新产生于农村土地承包实践服务于农业经营制度创新与农业现代化建设推...   \n",
       "4  C_674950          资本追逐劳动力可以缩小地区差距但是牺牲了投资的效率后者是工业化和城镇化相吻合的道路   \n",
       "\n",
       "                                       filtered_text  count  \n",
       "0  经济地理学研究经济活动区位空间组织地理环境相互关系学科包括经济活动内容经济活动区位经济活动空...    1.0  \n",
       "1                                                 结合    1.0  \n",
       "2   所谓农地三权指所有权承包权经营权也就是说原来承包经营权一分为二承包权农民经营权流转经营权流转农户    2.0  \n",
       "3  觉得好处三权分置创新产生农村土地承包实践服务农业经营制度创新农业现代化建设推进三权分置目的落...    1.0  \n",
       "4                     资本追逐劳动力缩小地区差距牺牲投资效率工业化城镇化相吻合道路    1.0  "
      ]
     },
     "execution_count": 2,
     "metadata": {},
     "output_type": "execute_result"
    }
   ],
   "source": [
    "import pandas as pd\n",
    "import numpy as np\n",
    "\n",
    "df = pd.read_csv(f\"/kaggle/input/preprocessing-3/cleaned_comments/file_{i}.csv\")\n",
    "print(\"Số dòng dữ liệu:\", len(df))\n",
    "df.head(5)"
   ]
  },
  {
   "cell_type": "code",
   "execution_count": 3,
   "id": "ff9c25a8",
   "metadata": {
    "execution": {
     "iopub.execute_input": "2024-12-03T16:50:56.831884Z",
     "iopub.status.busy": "2024-12-03T16:50:56.831516Z",
     "iopub.status.idle": "2024-12-03T16:50:56.842513Z",
     "shell.execute_reply": "2024-12-03T16:50:56.841412Z"
    },
    "papermill": {
     "duration": 0.018034,
     "end_time": "2024-12-03T16:50:56.844751",
     "exception": false,
     "start_time": "2024-12-03T16:50:56.826717",
     "status": "completed"
    },
    "tags": []
   },
   "outputs": [
    {
     "data": {
      "text/plain": [
       "course_id        0\n",
       "text             0\n",
       "filtered_text    1\n",
       "count            0\n",
       "dtype: int64"
      ]
     },
     "execution_count": 3,
     "metadata": {},
     "output_type": "execute_result"
    }
   ],
   "source": [
    "df.isnull().sum()"
   ]
  },
  {
   "cell_type": "markdown",
   "id": "62acdd29",
   "metadata": {
    "papermill": {
     "duration": 0.003944,
     "end_time": "2024-12-03T16:50:56.852770",
     "exception": false,
     "start_time": "2024-12-03T16:50:56.848826",
     "status": "completed"
    },
    "tags": []
   },
   "source": [
    "## Dịch sang tiếng anh với thư viện GoogleTranslator"
   ]
  },
  {
   "cell_type": "code",
   "execution_count": 4,
   "id": "04cca71f",
   "metadata": {
    "execution": {
     "iopub.execute_input": "2024-12-03T16:50:56.862033Z",
     "iopub.status.busy": "2024-12-03T16:50:56.861682Z",
     "iopub.status.idle": "2024-12-03T16:51:08.889035Z",
     "shell.execute_reply": "2024-12-03T16:51:08.887847Z"
    },
    "papermill": {
     "duration": 12.035143,
     "end_time": "2024-12-03T16:51:08.891830",
     "exception": false,
     "start_time": "2024-12-03T16:50:56.856687",
     "status": "completed"
    },
    "tags": []
   },
   "outputs": [
    {
     "name": "stdout",
     "output_type": "stream",
     "text": [
      "Collecting deep-translator\r\n",
      "  Downloading deep_translator-1.11.4-py3-none-any.whl.metadata (30 kB)\r\n",
      "Requirement already satisfied: beautifulsoup4<5.0.0,>=4.9.1 in /opt/conda/lib/python3.10/site-packages (from deep-translator) (4.12.3)\r\n",
      "Requirement already satisfied: requests<3.0.0,>=2.23.0 in /opt/conda/lib/python3.10/site-packages (from deep-translator) (2.32.3)\r\n",
      "Requirement already satisfied: soupsieve>1.2 in /opt/conda/lib/python3.10/site-packages (from beautifulsoup4<5.0.0,>=4.9.1->deep-translator) (2.5)\r\n",
      "Requirement already satisfied: charset-normalizer<4,>=2 in /opt/conda/lib/python3.10/site-packages (from requests<3.0.0,>=2.23.0->deep-translator) (3.3.2)\r\n",
      "Requirement already satisfied: idna<4,>=2.5 in /opt/conda/lib/python3.10/site-packages (from requests<3.0.0,>=2.23.0->deep-translator) (3.7)\r\n",
      "Requirement already satisfied: urllib3<3,>=1.21.1 in /opt/conda/lib/python3.10/site-packages (from requests<3.0.0,>=2.23.0->deep-translator) (1.26.18)\r\n",
      "Requirement already satisfied: certifi>=2017.4.17 in /opt/conda/lib/python3.10/site-packages (from requests<3.0.0,>=2.23.0->deep-translator) (2024.8.30)\r\n",
      "Downloading deep_translator-1.11.4-py3-none-any.whl (42 kB)\r\n",
      "\u001b[2K   \u001b[90m━━━━━━━━━━━━━━━━━━━━━━━━━━━━━━━━━━━━━━━━\u001b[0m \u001b[32m42.3/42.3 kB\u001b[0m \u001b[31m2.0 MB/s\u001b[0m eta \u001b[36m0:00:00\u001b[0m\r\n",
      "\u001b[?25hInstalling collected packages: deep-translator\r\n",
      "Successfully installed deep-translator-1.11.4\r\n"
     ]
    }
   ],
   "source": [
    "!pip install deep-translator"
   ]
  },
  {
   "cell_type": "code",
   "execution_count": 5,
   "id": "642a6685",
   "metadata": {
    "execution": {
     "iopub.execute_input": "2024-12-03T16:51:08.902761Z",
     "iopub.status.busy": "2024-12-03T16:51:08.902284Z",
     "iopub.status.idle": "2024-12-03T16:51:19.151714Z",
     "shell.execute_reply": "2024-12-03T16:51:19.150206Z"
    },
    "papermill": {
     "duration": 10.258214,
     "end_time": "2024-12-03T16:51:19.154449",
     "exception": false,
     "start_time": "2024-12-03T16:51:08.896235",
     "status": "completed"
    },
    "tags": []
   },
   "outputs": [
    {
     "name": "stdout",
     "output_type": "stream",
     "text": [
      "Requirement already satisfied: tqdm in /opt/conda/lib/python3.10/site-packages (4.66.4)\r\n",
      "Note: you may need to restart the kernel to use updated packages.\n"
     ]
    }
   ],
   "source": [
    "pip install tqdm"
   ]
  },
  {
   "cell_type": "code",
   "execution_count": 6,
   "id": "a1f5b478",
   "metadata": {
    "execution": {
     "iopub.execute_input": "2024-12-03T16:51:19.166363Z",
     "iopub.status.busy": "2024-12-03T16:51:19.165943Z",
     "iopub.status.idle": "2024-12-03T19:41:50.567751Z",
     "shell.execute_reply": "2024-12-03T19:41:50.566396Z"
    },
    "papermill": {
     "duration": 10231.411149,
     "end_time": "2024-12-03T19:41:50.571083",
     "exception": false,
     "start_time": "2024-12-03T16:51:19.159934",
     "status": "completed"
    },
    "tags": []
   },
   "outputs": [
    {
     "name": "stderr",
     "output_type": "stream",
     "text": [
      "Tiến độ dịch: 100%|██████████| 6701/6701 [2:50:31<00:00,  1.53s/dòng]"
     ]
    },
    {
     "name": "stdout",
     "output_type": "stream",
     "text": [
      "Số dòng dữ liệu: 6701\n"
     ]
    },
    {
     "name": "stderr",
     "output_type": "stream",
     "text": [
      "\n"
     ]
    },
    {
     "data": {
      "text/html": [
       "<div>\n",
       "<style scoped>\n",
       "    .dataframe tbody tr th:only-of-type {\n",
       "        vertical-align: middle;\n",
       "    }\n",
       "\n",
       "    .dataframe tbody tr th {\n",
       "        vertical-align: top;\n",
       "    }\n",
       "\n",
       "    .dataframe thead th {\n",
       "        text-align: right;\n",
       "    }\n",
       "</style>\n",
       "<table border=\"1\" class=\"dataframe\">\n",
       "  <thead>\n",
       "    <tr style=\"text-align: right;\">\n",
       "      <th></th>\n",
       "      <th>course_id</th>\n",
       "      <th>text</th>\n",
       "      <th>filtered_text</th>\n",
       "      <th>count</th>\n",
       "      <th>text_vi</th>\n",
       "    </tr>\n",
       "  </thead>\n",
       "  <tbody>\n",
       "    <tr>\n",
       "      <th>0</th>\n",
       "      <td>C_674950</td>\n",
       "      <td>经济地理学是研究经济活动区位空间组织及其与地理环境相互关系的学科包括经济活动的内容经济活动区...</td>\n",
       "      <td>经济地理学研究经济活动区位空间组织地理环境相互关系学科包括经济活动内容经济活动区位经济活动空...</td>\n",
       "      <td>1.0</td>\n",
       "      <td>Địa lý kinh tế là môn học nghiên cứu tổ chức k...</td>\n",
       "    </tr>\n",
       "    <tr>\n",
       "      <th>1</th>\n",
       "      <td>C_674950</td>\n",
       "      <td>是两者的结合</td>\n",
       "      <td>结合</td>\n",
       "      <td>1.0</td>\n",
       "      <td>Đó là sự kết hợp của cả hai</td>\n",
       "    </tr>\n",
       "    <tr>\n",
       "      <th>2</th>\n",
       "      <td>C_674950</td>\n",
       "      <td>所谓农地的三权是指所有权承包权经营权也就是说原来的承包经营权一分为二了承包权还是归农民经营权...</td>\n",
       "      <td>所谓农地三权指所有权承包权经营权也就是说原来承包经营权一分为二承包权农民经营权流转经营权流转农户</td>\n",
       "      <td>2.0</td>\n",
       "      <td>Cái gọi là ba quyền đất nông nghiệp bao gồm qu...</td>\n",
       "    </tr>\n",
       "    <tr>\n",
       "      <th>3</th>\n",
       "      <td>C_674950</td>\n",
       "      <td>我觉得这是有好处的三权分置创新产生于农村土地承包实践服务于农业经营制度创新与农业现代化建设推...</td>\n",
       "      <td>觉得好处三权分置创新产生农村土地承包实践服务农业经营制度创新农业现代化建设推进三权分置目的落...</td>\n",
       "      <td>1.0</td>\n",
       "      <td>Tôi cho rằng điều này có lợi. Việc đổi mới tác...</td>\n",
       "    </tr>\n",
       "    <tr>\n",
       "      <th>4</th>\n",
       "      <td>C_674950</td>\n",
       "      <td>资本追逐劳动力可以缩小地区差距但是牺牲了投资的效率后者是工业化和城镇化相吻合的道路</td>\n",
       "      <td>资本追逐劳动力缩小地区差距牺牲投资效率工业化城镇化相吻合道路</td>\n",
       "      <td>1.0</td>\n",
       "      <td>Việc theo đuổi lao động bằng vốn có thể thu hẹ...</td>\n",
       "    </tr>\n",
       "  </tbody>\n",
       "</table>\n",
       "</div>"
      ],
      "text/plain": [
       "  course_id                                               text  \\\n",
       "0  C_674950  经济地理学是研究经济活动区位空间组织及其与地理环境相互关系的学科包括经济活动的内容经济活动区...   \n",
       "1  C_674950                                             是两者的结合   \n",
       "2  C_674950  所谓农地的三权是指所有权承包权经营权也就是说原来的承包经营权一分为二了承包权还是归农民经营权...   \n",
       "3  C_674950  我觉得这是有好处的三权分置创新产生于农村土地承包实践服务于农业经营制度创新与农业现代化建设推...   \n",
       "4  C_674950          资本追逐劳动力可以缩小地区差距但是牺牲了投资的效率后者是工业化和城镇化相吻合的道路   \n",
       "\n",
       "                                       filtered_text  count  \\\n",
       "0  经济地理学研究经济活动区位空间组织地理环境相互关系学科包括经济活动内容经济活动区位经济活动空...    1.0   \n",
       "1                                                 结合    1.0   \n",
       "2   所谓农地三权指所有权承包权经营权也就是说原来承包经营权一分为二承包权农民经营权流转经营权流转农户    2.0   \n",
       "3  觉得好处三权分置创新产生农村土地承包实践服务农业经营制度创新农业现代化建设推进三权分置目的落...    1.0   \n",
       "4                     资本追逐劳动力缩小地区差距牺牲投资效率工业化城镇化相吻合道路    1.0   \n",
       "\n",
       "                                             text_vi  \n",
       "0  Địa lý kinh tế là môn học nghiên cứu tổ chức k...  \n",
       "1                        Đó là sự kết hợp của cả hai  \n",
       "2  Cái gọi là ba quyền đất nông nghiệp bao gồm qu...  \n",
       "3  Tôi cho rằng điều này có lợi. Việc đổi mới tác...  \n",
       "4  Việc theo đuổi lao động bằng vốn có thể thu hẹ...  "
      ]
     },
     "execution_count": 6,
     "metadata": {},
     "output_type": "execute_result"
    }
   ],
   "source": [
    "from deep_translator import GoogleTranslator\n",
    "import pandas as pd\n",
    "from tqdm import tqdm  # Import tqdm để sử dụng thanh tiến độ\n",
    "\n",
    "# Khởi tạo đối tượng GoogleTranslator\n",
    "translator = GoogleTranslator(source='zh-CN', target='vi')\n",
    "\n",
    "# Tạo cột 'text_en' nếu chưa có\n",
    "if 'text_vi' not in df.columns:\n",
    "    df['text_vi'] = None\n",
    "\n",
    "df['text'] = df['text'].astype(str)\n",
    "# Sử dụng tqdm để tạo thanh tiến độ\n",
    "with tqdm(total=len(df), desc=\"Tiến độ dịch\", unit=\"dòng\") as pbar:\n",
    "    for idx, row in df.iterrows():\n",
    "        if pd.isna(row['text_vi']):  # Chỉ dịch nếu chưa có dữ liệu\n",
    "            try:\n",
    "                # Dịch từ tiếng Trung giản thể (zh-CN) sang tiếng Anh (en)\n",
    "                text_trans = translator.translate(str(row['text']))\n",
    "                df.loc[idx, 'text_vi'] = text_trans  # Sử dụng .loc để tránh SettingWithCopyWarning\n",
    "            except Exception as e:\n",
    "                print(f\"Error translating row {idx}: {e}\")\n",
    "        \n",
    "        # Cập nhật thanh tiến độ\n",
    "        pbar.update(1)\n",
    "\n",
    "# Hiển thị DataFrame để kiểm tra\n",
    "print(\"Số dòng dữ liệu:\", len(df))\n",
    "df.head(5)"
   ]
  },
  {
   "cell_type": "code",
   "execution_count": 7,
   "id": "925c85db",
   "metadata": {
    "execution": {
     "iopub.execute_input": "2024-12-03T19:41:51.217574Z",
     "iopub.status.busy": "2024-12-03T19:41:51.216901Z",
     "iopub.status.idle": "2024-12-03T19:41:51.224631Z",
     "shell.execute_reply": "2024-12-03T19:41:51.223636Z"
    },
    "papermill": {
     "duration": 0.332086,
     "end_time": "2024-12-03T19:41:51.226707",
     "exception": false,
     "start_time": "2024-12-03T19:41:50.894621",
     "status": "completed"
    },
    "tags": []
   },
   "outputs": [],
   "source": [
    "df['text'] = df['text'].astype(str)\n",
    "df['text_vi'] = df['text_vi'].astype(str)"
   ]
  },
  {
   "cell_type": "markdown",
   "id": "65156192",
   "metadata": {
    "papermill": {
     "duration": 0.316096,
     "end_time": "2024-12-03T19:41:51.936859",
     "exception": false,
     "start_time": "2024-12-03T19:41:51.620763",
     "status": "completed"
    },
    "tags": []
   },
   "source": [
    "## Lưu file đã dịch"
   ]
  },
  {
   "cell_type": "code",
   "execution_count": 8,
   "id": "a3c96ec2",
   "metadata": {
    "execution": {
     "iopub.execute_input": "2024-12-03T19:41:52.576460Z",
     "iopub.status.busy": "2024-12-03T19:41:52.576080Z",
     "iopub.status.idle": "2024-12-03T19:41:52.639073Z",
     "shell.execute_reply": "2024-12-03T19:41:52.638074Z"
    },
    "papermill": {
     "duration": 0.385429,
     "end_time": "2024-12-03T19:41:52.641652",
     "exception": false,
     "start_time": "2024-12-03T19:41:52.256223",
     "status": "completed"
    },
    "tags": []
   },
   "outputs": [],
   "source": [
    "df.to_csv(f'/kaggle/working/translated_comments_{i}.csv', index=False)"
   ]
  },
  {
   "cell_type": "markdown",
   "id": "099cfd94",
   "metadata": {
    "papermill": {
     "duration": 0.319196,
     "end_time": "2024-12-03T19:41:53.337097",
     "exception": false,
     "start_time": "2024-12-03T19:41:53.017901",
     "status": "completed"
    },
    "tags": []
   },
   "source": [
    "# File i+1"
   ]
  },
  {
   "cell_type": "code",
   "execution_count": 9,
   "id": "16a72383",
   "metadata": {
    "execution": {
     "iopub.execute_input": "2024-12-03T19:41:53.973022Z",
     "iopub.status.busy": "2024-12-03T19:41:53.972645Z",
     "iopub.status.idle": "2024-12-03T19:41:54.056619Z",
     "shell.execute_reply": "2024-12-03T19:41:54.055551Z"
    },
    "papermill": {
     "duration": 0.402346,
     "end_time": "2024-12-03T19:41:54.058687",
     "exception": false,
     "start_time": "2024-12-03T19:41:53.656341",
     "status": "completed"
    },
    "tags": []
   },
   "outputs": [
    {
     "name": "stdout",
     "output_type": "stream",
     "text": [
      "Số dòng dữ liệu: 7386\n"
     ]
    },
    {
     "data": {
      "text/html": [
       "<div>\n",
       "<style scoped>\n",
       "    .dataframe tbody tr th:only-of-type {\n",
       "        vertical-align: middle;\n",
       "    }\n",
       "\n",
       "    .dataframe tbody tr th {\n",
       "        vertical-align: top;\n",
       "    }\n",
       "\n",
       "    .dataframe thead th {\n",
       "        text-align: right;\n",
       "    }\n",
       "</style>\n",
       "<table border=\"1\" class=\"dataframe\">\n",
       "  <thead>\n",
       "    <tr style=\"text-align: right;\">\n",
       "      <th></th>\n",
       "      <th>course_id</th>\n",
       "      <th>text</th>\n",
       "      <th>filtered_text</th>\n",
       "      <th>count</th>\n",
       "    </tr>\n",
       "  </thead>\n",
       "  <tbody>\n",
       "    <tr>\n",
       "      <th>0</th>\n",
       "      <td>C_677014</td>\n",
       "      <td>怎么内容是庖丁解牛</td>\n",
       "      <td>内容庖丁解牛</td>\n",
       "      <td>1.0</td>\n",
       "    </tr>\n",
       "    <tr>\n",
       "      <th>1</th>\n",
       "      <td>C_677014</td>\n",
       "      <td>中国文化博大精深</td>\n",
       "      <td>中国文化博大精深</td>\n",
       "      <td>1.0</td>\n",
       "    </tr>\n",
       "    <tr>\n",
       "      <th>2</th>\n",
       "      <td>C_677014</td>\n",
       "      <td>中国文化博大精深</td>\n",
       "      <td>中国文化博大精深</td>\n",
       "      <td>1.0</td>\n",
       "    </tr>\n",
       "    <tr>\n",
       "      <th>3</th>\n",
       "      <td>C_677014</td>\n",
       "      <td>中国文化博大精深</td>\n",
       "      <td>中国文化博大精深</td>\n",
       "      <td>1.0</td>\n",
       "    </tr>\n",
       "    <tr>\n",
       "      <th>4</th>\n",
       "      <td>C_677014</td>\n",
       "      <td>中国文化博大精深</td>\n",
       "      <td>中国文化博大精深</td>\n",
       "      <td>1.0</td>\n",
       "    </tr>\n",
       "  </tbody>\n",
       "</table>\n",
       "</div>"
      ],
      "text/plain": [
       "  course_id       text filtered_text  count\n",
       "0  C_677014  怎么内容是庖丁解牛        内容庖丁解牛    1.0\n",
       "1  C_677014   中国文化博大精深      中国文化博大精深    1.0\n",
       "2  C_677014   中国文化博大精深      中国文化博大精深    1.0\n",
       "3  C_677014   中国文化博大精深      中国文化博大精深    1.0\n",
       "4  C_677014   中国文化博大精深      中国文化博大精深    1.0"
      ]
     },
     "execution_count": 9,
     "metadata": {},
     "output_type": "execute_result"
    }
   ],
   "source": [
    "import pandas as pd\n",
    "import numpy as np\n",
    "\n",
    "df = pd.read_csv(f\"/kaggle/input/preprocessing-3/cleaned_comments/file_{i+1}.csv\")\n",
    "print(\"Số dòng dữ liệu:\", len(df))\n",
    "df.head(5)"
   ]
  },
  {
   "cell_type": "code",
   "execution_count": 10,
   "id": "ed9bc58c",
   "metadata": {
    "execution": {
     "iopub.execute_input": "2024-12-03T19:41:54.754260Z",
     "iopub.status.busy": "2024-12-03T19:41:54.753877Z",
     "iopub.status.idle": "2024-12-03T23:06:12.126223Z",
     "shell.execute_reply": "2024-12-03T23:06:12.124797Z"
    },
    "papermill": {
     "duration": 12257.6958,
     "end_time": "2024-12-03T23:06:12.129236",
     "exception": false,
     "start_time": "2024-12-03T19:41:54.433436",
     "status": "completed"
    },
    "tags": []
   },
   "outputs": [
    {
     "name": "stderr",
     "output_type": "stream",
     "text": [
      "Tiến độ dịch: 100%|██████████| 7386/7386 [3:24:17<00:00,  1.66s/dòng]"
     ]
    },
    {
     "name": "stdout",
     "output_type": "stream",
     "text": [
      "Số dòng dữ liệu: 7386\n"
     ]
    },
    {
     "name": "stderr",
     "output_type": "stream",
     "text": [
      "\n"
     ]
    },
    {
     "data": {
      "text/html": [
       "<div>\n",
       "<style scoped>\n",
       "    .dataframe tbody tr th:only-of-type {\n",
       "        vertical-align: middle;\n",
       "    }\n",
       "\n",
       "    .dataframe tbody tr th {\n",
       "        vertical-align: top;\n",
       "    }\n",
       "\n",
       "    .dataframe thead th {\n",
       "        text-align: right;\n",
       "    }\n",
       "</style>\n",
       "<table border=\"1\" class=\"dataframe\">\n",
       "  <thead>\n",
       "    <tr style=\"text-align: right;\">\n",
       "      <th></th>\n",
       "      <th>course_id</th>\n",
       "      <th>text</th>\n",
       "      <th>filtered_text</th>\n",
       "      <th>count</th>\n",
       "      <th>text_vi</th>\n",
       "    </tr>\n",
       "  </thead>\n",
       "  <tbody>\n",
       "    <tr>\n",
       "      <th>0</th>\n",
       "      <td>C_677014</td>\n",
       "      <td>怎么内容是庖丁解牛</td>\n",
       "      <td>内容庖丁解牛</td>\n",
       "      <td>1.0</td>\n",
       "      <td>Tại sao nội dung là \"Pao Ding Jie Niu\"?</td>\n",
       "    </tr>\n",
       "    <tr>\n",
       "      <th>1</th>\n",
       "      <td>C_677014</td>\n",
       "      <td>中国文化博大精深</td>\n",
       "      <td>中国文化博大精深</td>\n",
       "      <td>1.0</td>\n",
       "      <td>Văn hóa Trung Hoa rộng lớn và sâu sắc</td>\n",
       "    </tr>\n",
       "    <tr>\n",
       "      <th>2</th>\n",
       "      <td>C_677014</td>\n",
       "      <td>中国文化博大精深</td>\n",
       "      <td>中国文化博大精深</td>\n",
       "      <td>1.0</td>\n",
       "      <td>Văn hóa Trung Hoa rộng lớn và sâu sắc</td>\n",
       "    </tr>\n",
       "    <tr>\n",
       "      <th>3</th>\n",
       "      <td>C_677014</td>\n",
       "      <td>中国文化博大精深</td>\n",
       "      <td>中国文化博大精深</td>\n",
       "      <td>1.0</td>\n",
       "      <td>Văn hóa Trung Hoa rộng lớn và sâu sắc</td>\n",
       "    </tr>\n",
       "    <tr>\n",
       "      <th>4</th>\n",
       "      <td>C_677014</td>\n",
       "      <td>中国文化博大精深</td>\n",
       "      <td>中国文化博大精深</td>\n",
       "      <td>1.0</td>\n",
       "      <td>Văn hóa Trung Hoa rộng lớn và sâu sắc</td>\n",
       "    </tr>\n",
       "  </tbody>\n",
       "</table>\n",
       "</div>"
      ],
      "text/plain": [
       "  course_id       text filtered_text  count  \\\n",
       "0  C_677014  怎么内容是庖丁解牛        内容庖丁解牛    1.0   \n",
       "1  C_677014   中国文化博大精深      中国文化博大精深    1.0   \n",
       "2  C_677014   中国文化博大精深      中国文化博大精深    1.0   \n",
       "3  C_677014   中国文化博大精深      中国文化博大精深    1.0   \n",
       "4  C_677014   中国文化博大精深      中国文化博大精深    1.0   \n",
       "\n",
       "                                   text_vi  \n",
       "0  Tại sao nội dung là \"Pao Ding Jie Niu\"?  \n",
       "1    Văn hóa Trung Hoa rộng lớn và sâu sắc  \n",
       "2    Văn hóa Trung Hoa rộng lớn và sâu sắc  \n",
       "3    Văn hóa Trung Hoa rộng lớn và sâu sắc  \n",
       "4    Văn hóa Trung Hoa rộng lớn và sâu sắc  "
      ]
     },
     "execution_count": 10,
     "metadata": {},
     "output_type": "execute_result"
    }
   ],
   "source": [
    "from deep_translator import GoogleTranslator\n",
    "import pandas as pd\n",
    "from tqdm import tqdm  # Import tqdm để sử dụng thanh tiến độ\n",
    "\n",
    "# Khởi tạo đối tượng GoogleTranslator\n",
    "translator = GoogleTranslator(source='zh-CN', target='vi')\n",
    "\n",
    "# Tạo cột 'text_en' nếu chưa có\n",
    "if 'text_vi' not in df.columns:\n",
    "    df['text_vi'] = None\n",
    "\n",
    "df['text'] = df['text'].astype(str)\n",
    "# Sử dụng tqdm để tạo thanh tiến độ\n",
    "with tqdm(total=len(df), desc=\"Tiến độ dịch\", unit=\"dòng\") as pbar:\n",
    "    for idx, row in df.iterrows():\n",
    "        if pd.isna(row['text_vi']):  # Chỉ dịch nếu chưa có dữ liệu\n",
    "            try:\n",
    "                # Dịch từ tiếng Trung giản thể (zh-CN) sang tiếng Anh (en)\n",
    "                text_trans = translator.translate(str(row['text']))\n",
    "                df.loc[idx, 'text_vi'] = text_trans  # Sử dụng .loc để tránh SettingWithCopyWarning\n",
    "            except Exception as e:\n",
    "                print(f\"Error translating row {idx}: {e}\")\n",
    "        \n",
    "        # Cập nhật thanh tiến độ\n",
    "        pbar.update(1)\n",
    "\n",
    "# Hiển thị DataFrame để kiểm tra\n",
    "print(\"Số dòng dữ liệu:\", len(df))\n",
    "df.head(5)"
   ]
  },
  {
   "cell_type": "code",
   "execution_count": 11,
   "id": "5b226ec6",
   "metadata": {
    "execution": {
     "iopub.execute_input": "2024-12-03T23:06:13.661462Z",
     "iopub.status.busy": "2024-12-03T23:06:13.660963Z",
     "iopub.status.idle": "2024-12-03T23:06:13.668363Z",
     "shell.execute_reply": "2024-12-03T23:06:13.667426Z"
    },
    "papermill": {
     "duration": 0.699743,
     "end_time": "2024-12-03T23:06:13.670390",
     "exception": false,
     "start_time": "2024-12-03T23:06:12.970647",
     "status": "completed"
    },
    "tags": []
   },
   "outputs": [],
   "source": [
    "df['text'] = df['text'].astype(str)\n",
    "df['text_vi'] = df['text_vi'].astype(str)"
   ]
  },
  {
   "cell_type": "code",
   "execution_count": 12,
   "id": "c4fd2c10",
   "metadata": {
    "execution": {
     "iopub.execute_input": "2024-12-03T23:06:15.133281Z",
     "iopub.status.busy": "2024-12-03T23:06:15.132920Z",
     "iopub.status.idle": "2024-12-03T23:06:15.218427Z",
     "shell.execute_reply": "2024-12-03T23:06:15.217281Z"
    },
    "papermill": {
     "duration": 0.78176,
     "end_time": "2024-12-03T23:06:15.220997",
     "exception": false,
     "start_time": "2024-12-03T23:06:14.439237",
     "status": "completed"
    },
    "tags": []
   },
   "outputs": [],
   "source": [
    "df.to_csv(f'/kaggle/working/translated_comments_{i+1}.csv', index=False)"
   ]
  }
 ],
 "metadata": {
  "kaggle": {
   "accelerator": "none",
   "dataSources": [
    {
     "sourceId": 209897750,
     "sourceType": "kernelVersion"
    }
   ],
   "dockerImageVersionId": 30787,
   "isGpuEnabled": false,
   "isInternetEnabled": true,
   "language": "python",
   "sourceType": "notebook"
  },
  "kernelspec": {
   "display_name": "Python 3",
   "language": "python",
   "name": "python3"
  },
  "language_info": {
   "codemirror_mode": {
    "name": "ipython",
    "version": 3
   },
   "file_extension": ".py",
   "mimetype": "text/x-python",
   "name": "python",
   "nbconvert_exporter": "python",
   "pygments_lexer": "ipython3",
   "version": "3.10.14"
  },
  "papermill": {
   "default_parameters": {},
   "duration": 22523.580632,
   "end_time": "2024-12-03T23:06:16.548238",
   "environment_variables": {},
   "exception": null,
   "input_path": "__notebook__.ipynb",
   "output_path": "__notebook__.ipynb",
   "parameters": {},
   "start_time": "2024-12-03T16:50:52.967606",
   "version": "2.6.0"
  }
 },
 "nbformat": 4,
 "nbformat_minor": 5
}
