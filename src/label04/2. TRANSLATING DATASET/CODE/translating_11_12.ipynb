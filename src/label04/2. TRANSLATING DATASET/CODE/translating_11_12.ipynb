{
 "cells": [
  {
   "cell_type": "code",
   "execution_count": 1,
   "id": "3f49fd80",
   "metadata": {
    "execution": {
     "iopub.execute_input": "2024-12-03T16:55:26.562902Z",
     "iopub.status.busy": "2024-12-03T16:55:26.562385Z",
     "iopub.status.idle": "2024-12-03T16:55:26.572912Z",
     "shell.execute_reply": "2024-12-03T16:55:26.571645Z"
    },
    "papermill": {
     "duration": 0.019181,
     "end_time": "2024-12-03T16:55:26.575273",
     "exception": false,
     "start_time": "2024-12-03T16:55:26.556092",
     "status": "completed"
    },
    "tags": []
   },
   "outputs": [],
   "source": [
    "i = 11"
   ]
  },
  {
   "cell_type": "markdown",
   "id": "36367391",
   "metadata": {
    "papermill": {
     "duration": 0.003309,
     "end_time": "2024-12-03T16:55:26.582398",
     "exception": false,
     "start_time": "2024-12-03T16:55:26.579089",
     "status": "completed"
    },
    "tags": []
   },
   "source": [
    "# Translating data"
   ]
  },
  {
   "cell_type": "markdown",
   "id": "90d4fab8",
   "metadata": {
    "papermill": {
     "duration": 0.003174,
     "end_time": "2024-12-03T16:55:26.589191",
     "exception": false,
     "start_time": "2024-12-03T16:55:26.586017",
     "status": "completed"
    },
    "tags": []
   },
   "source": [
    "## Đọc dữ liệu"
   ]
  },
  {
   "cell_type": "code",
   "execution_count": 2,
   "id": "a765b778",
   "metadata": {
    "_cell_guid": "b1076dfc-b9ad-4769-8c92-a6c4dae69d19",
    "_uuid": "8f2839f25d086af736a60e9eeb907d3b93b6e0e5",
    "execution": {
     "iopub.execute_input": "2024-12-03T16:55:26.598712Z",
     "iopub.status.busy": "2024-12-03T16:55:26.598336Z",
     "iopub.status.idle": "2024-12-03T16:55:27.655701Z",
     "shell.execute_reply": "2024-12-03T16:55:27.654538Z"
    },
    "papermill": {
     "duration": 1.065284,
     "end_time": "2024-12-03T16:55:27.658015",
     "exception": false,
     "start_time": "2024-12-03T16:55:26.592731",
     "status": "completed"
    },
    "tags": []
   },
   "outputs": [
    {
     "name": "stdout",
     "output_type": "stream",
     "text": [
      "Số dòng dữ liệu: 9200\n"
     ]
    },
    {
     "data": {
      "text/html": [
       "<div>\n",
       "<style scoped>\n",
       "    .dataframe tbody tr th:only-of-type {\n",
       "        vertical-align: middle;\n",
       "    }\n",
       "\n",
       "    .dataframe tbody tr th {\n",
       "        vertical-align: top;\n",
       "    }\n",
       "\n",
       "    .dataframe thead th {\n",
       "        text-align: right;\n",
       "    }\n",
       "</style>\n",
       "<table border=\"1\" class=\"dataframe\">\n",
       "  <thead>\n",
       "    <tr style=\"text-align: right;\">\n",
       "      <th></th>\n",
       "      <th>course_id</th>\n",
       "      <th>text</th>\n",
       "      <th>filtered_text</th>\n",
       "      <th>count</th>\n",
       "    </tr>\n",
       "  </thead>\n",
       "  <tbody>\n",
       "    <tr>\n",
       "      <th>0</th>\n",
       "      <td>C_697007</td>\n",
       "      <td>老师的口音i了i了</td>\n",
       "      <td>老师口音ii</td>\n",
       "      <td>1.0</td>\n",
       "    </tr>\n",
       "    <tr>\n",
       "      <th>1</th>\n",
       "      <td>C_697007</td>\n",
       "      <td>老师的发音i了i了</td>\n",
       "      <td>老师发音ii</td>\n",
       "      <td>1.0</td>\n",
       "    </tr>\n",
       "    <tr>\n",
       "      <th>2</th>\n",
       "      <td>C_697007</td>\n",
       "      <td>语法结构好清楚啊</td>\n",
       "      <td>语法结构清楚</td>\n",
       "      <td>1.0</td>\n",
       "    </tr>\n",
       "    <tr>\n",
       "      <th>3</th>\n",
       "      <td>C_697007</td>\n",
       "      <td>好棒啊</td>\n",
       "      <td>棒</td>\n",
       "      <td>1.0</td>\n",
       "    </tr>\n",
       "    <tr>\n",
       "      <th>4</th>\n",
       "      <td>C_697007</td>\n",
       "      <td>好难听懂</td>\n",
       "      <td>好难听懂</td>\n",
       "      <td>1.0</td>\n",
       "    </tr>\n",
       "  </tbody>\n",
       "</table>\n",
       "</div>"
      ],
      "text/plain": [
       "  course_id       text filtered_text  count\n",
       "0  C_697007  老师的口音i了i了        老师口音ii    1.0\n",
       "1  C_697007  老师的发音i了i了        老师发音ii    1.0\n",
       "2  C_697007   语法结构好清楚啊        语法结构清楚    1.0\n",
       "3  C_697007        好棒啊             棒    1.0\n",
       "4  C_697007       好难听懂          好难听懂    1.0"
      ]
     },
     "execution_count": 2,
     "metadata": {},
     "output_type": "execute_result"
    }
   ],
   "source": [
    "import pandas as pd\n",
    "import numpy as np\n",
    "\n",
    "df = pd.read_csv(f\"/kaggle/input/preprocessing-3/cleaned_comments/file_{i}.csv\")\n",
    "print(\"Số dòng dữ liệu:\", len(df))\n",
    "df.head(5)"
   ]
  },
  {
   "cell_type": "code",
   "execution_count": 3,
   "id": "80ff6f2e",
   "metadata": {
    "execution": {
     "iopub.execute_input": "2024-12-03T16:55:27.668012Z",
     "iopub.status.busy": "2024-12-03T16:55:27.667249Z",
     "iopub.status.idle": "2024-12-03T16:55:27.678875Z",
     "shell.execute_reply": "2024-12-03T16:55:27.677793Z"
    },
    "papermill": {
     "duration": 0.01902,
     "end_time": "2024-12-03T16:55:27.681125",
     "exception": false,
     "start_time": "2024-12-03T16:55:27.662105",
     "status": "completed"
    },
    "tags": []
   },
   "outputs": [
    {
     "data": {
      "text/plain": [
       "course_id        0\n",
       "text             0\n",
       "filtered_text    0\n",
       "count            0\n",
       "dtype: int64"
      ]
     },
     "execution_count": 3,
     "metadata": {},
     "output_type": "execute_result"
    }
   ],
   "source": [
    "df.isnull().sum()"
   ]
  },
  {
   "cell_type": "markdown",
   "id": "46dfe307",
   "metadata": {
    "papermill": {
     "duration": 0.003889,
     "end_time": "2024-12-03T16:55:27.689114",
     "exception": false,
     "start_time": "2024-12-03T16:55:27.685225",
     "status": "completed"
    },
    "tags": []
   },
   "source": [
    "## Dịch sang tiếng anh với thư viện GoogleTranslator"
   ]
  },
  {
   "cell_type": "code",
   "execution_count": 4,
   "id": "6df9333b",
   "metadata": {
    "execution": {
     "iopub.execute_input": "2024-12-03T16:55:27.699544Z",
     "iopub.status.busy": "2024-12-03T16:55:27.699124Z",
     "iopub.status.idle": "2024-12-03T16:55:40.418082Z",
     "shell.execute_reply": "2024-12-03T16:55:40.416732Z"
    },
    "papermill": {
     "duration": 12.727602,
     "end_time": "2024-12-03T16:55:40.421061",
     "exception": false,
     "start_time": "2024-12-03T16:55:27.693459",
     "status": "completed"
    },
    "tags": []
   },
   "outputs": [
    {
     "name": "stdout",
     "output_type": "stream",
     "text": [
      "Collecting deep-translator\r\n",
      "  Downloading deep_translator-1.11.4-py3-none-any.whl.metadata (30 kB)\r\n",
      "Requirement already satisfied: beautifulsoup4<5.0.0,>=4.9.1 in /opt/conda/lib/python3.10/site-packages (from deep-translator) (4.12.3)\r\n",
      "Requirement already satisfied: requests<3.0.0,>=2.23.0 in /opt/conda/lib/python3.10/site-packages (from deep-translator) (2.32.3)\r\n",
      "Requirement already satisfied: soupsieve>1.2 in /opt/conda/lib/python3.10/site-packages (from beautifulsoup4<5.0.0,>=4.9.1->deep-translator) (2.5)\r\n",
      "Requirement already satisfied: charset-normalizer<4,>=2 in /opt/conda/lib/python3.10/site-packages (from requests<3.0.0,>=2.23.0->deep-translator) (3.3.2)\r\n",
      "Requirement already satisfied: idna<4,>=2.5 in /opt/conda/lib/python3.10/site-packages (from requests<3.0.0,>=2.23.0->deep-translator) (3.7)\r\n",
      "Requirement already satisfied: urllib3<3,>=1.21.1 in /opt/conda/lib/python3.10/site-packages (from requests<3.0.0,>=2.23.0->deep-translator) (1.26.18)\r\n",
      "Requirement already satisfied: certifi>=2017.4.17 in /opt/conda/lib/python3.10/site-packages (from requests<3.0.0,>=2.23.0->deep-translator) (2024.8.30)\r\n",
      "Downloading deep_translator-1.11.4-py3-none-any.whl (42 kB)\r\n",
      "\u001b[2K   \u001b[90m━━━━━━━━━━━━━━━━━━━━━━━━━━━━━━━━━━━━━━━━\u001b[0m \u001b[32m42.3/42.3 kB\u001b[0m \u001b[31m2.3 MB/s\u001b[0m eta \u001b[36m0:00:00\u001b[0m\r\n",
      "\u001b[?25hInstalling collected packages: deep-translator\r\n",
      "Successfully installed deep-translator-1.11.4\r\n"
     ]
    }
   ],
   "source": [
    "!pip install deep-translator"
   ]
  },
  {
   "cell_type": "code",
   "execution_count": 5,
   "id": "c88d6be1",
   "metadata": {
    "execution": {
     "iopub.execute_input": "2024-12-03T16:55:40.432464Z",
     "iopub.status.busy": "2024-12-03T16:55:40.431630Z",
     "iopub.status.idle": "2024-12-03T16:55:50.704802Z",
     "shell.execute_reply": "2024-12-03T16:55:50.703404Z"
    },
    "papermill": {
     "duration": 10.281634,
     "end_time": "2024-12-03T16:55:50.707246",
     "exception": false,
     "start_time": "2024-12-03T16:55:40.425612",
     "status": "completed"
    },
    "tags": []
   },
   "outputs": [
    {
     "name": "stdout",
     "output_type": "stream",
     "text": [
      "Requirement already satisfied: tqdm in /opt/conda/lib/python3.10/site-packages (4.66.4)\r\n",
      "Note: you may need to restart the kernel to use updated packages.\n"
     ]
    }
   ],
   "source": [
    "pip install tqdm"
   ]
  },
  {
   "cell_type": "code",
   "execution_count": 6,
   "id": "0c6ac150",
   "metadata": {
    "execution": {
     "iopub.execute_input": "2024-12-03T16:55:50.719482Z",
     "iopub.status.busy": "2024-12-03T16:55:50.718568Z",
     "iopub.status.idle": "2024-12-03T21:04:03.758771Z",
     "shell.execute_reply": "2024-12-03T21:04:03.757488Z"
    },
    "papermill": {
     "duration": 14893.048378,
     "end_time": "2024-12-03T21:04:03.761029",
     "exception": false,
     "start_time": "2024-12-03T16:55:50.712651",
     "status": "completed"
    },
    "tags": []
   },
   "outputs": [
    {
     "name": "stderr",
     "output_type": "stream",
     "text": [
      "Tiến độ dịch: 100%|██████████| 9200/9200 [4:08:12<00:00,  1.62s/dòng]"
     ]
    },
    {
     "name": "stdout",
     "output_type": "stream",
     "text": [
      "Số dòng dữ liệu: 9200\n"
     ]
    },
    {
     "name": "stderr",
     "output_type": "stream",
     "text": [
      "\n"
     ]
    },
    {
     "data": {
      "text/html": [
       "<div>\n",
       "<style scoped>\n",
       "    .dataframe tbody tr th:only-of-type {\n",
       "        vertical-align: middle;\n",
       "    }\n",
       "\n",
       "    .dataframe tbody tr th {\n",
       "        vertical-align: top;\n",
       "    }\n",
       "\n",
       "    .dataframe thead th {\n",
       "        text-align: right;\n",
       "    }\n",
       "</style>\n",
       "<table border=\"1\" class=\"dataframe\">\n",
       "  <thead>\n",
       "    <tr style=\"text-align: right;\">\n",
       "      <th></th>\n",
       "      <th>course_id</th>\n",
       "      <th>text</th>\n",
       "      <th>filtered_text</th>\n",
       "      <th>count</th>\n",
       "      <th>text_vi</th>\n",
       "    </tr>\n",
       "  </thead>\n",
       "  <tbody>\n",
       "    <tr>\n",
       "      <th>0</th>\n",
       "      <td>C_697007</td>\n",
       "      <td>老师的口音i了i了</td>\n",
       "      <td>老师口音ii</td>\n",
       "      <td>1.0</td>\n",
       "      <td>Giọng của giáo viên đã được cải thiện</td>\n",
       "    </tr>\n",
       "    <tr>\n",
       "      <th>1</th>\n",
       "      <td>C_697007</td>\n",
       "      <td>老师的发音i了i了</td>\n",
       "      <td>老师发音ii</td>\n",
       "      <td>1.0</td>\n",
       "      <td>Cách phát âm của giáo viên về tôi đã thay đổi.</td>\n",
       "    </tr>\n",
       "    <tr>\n",
       "      <th>2</th>\n",
       "      <td>C_697007</td>\n",
       "      <td>语法结构好清楚啊</td>\n",
       "      <td>语法结构清楚</td>\n",
       "      <td>1.0</td>\n",
       "      <td>Cấu trúc ngữ pháp rất rõ ràng</td>\n",
       "    </tr>\n",
       "    <tr>\n",
       "      <th>3</th>\n",
       "      <td>C_697007</td>\n",
       "      <td>好棒啊</td>\n",
       "      <td>棒</td>\n",
       "      <td>1.0</td>\n",
       "      <td>tuyệt vời quá</td>\n",
       "    </tr>\n",
       "    <tr>\n",
       "      <th>4</th>\n",
       "      <td>C_697007</td>\n",
       "      <td>好难听懂</td>\n",
       "      <td>好难听懂</td>\n",
       "      <td>1.0</td>\n",
       "      <td>Khó hiểu quá</td>\n",
       "    </tr>\n",
       "  </tbody>\n",
       "</table>\n",
       "</div>"
      ],
      "text/plain": [
       "  course_id       text filtered_text  count  \\\n",
       "0  C_697007  老师的口音i了i了        老师口音ii    1.0   \n",
       "1  C_697007  老师的发音i了i了        老师发音ii    1.0   \n",
       "2  C_697007   语法结构好清楚啊        语法结构清楚    1.0   \n",
       "3  C_697007        好棒啊             棒    1.0   \n",
       "4  C_697007       好难听懂          好难听懂    1.0   \n",
       "\n",
       "                                          text_vi  \n",
       "0           Giọng của giáo viên đã được cải thiện  \n",
       "1  Cách phát âm của giáo viên về tôi đã thay đổi.  \n",
       "2                   Cấu trúc ngữ pháp rất rõ ràng  \n",
       "3                                   tuyệt vời quá  \n",
       "4                                    Khó hiểu quá  "
      ]
     },
     "execution_count": 6,
     "metadata": {},
     "output_type": "execute_result"
    }
   ],
   "source": [
    "from deep_translator import GoogleTranslator\n",
    "import pandas as pd\n",
    "from tqdm import tqdm  # Import tqdm để sử dụng thanh tiến độ\n",
    "\n",
    "# Khởi tạo đối tượng GoogleTranslator\n",
    "translator = GoogleTranslator(source='zh-CN', target='vi')\n",
    "\n",
    "# Tạo cột 'text_en' nếu chưa có\n",
    "if 'text_vi' not in df.columns:\n",
    "    df['text_vi'] = None\n",
    "\n",
    "df['text'] = df['text'].astype(str)\n",
    "# Sử dụng tqdm để tạo thanh tiến độ\n",
    "with tqdm(total=len(df), desc=\"Tiến độ dịch\", unit=\"dòng\") as pbar:\n",
    "    for idx, row in df.iterrows():\n",
    "        if pd.isna(row['text_vi']):  # Chỉ dịch nếu chưa có dữ liệu\n",
    "            try:\n",
    "                # Dịch từ tiếng Trung giản thể (zh-CN) sang tiếng Anh (en)\n",
    "                text_trans = translator.translate(str(row['text']))\n",
    "                df.loc[idx, 'text_vi'] = text_trans  # Sử dụng .loc để tránh SettingWithCopyWarning\n",
    "            except Exception as e:\n",
    "                print(f\"Error translating row {idx}: {e}\")\n",
    "        \n",
    "        # Cập nhật thanh tiến độ\n",
    "        pbar.update(1)\n",
    "\n",
    "# Hiển thị DataFrame để kiểm tra\n",
    "print(\"Số dòng dữ liệu:\", len(df))\n",
    "df.head(5)"
   ]
  },
  {
   "cell_type": "code",
   "execution_count": 7,
   "id": "ecebb711",
   "metadata": {
    "execution": {
     "iopub.execute_input": "2024-12-03T21:04:04.742123Z",
     "iopub.status.busy": "2024-12-03T21:04:04.741166Z",
     "iopub.status.idle": "2024-12-03T21:04:04.750737Z",
     "shell.execute_reply": "2024-12-03T21:04:04.749481Z"
    },
    "papermill": {
     "duration": 0.535057,
     "end_time": "2024-12-03T21:04:04.753010",
     "exception": false,
     "start_time": "2024-12-03T21:04:04.217953",
     "status": "completed"
    },
    "tags": []
   },
   "outputs": [],
   "source": [
    "df['text'] = df['text'].astype(str)\n",
    "df['text_vi'] = df['text_vi'].astype(str)"
   ]
  },
  {
   "cell_type": "markdown",
   "id": "4307dc04",
   "metadata": {
    "papermill": {
     "duration": 0.452345,
     "end_time": "2024-12-03T21:04:05.653432",
     "exception": false,
     "start_time": "2024-12-03T21:04:05.201087",
     "status": "completed"
    },
    "tags": []
   },
   "source": [
    "## Lưu file đã dịch"
   ]
  },
  {
   "cell_type": "code",
   "execution_count": 8,
   "id": "a65ae698",
   "metadata": {
    "execution": {
     "iopub.execute_input": "2024-12-03T21:04:06.647268Z",
     "iopub.status.busy": "2024-12-03T21:04:06.646848Z",
     "iopub.status.idle": "2024-12-03T21:04:06.742788Z",
     "shell.execute_reply": "2024-12-03T21:04:06.741637Z"
    },
    "papermill": {
     "duration": 0.559583,
     "end_time": "2024-12-03T21:04:06.745267",
     "exception": false,
     "start_time": "2024-12-03T21:04:06.185684",
     "status": "completed"
    },
    "tags": []
   },
   "outputs": [],
   "source": [
    "df.to_csv(f'/kaggle/working/translated_comments_{i}.csv', index=False)"
   ]
  },
  {
   "cell_type": "markdown",
   "id": "317b084e",
   "metadata": {
    "papermill": {
     "duration": 0.453719,
     "end_time": "2024-12-03T21:04:07.719970",
     "exception": false,
     "start_time": "2024-12-03T21:04:07.266251",
     "status": "completed"
    },
    "tags": []
   },
   "source": [
    "# File i+1"
   ]
  },
  {
   "cell_type": "code",
   "execution_count": 9,
   "id": "a9351fb3",
   "metadata": {
    "execution": {
     "iopub.execute_input": "2024-12-03T21:04:08.686508Z",
     "iopub.status.busy": "2024-12-03T21:04:08.686080Z",
     "iopub.status.idle": "2024-12-03T21:04:08.778928Z",
     "shell.execute_reply": "2024-12-03T21:04:08.777712Z"
    },
    "papermill": {
     "duration": 0.609594,
     "end_time": "2024-12-03T21:04:08.781398",
     "exception": false,
     "start_time": "2024-12-03T21:04:08.171804",
     "status": "completed"
    },
    "tags": []
   },
   "outputs": [
    {
     "name": "stdout",
     "output_type": "stream",
     "text": [
      "Số dòng dữ liệu: 8643\n"
     ]
    },
    {
     "data": {
      "text/html": [
       "<div>\n",
       "<style scoped>\n",
       "    .dataframe tbody tr th:only-of-type {\n",
       "        vertical-align: middle;\n",
       "    }\n",
       "\n",
       "    .dataframe tbody tr th {\n",
       "        vertical-align: top;\n",
       "    }\n",
       "\n",
       "    .dataframe thead th {\n",
       "        text-align: right;\n",
       "    }\n",
       "</style>\n",
       "<table border=\"1\" class=\"dataframe\">\n",
       "  <thead>\n",
       "    <tr style=\"text-align: right;\">\n",
       "      <th></th>\n",
       "      <th>course_id</th>\n",
       "      <th>text</th>\n",
       "      <th>filtered_text</th>\n",
       "      <th>count</th>\n",
       "    </tr>\n",
       "  </thead>\n",
       "  <tbody>\n",
       "    <tr>\n",
       "      <th>0</th>\n",
       "      <td>C_697184</td>\n",
       "      <td>我们应该如何编写程序解决这个问题呢</td>\n",
       "      <td>应该编写程序解决问题</td>\n",
       "      <td>1.0</td>\n",
       "    </tr>\n",
       "    <tr>\n",
       "      <th>1</th>\n",
       "      <td>C_697184</td>\n",
       "      <td>8字节一个汉字在计算机中用两个字节表示</td>\n",
       "      <td>8字节汉字计算机两个字节表示</td>\n",
       "      <td>1.0</td>\n",
       "    </tr>\n",
       "    <tr>\n",
       "      <th>2</th>\n",
       "      <td>C_697184</td>\n",
       "      <td>方便计算机做减法减去一个数即为加上该数的补码</td>\n",
       "      <td>方便计算机减法减去数即加上该数补码</td>\n",
       "      <td>1.0</td>\n",
       "    </tr>\n",
       "    <tr>\n",
       "      <th>3</th>\n",
       "      <td>C_697184</td>\n",
       "      <td>加减运算方便一些吧</td>\n",
       "      <td>加减运算方便</td>\n",
       "      <td>1.0</td>\n",
       "    </tr>\n",
       "    <tr>\n",
       "      <th>4</th>\n",
       "      <td>C_697184</td>\n",
       "      <td>第一个应该是</td>\n",
       "      <td>第一个应该</td>\n",
       "      <td>1.0</td>\n",
       "    </tr>\n",
       "  </tbody>\n",
       "</table>\n",
       "</div>"
      ],
      "text/plain": [
       "  course_id                    text      filtered_text  count\n",
       "0  C_697184       我们应该如何编写程序解决这个问题呢         应该编写程序解决问题    1.0\n",
       "1  C_697184     8字节一个汉字在计算机中用两个字节表示     8字节汉字计算机两个字节表示    1.0\n",
       "2  C_697184  方便计算机做减法减去一个数即为加上该数的补码  方便计算机减法减去数即加上该数补码    1.0\n",
       "3  C_697184               加减运算方便一些吧             加减运算方便    1.0\n",
       "4  C_697184                  第一个应该是              第一个应该    1.0"
      ]
     },
     "execution_count": 9,
     "metadata": {},
     "output_type": "execute_result"
    }
   ],
   "source": [
    "import pandas as pd\n",
    "import numpy as np\n",
    "\n",
    "df = pd.read_csv(f\"/kaggle/input/preprocessing-3/cleaned_comments/file_{i+1}.csv\")\n",
    "print(\"Số dòng dữ liệu:\", len(df))\n",
    "df.head(5)"
   ]
  },
  {
   "cell_type": "code",
   "execution_count": 10,
   "id": "b753a0a4",
   "metadata": {
    "execution": {
     "iopub.execute_input": "2024-12-03T21:04:09.702056Z",
     "iopub.status.busy": "2024-12-03T21:04:09.701634Z",
     "iopub.status.idle": "2024-12-04T00:50:25.879933Z",
     "shell.execute_reply": "2024-12-04T00:50:25.878834Z"
    },
    "papermill": {
     "duration": 13576.633364,
     "end_time": "2024-12-04T00:50:25.882108",
     "exception": false,
     "start_time": "2024-12-03T21:04:09.248744",
     "status": "completed"
    },
    "tags": []
   },
   "outputs": [
    {
     "name": "stderr",
     "output_type": "stream",
     "text": [
      "Tiến độ dịch: 100%|██████████| 8643/8643 [3:46:16<00:00,  1.57s/dòng]"
     ]
    },
    {
     "name": "stdout",
     "output_type": "stream",
     "text": [
      "Số dòng dữ liệu: 8643\n"
     ]
    },
    {
     "name": "stderr",
     "output_type": "stream",
     "text": [
      "\n"
     ]
    },
    {
     "data": {
      "text/html": [
       "<div>\n",
       "<style scoped>\n",
       "    .dataframe tbody tr th:only-of-type {\n",
       "        vertical-align: middle;\n",
       "    }\n",
       "\n",
       "    .dataframe tbody tr th {\n",
       "        vertical-align: top;\n",
       "    }\n",
       "\n",
       "    .dataframe thead th {\n",
       "        text-align: right;\n",
       "    }\n",
       "</style>\n",
       "<table border=\"1\" class=\"dataframe\">\n",
       "  <thead>\n",
       "    <tr style=\"text-align: right;\">\n",
       "      <th></th>\n",
       "      <th>course_id</th>\n",
       "      <th>text</th>\n",
       "      <th>filtered_text</th>\n",
       "      <th>count</th>\n",
       "      <th>text_vi</th>\n",
       "    </tr>\n",
       "  </thead>\n",
       "  <tbody>\n",
       "    <tr>\n",
       "      <th>0</th>\n",
       "      <td>C_697184</td>\n",
       "      <td>我们应该如何编写程序解决这个问题呢</td>\n",
       "      <td>应该编写程序解决问题</td>\n",
       "      <td>1.0</td>\n",
       "      <td>Chúng ta nên viết chương trình để giải quyết v...</td>\n",
       "    </tr>\n",
       "    <tr>\n",
       "      <th>1</th>\n",
       "      <td>C_697184</td>\n",
       "      <td>8字节一个汉字在计算机中用两个字节表示</td>\n",
       "      <td>8字节汉字计算机两个字节表示</td>\n",
       "      <td>1.0</td>\n",
       "      <td>Một ký tự tiếng Trung 8 byte được biểu thị bằn...</td>\n",
       "    </tr>\n",
       "    <tr>\n",
       "      <th>2</th>\n",
       "      <td>C_697184</td>\n",
       "      <td>方便计算机做减法减去一个数即为加上该数的补码</td>\n",
       "      <td>方便计算机减法减去数即加上该数补码</td>\n",
       "      <td>1.0</td>\n",
       "      <td>Thật thuận tiện cho máy tính khi thực hiện phé...</td>\n",
       "    </tr>\n",
       "    <tr>\n",
       "      <th>3</th>\n",
       "      <td>C_697184</td>\n",
       "      <td>加减运算方便一些吧</td>\n",
       "      <td>加减运算方便</td>\n",
       "      <td>1.0</td>\n",
       "      <td>Việc thực hiện các phép tính cộng và trừ có dễ...</td>\n",
       "    </tr>\n",
       "    <tr>\n",
       "      <th>4</th>\n",
       "      <td>C_697184</td>\n",
       "      <td>第一个应该是</td>\n",
       "      <td>第一个应该</td>\n",
       "      <td>1.0</td>\n",
       "      <td>Cái đầu tiên nên là</td>\n",
       "    </tr>\n",
       "  </tbody>\n",
       "</table>\n",
       "</div>"
      ],
      "text/plain": [
       "  course_id                    text      filtered_text  count  \\\n",
       "0  C_697184       我们应该如何编写程序解决这个问题呢         应该编写程序解决问题    1.0   \n",
       "1  C_697184     8字节一个汉字在计算机中用两个字节表示     8字节汉字计算机两个字节表示    1.0   \n",
       "2  C_697184  方便计算机做减法减去一个数即为加上该数的补码  方便计算机减法减去数即加上该数补码    1.0   \n",
       "3  C_697184               加减运算方便一些吧             加减运算方便    1.0   \n",
       "4  C_697184                  第一个应该是              第一个应该    1.0   \n",
       "\n",
       "                                             text_vi  \n",
       "0  Chúng ta nên viết chương trình để giải quyết v...  \n",
       "1  Một ký tự tiếng Trung 8 byte được biểu thị bằn...  \n",
       "2  Thật thuận tiện cho máy tính khi thực hiện phé...  \n",
       "3  Việc thực hiện các phép tính cộng và trừ có dễ...  \n",
       "4                                Cái đầu tiên nên là  "
      ]
     },
     "execution_count": 10,
     "metadata": {},
     "output_type": "execute_result"
    }
   ],
   "source": [
    "from deep_translator import GoogleTranslator\n",
    "import pandas as pd\n",
    "from tqdm import tqdm  # Import tqdm để sử dụng thanh tiến độ\n",
    "\n",
    "# Khởi tạo đối tượng GoogleTranslator\n",
    "translator = GoogleTranslator(source='zh-CN', target='vi')\n",
    "\n",
    "# Tạo cột 'text_en' nếu chưa có\n",
    "if 'text_vi' not in df.columns:\n",
    "    df['text_vi'] = None\n",
    "\n",
    "df['text'] = df['text'].astype(str)\n",
    "# Sử dụng tqdm để tạo thanh tiến độ\n",
    "with tqdm(total=len(df), desc=\"Tiến độ dịch\", unit=\"dòng\") as pbar:\n",
    "    for idx, row in df.iterrows():\n",
    "        if pd.isna(row['text_vi']):  # Chỉ dịch nếu chưa có dữ liệu\n",
    "            try:\n",
    "                # Dịch từ tiếng Trung giản thể (zh-CN) sang tiếng Anh (en)\n",
    "                text_trans = translator.translate(str(row['text']))\n",
    "                df.loc[idx, 'text_vi'] = text_trans  # Sử dụng .loc để tránh SettingWithCopyWarning\n",
    "            except Exception as e:\n",
    "                print(f\"Error translating row {idx}: {e}\")\n",
    "        \n",
    "        # Cập nhật thanh tiến độ\n",
    "        pbar.update(1)\n",
    "\n",
    "# Hiển thị DataFrame để kiểm tra\n",
    "print(\"Số dòng dữ liệu:\", len(df))\n",
    "df.head(5)"
   ]
  },
  {
   "cell_type": "code",
   "execution_count": 11,
   "id": "78d152da",
   "metadata": {
    "execution": {
     "iopub.execute_input": "2024-12-04T00:50:27.777809Z",
     "iopub.status.busy": "2024-12-04T00:50:27.776538Z",
     "iopub.status.idle": "2024-12-04T00:50:27.784642Z",
     "shell.execute_reply": "2024-12-04T00:50:27.783539Z"
    },
    "papermill": {
     "duration": 0.951328,
     "end_time": "2024-12-04T00:50:27.787252",
     "exception": false,
     "start_time": "2024-12-04T00:50:26.835924",
     "status": "completed"
    },
    "tags": []
   },
   "outputs": [],
   "source": [
    "df['text'] = df['text'].astype(str)\n",
    "df['text_vi'] = df['text_vi'].astype(str)"
   ]
  },
  {
   "cell_type": "code",
   "execution_count": 12,
   "id": "91e34409",
   "metadata": {
    "execution": {
     "iopub.execute_input": "2024-12-04T00:50:29.613241Z",
     "iopub.status.busy": "2024-12-04T00:50:29.612845Z",
     "iopub.status.idle": "2024-12-04T00:50:29.689577Z",
     "shell.execute_reply": "2024-12-04T00:50:29.688401Z"
    },
    "papermill": {
     "duration": 0.958155,
     "end_time": "2024-12-04T00:50:29.691993",
     "exception": false,
     "start_time": "2024-12-04T00:50:28.733838",
     "status": "completed"
    },
    "tags": []
   },
   "outputs": [],
   "source": [
    "df.to_csv(f'/kaggle/working/translated_comments_{i+1}.csv', index=False)"
   ]
  }
 ],
 "metadata": {
  "kaggle": {
   "accelerator": "none",
   "dataSources": [
    {
     "sourceId": 209897750,
     "sourceType": "kernelVersion"
    }
   ],
   "dockerImageVersionId": 30786,
   "isGpuEnabled": false,
   "isInternetEnabled": true,
   "language": "python",
   "sourceType": "notebook"
  },
  "kernelspec": {
   "display_name": "Python 3",
   "language": "python",
   "name": "python3"
  },
  "language_info": {
   "codemirror_mode": {
    "name": "ipython",
    "version": 3
   },
   "file_extension": ".py",
   "mimetype": "text/x-python",
   "name": "python",
   "nbconvert_exporter": "python",
   "pygments_lexer": "ipython3",
   "version": "3.10.14"
  },
  "papermill": {
   "default_parameters": {},
   "duration": 28507.6175,
   "end_time": "2024-12-04T00:50:31.276038",
   "environment_variables": {},
   "exception": null,
   "input_path": "__notebook__.ipynb",
   "output_path": "__notebook__.ipynb",
   "parameters": {},
   "start_time": "2024-12-03T16:55:23.658538",
   "version": "2.6.0"
  }
 },
 "nbformat": 4,
 "nbformat_minor": 5
}
