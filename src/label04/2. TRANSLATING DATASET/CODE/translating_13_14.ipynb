{
 "cells": [
  {
   "cell_type": "code",
   "execution_count": 1,
   "id": "86091b36",
   "metadata": {
    "execution": {
     "iopub.execute_input": "2024-12-03T16:55:44.646013Z",
     "iopub.status.busy": "2024-12-03T16:55:44.645505Z",
     "iopub.status.idle": "2024-12-03T16:55:44.655019Z",
     "shell.execute_reply": "2024-12-03T16:55:44.653999Z"
    },
    "papermill": {
     "duration": 0.017713,
     "end_time": "2024-12-03T16:55:44.657078",
     "exception": false,
     "start_time": "2024-12-03T16:55:44.639365",
     "status": "completed"
    },
    "tags": []
   },
   "outputs": [],
   "source": [
    "i = 13"
   ]
  },
  {
   "cell_type": "markdown",
   "id": "9c5963a6",
   "metadata": {
    "papermill": {
     "duration": 0.003306,
     "end_time": "2024-12-03T16:55:44.664233",
     "exception": false,
     "start_time": "2024-12-03T16:55:44.660927",
     "status": "completed"
    },
    "tags": []
   },
   "source": [
    "# Translating data"
   ]
  },
  {
   "cell_type": "markdown",
   "id": "2a427ea4",
   "metadata": {
    "papermill": {
     "duration": 0.003119,
     "end_time": "2024-12-03T16:55:44.670936",
     "exception": false,
     "start_time": "2024-12-03T16:55:44.667817",
     "status": "completed"
    },
    "tags": []
   },
   "source": [
    "## Đọc dữ liệu"
   ]
  },
  {
   "cell_type": "code",
   "execution_count": 2,
   "id": "7eae431b",
   "metadata": {
    "_cell_guid": "b1076dfc-b9ad-4769-8c92-a6c4dae69d19",
    "_uuid": "8f2839f25d086af736a60e9eeb907d3b93b6e0e5",
    "execution": {
     "iopub.execute_input": "2024-12-03T16:55:44.680048Z",
     "iopub.status.busy": "2024-12-03T16:55:44.679101Z",
     "iopub.status.idle": "2024-12-03T16:55:45.698867Z",
     "shell.execute_reply": "2024-12-03T16:55:45.697559Z"
    },
    "papermill": {
     "duration": 1.026796,
     "end_time": "2024-12-03T16:55:45.701135",
     "exception": false,
     "start_time": "2024-12-03T16:55:44.674339",
     "status": "completed"
    },
    "tags": []
   },
   "outputs": [
    {
     "name": "stdout",
     "output_type": "stream",
     "text": [
      "Số dòng dữ liệu: 7941\n"
     ]
    },
    {
     "data": {
      "text/html": [
       "<div>\n",
       "<style scoped>\n",
       "    .dataframe tbody tr th:only-of-type {\n",
       "        vertical-align: middle;\n",
       "    }\n",
       "\n",
       "    .dataframe tbody tr th {\n",
       "        vertical-align: top;\n",
       "    }\n",
       "\n",
       "    .dataframe thead th {\n",
       "        text-align: right;\n",
       "    }\n",
       "</style>\n",
       "<table border=\"1\" class=\"dataframe\">\n",
       "  <thead>\n",
       "    <tr style=\"text-align: right;\">\n",
       "      <th></th>\n",
       "      <th>course_id</th>\n",
       "      <th>text</th>\n",
       "      <th>filtered_text</th>\n",
       "      <th>count</th>\n",
       "    </tr>\n",
       "  </thead>\n",
       "  <tbody>\n",
       "    <tr>\n",
       "      <th>0</th>\n",
       "      <td>C_707073</td>\n",
       "      <td>初次收入与二次分配</td>\n",
       "      <td>初次收入二次分配</td>\n",
       "      <td>1.0</td>\n",
       "    </tr>\n",
       "    <tr>\n",
       "      <th>1</th>\n",
       "      <td>C_707073</td>\n",
       "      <td>讲的很棒</td>\n",
       "      <td>讲很棒</td>\n",
       "      <td>1.0</td>\n",
       "    </tr>\n",
       "    <tr>\n",
       "      <th>2</th>\n",
       "      <td>C_707073</td>\n",
       "      <td>签到</td>\n",
       "      <td>签到</td>\n",
       "      <td>1.0</td>\n",
       "    </tr>\n",
       "    <tr>\n",
       "      <th>3</th>\n",
       "      <td>C_707073</td>\n",
       "      <td>顺差不一定好</td>\n",
       "      <td>顺差一定</td>\n",
       "      <td>1.0</td>\n",
       "    </tr>\n",
       "    <tr>\n",
       "      <th>4</th>\n",
       "      <td>C_707073</td>\n",
       "      <td>一直打不开</td>\n",
       "      <td>一直打不开</td>\n",
       "      <td>1.0</td>\n",
       "    </tr>\n",
       "  </tbody>\n",
       "</table>\n",
       "</div>"
      ],
      "text/plain": [
       "  course_id       text filtered_text  count\n",
       "0  C_707073  初次收入与二次分配      初次收入二次分配    1.0\n",
       "1  C_707073       讲的很棒           讲很棒    1.0\n",
       "2  C_707073         签到            签到    1.0\n",
       "3  C_707073     顺差不一定好          顺差一定    1.0\n",
       "4  C_707073      一直打不开         一直打不开    1.0"
      ]
     },
     "execution_count": 2,
     "metadata": {},
     "output_type": "execute_result"
    }
   ],
   "source": [
    "import pandas as pd\n",
    "import numpy as np\n",
    "\n",
    "df = pd.read_csv(f\"/kaggle/input/preprocessing-3/cleaned_comments/file_{i}.csv\")\n",
    "print(\"Số dòng dữ liệu:\", len(df))\n",
    "df.head(5)"
   ]
  },
  {
   "cell_type": "code",
   "execution_count": 3,
   "id": "71ee7c57",
   "metadata": {
    "execution": {
     "iopub.execute_input": "2024-12-03T16:55:45.710528Z",
     "iopub.status.busy": "2024-12-03T16:55:45.710080Z",
     "iopub.status.idle": "2024-12-03T16:55:45.721284Z",
     "shell.execute_reply": "2024-12-03T16:55:45.720251Z"
    },
    "papermill": {
     "duration": 0.018586,
     "end_time": "2024-12-03T16:55:45.723620",
     "exception": false,
     "start_time": "2024-12-03T16:55:45.705034",
     "status": "completed"
    },
    "tags": []
   },
   "outputs": [
    {
     "data": {
      "text/plain": [
       "course_id        0\n",
       "text             0\n",
       "filtered_text    0\n",
       "count            0\n",
       "dtype: int64"
      ]
     },
     "execution_count": 3,
     "metadata": {},
     "output_type": "execute_result"
    }
   ],
   "source": [
    "df.isnull().sum()"
   ]
  },
  {
   "cell_type": "markdown",
   "id": "4ed37433",
   "metadata": {
    "papermill": {
     "duration": 0.003747,
     "end_time": "2024-12-03T16:55:45.731937",
     "exception": false,
     "start_time": "2024-12-03T16:55:45.728190",
     "status": "completed"
    },
    "tags": []
   },
   "source": [
    "## Dịch sang tiếng anh với thư viện GoogleTranslator"
   ]
  },
  {
   "cell_type": "code",
   "execution_count": 4,
   "id": "33c51d22",
   "metadata": {
    "execution": {
     "iopub.execute_input": "2024-12-03T16:55:45.741731Z",
     "iopub.status.busy": "2024-12-03T16:55:45.741282Z",
     "iopub.status.idle": "2024-12-03T16:55:57.859013Z",
     "shell.execute_reply": "2024-12-03T16:55:57.857590Z"
    },
    "papermill": {
     "duration": 12.125618,
     "end_time": "2024-12-03T16:55:57.861565",
     "exception": false,
     "start_time": "2024-12-03T16:55:45.735947",
     "status": "completed"
    },
    "tags": []
   },
   "outputs": [
    {
     "name": "stdout",
     "output_type": "stream",
     "text": [
      "Collecting deep-translator\r\n",
      "  Downloading deep_translator-1.11.4-py3-none-any.whl.metadata (30 kB)\r\n",
      "Requirement already satisfied: beautifulsoup4<5.0.0,>=4.9.1 in /opt/conda/lib/python3.10/site-packages (from deep-translator) (4.12.3)\r\n",
      "Requirement already satisfied: requests<3.0.0,>=2.23.0 in /opt/conda/lib/python3.10/site-packages (from deep-translator) (2.32.3)\r\n",
      "Requirement already satisfied: soupsieve>1.2 in /opt/conda/lib/python3.10/site-packages (from beautifulsoup4<5.0.0,>=4.9.1->deep-translator) (2.5)\r\n",
      "Requirement already satisfied: charset-normalizer<4,>=2 in /opt/conda/lib/python3.10/site-packages (from requests<3.0.0,>=2.23.0->deep-translator) (3.3.2)\r\n",
      "Requirement already satisfied: idna<4,>=2.5 in /opt/conda/lib/python3.10/site-packages (from requests<3.0.0,>=2.23.0->deep-translator) (3.7)\r\n",
      "Requirement already satisfied: urllib3<3,>=1.21.1 in /opt/conda/lib/python3.10/site-packages (from requests<3.0.0,>=2.23.0->deep-translator) (1.26.18)\r\n",
      "Requirement already satisfied: certifi>=2017.4.17 in /opt/conda/lib/python3.10/site-packages (from requests<3.0.0,>=2.23.0->deep-translator) (2024.8.30)\r\n",
      "Downloading deep_translator-1.11.4-py3-none-any.whl (42 kB)\r\n",
      "\u001b[2K   \u001b[90m━━━━━━━━━━━━━━━━━━━━━━━━━━━━━━━━━━━━━━━━\u001b[0m \u001b[32m42.3/42.3 kB\u001b[0m \u001b[31m1.9 MB/s\u001b[0m eta \u001b[36m0:00:00\u001b[0m\r\n",
      "\u001b[?25hInstalling collected packages: deep-translator\r\n",
      "Successfully installed deep-translator-1.11.4\r\n"
     ]
    }
   ],
   "source": [
    "!pip install deep-translator"
   ]
  },
  {
   "cell_type": "code",
   "execution_count": 5,
   "id": "785ca4bb",
   "metadata": {
    "execution": {
     "iopub.execute_input": "2024-12-03T16:55:57.872300Z",
     "iopub.status.busy": "2024-12-03T16:55:57.871850Z",
     "iopub.status.idle": "2024-12-03T16:56:07.721511Z",
     "shell.execute_reply": "2024-12-03T16:56:07.719989Z"
    },
    "papermill": {
     "duration": 9.858076,
     "end_time": "2024-12-03T16:56:07.724086",
     "exception": false,
     "start_time": "2024-12-03T16:55:57.866010",
     "status": "completed"
    },
    "tags": []
   },
   "outputs": [
    {
     "name": "stdout",
     "output_type": "stream",
     "text": [
      "Requirement already satisfied: tqdm in /opt/conda/lib/python3.10/site-packages (4.66.4)\r\n",
      "Note: you may need to restart the kernel to use updated packages.\n"
     ]
    }
   ],
   "source": [
    "pip install tqdm"
   ]
  },
  {
   "cell_type": "code",
   "execution_count": 6,
   "id": "8a32ab9c",
   "metadata": {
    "execution": {
     "iopub.execute_input": "2024-12-03T16:56:07.736135Z",
     "iopub.status.busy": "2024-12-03T16:56:07.735698Z",
     "iopub.status.idle": "2024-12-03T20:09:59.084956Z",
     "shell.execute_reply": "2024-12-03T20:09:59.083308Z"
    },
    "papermill": {
     "duration": 11631.358053,
     "end_time": "2024-12-03T20:09:59.087667",
     "exception": false,
     "start_time": "2024-12-03T16:56:07.729614",
     "status": "completed"
    },
    "tags": []
   },
   "outputs": [
    {
     "name": "stderr",
     "output_type": "stream",
     "text": [
      "Tiến độ dịch: 100%|██████████| 7941/7941 [3:13:51<00:00,  1.46s/dòng]"
     ]
    },
    {
     "name": "stdout",
     "output_type": "stream",
     "text": [
      "Số dòng dữ liệu: 7941\n"
     ]
    },
    {
     "name": "stderr",
     "output_type": "stream",
     "text": [
      "\n"
     ]
    },
    {
     "data": {
      "text/html": [
       "<div>\n",
       "<style scoped>\n",
       "    .dataframe tbody tr th:only-of-type {\n",
       "        vertical-align: middle;\n",
       "    }\n",
       "\n",
       "    .dataframe tbody tr th {\n",
       "        vertical-align: top;\n",
       "    }\n",
       "\n",
       "    .dataframe thead th {\n",
       "        text-align: right;\n",
       "    }\n",
       "</style>\n",
       "<table border=\"1\" class=\"dataframe\">\n",
       "  <thead>\n",
       "    <tr style=\"text-align: right;\">\n",
       "      <th></th>\n",
       "      <th>course_id</th>\n",
       "      <th>text</th>\n",
       "      <th>filtered_text</th>\n",
       "      <th>count</th>\n",
       "      <th>text_vi</th>\n",
       "    </tr>\n",
       "  </thead>\n",
       "  <tbody>\n",
       "    <tr>\n",
       "      <th>0</th>\n",
       "      <td>C_707073</td>\n",
       "      <td>初次收入与二次分配</td>\n",
       "      <td>初次收入二次分配</td>\n",
       "      <td>1.0</td>\n",
       "      <td>Thu nhập sơ cấp và phân phối thứ cấp</td>\n",
       "    </tr>\n",
       "    <tr>\n",
       "      <th>1</th>\n",
       "      <td>C_707073</td>\n",
       "      <td>讲的很棒</td>\n",
       "      <td>讲很棒</td>\n",
       "      <td>1.0</td>\n",
       "      <td>Nói chuyện tuyệt vời</td>\n",
       "    </tr>\n",
       "    <tr>\n",
       "      <th>2</th>\n",
       "      <td>C_707073</td>\n",
       "      <td>签到</td>\n",
       "      <td>签到</td>\n",
       "      <td>1.0</td>\n",
       "      <td>Đăng nhập</td>\n",
       "    </tr>\n",
       "    <tr>\n",
       "      <th>3</th>\n",
       "      <td>C_707073</td>\n",
       "      <td>顺差不一定好</td>\n",
       "      <td>顺差一定</td>\n",
       "      <td>1.0</td>\n",
       "      <td>Thặng dư chưa chắc đã tốt</td>\n",
       "    </tr>\n",
       "    <tr>\n",
       "      <th>4</th>\n",
       "      <td>C_707073</td>\n",
       "      <td>一直打不开</td>\n",
       "      <td>一直打不开</td>\n",
       "      <td>1.0</td>\n",
       "      <td>Không mở được luôn</td>\n",
       "    </tr>\n",
       "  </tbody>\n",
       "</table>\n",
       "</div>"
      ],
      "text/plain": [
       "  course_id       text filtered_text  count  \\\n",
       "0  C_707073  初次收入与二次分配      初次收入二次分配    1.0   \n",
       "1  C_707073       讲的很棒           讲很棒    1.0   \n",
       "2  C_707073         签到            签到    1.0   \n",
       "3  C_707073     顺差不一定好          顺差一定    1.0   \n",
       "4  C_707073      一直打不开         一直打不开    1.0   \n",
       "\n",
       "                                text_vi  \n",
       "0  Thu nhập sơ cấp và phân phối thứ cấp  \n",
       "1                  Nói chuyện tuyệt vời  \n",
       "2                             Đăng nhập  \n",
       "3             Thặng dư chưa chắc đã tốt  \n",
       "4                    Không mở được luôn  "
      ]
     },
     "execution_count": 6,
     "metadata": {},
     "output_type": "execute_result"
    }
   ],
   "source": [
    "from deep_translator import GoogleTranslator\n",
    "import pandas as pd\n",
    "from tqdm import tqdm  # Import tqdm để sử dụng thanh tiến độ\n",
    "\n",
    "# Khởi tạo đối tượng GoogleTranslator\n",
    "translator = GoogleTranslator(source='zh-CN', target='vi')\n",
    "\n",
    "# Tạo cột 'text_en' nếu chưa có\n",
    "if 'text_vi' not in df.columns:\n",
    "    df['text_vi'] = None\n",
    "\n",
    "df['text'] = df['text'].astype(str)\n",
    "# Sử dụng tqdm để tạo thanh tiến độ\n",
    "with tqdm(total=len(df), desc=\"Tiến độ dịch\", unit=\"dòng\") as pbar:\n",
    "    for idx, row in df.iterrows():\n",
    "        if pd.isna(row['text_vi']):  # Chỉ dịch nếu chưa có dữ liệu\n",
    "            try:\n",
    "                # Dịch từ tiếng Trung giản thể (zh-CN) sang tiếng Anh (en)\n",
    "                text_trans = translator.translate(str(row['text']))\n",
    "                df.loc[idx, 'text_vi'] = text_trans  # Sử dụng .loc để tránh SettingWithCopyWarning\n",
    "            except Exception as e:\n",
    "                print(f\"Error translating row {idx}: {e}\")\n",
    "        \n",
    "        # Cập nhật thanh tiến độ\n",
    "        pbar.update(1)\n",
    "\n",
    "# Hiển thị DataFrame để kiểm tra\n",
    "print(\"Số dòng dữ liệu:\", len(df))\n",
    "df.head(5)"
   ]
  },
  {
   "cell_type": "code",
   "execution_count": 7,
   "id": "946daf45",
   "metadata": {
    "execution": {
     "iopub.execute_input": "2024-12-03T20:09:59.938203Z",
     "iopub.status.busy": "2024-12-03T20:09:59.937578Z",
     "iopub.status.idle": "2024-12-03T20:09:59.946235Z",
     "shell.execute_reply": "2024-12-03T20:09:59.944880Z"
    },
    "papermill": {
     "duration": 0.411646,
     "end_time": "2024-12-03T20:09:59.948553",
     "exception": false,
     "start_time": "2024-12-03T20:09:59.536907",
     "status": "completed"
    },
    "tags": []
   },
   "outputs": [],
   "source": [
    "df['text'] = df['text'].astype(str)\n",
    "df['text_vi'] = df['text_vi'].astype(str)"
   ]
  },
  {
   "cell_type": "markdown",
   "id": "683af821",
   "metadata": {
    "papermill": {
     "duration": 0.410482,
     "end_time": "2024-12-03T20:10:00.857079",
     "exception": false,
     "start_time": "2024-12-03T20:10:00.446597",
     "status": "completed"
    },
    "tags": []
   },
   "source": [
    "## Lưu file đã dịch"
   ]
  },
  {
   "cell_type": "code",
   "execution_count": 8,
   "id": "3ab125db",
   "metadata": {
    "execution": {
     "iopub.execute_input": "2024-12-03T20:10:01.740873Z",
     "iopub.status.busy": "2024-12-03T20:10:01.740468Z",
     "iopub.status.idle": "2024-12-03T20:10:01.825071Z",
     "shell.execute_reply": "2024-12-03T20:10:01.824041Z"
    },
    "papermill": {
     "duration": 0.556928,
     "end_time": "2024-12-03T20:10:01.827585",
     "exception": false,
     "start_time": "2024-12-03T20:10:01.270657",
     "status": "completed"
    },
    "tags": []
   },
   "outputs": [],
   "source": [
    "df.to_csv(f'/kaggle/working/translated_comments_{i}.csv', index=False)"
   ]
  },
  {
   "cell_type": "markdown",
   "id": "56cc9988",
   "metadata": {
    "papermill": {
     "duration": 0.398269,
     "end_time": "2024-12-03T20:10:02.632060",
     "exception": false,
     "start_time": "2024-12-03T20:10:02.233791",
     "status": "completed"
    },
    "tags": []
   },
   "source": [
    "# File i+1"
   ]
  },
  {
   "cell_type": "code",
   "execution_count": 9,
   "id": "890805a1",
   "metadata": {
    "execution": {
     "iopub.execute_input": "2024-12-03T20:10:03.500770Z",
     "iopub.status.busy": "2024-12-03T20:10:03.500318Z",
     "iopub.status.idle": "2024-12-03T20:10:03.589671Z",
     "shell.execute_reply": "2024-12-03T20:10:03.588466Z"
    },
    "papermill": {
     "duration": 0.560137,
     "end_time": "2024-12-03T20:10:03.592081",
     "exception": false,
     "start_time": "2024-12-03T20:10:03.031944",
     "status": "completed"
    },
    "tags": []
   },
   "outputs": [
    {
     "name": "stdout",
     "output_type": "stream",
     "text": [
      "Số dòng dữ liệu: 7880\n"
     ]
    },
    {
     "data": {
      "text/html": [
       "<div>\n",
       "<style scoped>\n",
       "    .dataframe tbody tr th:only-of-type {\n",
       "        vertical-align: middle;\n",
       "    }\n",
       "\n",
       "    .dataframe tbody tr th {\n",
       "        vertical-align: top;\n",
       "    }\n",
       "\n",
       "    .dataframe thead th {\n",
       "        text-align: right;\n",
       "    }\n",
       "</style>\n",
       "<table border=\"1\" class=\"dataframe\">\n",
       "  <thead>\n",
       "    <tr style=\"text-align: right;\">\n",
       "      <th></th>\n",
       "      <th>course_id</th>\n",
       "      <th>text</th>\n",
       "      <th>filtered_text</th>\n",
       "      <th>count</th>\n",
       "    </tr>\n",
       "  </thead>\n",
       "  <tbody>\n",
       "    <tr>\n",
       "      <th>0</th>\n",
       "      <td>C_735283</td>\n",
       "      <td>老师讲解内容很实用非常感谢</td>\n",
       "      <td>老师讲解内容实用非常感谢</td>\n",
       "      <td>1.0</td>\n",
       "    </tr>\n",
       "    <tr>\n",
       "      <th>1</th>\n",
       "      <td>C_735283</td>\n",
       "      <td>播放不了</td>\n",
       "      <td>播放不了</td>\n",
       "      <td>1.0</td>\n",
       "    </tr>\n",
       "    <tr>\n",
       "      <th>2</th>\n",
       "      <td>C_735283</td>\n",
       "      <td>同问</td>\n",
       "      <td>同问</td>\n",
       "      <td>1.0</td>\n",
       "    </tr>\n",
       "    <tr>\n",
       "      <th>3</th>\n",
       "      <td>C_735283</td>\n",
       "      <td>打卡</td>\n",
       "      <td>打卡</td>\n",
       "      <td>176.0</td>\n",
       "    </tr>\n",
       "    <tr>\n",
       "      <th>4</th>\n",
       "      <td>C_735283</td>\n",
       "      <td>老师好棒</td>\n",
       "      <td>老师好棒</td>\n",
       "      <td>1.0</td>\n",
       "    </tr>\n",
       "  </tbody>\n",
       "</table>\n",
       "</div>"
      ],
      "text/plain": [
       "  course_id           text filtered_text  count\n",
       "0  C_735283  老师讲解内容很实用非常感谢  老师讲解内容实用非常感谢    1.0\n",
       "1  C_735283           播放不了          播放不了    1.0\n",
       "2  C_735283             同问            同问    1.0\n",
       "3  C_735283             打卡            打卡  176.0\n",
       "4  C_735283           老师好棒          老师好棒    1.0"
      ]
     },
     "execution_count": 9,
     "metadata": {},
     "output_type": "execute_result"
    }
   ],
   "source": [
    "import pandas as pd\n",
    "import numpy as np\n",
    "\n",
    "df = pd.read_csv(f\"/kaggle/input/preprocessing-3/cleaned_comments/file_{i+1}.csv\")\n",
    "print(\"Số dòng dữ liệu:\", len(df))\n",
    "df.head(5)"
   ]
  },
  {
   "cell_type": "code",
   "execution_count": 10,
   "id": "41a97ee4",
   "metadata": {
    "execution": {
     "iopub.execute_input": "2024-12-03T20:10:04.405766Z",
     "iopub.status.busy": "2024-12-03T20:10:04.405350Z",
     "iopub.status.idle": "2024-12-03T23:32:27.784095Z",
     "shell.execute_reply": "2024-12-03T23:32:27.782650Z"
    },
    "papermill": {
     "duration": 12143.799737,
     "end_time": "2024-12-03T23:32:27.786273",
     "exception": false,
     "start_time": "2024-12-03T20:10:03.986536",
     "status": "completed"
    },
    "tags": []
   },
   "outputs": [
    {
     "name": "stderr",
     "output_type": "stream",
     "text": [
      "Tiến độ dịch: 100%|██████████| 7880/7880 [3:22:23<00:00,  1.54s/dòng]"
     ]
    },
    {
     "name": "stdout",
     "output_type": "stream",
     "text": [
      "Số dòng dữ liệu: 7880\n"
     ]
    },
    {
     "name": "stderr",
     "output_type": "stream",
     "text": [
      "\n"
     ]
    },
    {
     "data": {
      "text/html": [
       "<div>\n",
       "<style scoped>\n",
       "    .dataframe tbody tr th:only-of-type {\n",
       "        vertical-align: middle;\n",
       "    }\n",
       "\n",
       "    .dataframe tbody tr th {\n",
       "        vertical-align: top;\n",
       "    }\n",
       "\n",
       "    .dataframe thead th {\n",
       "        text-align: right;\n",
       "    }\n",
       "</style>\n",
       "<table border=\"1\" class=\"dataframe\">\n",
       "  <thead>\n",
       "    <tr style=\"text-align: right;\">\n",
       "      <th></th>\n",
       "      <th>course_id</th>\n",
       "      <th>text</th>\n",
       "      <th>filtered_text</th>\n",
       "      <th>count</th>\n",
       "      <th>text_vi</th>\n",
       "    </tr>\n",
       "  </thead>\n",
       "  <tbody>\n",
       "    <tr>\n",
       "      <th>0</th>\n",
       "      <td>C_735283</td>\n",
       "      <td>老师讲解内容很实用非常感谢</td>\n",
       "      <td>老师讲解内容实用非常感谢</td>\n",
       "      <td>1.0</td>\n",
       "      <td>Nội dung thầy giảng rất thiết thực. Cảm ơn thầ...</td>\n",
       "    </tr>\n",
       "    <tr>\n",
       "      <th>1</th>\n",
       "      <td>C_735283</td>\n",
       "      <td>播放不了</td>\n",
       "      <td>播放不了</td>\n",
       "      <td>1.0</td>\n",
       "      <td>không thể chơi</td>\n",
       "    </tr>\n",
       "    <tr>\n",
       "      <th>2</th>\n",
       "      <td>C_735283</td>\n",
       "      <td>同问</td>\n",
       "      <td>同问</td>\n",
       "      <td>1.0</td>\n",
       "      <td>Câu hỏi tương tự</td>\n",
       "    </tr>\n",
       "    <tr>\n",
       "      <th>3</th>\n",
       "      <td>C_735283</td>\n",
       "      <td>打卡</td>\n",
       "      <td>打卡</td>\n",
       "      <td>176.0</td>\n",
       "      <td>Đăng ký vào</td>\n",
       "    </tr>\n",
       "    <tr>\n",
       "      <th>4</th>\n",
       "      <td>C_735283</td>\n",
       "      <td>老师好棒</td>\n",
       "      <td>老师好棒</td>\n",
       "      <td>1.0</td>\n",
       "      <td>Thầy thật tuyệt vời</td>\n",
       "    </tr>\n",
       "  </tbody>\n",
       "</table>\n",
       "</div>"
      ],
      "text/plain": [
       "  course_id           text filtered_text  count  \\\n",
       "0  C_735283  老师讲解内容很实用非常感谢  老师讲解内容实用非常感谢    1.0   \n",
       "1  C_735283           播放不了          播放不了    1.0   \n",
       "2  C_735283             同问            同问    1.0   \n",
       "3  C_735283             打卡            打卡  176.0   \n",
       "4  C_735283           老师好棒          老师好棒    1.0   \n",
       "\n",
       "                                             text_vi  \n",
       "0  Nội dung thầy giảng rất thiết thực. Cảm ơn thầ...  \n",
       "1                                     không thể chơi  \n",
       "2                                   Câu hỏi tương tự  \n",
       "3                                        Đăng ký vào  \n",
       "4                                Thầy thật tuyệt vời  "
      ]
     },
     "execution_count": 10,
     "metadata": {},
     "output_type": "execute_result"
    }
   ],
   "source": [
    "from deep_translator import GoogleTranslator\n",
    "import pandas as pd\n",
    "from tqdm import tqdm  # Import tqdm để sử dụng thanh tiến độ\n",
    "\n",
    "# Khởi tạo đối tượng GoogleTranslator\n",
    "translator = GoogleTranslator(source='zh-CN', target='vi')\n",
    "\n",
    "# Tạo cột 'text_en' nếu chưa có\n",
    "if 'text_vi' not in df.columns:\n",
    "    df['text_vi'] = None\n",
    "\n",
    "df['text'] = df['text'].astype(str)\n",
    "# Sử dụng tqdm để tạo thanh tiến độ\n",
    "with tqdm(total=len(df), desc=\"Tiến độ dịch\", unit=\"dòng\") as pbar:\n",
    "    for idx, row in df.iterrows():\n",
    "        if pd.isna(row['text_vi']):  # Chỉ dịch nếu chưa có dữ liệu\n",
    "            try:\n",
    "                # Dịch từ tiếng Trung giản thể (zh-CN) sang tiếng Anh (en)\n",
    "                text_trans = translator.translate(str(row['text']))\n",
    "                df.loc[idx, 'text_vi'] = text_trans  # Sử dụng .loc để tránh SettingWithCopyWarning\n",
    "            except Exception as e:\n",
    "                print(f\"Error translating row {idx}: {e}\")\n",
    "        \n",
    "        # Cập nhật thanh tiến độ\n",
    "        pbar.update(1)\n",
    "\n",
    "# Hiển thị DataFrame để kiểm tra\n",
    "print(\"Số dòng dữ liệu:\", len(df))\n",
    "df.head(5)"
   ]
  },
  {
   "cell_type": "code",
   "execution_count": 11,
   "id": "cf621434",
   "metadata": {
    "execution": {
     "iopub.execute_input": "2024-12-03T23:32:29.562161Z",
     "iopub.status.busy": "2024-12-03T23:32:29.561515Z",
     "iopub.status.idle": "2024-12-03T23:32:29.571588Z",
     "shell.execute_reply": "2024-12-03T23:32:29.569981Z"
    },
    "papermill": {
     "duration": 0.979887,
     "end_time": "2024-12-03T23:32:29.574283",
     "exception": false,
     "start_time": "2024-12-03T23:32:28.594396",
     "status": "completed"
    },
    "tags": []
   },
   "outputs": [],
   "source": [
    "df['text'] = df['text'].astype(str)\n",
    "df['text_vi'] = df['text_vi'].astype(str)"
   ]
  },
  {
   "cell_type": "code",
   "execution_count": 12,
   "id": "0f7e9fd0",
   "metadata": {
    "execution": {
     "iopub.execute_input": "2024-12-03T23:32:31.304541Z",
     "iopub.status.busy": "2024-12-03T23:32:31.303534Z",
     "iopub.status.idle": "2024-12-03T23:32:31.394112Z",
     "shell.execute_reply": "2024-12-03T23:32:31.392856Z"
    },
    "papermill": {
     "duration": 0.886672,
     "end_time": "2024-12-03T23:32:31.396409",
     "exception": false,
     "start_time": "2024-12-03T23:32:30.509737",
     "status": "completed"
    },
    "tags": []
   },
   "outputs": [],
   "source": [
    "df.to_csv(f'/kaggle/working/translated_comments_{i+1}.csv', index=False)"
   ]
  }
 ],
 "metadata": {
  "kaggle": {
   "accelerator": "none",
   "dataSources": [
    {
     "sourceId": 209897750,
     "sourceType": "kernelVersion"
    }
   ],
   "dockerImageVersionId": 30786,
   "isGpuEnabled": false,
   "isInternetEnabled": true,
   "language": "python",
   "sourceType": "notebook"
  },
  "kernelspec": {
   "display_name": "Python 3",
   "language": "python",
   "name": "python3"
  },
  "language_info": {
   "codemirror_mode": {
    "name": "ipython",
    "version": 3
   },
   "file_extension": ".py",
   "mimetype": "text/x-python",
   "name": "python",
   "nbconvert_exporter": "python",
   "pygments_lexer": "ipython3",
   "version": "3.10.14"
  },
  "papermill": {
   "default_parameters": {},
   "duration": 23811.102946,
   "end_time": "2024-12-03T23:32:32.861896",
   "environment_variables": {},
   "exception": null,
   "input_path": "__notebook__.ipynb",
   "output_path": "__notebook__.ipynb",
   "parameters": {},
   "start_time": "2024-12-03T16:55:41.758950",
   "version": "2.6.0"
  }
 },
 "nbformat": 4,
 "nbformat_minor": 5
}
