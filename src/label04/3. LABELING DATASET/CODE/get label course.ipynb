{
 "cells": [
  {
   "cell_type": "markdown",
   "id": "52f9f33f",
   "metadata": {
    "papermill": {
     "duration": 0.005401,
     "end_time": "2024-12-05T08:28:30.351356",
     "exception": false,
     "start_time": "2024-12-05T08:28:30.345955",
     "status": "completed"
    },
    "tags": []
   },
   "source": [
    "# Đọc dữ liệu bình luận đã gán nhãn"
   ]
  },
  {
   "cell_type": "code",
   "execution_count": 1,
   "id": "12716029",
   "metadata": {
    "_cell_guid": "b1076dfc-b9ad-4769-8c92-a6c4dae69d19",
    "_uuid": "8f2839f25d086af736a60e9eeb907d3b93b6e0e5",
    "execution": {
     "iopub.execute_input": "2024-12-05T08:28:30.363912Z",
     "iopub.status.busy": "2024-12-05T08:28:30.363460Z",
     "iopub.status.idle": "2024-12-05T08:28:33.418534Z",
     "shell.execute_reply": "2024-12-05T08:28:33.417147Z"
    },
    "papermill": {
     "duration": 3.064386,
     "end_time": "2024-12-05T08:28:33.420848",
     "exception": false,
     "start_time": "2024-12-05T08:28:30.356462",
     "status": "completed"
    },
    "tags": []
   },
   "outputs": [
    {
     "data": {
      "text/html": [
       "<div>\n",
       "<style scoped>\n",
       "    .dataframe tbody tr th:only-of-type {\n",
       "        vertical-align: middle;\n",
       "    }\n",
       "\n",
       "    .dataframe tbody tr th {\n",
       "        vertical-align: top;\n",
       "    }\n",
       "\n",
       "    .dataframe thead th {\n",
       "        text-align: right;\n",
       "    }\n",
       "</style>\n",
       "<table border=\"1\" class=\"dataframe\">\n",
       "  <thead>\n",
       "    <tr style=\"text-align: right;\">\n",
       "      <th></th>\n",
       "      <th>course_id</th>\n",
       "      <th>text</th>\n",
       "      <th>text_vi</th>\n",
       "      <th>count</th>\n",
       "      <th>true_label</th>\n",
       "    </tr>\n",
       "  </thead>\n",
       "  <tbody>\n",
       "    <tr>\n",
       "      <th>0</th>\n",
       "      <td>C_1011639</td>\n",
       "      <td>各位都是清华的</td>\n",
       "      <td>Mọi người đều đến từ Đại học Thanh Hoa</td>\n",
       "      <td>1.0</td>\n",
       "      <td>3.0</td>\n",
       "    </tr>\n",
       "    <tr>\n",
       "      <th>1</th>\n",
       "      <td>C_1011639</td>\n",
       "      <td>倒计时2min</td>\n",
       "      <td>Đếm ngược đến 2 phút</td>\n",
       "      <td>1.0</td>\n",
       "      <td>3.0</td>\n",
       "    </tr>\n",
       "    <tr>\n",
       "      <th>2</th>\n",
       "      <td>C_1011639</td>\n",
       "      <td>实在是闲居然很想看这个直播</td>\n",
       "      <td>Tôi thực sự muốn xem chương trình phát sóng tr...</td>\n",
       "      <td>1.0</td>\n",
       "      <td>4.0</td>\n",
       "    </tr>\n",
       "    <tr>\n",
       "      <th>3</th>\n",
       "      <td>C_1011639</td>\n",
       "      <td>签到</td>\n",
       "      <td>Đăng nhập</td>\n",
       "      <td>23.0</td>\n",
       "      <td>3.0</td>\n",
       "    </tr>\n",
       "    <tr>\n",
       "      <th>4</th>\n",
       "      <td>C_1011639</td>\n",
       "      <td>雨课堂加入不了班级</td>\n",
       "      <td>Không thể tham gia lớp học trong Rain Classroom</td>\n",
       "      <td>1.0</td>\n",
       "      <td>2.0</td>\n",
       "    </tr>\n",
       "    <tr>\n",
       "      <th>...</th>\n",
       "      <td>...</td>\n",
       "      <td>...</td>\n",
       "      <td>...</td>\n",
       "      <td>...</td>\n",
       "      <td>...</td>\n",
       "    </tr>\n",
       "    <tr>\n",
       "      <th>144782</th>\n",
       "      <td>C_955163</td>\n",
       "      <td>userid没有绑定成功吧</td>\n",
       "      <td>Userid không bị ràng buộc thành công?</td>\n",
       "      <td>1.0</td>\n",
       "      <td>3.0</td>\n",
       "    </tr>\n",
       "    <tr>\n",
       "      <th>144783</th>\n",
       "      <td>C_955163</td>\n",
       "      <td>讲的真好</td>\n",
       "      <td>Nói rất hay</td>\n",
       "      <td>1.0</td>\n",
       "      <td>5.0</td>\n",
       "    </tr>\n",
       "    <tr>\n",
       "      <th>144784</th>\n",
       "      <td>C_955163</td>\n",
       "      <td>通俗易懂</td>\n",
       "      <td>Dễ hiểu</td>\n",
       "      <td>1.0</td>\n",
       "      <td>5.0</td>\n",
       "    </tr>\n",
       "    <tr>\n",
       "      <th>144785</th>\n",
       "      <td>C_955163</td>\n",
       "      <td>easy</td>\n",
       "      <td>dễ</td>\n",
       "      <td>1.0</td>\n",
       "      <td>4.0</td>\n",
       "    </tr>\n",
       "    <tr>\n",
       "      <th>144786</th>\n",
       "      <td>C_955163</td>\n",
       "      <td>method设置成post还是参数不足postman调试可以</td>\n",
       "      <td>Nếu phương thức được đặt thành đăng hoặc không...</td>\n",
       "      <td>1.0</td>\n",
       "      <td>3.0</td>\n",
       "    </tr>\n",
       "  </tbody>\n",
       "</table>\n",
       "<p>144787 rows × 5 columns</p>\n",
       "</div>"
      ],
      "text/plain": [
       "        course_id                            text  \\\n",
       "0       C_1011639                         各位都是清华的   \n",
       "1       C_1011639                         倒计时2min   \n",
       "2       C_1011639                   实在是闲居然很想看这个直播   \n",
       "3       C_1011639                              签到   \n",
       "4       C_1011639                       雨课堂加入不了班级   \n",
       "...           ...                             ...   \n",
       "144782   C_955163                   userid没有绑定成功吧   \n",
       "144783   C_955163                            讲的真好   \n",
       "144784   C_955163                            通俗易懂   \n",
       "144785   C_955163                            easy   \n",
       "144786   C_955163  method设置成post还是参数不足postman调试可以   \n",
       "\n",
       "                                                  text_vi  count  true_label  \n",
       "0                  Mọi người đều đến từ Đại học Thanh Hoa    1.0         3.0  \n",
       "1                                    Đếm ngược đến 2 phút    1.0         3.0  \n",
       "2       Tôi thực sự muốn xem chương trình phát sóng tr...    1.0         4.0  \n",
       "3                                               Đăng nhập   23.0         3.0  \n",
       "4         Không thể tham gia lớp học trong Rain Classroom    1.0         2.0  \n",
       "...                                                   ...    ...         ...  \n",
       "144782              Userid không bị ràng buộc thành công?    1.0         3.0  \n",
       "144783                                        Nói rất hay    1.0         5.0  \n",
       "144784                                            Dễ hiểu    1.0         5.0  \n",
       "144785                                                 dễ    1.0         4.0  \n",
       "144786  Nếu phương thức được đặt thành đăng hoặc không...    1.0         3.0  \n",
       "\n",
       "[144787 rows x 5 columns]"
      ]
     },
     "execution_count": 1,
     "metadata": {},
     "output_type": "execute_result"
    }
   ],
   "source": [
    "# This Python 3 environment comes with many helpful analytics libraries installed\n",
    "# It is defined by the kaggle/python Docker image: https://github.com/kaggle/docker-python\n",
    "# For example, here's several helpful packages to load\n",
    "\n",
    "import numpy as np # linear algebra\n",
    "import pandas as pd # data processing, CSV file I/O (e.g. pd.read_csv)\n",
    "\n",
    "# Input data files are available in the read-only \"../input/\" directory\n",
    "# For example, running this (by clicking run or pressing Shift+Enter) will list all files under the input directory\n",
    "\n",
    "df = pd.read_csv(\"/kaggle/input/get-label/labeled_comments.csv\")\n",
    "df"
   ]
  },
  {
   "cell_type": "code",
   "execution_count": 2,
   "id": "eb5483af",
   "metadata": {
    "execution": {
     "iopub.execute_input": "2024-12-05T08:28:33.433468Z",
     "iopub.status.busy": "2024-12-05T08:28:33.433021Z",
     "iopub.status.idle": "2024-12-05T08:28:33.438575Z",
     "shell.execute_reply": "2024-12-05T08:28:33.437352Z"
    },
    "papermill": {
     "duration": 0.014698,
     "end_time": "2024-12-05T08:28:33.441022",
     "exception": false,
     "start_time": "2024-12-05T08:28:33.426324",
     "status": "completed"
    },
    "tags": []
   },
   "outputs": [],
   "source": [
    "def rounding(x):\n",
    "    return int(np.ceil(x))"
   ]
  },
  {
   "cell_type": "code",
   "execution_count": 3,
   "id": "1a597391",
   "metadata": {
    "execution": {
     "iopub.execute_input": "2024-12-05T08:28:33.454291Z",
     "iopub.status.busy": "2024-12-05T08:28:33.453889Z",
     "iopub.status.idle": "2024-12-05T08:28:33.517710Z",
     "shell.execute_reply": "2024-12-05T08:28:33.516282Z"
    },
    "papermill": {
     "duration": 0.074248,
     "end_time": "2024-12-05T08:28:33.520216",
     "exception": false,
     "start_time": "2024-12-05T08:28:33.445968",
     "status": "completed"
    },
    "tags": []
   },
   "outputs": [
    {
     "name": "stdout",
     "output_type": "stream",
     "text": [
      "<class 'pandas.core.frame.DataFrame'>\n",
      "RangeIndex: 144787 entries, 0 to 144786\n",
      "Data columns (total 5 columns):\n",
      " #   Column      Non-Null Count   Dtype  \n",
      "---  ------      --------------   -----  \n",
      " 0   course_id   144787 non-null  object \n",
      " 1   text        144784 non-null  object \n",
      " 2   text_vi     144779 non-null  object \n",
      " 3   count       144784 non-null  float64\n",
      " 4   true_label  144786 non-null  float64\n",
      "dtypes: float64(2), object(3)\n",
      "memory usage: 5.5+ MB\n"
     ]
    }
   ],
   "source": [
    "df.info()"
   ]
  },
  {
   "cell_type": "code",
   "execution_count": 4,
   "id": "8e08b7ae",
   "metadata": {
    "execution": {
     "iopub.execute_input": "2024-12-05T08:28:33.532118Z",
     "iopub.status.busy": "2024-12-05T08:28:33.531654Z",
     "iopub.status.idle": "2024-12-05T08:28:33.542526Z",
     "shell.execute_reply": "2024-12-05T08:28:33.541325Z"
    },
    "papermill": {
     "duration": 0.019578,
     "end_time": "2024-12-05T08:28:33.544814",
     "exception": false,
     "start_time": "2024-12-05T08:28:33.525236",
     "status": "completed"
    },
    "tags": []
   },
   "outputs": [
    {
     "data": {
      "text/plain": [
       "array([ 3.,  4.,  2.,  5.,  1., nan])"
      ]
     },
     "execution_count": 4,
     "metadata": {},
     "output_type": "execute_result"
    }
   ],
   "source": [
    "df['true_label'].unique()"
   ]
  },
  {
   "cell_type": "code",
   "execution_count": 5,
   "id": "20c2c3ea",
   "metadata": {
    "execution": {
     "iopub.execute_input": "2024-12-05T08:28:33.557470Z",
     "iopub.status.busy": "2024-12-05T08:28:33.556602Z",
     "iopub.status.idle": "2024-12-05T08:28:33.571938Z",
     "shell.execute_reply": "2024-12-05T08:28:33.570614Z"
    },
    "papermill": {
     "duration": 0.024464,
     "end_time": "2024-12-05T08:28:33.574387",
     "exception": false,
     "start_time": "2024-12-05T08:28:33.549923",
     "status": "completed"
    },
    "tags": []
   },
   "outputs": [
    {
     "name": "stdout",
     "output_type": "stream",
     "text": [
      "DataFrame gồm các dòng true_label là NaN:\n"
     ]
    },
    {
     "data": {
      "text/html": [
       "<div>\n",
       "<style scoped>\n",
       "    .dataframe tbody tr th:only-of-type {\n",
       "        vertical-align: middle;\n",
       "    }\n",
       "\n",
       "    .dataframe tbody tr th {\n",
       "        vertical-align: top;\n",
       "    }\n",
       "\n",
       "    .dataframe thead th {\n",
       "        text-align: right;\n",
       "    }\n",
       "</style>\n",
       "<table border=\"1\" class=\"dataframe\">\n",
       "  <thead>\n",
       "    <tr style=\"text-align: right;\">\n",
       "      <th></th>\n",
       "      <th>course_id</th>\n",
       "      <th>text</th>\n",
       "      <th>text_vi</th>\n",
       "      <th>count</th>\n",
       "      <th>true_label</th>\n",
       "    </tr>\n",
       "  </thead>\n",
       "  <tbody>\n",
       "    <tr>\n",
       "      <th>8461</th>\n",
       "      <td>C_1906706</td>\n",
       "      <td>我这英语还得加强啊</td>\n",
       "      <td>Tiếng Anh của tôi cần được cải thiện.</td>\n",
       "      <td>1.0</td>\n",
       "      <td>NaN</td>\n",
       "    </tr>\n",
       "  </tbody>\n",
       "</table>\n",
       "</div>"
      ],
      "text/plain": [
       "      course_id       text                                text_vi  count  \\\n",
       "8461  C_1906706  我这英语还得加强啊  Tiếng Anh của tôi cần được cải thiện.    1.0   \n",
       "\n",
       "      true_label  \n",
       "8461         NaN  "
      ]
     },
     "execution_count": 5,
     "metadata": {},
     "output_type": "execute_result"
    }
   ],
   "source": [
    "import pandas as pd\n",
    "import numpy as np\n",
    "\n",
    "# Tạo DataFrame ban đầu\n",
    "\n",
    "# Lọc các dòng có true_label là NaN\n",
    "df_nan = df[df['true_label'].isna()]\n",
    "\n",
    "# Hiển thị DataFrame mới\n",
    "print(\"DataFrame gồm các dòng true_label là NaN:\")\n",
    "df_nan"
   ]
  },
  {
   "cell_type": "code",
   "execution_count": 6,
   "id": "bd5a0eb5",
   "metadata": {
    "execution": {
     "iopub.execute_input": "2024-12-05T08:28:33.587111Z",
     "iopub.status.busy": "2024-12-05T08:28:33.586678Z",
     "iopub.status.idle": "2024-12-05T08:28:33.802059Z",
     "shell.execute_reply": "2024-12-05T08:28:33.800858Z"
    },
    "papermill": {
     "duration": 0.225,
     "end_time": "2024-12-05T08:28:33.804618",
     "exception": false,
     "start_time": "2024-12-05T08:28:33.579618",
     "status": "completed"
    },
    "tags": []
   },
   "outputs": [],
   "source": [
    "# Điền giá trị '3' cho nhãn trống NaN (dòng 8461)\n",
    "df['true_label'] = df['true_label'].fillna(3)\n",
    "df['true_label'] = df[['true_label']].astype(float).mean(axis=1)\n",
    "df['true_label'] = df['true_label'].map(rounding)"
   ]
  },
  {
   "cell_type": "code",
   "execution_count": 7,
   "id": "963ca38a",
   "metadata": {
    "execution": {
     "iopub.execute_input": "2024-12-05T08:28:33.817476Z",
     "iopub.status.busy": "2024-12-05T08:28:33.816495Z",
     "iopub.status.idle": "2024-12-05T08:28:33.833798Z",
     "shell.execute_reply": "2024-12-05T08:28:33.832693Z"
    },
    "papermill": {
     "duration": 0.026137,
     "end_time": "2024-12-05T08:28:33.836202",
     "exception": false,
     "start_time": "2024-12-05T08:28:33.810065",
     "status": "completed"
    },
    "tags": []
   },
   "outputs": [
    {
     "data": {
      "text/html": [
       "<div>\n",
       "<style scoped>\n",
       "    .dataframe tbody tr th:only-of-type {\n",
       "        vertical-align: middle;\n",
       "    }\n",
       "\n",
       "    .dataframe tbody tr th {\n",
       "        vertical-align: top;\n",
       "    }\n",
       "\n",
       "    .dataframe thead th {\n",
       "        text-align: right;\n",
       "    }\n",
       "</style>\n",
       "<table border=\"1\" class=\"dataframe\">\n",
       "  <thead>\n",
       "    <tr style=\"text-align: right;\">\n",
       "      <th></th>\n",
       "      <th>text_vi</th>\n",
       "      <th>true_label</th>\n",
       "    </tr>\n",
       "  </thead>\n",
       "  <tbody>\n",
       "    <tr>\n",
       "      <th>0</th>\n",
       "      <td>Mọi người đều đến từ Đại học Thanh Hoa</td>\n",
       "      <td>3</td>\n",
       "    </tr>\n",
       "    <tr>\n",
       "      <th>1</th>\n",
       "      <td>Đếm ngược đến 2 phút</td>\n",
       "      <td>3</td>\n",
       "    </tr>\n",
       "    <tr>\n",
       "      <th>2</th>\n",
       "      <td>Tôi thực sự muốn xem chương trình phát sóng tr...</td>\n",
       "      <td>4</td>\n",
       "    </tr>\n",
       "    <tr>\n",
       "      <th>3</th>\n",
       "      <td>Đăng nhập</td>\n",
       "      <td>3</td>\n",
       "    </tr>\n",
       "    <tr>\n",
       "      <th>4</th>\n",
       "      <td>Không thể tham gia lớp học trong Rain Classroom</td>\n",
       "      <td>2</td>\n",
       "    </tr>\n",
       "    <tr>\n",
       "      <th>5</th>\n",
       "      <td>Mong được bắt đầu</td>\n",
       "      <td>4</td>\n",
       "    </tr>\n",
       "    <tr>\n",
       "      <th>6</th>\n",
       "      <td>Hãy bắt đầu.</td>\n",
       "      <td>3</td>\n",
       "    </tr>\n",
       "    <tr>\n",
       "      <th>7</th>\n",
       "      <td>Quá mắc kẹt</td>\n",
       "      <td>3</td>\n",
       "    </tr>\n",
       "    <tr>\n",
       "      <th>8</th>\n",
       "      <td>Đang làm mới hơi lag</td>\n",
       "      <td>2</td>\n",
       "    </tr>\n",
       "    <tr>\n",
       "      <th>9</th>\n",
       "      <td>Bị mắc kẹt hay không</td>\n",
       "      <td>2</td>\n",
       "    </tr>\n",
       "    <tr>\n",
       "      <th>10</th>\n",
       "      <td>Bạn không thể vào được</td>\n",
       "      <td>2</td>\n",
       "    </tr>\n",
       "    <tr>\n",
       "      <th>11</th>\n",
       "      <td>Nó không bị kẹt</td>\n",
       "      <td>2</td>\n",
       "    </tr>\n",
       "    <tr>\n",
       "      <th>12</th>\n",
       "      <td>Cổ phiếu A có nghĩa là họ không đủ tàn nhẫn</td>\n",
       "      <td>3</td>\n",
       "    </tr>\n",
       "    <tr>\n",
       "      <th>13</th>\n",
       "      <td>Đã ngắt kết nối</td>\n",
       "      <td>2</td>\n",
       "    </tr>\n",
       "    <tr>\n",
       "      <th>14</th>\n",
       "      <td>Lớp học Mưa không còn tồn tại nữa.</td>\n",
       "      <td>2</td>\n",
       "    </tr>\n",
       "    <tr>\n",
       "      <th>15</th>\n",
       "      <td>Lớp học mưa sụp đổ</td>\n",
       "      <td>2</td>\n",
       "    </tr>\n",
       "    <tr>\n",
       "      <th>16</th>\n",
       "      <td>Lớp học mưa sụp đổ</td>\n",
       "      <td>2</td>\n",
       "    </tr>\n",
       "    <tr>\n",
       "      <th>17</th>\n",
       "      <td>Ngồi xổm nghiêm túc trong trường học trực tuyến</td>\n",
       "      <td>3</td>\n",
       "    </tr>\n",
       "    <tr>\n",
       "      <th>18</th>\n",
       "      <td>Chất lượng hình ảnh ở đây cao hơn nhiều</td>\n",
       "      <td>5</td>\n",
       "    </tr>\n",
       "    <tr>\n",
       "      <th>19</th>\n",
       "      <td>Nghiêm túc ngồi xổm học trực tuyến</td>\n",
       "      <td>3</td>\n",
       "    </tr>\n",
       "  </tbody>\n",
       "</table>\n",
       "</div>"
      ],
      "text/plain": [
       "                                              text_vi  true_label\n",
       "0              Mọi người đều đến từ Đại học Thanh Hoa           3\n",
       "1                                Đếm ngược đến 2 phút           3\n",
       "2   Tôi thực sự muốn xem chương trình phát sóng tr...           4\n",
       "3                                           Đăng nhập           3\n",
       "4     Không thể tham gia lớp học trong Rain Classroom           2\n",
       "5                                   Mong được bắt đầu           4\n",
       "6                                        Hãy bắt đầu.           3\n",
       "7                                         Quá mắc kẹt           3\n",
       "8                                Đang làm mới hơi lag           2\n",
       "9                                Bị mắc kẹt hay không           2\n",
       "10                             Bạn không thể vào được           2\n",
       "11                                    Nó không bị kẹt           2\n",
       "12        Cổ phiếu A có nghĩa là họ không đủ tàn nhẫn           3\n",
       "13                                    Đã ngắt kết nối           2\n",
       "14                 Lớp học Mưa không còn tồn tại nữa.           2\n",
       "15                                 Lớp học mưa sụp đổ           2\n",
       "16                                 Lớp học mưa sụp đổ           2\n",
       "17    Ngồi xổm nghiêm túc trong trường học trực tuyến           3\n",
       "18            Chất lượng hình ảnh ở đây cao hơn nhiều           5\n",
       "19                 Nghiêm túc ngồi xổm học trực tuyến           3"
      ]
     },
     "execution_count": 7,
     "metadata": {},
     "output_type": "execute_result"
    }
   ],
   "source": [
    "df[['text_vi', 'true_label']].head(20)"
   ]
  },
  {
   "cell_type": "code",
   "execution_count": 8,
   "id": "898b66e2",
   "metadata": {
    "execution": {
     "iopub.execute_input": "2024-12-05T08:28:33.849160Z",
     "iopub.status.busy": "2024-12-05T08:28:33.848643Z",
     "iopub.status.idle": "2024-12-05T08:28:35.101738Z",
     "shell.execute_reply": "2024-12-05T08:28:35.100780Z"
    },
    "papermill": {
     "duration": 1.262395,
     "end_time": "2024-12-05T08:28:35.104220",
     "exception": false,
     "start_time": "2024-12-05T08:28:33.841825",
     "status": "completed"
    },
    "tags": []
   },
   "outputs": [],
   "source": [
    "df.to_csv(f\"/kaggle/working/labeled_comments_1.csv\", index=False)"
   ]
  },
  {
   "cell_type": "markdown",
   "id": "74d4274c",
   "metadata": {
    "papermill": {
     "duration": 0.005594,
     "end_time": "2024-12-05T08:28:35.115264",
     "exception": false,
     "start_time": "2024-12-05T08:28:35.109670",
     "status": "completed"
    },
    "tags": []
   },
   "source": [
    "# Tính nhãn cảm xúc cho khóa học\n",
    "Để giảm ảnh hưởng của nhãn 3 (nhãn cảm xúc trung tính, các giá trị 'count' của ccas khóa học mà có nhãn cảm xúc bình luận là 3 sẽ được chuyển về thành 1. Chỉ giữ lại giá trị 'count' nguyên bản của các nhãn cảm xúc khác: 1, 2, 4, 5."
   ]
  },
  {
   "cell_type": "code",
   "execution_count": 9,
   "id": "82f92b59",
   "metadata": {
    "execution": {
     "iopub.execute_input": "2024-12-05T08:28:35.128481Z",
     "iopub.status.busy": "2024-12-05T08:28:35.128091Z",
     "iopub.status.idle": "2024-12-05T08:28:35.140071Z",
     "shell.execute_reply": "2024-12-05T08:28:35.138853Z"
    },
    "papermill": {
     "duration": 0.02145,
     "end_time": "2024-12-05T08:28:35.142370",
     "exception": false,
     "start_time": "2024-12-05T08:28:35.120920",
     "status": "completed"
    },
    "tags": []
   },
   "outputs": [
    {
     "data": {
      "text/plain": [
       "true_label\n",
       "3    126310\n",
       "5     11645\n",
       "4      4720\n",
       "2      1804\n",
       "1       308\n",
       "Name: count, dtype: int64"
      ]
     },
     "execution_count": 9,
     "metadata": {},
     "output_type": "execute_result"
    }
   ],
   "source": [
    "df['true_label'].value_counts()"
   ]
  },
  {
   "cell_type": "code",
   "execution_count": 10,
   "id": "f8d08656",
   "metadata": {
    "execution": {
     "iopub.execute_input": "2024-12-05T08:28:35.155297Z",
     "iopub.status.busy": "2024-12-05T08:28:35.154919Z",
     "iopub.status.idle": "2024-12-05T08:28:35.184910Z",
     "shell.execute_reply": "2024-12-05T08:28:35.183831Z"
    },
    "papermill": {
     "duration": 0.039395,
     "end_time": "2024-12-05T08:28:35.187387",
     "exception": false,
     "start_time": "2024-12-05T08:28:35.147992",
     "status": "completed"
    },
    "tags": []
   },
   "outputs": [
    {
     "name": "stdout",
     "output_type": "stream",
     "text": [
      "Tổng giá trị được gán cảm xúc là: 1401951.0\n"
     ]
    },
    {
     "data": {
      "text/html": [
       "<div>\n",
       "<style scoped>\n",
       "    .dataframe tbody tr th:only-of-type {\n",
       "        vertical-align: middle;\n",
       "    }\n",
       "\n",
       "    .dataframe tbody tr th {\n",
       "        vertical-align: top;\n",
       "    }\n",
       "\n",
       "    .dataframe thead th {\n",
       "        text-align: right;\n",
       "    }\n",
       "</style>\n",
       "<table border=\"1\" class=\"dataframe\">\n",
       "  <thead>\n",
       "    <tr style=\"text-align: right;\">\n",
       "      <th></th>\n",
       "      <th>true_label</th>\n",
       "      <th>quantity</th>\n",
       "    </tr>\n",
       "  </thead>\n",
       "  <tbody>\n",
       "    <tr>\n",
       "      <th>0</th>\n",
       "      <td>1</td>\n",
       "      <td>340.0</td>\n",
       "    </tr>\n",
       "    <tr>\n",
       "      <th>1</th>\n",
       "      <td>2</td>\n",
       "      <td>4332.0</td>\n",
       "    </tr>\n",
       "    <tr>\n",
       "      <th>2</th>\n",
       "      <td>3</td>\n",
       "      <td>1195518.0</td>\n",
       "    </tr>\n",
       "    <tr>\n",
       "      <th>3</th>\n",
       "      <td>4</td>\n",
       "      <td>73796.0</td>\n",
       "    </tr>\n",
       "    <tr>\n",
       "      <th>4</th>\n",
       "      <td>5</td>\n",
       "      <td>127965.0</td>\n",
       "    </tr>\n",
       "  </tbody>\n",
       "</table>\n",
       "</div>"
      ],
      "text/plain": [
       "   true_label   quantity\n",
       "0           1      340.0\n",
       "1           2     4332.0\n",
       "2           3  1195518.0\n",
       "3           4    73796.0\n",
       "4           5   127965.0"
      ]
     },
     "execution_count": 10,
     "metadata": {},
     "output_type": "execute_result"
    }
   ],
   "source": [
    "df1 = df.copy()\n",
    "\n",
    "# Thêm cột 'product' = 'count' * 'true_label'\n",
    "df1['quantity'] = df1['count'] * df1['true_label']\n",
    "\n",
    "# Tính tổng 'product' theo từng 'true_label'\n",
    "result = df1.groupby('true_label')['quantity'].sum().reset_index()\n",
    "\n",
    "# Hiển thị DataFrame kết quả\n",
    "print(\"Tổng giá trị được gán cảm xúc là:\", result['quantity'].sum())\n",
    "result"
   ]
  },
  {
   "cell_type": "code",
   "execution_count": 11,
   "id": "e7308d84",
   "metadata": {
    "execution": {
     "iopub.execute_input": "2024-12-05T08:28:35.201630Z",
     "iopub.status.busy": "2024-12-05T08:28:35.200380Z",
     "iopub.status.idle": "2024-12-05T08:28:35.208012Z",
     "shell.execute_reply": "2024-12-05T08:28:35.207043Z"
    },
    "papermill": {
     "duration": 0.017285,
     "end_time": "2024-12-05T08:28:35.210530",
     "exception": false,
     "start_time": "2024-12-05T08:28:35.193245",
     "status": "completed"
    },
    "tags": []
   },
   "outputs": [],
   "source": [
    "df.loc[df['true_label'] == 3, 'count'] = 1"
   ]
  },
  {
   "cell_type": "code",
   "execution_count": 12,
   "id": "bac19304",
   "metadata": {
    "execution": {
     "iopub.execute_input": "2024-12-05T08:28:35.223925Z",
     "iopub.status.busy": "2024-12-05T08:28:35.223440Z",
     "iopub.status.idle": "2024-12-05T08:28:35.253331Z",
     "shell.execute_reply": "2024-12-05T08:28:35.252222Z"
    },
    "papermill": {
     "duration": 0.039294,
     "end_time": "2024-12-05T08:28:35.255646",
     "exception": false,
     "start_time": "2024-12-05T08:28:35.216352",
     "status": "completed"
    },
    "tags": []
   },
   "outputs": [
    {
     "name": "stdout",
     "output_type": "stream",
     "text": [
      "Tổng giá trị được gán cảm xúc là: 585363.0\n"
     ]
    },
    {
     "data": {
      "text/html": [
       "<div>\n",
       "<style scoped>\n",
       "    .dataframe tbody tr th:only-of-type {\n",
       "        vertical-align: middle;\n",
       "    }\n",
       "\n",
       "    .dataframe tbody tr th {\n",
       "        vertical-align: top;\n",
       "    }\n",
       "\n",
       "    .dataframe thead th {\n",
       "        text-align: right;\n",
       "    }\n",
       "</style>\n",
       "<table border=\"1\" class=\"dataframe\">\n",
       "  <thead>\n",
       "    <tr style=\"text-align: right;\">\n",
       "      <th></th>\n",
       "      <th>true_label</th>\n",
       "      <th>quantity</th>\n",
       "    </tr>\n",
       "  </thead>\n",
       "  <tbody>\n",
       "    <tr>\n",
       "      <th>0</th>\n",
       "      <td>1</td>\n",
       "      <td>340.0</td>\n",
       "    </tr>\n",
       "    <tr>\n",
       "      <th>1</th>\n",
       "      <td>2</td>\n",
       "      <td>4332.0</td>\n",
       "    </tr>\n",
       "    <tr>\n",
       "      <th>2</th>\n",
       "      <td>3</td>\n",
       "      <td>378930.0</td>\n",
       "    </tr>\n",
       "    <tr>\n",
       "      <th>3</th>\n",
       "      <td>4</td>\n",
       "      <td>73796.0</td>\n",
       "    </tr>\n",
       "    <tr>\n",
       "      <th>4</th>\n",
       "      <td>5</td>\n",
       "      <td>127965.0</td>\n",
       "    </tr>\n",
       "  </tbody>\n",
       "</table>\n",
       "</div>"
      ],
      "text/plain": [
       "   true_label  quantity\n",
       "0           1     340.0\n",
       "1           2    4332.0\n",
       "2           3  378930.0\n",
       "3           4   73796.0\n",
       "4           5  127965.0"
      ]
     },
     "execution_count": 12,
     "metadata": {},
     "output_type": "execute_result"
    }
   ],
   "source": [
    "df1 = df.copy()\n",
    "\n",
    "# Thêm cột 'product' = 'count' * 'true_label'\n",
    "df1['quantity'] = df1['count'] * df1['true_label']\n",
    "\n",
    "# Tính tổng 'product' theo từng 'true_label'\n",
    "result = df1.groupby('true_label')['quantity'].sum().reset_index()\n",
    "\n",
    "# Hiển thị DataFrame kết quả\n",
    "print(\"Tổng giá trị được gán cảm xúc là:\", result['quantity'].sum())\n",
    "result"
   ]
  },
  {
   "cell_type": "code",
   "execution_count": null,
   "id": "9f9e9075",
   "metadata": {
    "papermill": {
     "duration": 0.005763,
     "end_time": "2024-12-05T08:28:35.267486",
     "exception": false,
     "start_time": "2024-12-05T08:28:35.261723",
     "status": "completed"
    },
    "tags": []
   },
   "outputs": [],
   "source": []
  },
  {
   "cell_type": "code",
   "execution_count": 13,
   "id": "000041d9",
   "metadata": {
    "execution": {
     "iopub.execute_input": "2024-12-05T08:28:35.280976Z",
     "iopub.status.busy": "2024-12-05T08:28:35.280553Z",
     "iopub.status.idle": "2024-12-05T08:28:35.331523Z",
     "shell.execute_reply": "2024-12-05T08:28:35.330392Z"
    },
    "papermill": {
     "duration": 0.060663,
     "end_time": "2024-12-05T08:28:35.334044",
     "exception": false,
     "start_time": "2024-12-05T08:28:35.273381",
     "status": "completed"
    },
    "tags": []
   },
   "outputs": [
    {
     "data": {
      "text/html": [
       "<div>\n",
       "<style scoped>\n",
       "    .dataframe tbody tr th:only-of-type {\n",
       "        vertical-align: middle;\n",
       "    }\n",
       "\n",
       "    .dataframe tbody tr th {\n",
       "        vertical-align: top;\n",
       "    }\n",
       "\n",
       "    .dataframe thead th {\n",
       "        text-align: right;\n",
       "    }\n",
       "</style>\n",
       "<table border=\"1\" class=\"dataframe\">\n",
       "  <thead>\n",
       "    <tr style=\"text-align: right;\">\n",
       "      <th></th>\n",
       "      <th>course_score</th>\n",
       "    </tr>\n",
       "    <tr>\n",
       "      <th>course_id</th>\n",
       "      <th></th>\n",
       "    </tr>\n",
       "  </thead>\n",
       "  <tbody>\n",
       "    <tr>\n",
       "      <th>C_1011639</th>\n",
       "      <td>3.0</td>\n",
       "    </tr>\n",
       "    <tr>\n",
       "      <th>C_1017355</th>\n",
       "      <td>4.0</td>\n",
       "    </tr>\n",
       "    <tr>\n",
       "      <th>C_1159827</th>\n",
       "      <td>3.0</td>\n",
       "    </tr>\n",
       "    <tr>\n",
       "      <th>C_1196947</th>\n",
       "      <td>3.0</td>\n",
       "    </tr>\n",
       "    <tr>\n",
       "      <th>C_1214863</th>\n",
       "      <td>3.0</td>\n",
       "    </tr>\n",
       "    <tr>\n",
       "      <th>...</th>\n",
       "      <td>...</td>\n",
       "    </tr>\n",
       "    <tr>\n",
       "      <th>C_948468</th>\n",
       "      <td>3.0</td>\n",
       "    </tr>\n",
       "    <tr>\n",
       "      <th>C_948486</th>\n",
       "      <td>3.0</td>\n",
       "    </tr>\n",
       "    <tr>\n",
       "      <th>C_948488</th>\n",
       "      <td>4.0</td>\n",
       "    </tr>\n",
       "    <tr>\n",
       "      <th>C_949540</th>\n",
       "      <td>3.0</td>\n",
       "    </tr>\n",
       "    <tr>\n",
       "      <th>C_955163</th>\n",
       "      <td>3.0</td>\n",
       "    </tr>\n",
       "  </tbody>\n",
       "</table>\n",
       "<p>986 rows × 1 columns</p>\n",
       "</div>"
      ],
      "text/plain": [
       "           course_score\n",
       "course_id              \n",
       "C_1011639           3.0\n",
       "C_1017355           4.0\n",
       "C_1159827           3.0\n",
       "C_1196947           3.0\n",
       "C_1214863           3.0\n",
       "...                 ...\n",
       "C_948468            3.0\n",
       "C_948486            3.0\n",
       "C_948488            4.0\n",
       "C_949540            3.0\n",
       "C_955163            3.0\n",
       "\n",
       "[986 rows x 1 columns]"
      ]
     },
     "execution_count": 13,
     "metadata": {},
     "output_type": "execute_result"
    }
   ],
   "source": [
    "import pandas as pd\n",
    "\n",
    "# Tính tổng (true_label * count) và tổng count cho mỗi course_id\n",
    "df_course_score = (\n",
    "    df\n",
    "    .assign(weighted_score=lambda x: x['true_label'] * x['count'])  # Tạo cột tạm thời\n",
    "    .groupby('course_id')\n",
    "    .agg(course_score=('weighted_score', 'sum'), total_count=('count', 'sum'))\n",
    ")\n",
    "\n",
    "# Tính điểm cuối cùng\n",
    "df_course_score['course_score'] = df_course_score['course_score'] / df_course_score['total_count']\n",
    "\n",
    "# Xóa cột tổng nếu không cần\n",
    "df_course_score = df_course_score.drop(columns=['total_count'])\n",
    "\n",
    "# Hiển thị kết quả\n",
    "df_course_score['course_score'] = df_course_score['course_score'].round(0)\n",
    "df_course_score"
   ]
  },
  {
   "cell_type": "markdown",
   "id": "fe906595",
   "metadata": {
    "papermill": {
     "duration": 0.005851,
     "end_time": "2024-12-05T08:28:35.345976",
     "exception": false,
     "start_time": "2024-12-05T08:28:35.340125",
     "status": "completed"
    },
    "tags": []
   },
   "source": [
    "## Biểu đồ phân phối nhãn cảm xúc"
   ]
  },
  {
   "cell_type": "code",
   "execution_count": 14,
   "id": "7945c804",
   "metadata": {
    "execution": {
     "iopub.execute_input": "2024-12-05T08:28:35.361221Z",
     "iopub.status.busy": "2024-12-05T08:28:35.360492Z",
     "iopub.status.idle": "2024-12-05T08:28:37.718872Z",
     "shell.execute_reply": "2024-12-05T08:28:37.717579Z"
    },
    "papermill": {
     "duration": 2.370416,
     "end_time": "2024-12-05T08:28:37.722595",
     "exception": false,
     "start_time": "2024-12-05T08:28:35.352179",
     "status": "completed"
    },
    "tags": []
   },
   "outputs": [
    {
     "data": {
      "image/png": "[encoded data removed]",
      "text/plain": [
       "<Figure size 1000x600 with 1 Axes>"
      ]
     },
     "metadata": {},
     "output_type": "display_data"
    },
    {
     "data": {
      "image/png": "[encoded data removed]",
      "text/plain": [
       "<Figure size 800x800 with 1 Axes>"
      ]
     },
     "metadata": {},
     "output_type": "display_data"
    }
   ],
   "source": [
    "import pandas as pd\n",
    "import matplotlib.pyplot as plt\n",
    "import seaborn as sns\n",
    "\n",
    "# Đếm số lượng mỗi nhãn cảm xúc\n",
    "label_counts = df_course_score['course_score'].value_counts().sort_index()\n",
    "\n",
    "# Vẽ biểu đồ cột bằng seaborn\n",
    "plt.figure(figsize=(10, 6))\n",
    "sns.barplot(x=label_counts.index, y=label_counts.values, palette='viridis')\n",
    "\n",
    "# Thiết lập nhãn và tiêu đề\n",
    "plt.title(\"Phân phối nhãn cảm xúc\", fontsize=16)\n",
    "plt.xlabel(\"Nhãn cảm xúc\", fontsize=12)\n",
    "plt.ylabel(\"Số lượng\", fontsize=12)\n",
    "plt.xticks(fontsize=10)\n",
    "plt.yticks(fontsize=10)\n",
    "plt.show()\n",
    "\n",
    "# Vẽ biểu đồ tròn (tùy chọn)\n",
    "plt.figure(figsize=(8, 8))\n",
    "plt.pie(label_counts, labels=label_counts.index, autopct='%1.1f%%', colors=sns.color_palette('viridis', len(label_counts)))\n",
    "plt.title(\"Phân phối nhãn cảm xúc (Pie Chart)\", fontsize=16)\n",
    "plt.show()"
   ]
  },
  {
   "cell_type": "markdown",
   "id": "8e257f9c",
   "metadata": {
    "papermill": {
     "duration": 0.014503,
     "end_time": "2024-12-05T08:28:37.750567",
     "exception": false,
     "start_time": "2024-12-05T08:28:37.736064",
     "status": "completed"
    },
    "tags": []
   },
   "source": [
    "## Lưu bộ dữ liệu kháo học đã gán nhãn"
   ]
  },
  {
   "cell_type": "code",
   "execution_count": 15,
   "id": "85156139",
   "metadata": {
    "execution": {
     "iopub.execute_input": "2024-12-05T08:28:37.771275Z",
     "iopub.status.busy": "2024-12-05T08:28:37.770623Z",
     "iopub.status.idle": "2024-12-05T08:28:37.784618Z",
     "shell.execute_reply": "2024-12-05T08:28:37.783414Z"
    },
    "papermill": {
     "duration": 0.025004,
     "end_time": "2024-12-05T08:28:37.787131",
     "exception": false,
     "start_time": "2024-12-05T08:28:37.762127",
     "status": "completed"
    },
    "tags": []
   },
   "outputs": [
    {
     "data": {
      "text/html": [
       "<div>\n",
       "<style scoped>\n",
       "    .dataframe tbody tr th:only-of-type {\n",
       "        vertical-align: middle;\n",
       "    }\n",
       "\n",
       "    .dataframe tbody tr th {\n",
       "        vertical-align: top;\n",
       "    }\n",
       "\n",
       "    .dataframe thead th {\n",
       "        text-align: right;\n",
       "    }\n",
       "</style>\n",
       "<table border=\"1\" class=\"dataframe\">\n",
       "  <thead>\n",
       "    <tr style=\"text-align: right;\">\n",
       "      <th></th>\n",
       "      <th>course_id</th>\n",
       "      <th>course_score</th>\n",
       "    </tr>\n",
       "  </thead>\n",
       "  <tbody>\n",
       "    <tr>\n",
       "      <th>0</th>\n",
       "      <td>C_1011639</td>\n",
       "      <td>3.0</td>\n",
       "    </tr>\n",
       "    <tr>\n",
       "      <th>1</th>\n",
       "      <td>C_1017355</td>\n",
       "      <td>4.0</td>\n",
       "    </tr>\n",
       "    <tr>\n",
       "      <th>2</th>\n",
       "      <td>C_1159827</td>\n",
       "      <td>3.0</td>\n",
       "    </tr>\n",
       "    <tr>\n",
       "      <th>3</th>\n",
       "      <td>C_1196947</td>\n",
       "      <td>3.0</td>\n",
       "    </tr>\n",
       "    <tr>\n",
       "      <th>4</th>\n",
       "      <td>C_1214863</td>\n",
       "      <td>3.0</td>\n",
       "    </tr>\n",
       "    <tr>\n",
       "      <th>...</th>\n",
       "      <td>...</td>\n",
       "      <td>...</td>\n",
       "    </tr>\n",
       "    <tr>\n",
       "      <th>981</th>\n",
       "      <td>C_948468</td>\n",
       "      <td>3.0</td>\n",
       "    </tr>\n",
       "    <tr>\n",
       "      <th>982</th>\n",
       "      <td>C_948486</td>\n",
       "      <td>3.0</td>\n",
       "    </tr>\n",
       "    <tr>\n",
       "      <th>983</th>\n",
       "      <td>C_948488</td>\n",
       "      <td>4.0</td>\n",
       "    </tr>\n",
       "    <tr>\n",
       "      <th>984</th>\n",
       "      <td>C_949540</td>\n",
       "      <td>3.0</td>\n",
       "    </tr>\n",
       "    <tr>\n",
       "      <th>985</th>\n",
       "      <td>C_955163</td>\n",
       "      <td>3.0</td>\n",
       "    </tr>\n",
       "  </tbody>\n",
       "</table>\n",
       "<p>986 rows × 2 columns</p>\n",
       "</div>"
      ],
      "text/plain": [
       "     course_id  course_score\n",
       "0    C_1011639           3.0\n",
       "1    C_1017355           4.0\n",
       "2    C_1159827           3.0\n",
       "3    C_1196947           3.0\n",
       "4    C_1214863           3.0\n",
       "..         ...           ...\n",
       "981   C_948468           3.0\n",
       "982   C_948486           3.0\n",
       "983   C_948488           4.0\n",
       "984   C_949540           3.0\n",
       "985   C_955163           3.0\n",
       "\n",
       "[986 rows x 2 columns]"
      ]
     },
     "execution_count": 15,
     "metadata": {},
     "output_type": "execute_result"
    }
   ],
   "source": [
    "# Chuyển DataFrame về dạng bình thường với reset_index\n",
    "df2 = df_course_score.reset_index()\n",
    "\n",
    "# Hiển thị DataFrame kết quả\n",
    "df2"
   ]
  },
  {
   "cell_type": "code",
   "execution_count": 16,
   "id": "0b99600b",
   "metadata": {
    "execution": {
     "iopub.execute_input": "2024-12-05T08:28:37.804512Z",
     "iopub.status.busy": "2024-12-05T08:28:37.803725Z",
     "iopub.status.idle": "2024-12-05T08:28:37.811668Z",
     "shell.execute_reply": "2024-12-05T08:28:37.810608Z"
    },
    "papermill": {
     "duration": 0.019256,
     "end_time": "2024-12-05T08:28:37.813837",
     "exception": false,
     "start_time": "2024-12-05T08:28:37.794581",
     "status": "completed"
    },
    "tags": []
   },
   "outputs": [],
   "source": [
    "df2.to_csv(f\"/kaggle/working/labeled_courses.csv\", index=False)"
   ]
  }
 ],
 "metadata": {
  "kaggle": {
   "accelerator": "none",
   "dataSources": [
    {
     "sourceId": 211177015,
     "sourceType": "kernelVersion"
    }
   ],
   "dockerImageVersionId": 30804,
   "isGpuEnabled": false,
   "isInternetEnabled": true,
   "language": "python",
   "sourceType": "notebook"
  },
  "kernelspec": {
   "display_name": "Python 3",
   "language": "python",
   "name": "python3"
  },
  "language_info": {
   "codemirror_mode": {
    "name": "ipython",
    "version": 3
   },
   "file_extension": ".py",
   "mimetype": "text/x-python",
   "name": "python",
   "nbconvert_exporter": "python",
   "pygments_lexer": "ipython3",
   "version": "3.10.14"
  },
  "papermill": {
   "default_parameters": {},
   "duration": 10.941761,
   "end_time": "2024-12-05T08:28:38.443058",
   "environment_variables": {},
   "exception": null,
   "input_path": "__notebook__.ipynb",
   "output_path": "__notebook__.ipynb",
   "parameters": {},
   "start_time": "2024-12-05T08:28:27.501297",
   "version": "2.6.0"
  }
 },
 "nbformat": 4,
 "nbformat_minor": 5
}
