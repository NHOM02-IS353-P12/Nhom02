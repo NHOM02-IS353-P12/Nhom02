{
 "cells": [
  {
   "cell_type": "code",
   "execution_count": 1,
   "id": "e738231c",
   "metadata": {
    "execution": {
     "iopub.execute_input": "2024-12-03T16:51:09.804881Z",
     "iopub.status.busy": "2024-12-03T16:51:09.804364Z",
     "iopub.status.idle": "2024-12-03T16:51:09.814368Z",
     "shell.execute_reply": "2024-12-03T16:51:09.813330Z"
    },
    "papermill": {
     "duration": 0.018357,
     "end_time": "2024-12-03T16:51:09.816613",
     "exception": false,
     "start_time": "2024-12-03T16:51:09.798256",
     "status": "completed"
    },
    "tags": []
   },
   "outputs": [],
   "source": [
    "i = 5"
   ]
  },
  {
   "cell_type": "markdown",
   "id": "7982c708",
   "metadata": {
    "papermill": {
     "duration": 0.003264,
     "end_time": "2024-12-03T16:51:09.823933",
     "exception": false,
     "start_time": "2024-12-03T16:51:09.820669",
     "status": "completed"
    },
    "tags": []
   },
   "source": [
    "# Translating data"
   ]
  },
  {
   "cell_type": "markdown",
   "id": "c2c24483",
   "metadata": {
    "papermill": {
     "duration": 0.003125,
     "end_time": "2024-12-03T16:51:09.830566",
     "exception": false,
     "start_time": "2024-12-03T16:51:09.827441",
     "status": "completed"
    },
    "tags": []
   },
   "source": [
    "## Đọc dữ liệu"
   ]
  },
  {
   "cell_type": "code",
   "execution_count": 2,
   "id": "39b34022",
   "metadata": {
    "_cell_guid": "b1076dfc-b9ad-4769-8c92-a6c4dae69d19",
    "_uuid": "8f2839f25d086af736a60e9eeb907d3b93b6e0e5",
    "execution": {
     "iopub.execute_input": "2024-12-03T16:51:09.838944Z",
     "iopub.status.busy": "2024-12-03T16:51:09.838580Z",
     "iopub.status.idle": "2024-12-03T16:51:10.766158Z",
     "shell.execute_reply": "2024-12-03T16:51:10.764851Z"
    },
    "papermill": {
     "duration": 0.934578,
     "end_time": "2024-12-03T16:51:10.768517",
     "exception": false,
     "start_time": "2024-12-03T16:51:09.833939",
     "status": "completed"
    },
    "tags": []
   },
   "outputs": [
    {
     "name": "stdout",
     "output_type": "stream",
     "text": [
      "Số dòng dữ liệu: 6050\n"
     ]
    },
    {
     "data": {
      "text/html": [
       "<div>\n",
       "<style scoped>\n",
       "    .dataframe tbody tr th:only-of-type {\n",
       "        vertical-align: middle;\n",
       "    }\n",
       "\n",
       "    .dataframe tbody tr th {\n",
       "        vertical-align: top;\n",
       "    }\n",
       "\n",
       "    .dataframe thead th {\n",
       "        text-align: right;\n",
       "    }\n",
       "</style>\n",
       "<table border=\"1\" class=\"dataframe\">\n",
       "  <thead>\n",
       "    <tr style=\"text-align: right;\">\n",
       "      <th></th>\n",
       "      <th>course_id</th>\n",
       "      <th>text</th>\n",
       "      <th>filtered_text</th>\n",
       "      <th>count</th>\n",
       "    </tr>\n",
       "  </thead>\n",
       "  <tbody>\n",
       "    <tr>\n",
       "      <th>0</th>\n",
       "      <td>C_680745</td>\n",
       "      <td>这个课感觉很有趣</td>\n",
       "      <td>课感觉有趣</td>\n",
       "      <td>1.0</td>\n",
       "    </tr>\n",
       "    <tr>\n",
       "      <th>1</th>\n",
       "      <td>C_680745</td>\n",
       "      <td>胖总nb</td>\n",
       "      <td>胖总nb</td>\n",
       "      <td>1.0</td>\n",
       "    </tr>\n",
       "    <tr>\n",
       "      <th>2</th>\n",
       "      <td>C_680745</td>\n",
       "      <td>学习第一天</td>\n",
       "      <td>学习第一天</td>\n",
       "      <td>1.0</td>\n",
       "    </tr>\n",
       "    <tr>\n",
       "      <th>3</th>\n",
       "      <td>C_680745</td>\n",
       "      <td>打卡第一天</td>\n",
       "      <td>打卡第一天</td>\n",
       "      <td>6.0</td>\n",
       "    </tr>\n",
       "    <tr>\n",
       "      <th>4</th>\n",
       "      <td>C_680745</td>\n",
       "      <td>第三天打卡</td>\n",
       "      <td>第三天打卡</td>\n",
       "      <td>1.0</td>\n",
       "    </tr>\n",
       "  </tbody>\n",
       "</table>\n",
       "</div>"
      ],
      "text/plain": [
       "  course_id      text filtered_text  count\n",
       "0  C_680745  这个课感觉很有趣         课感觉有趣    1.0\n",
       "1  C_680745      胖总nb          胖总nb    1.0\n",
       "2  C_680745     学习第一天         学习第一天    1.0\n",
       "3  C_680745     打卡第一天         打卡第一天    6.0\n",
       "4  C_680745     第三天打卡         第三天打卡    1.0"
      ]
     },
     "execution_count": 2,
     "metadata": {},
     "output_type": "execute_result"
    }
   ],
   "source": [
    "import pandas as pd\n",
    "import numpy as np\n",
    "\n",
    "df = pd.read_csv(f\"/kaggle/input/preprocessing-3/cleaned_comments/file_{i}.csv\")\n",
    "print(\"Số dòng dữ liệu:\", len(df))\n",
    "df.head(5)"
   ]
  },
  {
   "cell_type": "code",
   "execution_count": 3,
   "id": "59c19b41",
   "metadata": {
    "execution": {
     "iopub.execute_input": "2024-12-03T16:51:10.778921Z",
     "iopub.status.busy": "2024-12-03T16:51:10.777936Z",
     "iopub.status.idle": "2024-12-03T16:51:10.788853Z",
     "shell.execute_reply": "2024-12-03T16:51:10.787820Z"
    },
    "papermill": {
     "duration": 0.018471,
     "end_time": "2024-12-03T16:51:10.791216",
     "exception": false,
     "start_time": "2024-12-03T16:51:10.772745",
     "status": "completed"
    },
    "tags": []
   },
   "outputs": [
    {
     "data": {
      "text/plain": [
       "course_id        0\n",
       "text             0\n",
       "filtered_text    0\n",
       "count            0\n",
       "dtype: int64"
      ]
     },
     "execution_count": 3,
     "metadata": {},
     "output_type": "execute_result"
    }
   ],
   "source": [
    "df.isnull().sum()"
   ]
  },
  {
   "cell_type": "markdown",
   "id": "2541df13",
   "metadata": {
    "papermill": {
     "duration": 0.003581,
     "end_time": "2024-12-03T16:51:10.798749",
     "exception": false,
     "start_time": "2024-12-03T16:51:10.795168",
     "status": "completed"
    },
    "tags": []
   },
   "source": [
    "## Dịch sang tiếng anh với thư viện GoogleTranslator"
   ]
  },
  {
   "cell_type": "code",
   "execution_count": 4,
   "id": "4657d279",
   "metadata": {
    "execution": {
     "iopub.execute_input": "2024-12-03T16:51:10.808100Z",
     "iopub.status.busy": "2024-12-03T16:51:10.807722Z",
     "iopub.status.idle": "2024-12-03T16:51:22.933205Z",
     "shell.execute_reply": "2024-12-03T16:51:22.932002Z"
    },
    "papermill": {
     "duration": 12.133011,
     "end_time": "2024-12-03T16:51:22.935767",
     "exception": false,
     "start_time": "2024-12-03T16:51:10.802756",
     "status": "completed"
    },
    "tags": []
   },
   "outputs": [
    {
     "name": "stdout",
     "output_type": "stream",
     "text": [
      "Collecting deep-translator\r\n",
      "  Downloading deep_translator-1.11.4-py3-none-any.whl.metadata (30 kB)\r\n",
      "Requirement already satisfied: beautifulsoup4<5.0.0,>=4.9.1 in /opt/conda/lib/python3.10/site-packages (from deep-translator) (4.12.3)\r\n",
      "Requirement already satisfied: requests<3.0.0,>=2.23.0 in /opt/conda/lib/python3.10/site-packages (from deep-translator) (2.32.3)\r\n",
      "Requirement already satisfied: soupsieve>1.2 in /opt/conda/lib/python3.10/site-packages (from beautifulsoup4<5.0.0,>=4.9.1->deep-translator) (2.5)\r\n",
      "Requirement already satisfied: charset-normalizer<4,>=2 in /opt/conda/lib/python3.10/site-packages (from requests<3.0.0,>=2.23.0->deep-translator) (3.3.2)\r\n",
      "Requirement already satisfied: idna<4,>=2.5 in /opt/conda/lib/python3.10/site-packages (from requests<3.0.0,>=2.23.0->deep-translator) (3.7)\r\n",
      "Requirement already satisfied: urllib3<3,>=1.21.1 in /opt/conda/lib/python3.10/site-packages (from requests<3.0.0,>=2.23.0->deep-translator) (1.26.18)\r\n",
      "Requirement already satisfied: certifi>=2017.4.17 in /opt/conda/lib/python3.10/site-packages (from requests<3.0.0,>=2.23.0->deep-translator) (2024.8.30)\r\n",
      "Downloading deep_translator-1.11.4-py3-none-any.whl (42 kB)\r\n",
      "\u001b[2K   \u001b[90m━━━━━━━━━━━━━━━━━━━━━━━━━━━━━━━━━━━━━━━━\u001b[0m \u001b[32m42.3/42.3 kB\u001b[0m \u001b[31m2.3 MB/s\u001b[0m eta \u001b[36m0:00:00\u001b[0m\r\n",
      "\u001b[?25hInstalling collected packages: deep-translator\r\n",
      "Successfully installed deep-translator-1.11.4\r\n"
     ]
    }
   ],
   "source": [
    "!pip install deep-translator"
   ]
  },
  {
   "cell_type": "code",
   "execution_count": 5,
   "id": "e60a992e",
   "metadata": {
    "execution": {
     "iopub.execute_input": "2024-12-03T16:51:22.946303Z",
     "iopub.status.busy": "2024-12-03T16:51:22.945746Z",
     "iopub.status.idle": "2024-12-03T16:51:32.842267Z",
     "shell.execute_reply": "2024-12-03T16:51:32.840949Z"
    },
    "papermill": {
     "duration": 9.904623,
     "end_time": "2024-12-03T16:51:32.844629",
     "exception": false,
     "start_time": "2024-12-03T16:51:22.940006",
     "status": "completed"
    },
    "tags": []
   },
   "outputs": [
    {
     "name": "stdout",
     "output_type": "stream",
     "text": [
      "Requirement already satisfied: tqdm in /opt/conda/lib/python3.10/site-packages (4.66.4)\r\n",
      "Note: you may need to restart the kernel to use updated packages.\n"
     ]
    }
   ],
   "source": [
    "pip install tqdm"
   ]
  },
  {
   "cell_type": "code",
   "execution_count": 6,
   "id": "8897a8a8",
   "metadata": {
    "execution": {
     "iopub.execute_input": "2024-12-03T16:51:32.856245Z",
     "iopub.status.busy": "2024-12-03T16:51:32.855810Z",
     "iopub.status.idle": "2024-12-03T18:59:59.300810Z",
     "shell.execute_reply": "2024-12-03T18:59:59.299516Z"
    },
    "papermill": {
     "duration": 7706.453401,
     "end_time": "2024-12-03T18:59:59.303303",
     "exception": false,
     "start_time": "2024-12-03T16:51:32.849902",
     "status": "completed"
    },
    "tags": []
   },
   "outputs": [
    {
     "name": "stderr",
     "output_type": "stream",
     "text": [
      "Tiến độ dịch: 100%|██████████| 6050/6050 [2:08:26<00:00,  1.27s/dòng]"
     ]
    },
    {
     "name": "stdout",
     "output_type": "stream",
     "text": [
      "Số dòng dữ liệu: 6050\n"
     ]
    },
    {
     "name": "stderr",
     "output_type": "stream",
     "text": [
      "\n"
     ]
    },
    {
     "data": {
      "text/html": [
       "<div>\n",
       "<style scoped>\n",
       "    .dataframe tbody tr th:only-of-type {\n",
       "        vertical-align: middle;\n",
       "    }\n",
       "\n",
       "    .dataframe tbody tr th {\n",
       "        vertical-align: top;\n",
       "    }\n",
       "\n",
       "    .dataframe thead th {\n",
       "        text-align: right;\n",
       "    }\n",
       "</style>\n",
       "<table border=\"1\" class=\"dataframe\">\n",
       "  <thead>\n",
       "    <tr style=\"text-align: right;\">\n",
       "      <th></th>\n",
       "      <th>course_id</th>\n",
       "      <th>text</th>\n",
       "      <th>filtered_text</th>\n",
       "      <th>count</th>\n",
       "      <th>text_vi</th>\n",
       "    </tr>\n",
       "  </thead>\n",
       "  <tbody>\n",
       "    <tr>\n",
       "      <th>0</th>\n",
       "      <td>C_680745</td>\n",
       "      <td>这个课感觉很有趣</td>\n",
       "      <td>课感觉有趣</td>\n",
       "      <td>1.0</td>\n",
       "      <td>Lớp học này cảm thấy rất thú vị</td>\n",
       "    </tr>\n",
       "    <tr>\n",
       "      <th>1</th>\n",
       "      <td>C_680745</td>\n",
       "      <td>胖总nb</td>\n",
       "      <td>胖总nb</td>\n",
       "      <td>1.0</td>\n",
       "      <td>Boss béo nb</td>\n",
       "    </tr>\n",
       "    <tr>\n",
       "      <th>2</th>\n",
       "      <td>C_680745</td>\n",
       "      <td>学习第一天</td>\n",
       "      <td>学习第一天</td>\n",
       "      <td>1.0</td>\n",
       "      <td>ngày đầu tiên đi học</td>\n",
       "    </tr>\n",
       "    <tr>\n",
       "      <th>3</th>\n",
       "      <td>C_680745</td>\n",
       "      <td>打卡第一天</td>\n",
       "      <td>打卡第一天</td>\n",
       "      <td>6.0</td>\n",
       "      <td>Kiểm tra ngày đầu tiên</td>\n",
       "    </tr>\n",
       "    <tr>\n",
       "      <th>4</th>\n",
       "      <td>C_680745</td>\n",
       "      <td>第三天打卡</td>\n",
       "      <td>第三天打卡</td>\n",
       "      <td>1.0</td>\n",
       "      <td>Kiểm tra vào ngày thứ ba</td>\n",
       "    </tr>\n",
       "  </tbody>\n",
       "</table>\n",
       "</div>"
      ],
      "text/plain": [
       "  course_id      text filtered_text  count                          text_vi\n",
       "0  C_680745  这个课感觉很有趣         课感觉有趣    1.0  Lớp học này cảm thấy rất thú vị\n",
       "1  C_680745      胖总nb          胖总nb    1.0                      Boss béo nb\n",
       "2  C_680745     学习第一天         学习第一天    1.0             ngày đầu tiên đi học\n",
       "3  C_680745     打卡第一天         打卡第一天    6.0           Kiểm tra ngày đầu tiên\n",
       "4  C_680745     第三天打卡         第三天打卡    1.0         Kiểm tra vào ngày thứ ba"
      ]
     },
     "execution_count": 6,
     "metadata": {},
     "output_type": "execute_result"
    }
   ],
   "source": [
    "from deep_translator import GoogleTranslator\n",
    "import pandas as pd\n",
    "from tqdm import tqdm  # Import tqdm để sử dụng thanh tiến độ\n",
    "\n",
    "# Khởi tạo đối tượng GoogleTranslator\n",
    "translator = GoogleTranslator(source='zh-CN', target='vi')\n",
    "\n",
    "# Tạo cột 'text_en' nếu chưa có\n",
    "if 'text_vi' not in df.columns:\n",
    "    df['text_vi'] = None\n",
    "\n",
    "df['text'] = df['text'].astype(str)\n",
    "# Sử dụng tqdm để tạo thanh tiến độ\n",
    "with tqdm(total=len(df), desc=\"Tiến độ dịch\", unit=\"dòng\") as pbar:\n",
    "    for idx, row in df.iterrows():\n",
    "        if pd.isna(row['text_vi']):  # Chỉ dịch nếu chưa có dữ liệu\n",
    "            try:\n",
    "                # Dịch từ tiếng Trung giản thể (zh-CN) sang tiếng Anh (en)\n",
    "                text_trans = translator.translate(str(row['text']))\n",
    "                df.loc[idx, 'text_vi'] = text_trans  # Sử dụng .loc để tránh SettingWithCopyWarning\n",
    "            except Exception as e:\n",
    "                print(f\"Error translating row {idx}: {e}\")\n",
    "        \n",
    "        # Cập nhật thanh tiến độ\n",
    "        pbar.update(1)\n",
    "\n",
    "# Hiển thị DataFrame để kiểm tra\n",
    "print(\"Số dòng dữ liệu:\", len(df))\n",
    "df.head(5)"
   ]
  },
  {
   "cell_type": "code",
   "execution_count": 7,
   "id": "8b210653",
   "metadata": {
    "execution": {
     "iopub.execute_input": "2024-12-03T18:59:59.952935Z",
     "iopub.status.busy": "2024-12-03T18:59:59.952362Z",
     "iopub.status.idle": "2024-12-03T18:59:59.959640Z",
     "shell.execute_reply": "2024-12-03T18:59:59.958373Z"
    },
    "papermill": {
     "duration": 0.33273,
     "end_time": "2024-12-03T18:59:59.961981",
     "exception": false,
     "start_time": "2024-12-03T18:59:59.629251",
     "status": "completed"
    },
    "tags": []
   },
   "outputs": [],
   "source": [
    "df['text'] = df['text'].astype(str)\n",
    "df['text_vi'] = df['text_vi'].astype(str)"
   ]
  },
  {
   "cell_type": "markdown",
   "id": "5ea299d1",
   "metadata": {
    "papermill": {
     "duration": 0.379804,
     "end_time": "2024-12-03T19:00:00.667643",
     "exception": false,
     "start_time": "2024-12-03T19:00:00.287839",
     "status": "completed"
    },
    "tags": []
   },
   "source": [
    "## Lưu file đã dịch"
   ]
  },
  {
   "cell_type": "code",
   "execution_count": 8,
   "id": "d761d3b5",
   "metadata": {
    "execution": {
     "iopub.execute_input": "2024-12-03T19:00:01.319380Z",
     "iopub.status.busy": "2024-12-03T19:00:01.318973Z",
     "iopub.status.idle": "2024-12-03T19:00:01.385465Z",
     "shell.execute_reply": "2024-12-03T19:00:01.384427Z"
    },
    "papermill": {
     "duration": 0.396247,
     "end_time": "2024-12-03T19:00:01.387901",
     "exception": false,
     "start_time": "2024-12-03T19:00:00.991654",
     "status": "completed"
    },
    "tags": []
   },
   "outputs": [],
   "source": [
    "df.to_csv(f'/kaggle/working/translated_comments_{i}.csv', index=False)"
   ]
  },
  {
   "cell_type": "markdown",
   "id": "17a48274",
   "metadata": {
    "papermill": {
     "duration": 0.384176,
     "end_time": "2024-12-03T19:00:02.092709",
     "exception": false,
     "start_time": "2024-12-03T19:00:01.708533",
     "status": "completed"
    },
    "tags": []
   },
   "source": [
    "# File i+1"
   ]
  },
  {
   "cell_type": "code",
   "execution_count": 9,
   "id": "092e8248",
   "metadata": {
    "execution": {
     "iopub.execute_input": "2024-12-03T19:00:02.751915Z",
     "iopub.status.busy": "2024-12-03T19:00:02.751549Z",
     "iopub.status.idle": "2024-12-03T19:00:02.840558Z",
     "shell.execute_reply": "2024-12-03T19:00:02.839379Z"
    },
    "papermill": {
     "duration": 0.421081,
     "end_time": "2024-12-03T19:00:02.842681",
     "exception": false,
     "start_time": "2024-12-03T19:00:02.421600",
     "status": "completed"
    },
    "tags": []
   },
   "outputs": [
    {
     "name": "stdout",
     "output_type": "stream",
     "text": [
      "Số dòng dữ liệu: 8656\n"
     ]
    },
    {
     "data": {
      "text/html": [
       "<div>\n",
       "<style scoped>\n",
       "    .dataframe tbody tr th:only-of-type {\n",
       "        vertical-align: middle;\n",
       "    }\n",
       "\n",
       "    .dataframe tbody tr th {\n",
       "        vertical-align: top;\n",
       "    }\n",
       "\n",
       "    .dataframe thead th {\n",
       "        text-align: right;\n",
       "    }\n",
       "</style>\n",
       "<table border=\"1\" class=\"dataframe\">\n",
       "  <thead>\n",
       "    <tr style=\"text-align: right;\">\n",
       "      <th></th>\n",
       "      <th>course_id</th>\n",
       "      <th>text</th>\n",
       "      <th>filtered_text</th>\n",
       "      <th>count</th>\n",
       "    </tr>\n",
       "  </thead>\n",
       "  <tbody>\n",
       "    <tr>\n",
       "      <th>0</th>\n",
       "      <td>C_680993</td>\n",
       "      <td>收到</td>\n",
       "      <td>收到</td>\n",
       "      <td>1.0</td>\n",
       "    </tr>\n",
       "    <tr>\n",
       "      <th>1</th>\n",
       "      <td>C_680993</td>\n",
       "      <td>优秀老师优秀课程</td>\n",
       "      <td>优秀老师优秀课程</td>\n",
       "      <td>1.0</td>\n",
       "    </tr>\n",
       "    <tr>\n",
       "      <th>2</th>\n",
       "      <td>C_680993</td>\n",
       "      <td>亲切优秀</td>\n",
       "      <td>亲切优秀</td>\n",
       "      <td>1.0</td>\n",
       "    </tr>\n",
       "    <tr>\n",
       "      <th>3</th>\n",
       "      <td>C_680993</td>\n",
       "      <td>亲切优秀</td>\n",
       "      <td>亲切优秀</td>\n",
       "      <td>1.0</td>\n",
       "    </tr>\n",
       "    <tr>\n",
       "      <th>4</th>\n",
       "      <td>C_680993</td>\n",
       "      <td>我希望我们的生活中的建筑在满足专业设计的基础上有更多的便利性和美感</td>\n",
       "      <td>希望生活建筑满足专业设计基础便利性美感</td>\n",
       "      <td>1.0</td>\n",
       "    </tr>\n",
       "  </tbody>\n",
       "</table>\n",
       "</div>"
      ],
      "text/plain": [
       "  course_id                               text        filtered_text  count\n",
       "0  C_680993                                 收到                   收到    1.0\n",
       "1  C_680993                           优秀老师优秀课程             优秀老师优秀课程    1.0\n",
       "2  C_680993                               亲切优秀                 亲切优秀    1.0\n",
       "3  C_680993                               亲切优秀                 亲切优秀    1.0\n",
       "4  C_680993  我希望我们的生活中的建筑在满足专业设计的基础上有更多的便利性和美感  希望生活建筑满足专业设计基础便利性美感    1.0"
      ]
     },
     "execution_count": 9,
     "metadata": {},
     "output_type": "execute_result"
    }
   ],
   "source": [
    "import pandas as pd\n",
    "import numpy as np\n",
    "\n",
    "df = pd.read_csv(f\"/kaggle/input/preprocessing-3/cleaned_comments/file_{i+1}.csv\")\n",
    "print(\"Số dòng dữ liệu:\", len(df))\n",
    "df.head(5)"
   ]
  },
  {
   "cell_type": "code",
   "execution_count": 10,
   "id": "ae6c365f",
   "metadata": {
    "execution": {
     "iopub.execute_input": "2024-12-03T19:00:03.558516Z",
     "iopub.status.busy": "2024-12-03T19:00:03.558137Z",
     "iopub.status.idle": "2024-12-03T22:15:26.158951Z",
     "shell.execute_reply": "2024-12-03T22:15:26.157528Z"
    },
    "papermill": {
     "duration": 11722.990955,
     "end_time": "2024-12-03T22:15:26.164525",
     "exception": false,
     "start_time": "2024-12-03T19:00:03.173570",
     "status": "completed"
    },
    "tags": []
   },
   "outputs": [
    {
     "name": "stderr",
     "output_type": "stream",
     "text": [
      "Tiến độ dịch: 100%|██████████| 8656/8656 [3:15:22<00:00,  1.35s/dòng]"
     ]
    },
    {
     "name": "stdout",
     "output_type": "stream",
     "text": [
      "Số dòng dữ liệu: 8656\n"
     ]
    },
    {
     "name": "stderr",
     "output_type": "stream",
     "text": [
      "\n"
     ]
    },
    {
     "data": {
      "text/html": [
       "<div>\n",
       "<style scoped>\n",
       "    .dataframe tbody tr th:only-of-type {\n",
       "        vertical-align: middle;\n",
       "    }\n",
       "\n",
       "    .dataframe tbody tr th {\n",
       "        vertical-align: top;\n",
       "    }\n",
       "\n",
       "    .dataframe thead th {\n",
       "        text-align: right;\n",
       "    }\n",
       "</style>\n",
       "<table border=\"1\" class=\"dataframe\">\n",
       "  <thead>\n",
       "    <tr style=\"text-align: right;\">\n",
       "      <th></th>\n",
       "      <th>course_id</th>\n",
       "      <th>text</th>\n",
       "      <th>filtered_text</th>\n",
       "      <th>count</th>\n",
       "      <th>text_vi</th>\n",
       "    </tr>\n",
       "  </thead>\n",
       "  <tbody>\n",
       "    <tr>\n",
       "      <th>0</th>\n",
       "      <td>C_680993</td>\n",
       "      <td>收到</td>\n",
       "      <td>收到</td>\n",
       "      <td>1.0</td>\n",
       "      <td>nhận được</td>\n",
       "    </tr>\n",
       "    <tr>\n",
       "      <th>1</th>\n",
       "      <td>C_680993</td>\n",
       "      <td>优秀老师优秀课程</td>\n",
       "      <td>优秀老师优秀课程</td>\n",
       "      <td>1.0</td>\n",
       "      <td>Giáo viên xuất sắc và các khóa học xuất sắc</td>\n",
       "    </tr>\n",
       "    <tr>\n",
       "      <th>2</th>\n",
       "      <td>C_680993</td>\n",
       "      <td>亲切优秀</td>\n",
       "      <td>亲切优秀</td>\n",
       "      <td>1.0</td>\n",
       "      <td>Thân thiện và xuất sắc</td>\n",
       "    </tr>\n",
       "    <tr>\n",
       "      <th>3</th>\n",
       "      <td>C_680993</td>\n",
       "      <td>亲切优秀</td>\n",
       "      <td>亲切优秀</td>\n",
       "      <td>1.0</td>\n",
       "      <td>Thân thiện và xuất sắc</td>\n",
       "    </tr>\n",
       "    <tr>\n",
       "      <th>4</th>\n",
       "      <td>C_680993</td>\n",
       "      <td>我希望我们的生活中的建筑在满足专业设计的基础上有更多的便利性和美感</td>\n",
       "      <td>希望生活建筑满足专业设计基础便利性美感</td>\n",
       "      <td>1.0</td>\n",
       "      <td>Tôi hy vọng rằng các công trình trong cuộc sốn...</td>\n",
       "    </tr>\n",
       "  </tbody>\n",
       "</table>\n",
       "</div>"
      ],
      "text/plain": [
       "  course_id                               text        filtered_text  count  \\\n",
       "0  C_680993                                 收到                   收到    1.0   \n",
       "1  C_680993                           优秀老师优秀课程             优秀老师优秀课程    1.0   \n",
       "2  C_680993                               亲切优秀                 亲切优秀    1.0   \n",
       "3  C_680993                               亲切优秀                 亲切优秀    1.0   \n",
       "4  C_680993  我希望我们的生活中的建筑在满足专业设计的基础上有更多的便利性和美感  希望生活建筑满足专业设计基础便利性美感    1.0   \n",
       "\n",
       "                                             text_vi  \n",
       "0                                          nhận được  \n",
       "1        Giáo viên xuất sắc và các khóa học xuất sắc  \n",
       "2                             Thân thiện và xuất sắc  \n",
       "3                             Thân thiện và xuất sắc  \n",
       "4  Tôi hy vọng rằng các công trình trong cuộc sốn...  "
      ]
     },
     "execution_count": 10,
     "metadata": {},
     "output_type": "execute_result"
    }
   ],
   "source": [
    "from deep_translator import GoogleTranslator\n",
    "import pandas as pd\n",
    "from tqdm import tqdm  # Import tqdm để sử dụng thanh tiến độ\n",
    "\n",
    "# Khởi tạo đối tượng GoogleTranslator\n",
    "translator = GoogleTranslator(source='zh-CN', target='vi')\n",
    "\n",
    "# Tạo cột 'text_en' nếu chưa có\n",
    "if 'text_vi' not in df.columns:\n",
    "    df['text_vi'] = None\n",
    "\n",
    "df['text'] = df['text'].astype(str)\n",
    "# Sử dụng tqdm để tạo thanh tiến độ\n",
    "with tqdm(total=len(df), desc=\"Tiến độ dịch\", unit=\"dòng\") as pbar:\n",
    "    for idx, row in df.iterrows():\n",
    "        if pd.isna(row['text_vi']):  # Chỉ dịch nếu chưa có dữ liệu\n",
    "            try:\n",
    "                # Dịch từ tiếng Trung giản thể (zh-CN) sang tiếng Anh (en)\n",
    "                text_trans = translator.translate(str(row['text']))\n",
    "                df.loc[idx, 'text_vi'] = text_trans  # Sử dụng .loc để tránh SettingWithCopyWarning\n",
    "            except Exception as e:\n",
    "                print(f\"Error translating row {idx}: {e}\")\n",
    "        \n",
    "        # Cập nhật thanh tiến độ\n",
    "        pbar.update(1)\n",
    "\n",
    "# Hiển thị DataFrame để kiểm tra\n",
    "print(\"Số dòng dữ liệu:\", len(df))\n",
    "df.head(5)"
   ]
  },
  {
   "cell_type": "code",
   "execution_count": 11,
   "id": "81b63a30",
   "metadata": {
    "execution": {
     "iopub.execute_input": "2024-12-03T22:15:28.062697Z",
     "iopub.status.busy": "2024-12-03T22:15:28.062233Z",
     "iopub.status.idle": "2024-12-03T22:15:28.070682Z",
     "shell.execute_reply": "2024-12-03T22:15:28.069546Z"
    },
    "papermill": {
     "duration": 0.847505,
     "end_time": "2024-12-03T22:15:28.073338",
     "exception": false,
     "start_time": "2024-12-03T22:15:27.225833",
     "status": "completed"
    },
    "tags": []
   },
   "outputs": [],
   "source": [
    "df['text'] = df['text'].astype(str)\n",
    "df['text_vi'] = df['text_vi'].astype(str)"
   ]
  },
  {
   "cell_type": "code",
   "execution_count": 12,
   "id": "e550c4ab",
   "metadata": {
    "execution": {
     "iopub.execute_input": "2024-12-03T22:15:29.946724Z",
     "iopub.status.busy": "2024-12-03T22:15:29.946167Z",
     "iopub.status.idle": "2024-12-03T22:15:30.038359Z",
     "shell.execute_reply": "2024-12-03T22:15:30.036407Z"
    },
    "papermill": {
     "duration": 1.04498,
     "end_time": "2024-12-03T22:15:30.041665",
     "exception": false,
     "start_time": "2024-12-03T22:15:28.996685",
     "status": "completed"
    },
    "tags": []
   },
   "outputs": [],
   "source": [
    "df.to_csv(f'/kaggle/working/translated_comments_{i+1}.csv', index=False)"
   ]
  }
 ],
 "metadata": {
  "kaggle": {
   "accelerator": "none",
   "dataSources": [
    {
     "sourceId": 209897750,
     "sourceType": "kernelVersion"
    }
   ],
   "dockerImageVersionId": 30787,
   "isGpuEnabled": false,
   "isInternetEnabled": true,
   "language": "python",
   "sourceType": "notebook"
  },
  "kernelspec": {
   "display_name": "Python 3",
   "language": "python",
   "name": "python3"
  },
  "language_info": {
   "codemirror_mode": {
    "name": "ipython",
    "version": 3
   },
   "file_extension": ".py",
   "mimetype": "text/x-python",
   "name": "python",
   "nbconvert_exporter": "python",
   "pygments_lexer": "ipython3",
   "version": "3.10.14"
  },
  "papermill": {
   "default_parameters": {},
   "duration": 19464.616498,
   "end_time": "2024-12-03T22:15:31.635852",
   "environment_variables": {},
   "exception": null,
   "input_path": "__notebook__.ipynb",
   "output_path": "__notebook__.ipynb",
   "parameters": {},
   "start_time": "2024-12-03T16:51:07.019354",
   "version": "2.6.0"
  }
 },
 "nbformat": 4,
 "nbformat_minor": 5
}
