{
 "cells": [
  {
   "cell_type": "code",
   "execution_count": 1,
   "id": "f54dc738",
   "metadata": {
    "execution": {
     "iopub.execute_input": "2024-12-03T16:50:29.137391Z",
     "iopub.status.busy": "2024-12-03T16:50:29.136929Z",
     "iopub.status.idle": "2024-12-03T16:50:29.148090Z",
     "shell.execute_reply": "2024-12-03T16:50:29.146610Z"
    },
    "papermill": {
     "duration": 0.02022,
     "end_time": "2024-12-03T16:50:29.150573",
     "exception": false,
     "start_time": "2024-12-03T16:50:29.130353",
     "status": "completed"
    },
    "tags": []
   },
   "outputs": [],
   "source": [
    "i = 1"
   ]
  },
  {
   "cell_type": "markdown",
   "id": "478c174d",
   "metadata": {
    "papermill": {
     "duration": 0.003295,
     "end_time": "2024-12-03T16:50:29.157711",
     "exception": false,
     "start_time": "2024-12-03T16:50:29.154416",
     "status": "completed"
    },
    "tags": []
   },
   "source": [
    "# Translating data"
   ]
  },
  {
   "cell_type": "markdown",
   "id": "0e523f66",
   "metadata": {
    "papermill": {
     "duration": 0.003204,
     "end_time": "2024-12-03T16:50:29.164773",
     "exception": false,
     "start_time": "2024-12-03T16:50:29.161569",
     "status": "completed"
    },
    "tags": []
   },
   "source": [
    "## Đọc dữ liệu"
   ]
  },
  {
   "cell_type": "code",
   "execution_count": 2,
   "id": "534f2931",
   "metadata": {
    "_cell_guid": "b1076dfc-b9ad-4769-8c92-a6c4dae69d19",
    "_uuid": "8f2839f25d086af736a60e9eeb907d3b93b6e0e5",
    "execution": {
     "iopub.execute_input": "2024-12-03T16:50:29.173312Z",
     "iopub.status.busy": "2024-12-03T16:50:29.172860Z",
     "iopub.status.idle": "2024-12-03T16:50:30.331267Z",
     "shell.execute_reply": "2024-12-03T16:50:30.329856Z"
    },
    "papermill": {
     "duration": 1.165399,
     "end_time": "2024-12-03T16:50:30.333547",
     "exception": false,
     "start_time": "2024-12-03T16:50:29.168148",
     "status": "completed"
    },
    "tags": []
   },
   "outputs": [
    {
     "name": "stdout",
     "output_type": "stream",
     "text": [
      "Số dòng dữ liệu: 5644\n"
     ]
    },
    {
     "data": {
      "text/html": [
       "<div>\n",
       "<style scoped>\n",
       "    .dataframe tbody tr th:only-of-type {\n",
       "        vertical-align: middle;\n",
       "    }\n",
       "\n",
       "    .dataframe tbody tr th {\n",
       "        vertical-align: top;\n",
       "    }\n",
       "\n",
       "    .dataframe thead th {\n",
       "        text-align: right;\n",
       "    }\n",
       "</style>\n",
       "<table border=\"1\" class=\"dataframe\">\n",
       "  <thead>\n",
       "    <tr style=\"text-align: right;\">\n",
       "      <th></th>\n",
       "      <th>course_id</th>\n",
       "      <th>text</th>\n",
       "      <th>filtered_text</th>\n",
       "      <th>count</th>\n",
       "    </tr>\n",
       "  </thead>\n",
       "  <tbody>\n",
       "    <tr>\n",
       "      <th>0</th>\n",
       "      <td>C_1011639</td>\n",
       "      <td>各位都是清华的</td>\n",
       "      <td>清华</td>\n",
       "      <td>1.0</td>\n",
       "    </tr>\n",
       "    <tr>\n",
       "      <th>1</th>\n",
       "      <td>C_1011639</td>\n",
       "      <td>倒计时2min</td>\n",
       "      <td>倒计时2min</td>\n",
       "      <td>1.0</td>\n",
       "    </tr>\n",
       "    <tr>\n",
       "      <th>2</th>\n",
       "      <td>C_1011639</td>\n",
       "      <td>实在是闲居然很想看这个直播</td>\n",
       "      <td>实在闲居然想直播</td>\n",
       "      <td>1.0</td>\n",
       "    </tr>\n",
       "    <tr>\n",
       "      <th>3</th>\n",
       "      <td>C_1011639</td>\n",
       "      <td>签到</td>\n",
       "      <td>签到</td>\n",
       "      <td>23.0</td>\n",
       "    </tr>\n",
       "    <tr>\n",
       "      <th>4</th>\n",
       "      <td>C_1011639</td>\n",
       "      <td>雨课堂加入不了班级</td>\n",
       "      <td>雨课堂加入不了班级</td>\n",
       "      <td>1.0</td>\n",
       "    </tr>\n",
       "  </tbody>\n",
       "</table>\n",
       "</div>"
      ],
      "text/plain": [
       "   course_id           text filtered_text  count\n",
       "0  C_1011639        各位都是清华的            清华    1.0\n",
       "1  C_1011639        倒计时2min       倒计时2min    1.0\n",
       "2  C_1011639  实在是闲居然很想看这个直播      实在闲居然想直播    1.0\n",
       "3  C_1011639             签到            签到   23.0\n",
       "4  C_1011639      雨课堂加入不了班级     雨课堂加入不了班级    1.0"
      ]
     },
     "execution_count": 2,
     "metadata": {},
     "output_type": "execute_result"
    }
   ],
   "source": [
    "import pandas as pd\n",
    "import numpy as np\n",
    "\n",
    "df = pd.read_csv(f\"/kaggle/input/preprocessing-3/cleaned_comments/file_{i}.csv\")\n",
    "print(\"Số dòng dữ liệu:\", len(df))\n",
    "df.head(5)"
   ]
  },
  {
   "cell_type": "code",
   "execution_count": 3,
   "id": "cc30d770",
   "metadata": {
    "execution": {
     "iopub.execute_input": "2024-12-03T16:50:30.343891Z",
     "iopub.status.busy": "2024-12-03T16:50:30.343474Z",
     "iopub.status.idle": "2024-12-03T16:50:30.355139Z",
     "shell.execute_reply": "2024-12-03T16:50:30.353463Z"
    },
    "papermill": {
     "duration": 0.019951,
     "end_time": "2024-12-03T16:50:30.357614",
     "exception": false,
     "start_time": "2024-12-03T16:50:30.337663",
     "status": "completed"
    },
    "tags": []
   },
   "outputs": [
    {
     "data": {
      "text/plain": [
       "course_id        0\n",
       "text             0\n",
       "filtered_text    2\n",
       "count            0\n",
       "dtype: int64"
      ]
     },
     "execution_count": 3,
     "metadata": {},
     "output_type": "execute_result"
    }
   ],
   "source": [
    "df.isnull().sum()"
   ]
  },
  {
   "cell_type": "markdown",
   "id": "d67f5376",
   "metadata": {
    "papermill": {
     "duration": 0.003697,
     "end_time": "2024-12-03T16:50:30.365622",
     "exception": false,
     "start_time": "2024-12-03T16:50:30.361925",
     "status": "completed"
    },
    "tags": []
   },
   "source": [
    "## Dịch sang tiếng anh với thư viện GoogleTranslator"
   ]
  },
  {
   "cell_type": "code",
   "execution_count": 4,
   "id": "f150f7bc",
   "metadata": {
    "execution": {
     "iopub.execute_input": "2024-12-03T16:50:30.375258Z",
     "iopub.status.busy": "2024-12-03T16:50:30.374843Z",
     "iopub.status.idle": "2024-12-03T16:50:43.925633Z",
     "shell.execute_reply": "2024-12-03T16:50:43.924148Z"
    },
    "papermill": {
     "duration": 13.558628,
     "end_time": "2024-12-03T16:50:43.928225",
     "exception": false,
     "start_time": "2024-12-03T16:50:30.369597",
     "status": "completed"
    },
    "tags": []
   },
   "outputs": [
    {
     "name": "stdout",
     "output_type": "stream",
     "text": [
      "Collecting deep-translator\r\n",
      "  Downloading deep_translator-1.11.4-py3-none-any.whl.metadata (30 kB)\r\n",
      "Requirement already satisfied: beautifulsoup4<5.0.0,>=4.9.1 in /opt/conda/lib/python3.10/site-packages (from deep-translator) (4.12.3)\r\n",
      "Requirement already satisfied: requests<3.0.0,>=2.23.0 in /opt/conda/lib/python3.10/site-packages (from deep-translator) (2.32.3)\r\n",
      "Requirement already satisfied: soupsieve>1.2 in /opt/conda/lib/python3.10/site-packages (from beautifulsoup4<5.0.0,>=4.9.1->deep-translator) (2.5)\r\n",
      "Requirement already satisfied: charset-normalizer<4,>=2 in /opt/conda/lib/python3.10/site-packages (from requests<3.0.0,>=2.23.0->deep-translator) (3.3.2)\r\n",
      "Requirement already satisfied: idna<4,>=2.5 in /opt/conda/lib/python3.10/site-packages (from requests<3.0.0,>=2.23.0->deep-translator) (3.7)\r\n",
      "Requirement already satisfied: urllib3<3,>=1.21.1 in /opt/conda/lib/python3.10/site-packages (from requests<3.0.0,>=2.23.0->deep-translator) (1.26.18)\r\n",
      "Requirement already satisfied: certifi>=2017.4.17 in /opt/conda/lib/python3.10/site-packages (from requests<3.0.0,>=2.23.0->deep-translator) (2024.8.30)\r\n",
      "Downloading deep_translator-1.11.4-py3-none-any.whl (42 kB)\r\n",
      "\u001b[2K   \u001b[90m━━━━━━━━━━━━━━━━━━━━━━━━━━━━━━━━━━━━━━━━\u001b[0m \u001b[32m42.3/42.3 kB\u001b[0m \u001b[31m1.8 MB/s\u001b[0m eta \u001b[36m0:00:00\u001b[0m\r\n",
      "\u001b[?25hInstalling collected packages: deep-translator\r\n",
      "Successfully installed deep-translator-1.11.4\r\n"
     ]
    }
   ],
   "source": [
    "!pip install deep-translator"
   ]
  },
  {
   "cell_type": "code",
   "execution_count": 5,
   "id": "89b968ec",
   "metadata": {
    "execution": {
     "iopub.execute_input": "2024-12-03T16:50:43.938815Z",
     "iopub.status.busy": "2024-12-03T16:50:43.938362Z",
     "iopub.status.idle": "2024-12-03T16:50:54.572942Z",
     "shell.execute_reply": "2024-12-03T16:50:54.571367Z"
    },
    "papermill": {
     "duration": 10.642947,
     "end_time": "2024-12-03T16:50:54.575495",
     "exception": false,
     "start_time": "2024-12-03T16:50:43.932548",
     "status": "completed"
    },
    "tags": []
   },
   "outputs": [
    {
     "name": "stdout",
     "output_type": "stream",
     "text": [
      "Requirement already satisfied: tqdm in /opt/conda/lib/python3.10/site-packages (4.66.4)\r\n",
      "Note: you may need to restart the kernel to use updated packages.\n"
     ]
    }
   ],
   "source": [
    "pip install tqdm"
   ]
  },
  {
   "cell_type": "code",
   "execution_count": 6,
   "id": "8a240924",
   "metadata": {
    "execution": {
     "iopub.execute_input": "2024-12-03T16:50:54.587837Z",
     "iopub.status.busy": "2024-12-03T16:50:54.587337Z",
     "iopub.status.idle": "2024-12-03T18:36:53.759969Z",
     "shell.execute_reply": "2024-12-03T18:36:53.758569Z"
    },
    "papermill": {
     "duration": 6359.181162,
     "end_time": "2024-12-03T18:36:53.762302",
     "exception": false,
     "start_time": "2024-12-03T16:50:54.581140",
     "status": "completed"
    },
    "tags": []
   },
   "outputs": [
    {
     "name": "stderr",
     "output_type": "stream",
     "text": [
      "Tiến độ dịch: 100%|██████████| 5644/5644 [1:45:58<00:00,  1.13s/dòng]"
     ]
    },
    {
     "name": "stdout",
     "output_type": "stream",
     "text": [
      "Số dòng dữ liệu: 5644\n"
     ]
    },
    {
     "name": "stderr",
     "output_type": "stream",
     "text": [
      "\n"
     ]
    },
    {
     "data": {
      "text/html": [
       "<div>\n",
       "<style scoped>\n",
       "    .dataframe tbody tr th:only-of-type {\n",
       "        vertical-align: middle;\n",
       "    }\n",
       "\n",
       "    .dataframe tbody tr th {\n",
       "        vertical-align: top;\n",
       "    }\n",
       "\n",
       "    .dataframe thead th {\n",
       "        text-align: right;\n",
       "    }\n",
       "</style>\n",
       "<table border=\"1\" class=\"dataframe\">\n",
       "  <thead>\n",
       "    <tr style=\"text-align: right;\">\n",
       "      <th></th>\n",
       "      <th>course_id</th>\n",
       "      <th>text</th>\n",
       "      <th>filtered_text</th>\n",
       "      <th>count</th>\n",
       "      <th>text_vi</th>\n",
       "    </tr>\n",
       "  </thead>\n",
       "  <tbody>\n",
       "    <tr>\n",
       "      <th>0</th>\n",
       "      <td>C_1011639</td>\n",
       "      <td>各位都是清华的</td>\n",
       "      <td>清华</td>\n",
       "      <td>1.0</td>\n",
       "      <td>Mọi người đều đến từ Đại học Thanh Hoa</td>\n",
       "    </tr>\n",
       "    <tr>\n",
       "      <th>1</th>\n",
       "      <td>C_1011639</td>\n",
       "      <td>倒计时2min</td>\n",
       "      <td>倒计时2min</td>\n",
       "      <td>1.0</td>\n",
       "      <td>Đếm ngược đến 2 phút</td>\n",
       "    </tr>\n",
       "    <tr>\n",
       "      <th>2</th>\n",
       "      <td>C_1011639</td>\n",
       "      <td>实在是闲居然很想看这个直播</td>\n",
       "      <td>实在闲居然想直播</td>\n",
       "      <td>1.0</td>\n",
       "      <td>Tôi thực sự muốn xem chương trình phát sóng tr...</td>\n",
       "    </tr>\n",
       "    <tr>\n",
       "      <th>3</th>\n",
       "      <td>C_1011639</td>\n",
       "      <td>签到</td>\n",
       "      <td>签到</td>\n",
       "      <td>23.0</td>\n",
       "      <td>Đăng nhập</td>\n",
       "    </tr>\n",
       "    <tr>\n",
       "      <th>4</th>\n",
       "      <td>C_1011639</td>\n",
       "      <td>雨课堂加入不了班级</td>\n",
       "      <td>雨课堂加入不了班级</td>\n",
       "      <td>1.0</td>\n",
       "      <td>Không thể tham gia lớp học trong Rain Classroom</td>\n",
       "    </tr>\n",
       "  </tbody>\n",
       "</table>\n",
       "</div>"
      ],
      "text/plain": [
       "   course_id           text filtered_text  count  \\\n",
       "0  C_1011639        各位都是清华的            清华    1.0   \n",
       "1  C_1011639        倒计时2min       倒计时2min    1.0   \n",
       "2  C_1011639  实在是闲居然很想看这个直播      实在闲居然想直播    1.0   \n",
       "3  C_1011639             签到            签到   23.0   \n",
       "4  C_1011639      雨课堂加入不了班级     雨课堂加入不了班级    1.0   \n",
       "\n",
       "                                             text_vi  \n",
       "0             Mọi người đều đến từ Đại học Thanh Hoa  \n",
       "1                               Đếm ngược đến 2 phút  \n",
       "2  Tôi thực sự muốn xem chương trình phát sóng tr...  \n",
       "3                                          Đăng nhập  \n",
       "4    Không thể tham gia lớp học trong Rain Classroom  "
      ]
     },
     "execution_count": 6,
     "metadata": {},
     "output_type": "execute_result"
    }
   ],
   "source": [
    "from deep_translator import GoogleTranslator\n",
    "import pandas as pd\n",
    "from tqdm import tqdm  # Import tqdm để sử dụng thanh tiến độ\n",
    "\n",
    "# Khởi tạo đối tượng GoogleTranslator\n",
    "translator = GoogleTranslator(source='zh-CN', target='vi')\n",
    "\n",
    "# Tạo cột 'text_en' nếu chưa có\n",
    "if 'text_vi' not in df.columns:\n",
    "    df['text_vi'] = None\n",
    "\n",
    "df['text'] = df['text'].astype(str)\n",
    "# Sử dụng tqdm để tạo thanh tiến độ\n",
    "with tqdm(total=len(df), desc=\"Tiến độ dịch\", unit=\"dòng\") as pbar:\n",
    "    for idx, row in df.iterrows():\n",
    "        if pd.isna(row['text_vi']):  # Chỉ dịch nếu chưa có dữ liệu\n",
    "            try:\n",
    "                # Dịch từ tiếng Trung giản thể (zh-CN) sang tiếng Anh (en)\n",
    "                text_trans = translator.translate(str(row['text']))\n",
    "                df.loc[idx, 'text_vi'] = text_trans  # Sử dụng .loc để tránh SettingWithCopyWarning\n",
    "            except Exception as e:\n",
    "                print(f\"Error translating row {idx}: {e}\")\n",
    "        \n",
    "        # Cập nhật thanh tiến độ\n",
    "        pbar.update(1)\n",
    "\n",
    "# Hiển thị DataFrame để kiểm tra\n",
    "print(\"Số dòng dữ liệu:\", len(df))\n",
    "df.head(5)"
   ]
  },
  {
   "cell_type": "code",
   "execution_count": 7,
   "id": "176dd426",
   "metadata": {
    "execution": {
     "iopub.execute_input": "2024-12-03T18:36:54.329178Z",
     "iopub.status.busy": "2024-12-03T18:36:54.328491Z",
     "iopub.status.idle": "2024-12-03T18:36:54.337659Z",
     "shell.execute_reply": "2024-12-03T18:36:54.336426Z"
    },
    "papermill": {
     "duration": 0.297863,
     "end_time": "2024-12-03T18:36:54.339833",
     "exception": false,
     "start_time": "2024-12-03T18:36:54.041970",
     "status": "completed"
    },
    "tags": []
   },
   "outputs": [],
   "source": [
    "df['text'] = df['text'].astype(str)\n",
    "df['text_vi'] = df['text_vi'].astype(str)"
   ]
  },
  {
   "cell_type": "markdown",
   "id": "694086dc",
   "metadata": {
    "papermill": {
     "duration": 0.283727,
     "end_time": "2024-12-03T18:36:54.908983",
     "exception": false,
     "start_time": "2024-12-03T18:36:54.625256",
     "status": "completed"
    },
    "tags": []
   },
   "source": [
    "## Lưu file đã dịch"
   ]
  },
  {
   "cell_type": "code",
   "execution_count": 8,
   "id": "5fbeaf29",
   "metadata": {
    "execution": {
     "iopub.execute_input": "2024-12-03T18:36:55.533396Z",
     "iopub.status.busy": "2024-12-03T18:36:55.532966Z",
     "iopub.status.idle": "2024-12-03T18:36:55.614940Z",
     "shell.execute_reply": "2024-12-03T18:36:55.613719Z"
    },
    "papermill": {
     "duration": 0.366642,
     "end_time": "2024-12-03T18:36:55.617581",
     "exception": false,
     "start_time": "2024-12-03T18:36:55.250939",
     "status": "completed"
    },
    "tags": []
   },
   "outputs": [],
   "source": [
    "df.to_csv(f'/kaggle/working/translated_comments_{i}.csv', index=False)"
   ]
  },
  {
   "cell_type": "markdown",
   "id": "d9dc8a34",
   "metadata": {
    "papermill": {
     "duration": 0.282444,
     "end_time": "2024-12-03T18:36:56.183245",
     "exception": false,
     "start_time": "2024-12-03T18:36:55.900801",
     "status": "completed"
    },
    "tags": []
   },
   "source": [
    "# File i+1"
   ]
  },
  {
   "cell_type": "code",
   "execution_count": 9,
   "id": "0ee93bf6",
   "metadata": {
    "execution": {
     "iopub.execute_input": "2024-12-03T18:36:56.802615Z",
     "iopub.status.busy": "2024-12-03T18:36:56.802174Z",
     "iopub.status.idle": "2024-12-03T18:36:56.863685Z",
     "shell.execute_reply": "2024-12-03T18:36:56.862436Z"
    },
    "papermill": {
     "duration": 0.403315,
     "end_time": "2024-12-03T18:36:56.865938",
     "exception": false,
     "start_time": "2024-12-03T18:36:56.462623",
     "status": "completed"
    },
    "tags": []
   },
   "outputs": [
    {
     "name": "stdout",
     "output_type": "stream",
     "text": [
      "Số dòng dữ liệu: 5917\n"
     ]
    },
    {
     "data": {
      "text/html": [
       "<div>\n",
       "<style scoped>\n",
       "    .dataframe tbody tr th:only-of-type {\n",
       "        vertical-align: middle;\n",
       "    }\n",
       "\n",
       "    .dataframe tbody tr th {\n",
       "        vertical-align: top;\n",
       "    }\n",
       "\n",
       "    .dataframe thead th {\n",
       "        text-align: right;\n",
       "    }\n",
       "</style>\n",
       "<table border=\"1\" class=\"dataframe\">\n",
       "  <thead>\n",
       "    <tr style=\"text-align: right;\">\n",
       "      <th></th>\n",
       "      <th>course_id</th>\n",
       "      <th>text</th>\n",
       "      <th>filtered_text</th>\n",
       "      <th>count</th>\n",
       "    </tr>\n",
       "  </thead>\n",
       "  <tbody>\n",
       "    <tr>\n",
       "      <th>0</th>\n",
       "      <td>C_1789696</td>\n",
       "      <td>是现场录音</td>\n",
       "      <td>现场录音</td>\n",
       "      <td>1.0</td>\n",
       "    </tr>\n",
       "    <tr>\n",
       "      <th>1</th>\n",
       "      <td>C_1789696</td>\n",
       "      <td>我国历史以来就是农业大国过去几十年间我们已经解决了温饱问题随着人们的需求从温饱到追求生活质量...</td>\n",
       "      <td>我国历史农业大国过去几十年间已经解决温饱问题需求温饱追求生活质量变化大力发展农业技术现在农业...</td>\n",
       "      <td>1.0</td>\n",
       "    </tr>\n",
       "    <tr>\n",
       "      <th>2</th>\n",
       "      <td>C_1789696</td>\n",
       "      <td>应用现代科学技术来改造自然创造适宜的人工环境加速生物的生长发育不断提高其产量和质量为人类提供...</td>\n",
       "      <td>应用现代科学技术改造自然创造适宜人工环境加速生物生长发育不断提高产量质量人类提供更多更好产品...</td>\n",
       "      <td>1.0</td>\n",
       "    </tr>\n",
       "    <tr>\n",
       "      <th>3</th>\n",
       "      <td>C_1789696</td>\n",
       "      <td>农业生物环境工程技术在过去的几十年里在利用农业生物与环境之间的关系对设施内的环境进行有效的调...</td>\n",
       "      <td>进行 有效 实现 应 顺应 提高 顺应 需求 提高 达到 健康 进行 应 进行 照搬 注意 做到</td>\n",
       "      <td>1.0</td>\n",
       "    </tr>\n",
       "    <tr>\n",
       "      <th>4</th>\n",
       "      <td>C_1789696</td>\n",
       "      <td>科技是第一生产力现代农业生物环境工程技术已经给农业发展提供了技术支撑并正在给农业发展提供最新...</td>\n",
       "      <td>提供 支撑 提供 最全 优异 支撑 做出 应用 相关 提供 适宜 激发 最大 做到 高效 振...</td>\n",
       "      <td>1.0</td>\n",
       "    </tr>\n",
       "  </tbody>\n",
       "</table>\n",
       "</div>"
      ],
      "text/plain": [
       "   course_id                                               text  \\\n",
       "0  C_1789696                                              是现场录音   \n",
       "1  C_1789696  我国历史以来就是农业大国过去几十年间我们已经解决了温饱问题随着人们的需求从温饱到追求生活质量...   \n",
       "2  C_1789696  应用现代科学技术来改造自然创造适宜的人工环境加速生物的生长发育不断提高其产量和质量为人类提供...   \n",
       "3  C_1789696  农业生物环境工程技术在过去的几十年里在利用农业生物与环境之间的关系对设施内的环境进行有效的调...   \n",
       "4  C_1789696  科技是第一生产力现代农业生物环境工程技术已经给农业发展提供了技术支撑并正在给农业发展提供最新...   \n",
       "\n",
       "                                       filtered_text  count  \n",
       "0                                               现场录音    1.0  \n",
       "1  我国历史农业大国过去几十年间已经解决温饱问题需求温饱追求生活质量变化大力发展农业技术现在农业...    1.0  \n",
       "2  应用现代科学技术改造自然创造适宜人工环境加速生物生长发育不断提高产量质量人类提供更多更好产品...    1.0  \n",
       "3   进行 有效 实现 应 顺应 提高 顺应 需求 提高 达到 健康 进行 应 进行 照搬 注意 做到    1.0  \n",
       "4  提供 支撑 提供 最全 优异 支撑 做出 应用 相关 提供 适宜 激发 最大 做到 高效 振...    1.0  "
      ]
     },
     "execution_count": 9,
     "metadata": {},
     "output_type": "execute_result"
    }
   ],
   "source": [
    "import pandas as pd\n",
    "import numpy as np\n",
    "\n",
    "df = pd.read_csv(f\"/kaggle/input/preprocessing-3/cleaned_comments/file_{i+1}.csv\")\n",
    "print(\"Số dòng dữ liệu:\", len(df))\n",
    "df.head(5)"
   ]
  },
  {
   "cell_type": "code",
   "execution_count": 10,
   "id": "408b2eac",
   "metadata": {
    "execution": {
     "iopub.execute_input": "2024-12-03T18:36:57.429795Z",
     "iopub.status.busy": "2024-12-03T18:36:57.429378Z",
     "iopub.status.idle": "2024-12-03T20:25:19.116886Z",
     "shell.execute_reply": "2024-12-03T20:25:19.115562Z"
    },
    "papermill": {
     "duration": 6501.972432,
     "end_time": "2024-12-03T20:25:19.119072",
     "exception": false,
     "start_time": "2024-12-03T18:36:57.146640",
     "status": "completed"
    },
    "tags": []
   },
   "outputs": [
    {
     "name": "stderr",
     "output_type": "stream",
     "text": [
      "Tiến độ dịch: 100%|██████████| 5917/5917 [1:48:21<00:00,  1.10s/dòng]"
     ]
    },
    {
     "name": "stdout",
     "output_type": "stream",
     "text": [
      "Số dòng dữ liệu: 5917\n"
     ]
    },
    {
     "name": "stderr",
     "output_type": "stream",
     "text": [
      "\n"
     ]
    },
    {
     "data": {
      "text/html": [
       "<div>\n",
       "<style scoped>\n",
       "    .dataframe tbody tr th:only-of-type {\n",
       "        vertical-align: middle;\n",
       "    }\n",
       "\n",
       "    .dataframe tbody tr th {\n",
       "        vertical-align: top;\n",
       "    }\n",
       "\n",
       "    .dataframe thead th {\n",
       "        text-align: right;\n",
       "    }\n",
       "</style>\n",
       "<table border=\"1\" class=\"dataframe\">\n",
       "  <thead>\n",
       "    <tr style=\"text-align: right;\">\n",
       "      <th></th>\n",
       "      <th>course_id</th>\n",
       "      <th>text</th>\n",
       "      <th>filtered_text</th>\n",
       "      <th>count</th>\n",
       "      <th>text_vi</th>\n",
       "    </tr>\n",
       "  </thead>\n",
       "  <tbody>\n",
       "    <tr>\n",
       "      <th>0</th>\n",
       "      <td>C_1789696</td>\n",
       "      <td>是现场录音</td>\n",
       "      <td>现场录音</td>\n",
       "      <td>1.0</td>\n",
       "      <td>Đó là một bản ghi âm trực tiếp</td>\n",
       "    </tr>\n",
       "    <tr>\n",
       "      <th>1</th>\n",
       "      <td>C_1789696</td>\n",
       "      <td>我国历史以来就是农业大国过去几十年间我们已经解决了温饱问题随着人们的需求从温饱到追求生活质量...</td>\n",
       "      <td>我国历史农业大国过去几十年间已经解决温饱问题需求温饱追求生活质量变化大力发展农业技术现在农业...</td>\n",
       "      <td>1.0</td>\n",
       "      <td>Đất nước chúng ta từ lâu đã là một nước nông n...</td>\n",
       "    </tr>\n",
       "    <tr>\n",
       "      <th>2</th>\n",
       "      <td>C_1789696</td>\n",
       "      <td>应用现代科学技术来改造自然创造适宜的人工环境加速生物的生长发育不断提高其产量和质量为人类提供...</td>\n",
       "      <td>应用现代科学技术改造自然创造适宜人工环境加速生物生长发育不断提高产量质量人类提供更多更好产品...</td>\n",
       "      <td>1.0</td>\n",
       "      <td>Ứng dụng khoa học công nghệ hiện đại để biến đ...</td>\n",
       "    </tr>\n",
       "    <tr>\n",
       "      <th>3</th>\n",
       "      <td>C_1789696</td>\n",
       "      <td>农业生物环境工程技术在过去的几十年里在利用农业生物与环境之间的关系对设施内的环境进行有效的调...</td>\n",
       "      <td>进行 有效 实现 应 顺应 提高 顺应 需求 提高 达到 健康 进行 应 进行 照搬 注意 做到</td>\n",
       "      <td>1.0</td>\n",
       "      <td>Trong vài thập kỷ qua, công nghệ kỹ thuật môi ...</td>\n",
       "    </tr>\n",
       "    <tr>\n",
       "      <th>4</th>\n",
       "      <td>C_1789696</td>\n",
       "      <td>科技是第一生产力现代农业生物环境工程技术已经给农业发展提供了技术支撑并正在给农业发展提供最新...</td>\n",
       "      <td>提供 支撑 提供 最全 优异 支撑 做出 应用 相关 提供 适宜 激发 最大 做到 高效 振...</td>\n",
       "      <td>1.0</td>\n",
       "      <td>Khoa học và công nghệ là lực lượng sản xuất ch...</td>\n",
       "    </tr>\n",
       "  </tbody>\n",
       "</table>\n",
       "</div>"
      ],
      "text/plain": [
       "   course_id                                               text  \\\n",
       "0  C_1789696                                              是现场录音   \n",
       "1  C_1789696  我国历史以来就是农业大国过去几十年间我们已经解决了温饱问题随着人们的需求从温饱到追求生活质量...   \n",
       "2  C_1789696  应用现代科学技术来改造自然创造适宜的人工环境加速生物的生长发育不断提高其产量和质量为人类提供...   \n",
       "3  C_1789696  农业生物环境工程技术在过去的几十年里在利用农业生物与环境之间的关系对设施内的环境进行有效的调...   \n",
       "4  C_1789696  科技是第一生产力现代农业生物环境工程技术已经给农业发展提供了技术支撑并正在给农业发展提供最新...   \n",
       "\n",
       "                                       filtered_text  count  \\\n",
       "0                                               现场录音    1.0   \n",
       "1  我国历史农业大国过去几十年间已经解决温饱问题需求温饱追求生活质量变化大力发展农业技术现在农业...    1.0   \n",
       "2  应用现代科学技术改造自然创造适宜人工环境加速生物生长发育不断提高产量质量人类提供更多更好产品...    1.0   \n",
       "3   进行 有效 实现 应 顺应 提高 顺应 需求 提高 达到 健康 进行 应 进行 照搬 注意 做到    1.0   \n",
       "4  提供 支撑 提供 最全 优异 支撑 做出 应用 相关 提供 适宜 激发 最大 做到 高效 振...    1.0   \n",
       "\n",
       "                                             text_vi  \n",
       "0                     Đó là một bản ghi âm trực tiếp  \n",
       "1  Đất nước chúng ta từ lâu đã là một nước nông n...  \n",
       "2  Ứng dụng khoa học công nghệ hiện đại để biến đ...  \n",
       "3  Trong vài thập kỷ qua, công nghệ kỹ thuật môi ...  \n",
       "4  Khoa học và công nghệ là lực lượng sản xuất ch...  "
      ]
     },
     "execution_count": 10,
     "metadata": {},
     "output_type": "execute_result"
    }
   ],
   "source": [
    "from deep_translator import GoogleTranslator\n",
    "import pandas as pd\n",
    "from tqdm import tqdm  # Import tqdm để sử dụng thanh tiến độ\n",
    "\n",
    "# Khởi tạo đối tượng GoogleTranslator\n",
    "translator = GoogleTranslator(source='zh-CN', target='vi')\n",
    "\n",
    "# Tạo cột 'text_en' nếu chưa có\n",
    "if 'text_vi' not in df.columns:\n",
    "    df['text_vi'] = None\n",
    "\n",
    "df['text'] = df['text'].astype(str)\n",
    "# Sử dụng tqdm để tạo thanh tiến độ\n",
    "with tqdm(total=len(df), desc=\"Tiến độ dịch\", unit=\"dòng\") as pbar:\n",
    "    for idx, row in df.iterrows():\n",
    "        if pd.isna(row['text_vi']):  # Chỉ dịch nếu chưa có dữ liệu\n",
    "            try:\n",
    "                # Dịch từ tiếng Trung giản thể (zh-CN) sang tiếng Anh (en)\n",
    "                text_trans = translator.translate(str(row['text']))\n",
    "                df.loc[idx, 'text_vi'] = text_trans  # Sử dụng .loc để tránh SettingWithCopyWarning\n",
    "            except Exception as e:\n",
    "                print(f\"Error translating row {idx}: {e}\")\n",
    "        \n",
    "        # Cập nhật thanh tiến độ\n",
    "        pbar.update(1)\n",
    "\n",
    "# Hiển thị DataFrame để kiểm tra\n",
    "print(\"Số dòng dữ liệu:\", len(df))\n",
    "df.head(5)"
   ]
  },
  {
   "cell_type": "code",
   "execution_count": 11,
   "id": "227b255a",
   "metadata": {
    "execution": {
     "iopub.execute_input": "2024-12-03T20:25:20.333814Z",
     "iopub.status.busy": "2024-12-03T20:25:20.333017Z",
     "iopub.status.idle": "2024-12-03T20:25:20.340720Z",
     "shell.execute_reply": "2024-12-03T20:25:20.339495Z"
    },
    "papermill": {
     "duration": 0.64915,
     "end_time": "2024-12-03T20:25:20.343314",
     "exception": false,
     "start_time": "2024-12-03T20:25:19.694164",
     "status": "completed"
    },
    "tags": []
   },
   "outputs": [],
   "source": [
    "df['text'] = df['text'].astype(str)\n",
    "df['text_vi'] = df['text_vi'].astype(str)"
   ]
  },
  {
   "cell_type": "code",
   "execution_count": 12,
   "id": "34b62f12",
   "metadata": {
    "execution": {
     "iopub.execute_input": "2024-12-03T20:25:21.541466Z",
     "iopub.status.busy": "2024-12-03T20:25:21.541055Z",
     "iopub.status.idle": "2024-12-03T20:25:21.598782Z",
     "shell.execute_reply": "2024-12-03T20:25:21.597535Z"
    },
    "papermill": {
     "duration": 0.694401,
     "end_time": "2024-12-03T20:25:21.601431",
     "exception": false,
     "start_time": "2024-12-03T20:25:20.907030",
     "status": "completed"
    },
    "tags": []
   },
   "outputs": [],
   "source": [
    "df.to_csv(f'/kaggle/working/translated_comments_{i+1}.csv', index=False)"
   ]
  }
 ],
 "metadata": {
  "kaggle": {
   "accelerator": "none",
   "dataSources": [
    {
     "sourceId": 209897750,
     "sourceType": "kernelVersion"
    }
   ],
   "dockerImageVersionId": 30787,
   "isGpuEnabled": false,
   "isInternetEnabled": true,
   "language": "python",
   "sourceType": "notebook"
  },
  "kernelspec": {
   "display_name": "Python 3",
   "language": "python",
   "name": "python3"
  },
  "language_info": {
   "codemirror_mode": {
    "name": "ipython",
    "version": 3
   },
   "file_extension": ".py",
   "mimetype": "text/x-python",
   "name": "python",
   "nbconvert_exporter": "python",
   "pygments_lexer": "ipython3",
   "version": "3.10.14"
  },
  "papermill": {
   "default_parameters": {},
   "duration": 12897.274389,
   "end_time": "2024-12-03T20:25:22.802673",
   "environment_variables": {},
   "exception": null,
   "input_path": "__notebook__.ipynb",
   "output_path": "__notebook__.ipynb",
   "parameters": {},
   "start_time": "2024-12-03T16:50:25.528284",
   "version": "2.6.0"
  }
 },
 "nbformat": 4,
 "nbformat_minor": 5
}
