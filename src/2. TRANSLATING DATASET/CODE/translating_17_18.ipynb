{
 "cells": [
  {
   "cell_type": "code",
   "execution_count": 1,
   "id": "3658cef7",
   "metadata": {
    "execution": {
     "iopub.execute_input": "2024-12-03T16:56:15.920460Z",
     "iopub.status.busy": "2024-12-03T16:56:15.919936Z",
     "iopub.status.idle": "2024-12-03T16:56:15.929662Z",
     "shell.execute_reply": "2024-12-03T16:56:15.928466Z"
    },
    "papermill": {
     "duration": 0.018282,
     "end_time": "2024-12-03T16:56:15.932183",
     "exception": false,
     "start_time": "2024-12-03T16:56:15.913901",
     "status": "completed"
    },
    "tags": []
   },
   "outputs": [],
   "source": [
    "i = 17"
   ]
  },
  {
   "cell_type": "markdown",
   "id": "832ca6b4",
   "metadata": {
    "papermill": {
     "duration": 0.003378,
     "end_time": "2024-12-03T16:56:15.939406",
     "exception": false,
     "start_time": "2024-12-03T16:56:15.936028",
     "status": "completed"
    },
    "tags": []
   },
   "source": [
    "# Translating data"
   ]
  },
  {
   "cell_type": "markdown",
   "id": "2f94830d",
   "metadata": {
    "papermill": {
     "duration": 0.003141,
     "end_time": "2024-12-03T16:56:15.946105",
     "exception": false,
     "start_time": "2024-12-03T16:56:15.942964",
     "status": "completed"
    },
    "tags": []
   },
   "source": [
    "## Đọc dữ liệu"
   ]
  },
  {
   "cell_type": "code",
   "execution_count": 2,
   "id": "1a6413c1",
   "metadata": {
    "_cell_guid": "b1076dfc-b9ad-4769-8c92-a6c4dae69d19",
    "_uuid": "8f2839f25d086af736a60e9eeb907d3b93b6e0e5",
    "execution": {
     "iopub.execute_input": "2024-12-03T16:56:15.954620Z",
     "iopub.status.busy": "2024-12-03T16:56:15.954251Z",
     "iopub.status.idle": "2024-12-03T16:56:16.945599Z",
     "shell.execute_reply": "2024-12-03T16:56:16.944353Z"
    },
    "papermill": {
     "duration": 0.998887,
     "end_time": "2024-12-03T16:56:16.948381",
     "exception": false,
     "start_time": "2024-12-03T16:56:15.949494",
     "status": "completed"
    },
    "tags": []
   },
   "outputs": [
    {
     "name": "stdout",
     "output_type": "stream",
     "text": [
      "Số dòng dữ liệu: 9828\n"
     ]
    },
    {
     "data": {
      "text/html": [
       "<div>\n",
       "<style scoped>\n",
       "    .dataframe tbody tr th:only-of-type {\n",
       "        vertical-align: middle;\n",
       "    }\n",
       "\n",
       "    .dataframe tbody tr th {\n",
       "        vertical-align: top;\n",
       "    }\n",
       "\n",
       "    .dataframe thead th {\n",
       "        text-align: right;\n",
       "    }\n",
       "</style>\n",
       "<table border=\"1\" class=\"dataframe\">\n",
       "  <thead>\n",
       "    <tr style=\"text-align: right;\">\n",
       "      <th></th>\n",
       "      <th>course_id</th>\n",
       "      <th>text</th>\n",
       "      <th>filtered_text</th>\n",
       "      <th>count</th>\n",
       "    </tr>\n",
       "  </thead>\n",
       "  <tbody>\n",
       "    <tr>\n",
       "      <th>0</th>\n",
       "      <td>C_881436</td>\n",
       "      <td>大概是懂了</td>\n",
       "      <td>大概懂</td>\n",
       "      <td>1.0</td>\n",
       "    </tr>\n",
       "    <tr>\n",
       "      <th>1</th>\n",
       "      <td>C_881436</td>\n",
       "      <td>清华本校的确实牛功底深厚应答如流佩服</td>\n",
       "      <td>清华本校确实牛功底深厚应答如流佩服</td>\n",
       "      <td>1.0</td>\n",
       "    </tr>\n",
       "    <tr>\n",
       "      <th>2</th>\n",
       "      <td>C_881436</td>\n",
       "      <td>榜样</td>\n",
       "      <td>榜样</td>\n",
       "      <td>1.0</td>\n",
       "    </tr>\n",
       "    <tr>\n",
       "      <th>3</th>\n",
       "      <td>C_881436</td>\n",
       "      <td>生出的孩子应该很聪明我要和她生孩子</td>\n",
       "      <td>生出孩子应该聪明我要生孩子</td>\n",
       "      <td>1.0</td>\n",
       "    </tr>\n",
       "    <tr>\n",
       "      <th>4</th>\n",
       "      <td>C_881436</td>\n",
       "      <td>科研推动工业化工技术更迭论文答辩与工业工艺遇到疑难问题交流型成中国特色奖学金育人育德程大国崛起</td>\n",
       "      <td>科研推动工业化工技术更迭论文答辩工业工艺遇到疑难问题交流型成中国特色奖学金育人育德程大国崛起</td>\n",
       "      <td>1.0</td>\n",
       "    </tr>\n",
       "  </tbody>\n",
       "</table>\n",
       "</div>"
      ],
      "text/plain": [
       "  course_id                                             text  \\\n",
       "0  C_881436                                            大概是懂了   \n",
       "1  C_881436                               清华本校的确实牛功底深厚应答如流佩服   \n",
       "2  C_881436                                               榜样   \n",
       "3  C_881436                                生出的孩子应该很聪明我要和她生孩子   \n",
       "4  C_881436  科研推动工业化工技术更迭论文答辩与工业工艺遇到疑难问题交流型成中国特色奖学金育人育德程大国崛起   \n",
       "\n",
       "                                    filtered_text  count  \n",
       "0                                             大概懂    1.0  \n",
       "1                               清华本校确实牛功底深厚应答如流佩服    1.0  \n",
       "2                                              榜样    1.0  \n",
       "3                                   生出孩子应该聪明我要生孩子    1.0  \n",
       "4  科研推动工业化工技术更迭论文答辩工业工艺遇到疑难问题交流型成中国特色奖学金育人育德程大国崛起    1.0  "
      ]
     },
     "execution_count": 2,
     "metadata": {},
     "output_type": "execute_result"
    }
   ],
   "source": [
    "import pandas as pd\n",
    "import numpy as np\n",
    "\n",
    "df = pd.read_csv(f\"/kaggle/input/preprocessing-3/cleaned_comments/file_{i}.csv\")\n",
    "print(\"Số dòng dữ liệu:\", len(df))\n",
    "df.head(5)"
   ]
  },
  {
   "cell_type": "code",
   "execution_count": 3,
   "id": "de38ad93",
   "metadata": {
    "execution": {
     "iopub.execute_input": "2024-12-03T16:56:16.958926Z",
     "iopub.status.busy": "2024-12-03T16:56:16.958498Z",
     "iopub.status.idle": "2024-12-03T16:56:16.971084Z",
     "shell.execute_reply": "2024-12-03T16:56:16.969705Z"
    },
    "papermill": {
     "duration": 0.020926,
     "end_time": "2024-12-03T16:56:16.973641",
     "exception": false,
     "start_time": "2024-12-03T16:56:16.952715",
     "status": "completed"
    },
    "tags": []
   },
   "outputs": [
    {
     "data": {
      "text/plain": [
       "course_id        0\n",
       "text             0\n",
       "filtered_text    1\n",
       "count            0\n",
       "dtype: int64"
      ]
     },
     "execution_count": 3,
     "metadata": {},
     "output_type": "execute_result"
    }
   ],
   "source": [
    "df.isnull().sum()"
   ]
  },
  {
   "cell_type": "markdown",
   "id": "fc6a7289",
   "metadata": {
    "papermill": {
     "duration": 0.003847,
     "end_time": "2024-12-03T16:56:16.982103",
     "exception": false,
     "start_time": "2024-12-03T16:56:16.978256",
     "status": "completed"
    },
    "tags": []
   },
   "source": [
    "## Dịch sang tiếng anh với thư viện GoogleTranslator"
   ]
  },
  {
   "cell_type": "code",
   "execution_count": 4,
   "id": "302d7732",
   "metadata": {
    "execution": {
     "iopub.execute_input": "2024-12-03T16:56:16.992802Z",
     "iopub.status.busy": "2024-12-03T16:56:16.992388Z",
     "iopub.status.idle": "2024-12-03T16:56:29.174390Z",
     "shell.execute_reply": "2024-12-03T16:56:29.172950Z"
    },
    "papermill": {
     "duration": 12.190897,
     "end_time": "2024-12-03T16:56:29.177316",
     "exception": false,
     "start_time": "2024-12-03T16:56:16.986419",
     "status": "completed"
    },
    "tags": []
   },
   "outputs": [
    {
     "name": "stdout",
     "output_type": "stream",
     "text": [
      "Collecting deep-translator\r\n",
      "  Downloading deep_translator-1.11.4-py3-none-any.whl.metadata (30 kB)\r\n",
      "Requirement already satisfied: beautifulsoup4<5.0.0,>=4.9.1 in /opt/conda/lib/python3.10/site-packages (from deep-translator) (4.12.3)\r\n",
      "Requirement already satisfied: requests<3.0.0,>=2.23.0 in /opt/conda/lib/python3.10/site-packages (from deep-translator) (2.32.3)\r\n",
      "Requirement already satisfied: soupsieve>1.2 in /opt/conda/lib/python3.10/site-packages (from beautifulsoup4<5.0.0,>=4.9.1->deep-translator) (2.5)\r\n",
      "Requirement already satisfied: charset-normalizer<4,>=2 in /opt/conda/lib/python3.10/site-packages (from requests<3.0.0,>=2.23.0->deep-translator) (3.3.2)\r\n",
      "Requirement already satisfied: idna<4,>=2.5 in /opt/conda/lib/python3.10/site-packages (from requests<3.0.0,>=2.23.0->deep-translator) (3.7)\r\n",
      "Requirement already satisfied: urllib3<3,>=1.21.1 in /opt/conda/lib/python3.10/site-packages (from requests<3.0.0,>=2.23.0->deep-translator) (1.26.18)\r\n",
      "Requirement already satisfied: certifi>=2017.4.17 in /opt/conda/lib/python3.10/site-packages (from requests<3.0.0,>=2.23.0->deep-translator) (2024.8.30)\r\n",
      "Downloading deep_translator-1.11.4-py3-none-any.whl (42 kB)\r\n",
      "\u001b[2K   \u001b[90m━━━━━━━━━━━━━━━━━━━━━━━━━━━━━━━━━━━━━━━━\u001b[0m \u001b[32m42.3/42.3 kB\u001b[0m \u001b[31m2.0 MB/s\u001b[0m eta \u001b[36m0:00:00\u001b[0m\r\n",
      "\u001b[?25hInstalling collected packages: deep-translator\r\n",
      "Successfully installed deep-translator-1.11.4\r\n"
     ]
    }
   ],
   "source": [
    "!pip install deep-translator"
   ]
  },
  {
   "cell_type": "code",
   "execution_count": 5,
   "id": "233d8e1f",
   "metadata": {
    "execution": {
     "iopub.execute_input": "2024-12-03T16:56:29.188486Z",
     "iopub.status.busy": "2024-12-03T16:56:29.188068Z",
     "iopub.status.idle": "2024-12-03T16:56:39.313299Z",
     "shell.execute_reply": "2024-12-03T16:56:39.311855Z"
    },
    "papermill": {
     "duration": 10.13445,
     "end_time": "2024-12-03T16:56:39.316250",
     "exception": false,
     "start_time": "2024-12-03T16:56:29.181800",
     "status": "completed"
    },
    "tags": []
   },
   "outputs": [
    {
     "name": "stdout",
     "output_type": "stream",
     "text": [
      "Requirement already satisfied: tqdm in /opt/conda/lib/python3.10/site-packages (4.66.4)\r\n",
      "Note: you may need to restart the kernel to use updated packages.\n"
     ]
    }
   ],
   "source": [
    "pip install tqdm"
   ]
  },
  {
   "cell_type": "code",
   "execution_count": 6,
   "id": "eea97641",
   "metadata": {
    "execution": {
     "iopub.execute_input": "2024-12-03T16:56:39.328884Z",
     "iopub.status.busy": "2024-12-03T16:56:39.328388Z",
     "iopub.status.idle": "2024-12-03T20:35:41.877691Z",
     "shell.execute_reply": "2024-12-03T20:35:41.876242Z"
    },
    "papermill": {
     "duration": 13142.559488,
     "end_time": "2024-12-03T20:35:41.881631",
     "exception": false,
     "start_time": "2024-12-03T16:56:39.322143",
     "status": "completed"
    },
    "tags": []
   },
   "outputs": [
    {
     "name": "stderr",
     "output_type": "stream",
     "text": [
      "Tiến độ dịch: 100%|██████████| 9828/9828 [3:39:02<00:00,  1.34s/dòng]"
     ]
    },
    {
     "name": "stdout",
     "output_type": "stream",
     "text": [
      "Số dòng dữ liệu: 9828\n"
     ]
    },
    {
     "name": "stderr",
     "output_type": "stream",
     "text": [
      "\n"
     ]
    },
    {
     "data": {
      "text/html": [
       "<div>\n",
       "<style scoped>\n",
       "    .dataframe tbody tr th:only-of-type {\n",
       "        vertical-align: middle;\n",
       "    }\n",
       "\n",
       "    .dataframe tbody tr th {\n",
       "        vertical-align: top;\n",
       "    }\n",
       "\n",
       "    .dataframe thead th {\n",
       "        text-align: right;\n",
       "    }\n",
       "</style>\n",
       "<table border=\"1\" class=\"dataframe\">\n",
       "  <thead>\n",
       "    <tr style=\"text-align: right;\">\n",
       "      <th></th>\n",
       "      <th>course_id</th>\n",
       "      <th>text</th>\n",
       "      <th>filtered_text</th>\n",
       "      <th>count</th>\n",
       "      <th>text_vi</th>\n",
       "    </tr>\n",
       "  </thead>\n",
       "  <tbody>\n",
       "    <tr>\n",
       "      <th>0</th>\n",
       "      <td>C_881436</td>\n",
       "      <td>大概是懂了</td>\n",
       "      <td>大概懂</td>\n",
       "      <td>1.0</td>\n",
       "      <td>có lẽ tôi hiểu</td>\n",
       "    </tr>\n",
       "    <tr>\n",
       "      <th>1</th>\n",
       "      <td>C_881436</td>\n",
       "      <td>清华本校的确实牛功底深厚应答如流佩服</td>\n",
       "      <td>清华本校确实牛功底深厚应答如流佩服</td>\n",
       "      <td>1.0</td>\n",
       "      <td>Đại học Thanh Hoa có những kỹ năng thực sự tuy...</td>\n",
       "    </tr>\n",
       "    <tr>\n",
       "      <th>2</th>\n",
       "      <td>C_881436</td>\n",
       "      <td>榜样</td>\n",
       "      <td>榜样</td>\n",
       "      <td>1.0</td>\n",
       "      <td>ví dụ</td>\n",
       "    </tr>\n",
       "    <tr>\n",
       "      <th>3</th>\n",
       "      <td>C_881436</td>\n",
       "      <td>生出的孩子应该很聪明我要和她生孩子</td>\n",
       "      <td>生出孩子应该聪明我要生孩子</td>\n",
       "      <td>1.0</td>\n",
       "      <td>Đứa con cô ấy sinh ra chắc chắn sẽ rất thông m...</td>\n",
       "    </tr>\n",
       "    <tr>\n",
       "      <th>4</th>\n",
       "      <td>C_881436</td>\n",
       "      <td>科研推动工业化工技术更迭论文答辩与工业工艺遇到疑难问题交流型成中国特色奖学金育人育德程大国崛起</td>\n",
       "      <td>科研推动工业化工技术更迭论文答辩工业工艺遇到疑难问题交流型成中国特色奖学金育人育德程大国崛起</td>\n",
       "      <td>1.0</td>\n",
       "      <td>Nghiên cứu khoa học thúc đẩy những thay đổi tr...</td>\n",
       "    </tr>\n",
       "  </tbody>\n",
       "</table>\n",
       "</div>"
      ],
      "text/plain": [
       "  course_id                                             text  \\\n",
       "0  C_881436                                            大概是懂了   \n",
       "1  C_881436                               清华本校的确实牛功底深厚应答如流佩服   \n",
       "2  C_881436                                               榜样   \n",
       "3  C_881436                                生出的孩子应该很聪明我要和她生孩子   \n",
       "4  C_881436  科研推动工业化工技术更迭论文答辩与工业工艺遇到疑难问题交流型成中国特色奖学金育人育德程大国崛起   \n",
       "\n",
       "                                    filtered_text  count  \\\n",
       "0                                             大概懂    1.0   \n",
       "1                               清华本校确实牛功底深厚应答如流佩服    1.0   \n",
       "2                                              榜样    1.0   \n",
       "3                                   生出孩子应该聪明我要生孩子    1.0   \n",
       "4  科研推动工业化工技术更迭论文答辩工业工艺遇到疑难问题交流型成中国特色奖学金育人育德程大国崛起    1.0   \n",
       "\n",
       "                                             text_vi  \n",
       "0                                     có lẽ tôi hiểu  \n",
       "1  Đại học Thanh Hoa có những kỹ năng thực sự tuy...  \n",
       "2                                              ví dụ  \n",
       "3  Đứa con cô ấy sinh ra chắc chắn sẽ rất thông m...  \n",
       "4  Nghiên cứu khoa học thúc đẩy những thay đổi tr...  "
      ]
     },
     "execution_count": 6,
     "metadata": {},
     "output_type": "execute_result"
    }
   ],
   "source": [
    "from deep_translator import GoogleTranslator\n",
    "import pandas as pd\n",
    "from tqdm import tqdm  # Import tqdm để sử dụng thanh tiến độ\n",
    "\n",
    "# Khởi tạo đối tượng GoogleTranslator\n",
    "translator = GoogleTranslator(source='zh-CN', target='vi')\n",
    "\n",
    "# Tạo cột 'text_en' nếu chưa có\n",
    "if 'text_vi' not in df.columns:\n",
    "    df['text_vi'] = None\n",
    "\n",
    "df['text'] = df['text'].astype(str)\n",
    "# Sử dụng tqdm để tạo thanh tiến độ\n",
    "with tqdm(total=len(df), desc=\"Tiến độ dịch\", unit=\"dòng\") as pbar:\n",
    "    for idx, row in df.iterrows():\n",
    "        if pd.isna(row['text_vi']):  # Chỉ dịch nếu chưa có dữ liệu\n",
    "            try:\n",
    "                # Dịch từ tiếng Trung giản thể (zh-CN) sang tiếng Anh (en)\n",
    "                text_trans = translator.translate(str(row['text']))\n",
    "                df.loc[idx, 'text_vi'] = text_trans  # Sử dụng .loc để tránh SettingWithCopyWarning\n",
    "            except Exception as e:\n",
    "                print(f\"Error translating row {idx}: {e}\")\n",
    "        \n",
    "        # Cập nhật thanh tiến độ\n",
    "        pbar.update(1)\n",
    "\n",
    "# Hiển thị DataFrame để kiểm tra\n",
    "print(\"Số dòng dữ liệu:\", len(df))\n",
    "df.head(5)"
   ]
  },
  {
   "cell_type": "code",
   "execution_count": 7,
   "id": "0891d973",
   "metadata": {
    "execution": {
     "iopub.execute_input": "2024-12-03T20:35:43.132880Z",
     "iopub.status.busy": "2024-12-03T20:35:43.132260Z",
     "iopub.status.idle": "2024-12-03T20:35:43.140865Z",
     "shell.execute_reply": "2024-12-03T20:35:43.139323Z"
    },
    "papermill": {
     "duration": 0.704275,
     "end_time": "2024-12-03T20:35:43.143643",
     "exception": false,
     "start_time": "2024-12-03T20:35:42.439368",
     "status": "completed"
    },
    "tags": []
   },
   "outputs": [],
   "source": [
    "df['text'] = df['text'].astype(str)\n",
    "df['text_vi'] = df['text_vi'].astype(str)"
   ]
  },
  {
   "cell_type": "markdown",
   "id": "42549c0a",
   "metadata": {
    "papermill": {
     "duration": 0.608671,
     "end_time": "2024-12-03T20:35:44.308576",
     "exception": false,
     "start_time": "2024-12-03T20:35:43.699905",
     "status": "completed"
    },
    "tags": []
   },
   "source": [
    "## Lưu file đã dịch"
   ]
  },
  {
   "cell_type": "code",
   "execution_count": 8,
   "id": "2c420386",
   "metadata": {
    "execution": {
     "iopub.execute_input": "2024-12-03T20:35:45.401882Z",
     "iopub.status.busy": "2024-12-03T20:35:45.401442Z",
     "iopub.status.idle": "2024-12-03T20:35:45.511346Z",
     "shell.execute_reply": "2024-12-03T20:35:45.510116Z"
    },
    "papermill": {
     "duration": 0.665694,
     "end_time": "2024-12-03T20:35:45.514297",
     "exception": false,
     "start_time": "2024-12-03T20:35:44.848603",
     "status": "completed"
    },
    "tags": []
   },
   "outputs": [],
   "source": [
    "df.to_csv(f'/kaggle/working/translated_comments_{i}.csv', index=False)"
   ]
  },
  {
   "cell_type": "markdown",
   "id": "635ec90e",
   "metadata": {
    "papermill": {
     "duration": 0.546782,
     "end_time": "2024-12-03T20:35:46.679289",
     "exception": false,
     "start_time": "2024-12-03T20:35:46.132507",
     "status": "completed"
    },
    "tags": []
   },
   "source": [
    "# File i+1"
   ]
  },
  {
   "cell_type": "code",
   "execution_count": 9,
   "id": "3743041a",
   "metadata": {
    "execution": {
     "iopub.execute_input": "2024-12-03T20:35:47.856882Z",
     "iopub.status.busy": "2024-12-03T20:35:47.856457Z",
     "iopub.status.idle": "2024-12-03T20:35:47.951725Z",
     "shell.execute_reply": "2024-12-03T20:35:47.950576Z"
    },
    "papermill": {
     "duration": 0.642101,
     "end_time": "2024-12-03T20:35:47.954414",
     "exception": false,
     "start_time": "2024-12-03T20:35:47.312313",
     "status": "completed"
    },
    "tags": []
   },
   "outputs": [
    {
     "name": "stdout",
     "output_type": "stream",
     "text": [
      "Số dòng dữ liệu: 8570\n"
     ]
    },
    {
     "data": {
      "text/html": [
       "<div>\n",
       "<style scoped>\n",
       "    .dataframe tbody tr th:only-of-type {\n",
       "        vertical-align: middle;\n",
       "    }\n",
       "\n",
       "    .dataframe tbody tr th {\n",
       "        vertical-align: top;\n",
       "    }\n",
       "\n",
       "    .dataframe thead th {\n",
       "        text-align: right;\n",
       "    }\n",
       "</style>\n",
       "<table border=\"1\" class=\"dataframe\">\n",
       "  <thead>\n",
       "    <tr style=\"text-align: right;\">\n",
       "      <th></th>\n",
       "      <th>course_id</th>\n",
       "      <th>text</th>\n",
       "      <th>filtered_text</th>\n",
       "      <th>count</th>\n",
       "    </tr>\n",
       "  </thead>\n",
       "  <tbody>\n",
       "    <tr>\n",
       "      <th>0</th>\n",
       "      <td>C_932179</td>\n",
       "      <td>太好了非常有用</td>\n",
       "      <td>太好了非常有用</td>\n",
       "      <td>1.0</td>\n",
       "    </tr>\n",
       "    <tr>\n",
       "      <th>1</th>\n",
       "      <td>C_932179</td>\n",
       "      <td>1tau蛋白是含量最高的微管相关蛋白tau蛋白基因位于17染色体长臂tau蛋白位于神经细胞中...</td>\n",
       "      <td>最高 相关 位于 位于 结合 促进 聚合 形成 形成 结合 维持 降低 解离 成束 缠结 导...</td>\n",
       "      <td>20.0</td>\n",
       "    </tr>\n",
       "    <tr>\n",
       "      <th>2</th>\n",
       "      <td>C_932179</td>\n",
       "      <td>老师讲的很好很棒</td>\n",
       "      <td>老师讲很棒</td>\n",
       "      <td>1.0</td>\n",
       "    </tr>\n",
       "    <tr>\n",
       "      <th>3</th>\n",
       "      <td>C_932179</td>\n",
       "      <td>tau蛋白</td>\n",
       "      <td>tau蛋白</td>\n",
       "      <td>1.0</td>\n",
       "    </tr>\n",
       "    <tr>\n",
       "      <th>4</th>\n",
       "      <td>C_932179</td>\n",
       "      <td>这个进度显示条真的很优秀我都看了三遍了进度条就是满不了</td>\n",
       "      <td>进度显示条真的优秀三遍进度条满不了</td>\n",
       "      <td>1.0</td>\n",
       "    </tr>\n",
       "  </tbody>\n",
       "</table>\n",
       "</div>"
      ],
      "text/plain": [
       "  course_id                                               text  \\\n",
       "0  C_932179                                            太好了非常有用   \n",
       "1  C_932179  1tau蛋白是含量最高的微管相关蛋白tau蛋白基因位于17染色体长臂tau蛋白位于神经细胞中...   \n",
       "2  C_932179                                           老师讲的很好很棒   \n",
       "3  C_932179                                              tau蛋白   \n",
       "4  C_932179                        这个进度显示条真的很优秀我都看了三遍了进度条就是满不了   \n",
       "\n",
       "                                       filtered_text  count  \n",
       "0                                            太好了非常有用    1.0  \n",
       "1  最高 相关 位于 位于 结合 促进 聚合 形成 形成 结合 维持 降低 解离 成束 缠结 导...   20.0  \n",
       "2                                              老师讲很棒    1.0  \n",
       "3                                              tau蛋白    1.0  \n",
       "4                                  进度显示条真的优秀三遍进度条满不了    1.0  "
      ]
     },
     "execution_count": 9,
     "metadata": {},
     "output_type": "execute_result"
    }
   ],
   "source": [
    "import pandas as pd\n",
    "import numpy as np\n",
    "\n",
    "df = pd.read_csv(f\"/kaggle/input/preprocessing-3/cleaned_comments/file_{i+1}.csv\")\n",
    "print(\"Số dòng dữ liệu:\", len(df))\n",
    "df.head(5)"
   ]
  },
  {
   "cell_type": "code",
   "execution_count": 10,
   "id": "da13968d",
   "metadata": {
    "execution": {
     "iopub.execute_input": "2024-12-03T20:35:49.105736Z",
     "iopub.status.busy": "2024-12-03T20:35:49.105230Z",
     "iopub.status.idle": "2024-12-03T23:43:32.632467Z",
     "shell.execute_reply": "2024-12-03T23:43:32.631283Z"
    },
    "papermill": {
     "duration": 11264.084577,
     "end_time": "2024-12-03T23:43:32.634982",
     "exception": false,
     "start_time": "2024-12-03T20:35:48.550405",
     "status": "completed"
    },
    "tags": []
   },
   "outputs": [
    {
     "name": "stderr",
     "output_type": "stream",
     "text": [
      "Tiến độ dịch: 100%|██████████| 8570/8570 [3:07:43<00:00,  1.31s/dòng]"
     ]
    },
    {
     "name": "stdout",
     "output_type": "stream",
     "text": [
      "Số dòng dữ liệu: 8570\n"
     ]
    },
    {
     "name": "stderr",
     "output_type": "stream",
     "text": [
      "\n"
     ]
    },
    {
     "data": {
      "text/html": [
       "<div>\n",
       "<style scoped>\n",
       "    .dataframe tbody tr th:only-of-type {\n",
       "        vertical-align: middle;\n",
       "    }\n",
       "\n",
       "    .dataframe tbody tr th {\n",
       "        vertical-align: top;\n",
       "    }\n",
       "\n",
       "    .dataframe thead th {\n",
       "        text-align: right;\n",
       "    }\n",
       "</style>\n",
       "<table border=\"1\" class=\"dataframe\">\n",
       "  <thead>\n",
       "    <tr style=\"text-align: right;\">\n",
       "      <th></th>\n",
       "      <th>course_id</th>\n",
       "      <th>text</th>\n",
       "      <th>filtered_text</th>\n",
       "      <th>count</th>\n",
       "      <th>text_vi</th>\n",
       "    </tr>\n",
       "  </thead>\n",
       "  <tbody>\n",
       "    <tr>\n",
       "      <th>0</th>\n",
       "      <td>C_932179</td>\n",
       "      <td>太好了非常有用</td>\n",
       "      <td>太好了非常有用</td>\n",
       "      <td>1.0</td>\n",
       "      <td>Tuyệt vời rất hữu ích</td>\n",
       "    </tr>\n",
       "    <tr>\n",
       "      <th>1</th>\n",
       "      <td>C_932179</td>\n",
       "      <td>1tau蛋白是含量最高的微管相关蛋白tau蛋白基因位于17染色体长臂tau蛋白位于神经细胞中...</td>\n",
       "      <td>最高 相关 位于 位于 结合 促进 聚合 形成 形成 结合 维持 降低 解离 成束 缠结 导...</td>\n",
       "      <td>20.0</td>\n",
       "      <td>1. Protein tau là protein liên quan đến vi ống...</td>\n",
       "    </tr>\n",
       "    <tr>\n",
       "      <th>2</th>\n",
       "      <td>C_932179</td>\n",
       "      <td>老师讲的很好很棒</td>\n",
       "      <td>老师讲很棒</td>\n",
       "      <td>1.0</td>\n",
       "      <td>Thầy dạy hay quá</td>\n",
       "    </tr>\n",
       "    <tr>\n",
       "      <th>3</th>\n",
       "      <td>C_932179</td>\n",
       "      <td>tau蛋白</td>\n",
       "      <td>tau蛋白</td>\n",
       "      <td>1.0</td>\n",
       "      <td>protein tàu</td>\n",
       "    </tr>\n",
       "    <tr>\n",
       "      <th>4</th>\n",
       "      <td>C_932179</td>\n",
       "      <td>这个进度显示条真的很优秀我都看了三遍了进度条就是满不了</td>\n",
       "      <td>进度显示条真的优秀三遍进度条满不了</td>\n",
       "      <td>1.0</td>\n",
       "      <td>Thanh hiển thị tiến trình này thực sự xuất sắc...</td>\n",
       "    </tr>\n",
       "  </tbody>\n",
       "</table>\n",
       "</div>"
      ],
      "text/plain": [
       "  course_id                                               text  \\\n",
       "0  C_932179                                            太好了非常有用   \n",
       "1  C_932179  1tau蛋白是含量最高的微管相关蛋白tau蛋白基因位于17染色体长臂tau蛋白位于神经细胞中...   \n",
       "2  C_932179                                           老师讲的很好很棒   \n",
       "3  C_932179                                              tau蛋白   \n",
       "4  C_932179                        这个进度显示条真的很优秀我都看了三遍了进度条就是满不了   \n",
       "\n",
       "                                       filtered_text  count  \\\n",
       "0                                            太好了非常有用    1.0   \n",
       "1  最高 相关 位于 位于 结合 促进 聚合 形成 形成 结合 维持 降低 解离 成束 缠结 导...   20.0   \n",
       "2                                              老师讲很棒    1.0   \n",
       "3                                              tau蛋白    1.0   \n",
       "4                                  进度显示条真的优秀三遍进度条满不了    1.0   \n",
       "\n",
       "                                             text_vi  \n",
       "0                              Tuyệt vời rất hữu ích  \n",
       "1  1. Protein tau là protein liên quan đến vi ống...  \n",
       "2                                   Thầy dạy hay quá  \n",
       "3                                        protein tàu  \n",
       "4  Thanh hiển thị tiến trình này thực sự xuất sắc...  "
      ]
     },
     "execution_count": 10,
     "metadata": {},
     "output_type": "execute_result"
    }
   ],
   "source": [
    "from deep_translator import GoogleTranslator\n",
    "import pandas as pd\n",
    "from tqdm import tqdm  # Import tqdm để sử dụng thanh tiến độ\n",
    "\n",
    "# Khởi tạo đối tượng GoogleTranslator\n",
    "translator = GoogleTranslator(source='zh-CN', target='vi')\n",
    "\n",
    "# Tạo cột 'text_en' nếu chưa có\n",
    "if 'text_vi' not in df.columns:\n",
    "    df['text_vi'] = None\n",
    "\n",
    "df['text'] = df['text'].astype(str)\n",
    "# Sử dụng tqdm để tạo thanh tiến độ\n",
    "with tqdm(total=len(df), desc=\"Tiến độ dịch\", unit=\"dòng\") as pbar:\n",
    "    for idx, row in df.iterrows():\n",
    "        if pd.isna(row['text_vi']):  # Chỉ dịch nếu chưa có dữ liệu\n",
    "            try:\n",
    "                # Dịch từ tiếng Trung giản thể (zh-CN) sang tiếng Anh (en)\n",
    "                text_trans = translator.translate(str(row['text']))\n",
    "                df.loc[idx, 'text_vi'] = text_trans  # Sử dụng .loc để tránh SettingWithCopyWarning\n",
    "            except Exception as e:\n",
    "                print(f\"Error translating row {idx}: {e}\")\n",
    "        \n",
    "        # Cập nhật thanh tiến độ\n",
    "        pbar.update(1)\n",
    "\n",
    "# Hiển thị DataFrame để kiểm tra\n",
    "print(\"Số dòng dữ liệu:\", len(df))\n",
    "df.head(5)"
   ]
  },
  {
   "cell_type": "code",
   "execution_count": 11,
   "id": "e58b9443",
   "metadata": {
    "execution": {
     "iopub.execute_input": "2024-12-03T23:43:34.820650Z",
     "iopub.status.busy": "2024-12-03T23:43:34.820263Z",
     "iopub.status.idle": "2024-12-03T23:43:34.828258Z",
     "shell.execute_reply": "2024-12-03T23:43:34.827162Z"
    },
    "papermill": {
     "duration": 1.119033,
     "end_time": "2024-12-03T23:43:34.830720",
     "exception": false,
     "start_time": "2024-12-03T23:43:33.711687",
     "status": "completed"
    },
    "tags": []
   },
   "outputs": [],
   "source": [
    "df['text'] = df['text'].astype(str)\n",
    "df['text_vi'] = df['text_vi'].astype(str)"
   ]
  },
  {
   "cell_type": "code",
   "execution_count": 12,
   "id": "469ec152",
   "metadata": {
    "execution": {
     "iopub.execute_input": "2024-12-03T23:43:36.996340Z",
     "iopub.status.busy": "2024-12-03T23:43:36.995922Z",
     "iopub.status.idle": "2024-12-03T23:43:37.101019Z",
     "shell.execute_reply": "2024-12-03T23:43:37.099902Z"
    },
    "papermill": {
     "duration": 1.19377,
     "end_time": "2024-12-03T23:43:37.103548",
     "exception": false,
     "start_time": "2024-12-03T23:43:35.909778",
     "status": "completed"
    },
    "tags": []
   },
   "outputs": [],
   "source": [
    "df.to_csv(f'/kaggle/working/translated_comments_{i+1}.csv', index=False)"
   ]
  }
 ],
 "metadata": {
  "kaggle": {
   "accelerator": "none",
   "dataSources": [
    {
     "sourceId": 209897750,
     "sourceType": "kernelVersion"
    }
   ],
   "dockerImageVersionId": 30786,
   "isGpuEnabled": false,
   "isInternetEnabled": true,
   "language": "python",
   "sourceType": "notebook"
  },
  "kernelspec": {
   "display_name": "Python 3",
   "language": "python",
   "name": "python3"
  },
  "language_info": {
   "codemirror_mode": {
    "name": "ipython",
    "version": 3
   },
   "file_extension": ".py",
   "mimetype": "text/x-python",
   "name": "python",
   "nbconvert_exporter": "python",
   "pygments_lexer": "ipython3",
   "version": "3.10.14"
  },
  "papermill": {
   "default_parameters": {},
   "duration": 24445.614936,
   "end_time": "2024-12-03T23:43:38.701577",
   "environment_variables": {},
   "exception": null,
   "input_path": "__notebook__.ipynb",
   "output_path": "__notebook__.ipynb",
   "parameters": {},
   "start_time": "2024-12-03T16:56:13.086641",
   "version": "2.6.0"
  }
 },
 "nbformat": 4,
 "nbformat_minor": 5
}
