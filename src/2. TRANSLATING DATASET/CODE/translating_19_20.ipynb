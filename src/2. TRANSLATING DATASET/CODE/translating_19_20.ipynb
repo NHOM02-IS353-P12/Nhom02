{
 "cells": [
  {
   "cell_type": "code",
   "execution_count": 1,
   "id": "23a02620",
   "metadata": {
    "execution": {
     "iopub.execute_input": "2024-12-03T16:56:36.334791Z",
     "iopub.status.busy": "2024-12-03T16:56:36.334411Z",
     "iopub.status.idle": "2024-12-03T16:56:36.342837Z",
     "shell.execute_reply": "2024-12-03T16:56:36.341903Z"
    },
    "papermill": {
     "duration": 0.016117,
     "end_time": "2024-12-03T16:56:36.344888",
     "exception": false,
     "start_time": "2024-12-03T16:56:36.328771",
     "status": "completed"
    },
    "tags": []
   },
   "outputs": [],
   "source": [
    "i = 19"
   ]
  },
  {
   "cell_type": "markdown",
   "id": "d785308a",
   "metadata": {
    "papermill": {
     "duration": 0.003077,
     "end_time": "2024-12-03T16:56:36.351646",
     "exception": false,
     "start_time": "2024-12-03T16:56:36.348569",
     "status": "completed"
    },
    "tags": []
   },
   "source": [
    "# Translating data"
   ]
  },
  {
   "cell_type": "markdown",
   "id": "74726f45",
   "metadata": {
    "papermill": {
     "duration": 0.002965,
     "end_time": "2024-12-03T16:56:36.357900",
     "exception": false,
     "start_time": "2024-12-03T16:56:36.354935",
     "status": "completed"
    },
    "tags": []
   },
   "source": [
    "## Đọc dữ liệu"
   ]
  },
  {
   "cell_type": "code",
   "execution_count": 2,
   "id": "10dccd5c",
   "metadata": {
    "_cell_guid": "b1076dfc-b9ad-4769-8c92-a6c4dae69d19",
    "_uuid": "8f2839f25d086af736a60e9eeb907d3b93b6e0e5",
    "execution": {
     "iopub.execute_input": "2024-12-03T16:56:36.365775Z",
     "iopub.status.busy": "2024-12-03T16:56:36.365409Z",
     "iopub.status.idle": "2024-12-03T16:56:37.286840Z",
     "shell.execute_reply": "2024-12-03T16:56:37.285786Z"
    },
    "papermill": {
     "duration": 0.928378,
     "end_time": "2024-12-03T16:56:37.289396",
     "exception": false,
     "start_time": "2024-12-03T16:56:36.361018",
     "status": "completed"
    },
    "tags": []
   },
   "outputs": [
    {
     "name": "stdout",
     "output_type": "stream",
     "text": [
      "Số dòng dữ liệu: 8411\n"
     ]
    },
    {
     "data": {
      "text/html": [
       "<div>\n",
       "<style scoped>\n",
       "    .dataframe tbody tr th:only-of-type {\n",
       "        vertical-align: middle;\n",
       "    }\n",
       "\n",
       "    .dataframe tbody tr th {\n",
       "        vertical-align: top;\n",
       "    }\n",
       "\n",
       "    .dataframe thead th {\n",
       "        text-align: right;\n",
       "    }\n",
       "</style>\n",
       "<table border=\"1\" class=\"dataframe\">\n",
       "  <thead>\n",
       "    <tr style=\"text-align: right;\">\n",
       "      <th></th>\n",
       "      <th>course_id</th>\n",
       "      <th>text</th>\n",
       "      <th>filtered_text</th>\n",
       "      <th>count</th>\n",
       "    </tr>\n",
       "  </thead>\n",
       "  <tbody>\n",
       "    <tr>\n",
       "      <th>0</th>\n",
       "      <td>C_948079</td>\n",
       "      <td>打卡</td>\n",
       "      <td>打卡</td>\n",
       "      <td>1.0</td>\n",
       "    </tr>\n",
       "    <tr>\n",
       "      <th>1</th>\n",
       "      <td>C_948079</td>\n",
       "      <td>请加qq群</td>\n",
       "      <td>请加qq群</td>\n",
       "      <td>1.0</td>\n",
       "    </tr>\n",
       "    <tr>\n",
       "      <th>2</th>\n",
       "      <td>C_948079</td>\n",
       "      <td>哇呜学了这一节终于解决了我以前经常遇到的一个问题谢谢老师</td>\n",
       "      <td>哇呜学一节终于解决以前经常遇到问题谢谢老师</td>\n",
       "      <td>1.0</td>\n",
       "    </tr>\n",
       "    <tr>\n",
       "      <th>3</th>\n",
       "      <td>C_948079</td>\n",
       "      <td>csv查询表是要自己手敲的吗</td>\n",
       "      <td>csv查询表是手敲</td>\n",
       "      <td>1.0</td>\n",
       "    </tr>\n",
       "    <tr>\n",
       "      <th>4</th>\n",
       "      <td>C_948079</td>\n",
       "      <td>可以设置成变径软接</td>\n",
       "      <td>设置成变径软接</td>\n",
       "      <td>1.0</td>\n",
       "    </tr>\n",
       "  </tbody>\n",
       "</table>\n",
       "</div>"
      ],
      "text/plain": [
       "  course_id                          text          filtered_text  count\n",
       "0  C_948079                            打卡                     打卡    1.0\n",
       "1  C_948079                         请加qq群                  请加qq群    1.0\n",
       "2  C_948079  哇呜学了这一节终于解决了我以前经常遇到的一个问题谢谢老师  哇呜学一节终于解决以前经常遇到问题谢谢老师    1.0\n",
       "3  C_948079                csv查询表是要自己手敲的吗              csv查询表是手敲    1.0\n",
       "4  C_948079                     可以设置成变径软接                设置成变径软接    1.0"
      ]
     },
     "execution_count": 2,
     "metadata": {},
     "output_type": "execute_result"
    }
   ],
   "source": [
    "import pandas as pd\n",
    "import numpy as np\n",
    "\n",
    "df = pd.read_csv(f\"/kaggle/input/preprocessing-3/cleaned_comments/file_{i}.csv\")\n",
    "print(\"Số dòng dữ liệu:\", len(df))\n",
    "df.head(5)"
   ]
  },
  {
   "cell_type": "code",
   "execution_count": 3,
   "id": "6894cb7c",
   "metadata": {
    "execution": {
     "iopub.execute_input": "2024-12-03T16:56:37.298571Z",
     "iopub.status.busy": "2024-12-03T16:56:37.298213Z",
     "iopub.status.idle": "2024-12-03T16:56:37.309052Z",
     "shell.execute_reply": "2024-12-03T16:56:37.308101Z"
    },
    "papermill": {
     "duration": 0.017665,
     "end_time": "2024-12-03T16:56:37.311048",
     "exception": false,
     "start_time": "2024-12-03T16:56:37.293383",
     "status": "completed"
    },
    "tags": []
   },
   "outputs": [
    {
     "data": {
      "text/plain": [
       "course_id        0\n",
       "text             0\n",
       "filtered_text    0\n",
       "count            0\n",
       "dtype: int64"
      ]
     },
     "execution_count": 3,
     "metadata": {},
     "output_type": "execute_result"
    }
   ],
   "source": [
    "df.isnull().sum()"
   ]
  },
  {
   "cell_type": "markdown",
   "id": "85effbe8",
   "metadata": {
    "papermill": {
     "duration": 0.0034,
     "end_time": "2024-12-03T16:56:37.318163",
     "exception": false,
     "start_time": "2024-12-03T16:56:37.314763",
     "status": "completed"
    },
    "tags": []
   },
   "source": [
    "## Dịch sang tiếng anh với thư viện GoogleTranslator"
   ]
  },
  {
   "cell_type": "code",
   "execution_count": 4,
   "id": "ec0e8f1e",
   "metadata": {
    "execution": {
     "iopub.execute_input": "2024-12-03T16:56:37.326795Z",
     "iopub.status.busy": "2024-12-03T16:56:37.326436Z",
     "iopub.status.idle": "2024-12-03T16:56:48.641638Z",
     "shell.execute_reply": "2024-12-03T16:56:48.640362Z"
    },
    "papermill": {
     "duration": 11.322325,
     "end_time": "2024-12-03T16:56:48.644139",
     "exception": false,
     "start_time": "2024-12-03T16:56:37.321814",
     "status": "completed"
    },
    "tags": []
   },
   "outputs": [
    {
     "name": "stdout",
     "output_type": "stream",
     "text": [
      "Collecting deep-translator\r\n",
      "  Downloading deep_translator-1.11.4-py3-none-any.whl.metadata (30 kB)\r\n",
      "Requirement already satisfied: beautifulsoup4<5.0.0,>=4.9.1 in /opt/conda/lib/python3.10/site-packages (from deep-translator) (4.12.3)\r\n",
      "Requirement already satisfied: requests<3.0.0,>=2.23.0 in /opt/conda/lib/python3.10/site-packages (from deep-translator) (2.32.3)\r\n",
      "Requirement already satisfied: soupsieve>1.2 in /opt/conda/lib/python3.10/site-packages (from beautifulsoup4<5.0.0,>=4.9.1->deep-translator) (2.5)\r\n",
      "Requirement already satisfied: charset-normalizer<4,>=2 in /opt/conda/lib/python3.10/site-packages (from requests<3.0.0,>=2.23.0->deep-translator) (3.3.2)\r\n",
      "Requirement already satisfied: idna<4,>=2.5 in /opt/conda/lib/python3.10/site-packages (from requests<3.0.0,>=2.23.0->deep-translator) (3.7)\r\n",
      "Requirement already satisfied: urllib3<3,>=1.21.1 in /opt/conda/lib/python3.10/site-packages (from requests<3.0.0,>=2.23.0->deep-translator) (1.26.18)\r\n",
      "Requirement already satisfied: certifi>=2017.4.17 in /opt/conda/lib/python3.10/site-packages (from requests<3.0.0,>=2.23.0->deep-translator) (2024.8.30)\r\n",
      "Downloading deep_translator-1.11.4-py3-none-any.whl (42 kB)\r\n",
      "\u001b[2K   \u001b[90m━━━━━━━━━━━━━━━━━━━━━━━━━━━━━━━━━━━━━━━━\u001b[0m \u001b[32m42.3/42.3 kB\u001b[0m \u001b[31m2.6 MB/s\u001b[0m eta \u001b[36m0:00:00\u001b[0m\r\n",
      "\u001b[?25hInstalling collected packages: deep-translator\r\n",
      "Successfully installed deep-translator-1.11.4\r\n"
     ]
    }
   ],
   "source": [
    "!pip install deep-translator"
   ]
  },
  {
   "cell_type": "code",
   "execution_count": 5,
   "id": "37f04fae",
   "metadata": {
    "execution": {
     "iopub.execute_input": "2024-12-03T16:56:48.654713Z",
     "iopub.status.busy": "2024-12-03T16:56:48.653759Z",
     "iopub.status.idle": "2024-12-03T16:56:58.343885Z",
     "shell.execute_reply": "2024-12-03T16:56:58.342401Z"
    },
    "papermill": {
     "duration": 9.697888,
     "end_time": "2024-12-03T16:56:58.346363",
     "exception": false,
     "start_time": "2024-12-03T16:56:48.648475",
     "status": "completed"
    },
    "tags": []
   },
   "outputs": [
    {
     "name": "stdout",
     "output_type": "stream",
     "text": [
      "Requirement already satisfied: tqdm in /opt/conda/lib/python3.10/site-packages (4.66.4)\r\n",
      "Note: you may need to restart the kernel to use updated packages.\n"
     ]
    }
   ],
   "source": [
    "pip install tqdm"
   ]
  },
  {
   "cell_type": "code",
   "execution_count": 6,
   "id": "1002fe6b",
   "metadata": {
    "execution": {
     "iopub.execute_input": "2024-12-03T16:56:58.358388Z",
     "iopub.status.busy": "2024-12-03T16:56:58.357320Z",
     "iopub.status.idle": "2024-12-03T20:10:26.413707Z",
     "shell.execute_reply": "2024-12-03T20:10:26.412489Z"
    },
    "papermill": {
     "duration": 11608.064019,
     "end_time": "2024-12-03T20:10:26.415717",
     "exception": false,
     "start_time": "2024-12-03T16:56:58.351698",
     "status": "completed"
    },
    "tags": []
   },
   "outputs": [
    {
     "name": "stderr",
     "output_type": "stream",
     "text": [
      "Tiến độ dịch: 100%|██████████| 8411/8411 [3:13:27<00:00,  1.38s/dòng]"
     ]
    },
    {
     "name": "stdout",
     "output_type": "stream",
     "text": [
      "Số dòng dữ liệu: 8411\n"
     ]
    },
    {
     "name": "stderr",
     "output_type": "stream",
     "text": [
      "\n"
     ]
    },
    {
     "data": {
      "text/html": [
       "<div>\n",
       "<style scoped>\n",
       "    .dataframe tbody tr th:only-of-type {\n",
       "        vertical-align: middle;\n",
       "    }\n",
       "\n",
       "    .dataframe tbody tr th {\n",
       "        vertical-align: top;\n",
       "    }\n",
       "\n",
       "    .dataframe thead th {\n",
       "        text-align: right;\n",
       "    }\n",
       "</style>\n",
       "<table border=\"1\" class=\"dataframe\">\n",
       "  <thead>\n",
       "    <tr style=\"text-align: right;\">\n",
       "      <th></th>\n",
       "      <th>course_id</th>\n",
       "      <th>text</th>\n",
       "      <th>filtered_text</th>\n",
       "      <th>count</th>\n",
       "      <th>text_vi</th>\n",
       "    </tr>\n",
       "  </thead>\n",
       "  <tbody>\n",
       "    <tr>\n",
       "      <th>0</th>\n",
       "      <td>C_948079</td>\n",
       "      <td>打卡</td>\n",
       "      <td>打卡</td>\n",
       "      <td>1.0</td>\n",
       "      <td>Đăng ký vào</td>\n",
       "    </tr>\n",
       "    <tr>\n",
       "      <th>1</th>\n",
       "      <td>C_948079</td>\n",
       "      <td>请加qq群</td>\n",
       "      <td>请加qq群</td>\n",
       "      <td>1.0</td>\n",
       "      <td>Hãy tham gia nhóm qq</td>\n",
       "    </tr>\n",
       "    <tr>\n",
       "      <th>2</th>\n",
       "      <td>C_948079</td>\n",
       "      <td>哇呜学了这一节终于解决了我以前经常遇到的一个问题谢谢老师</td>\n",
       "      <td>哇呜学一节终于解决以前经常遇到问题谢谢老师</td>\n",
       "      <td>1.0</td>\n",
       "      <td>Wow, sau khi học xong phần này, cuối cùng em c...</td>\n",
       "    </tr>\n",
       "    <tr>\n",
       "      <th>3</th>\n",
       "      <td>C_948079</td>\n",
       "      <td>csv查询表是要自己手敲的吗</td>\n",
       "      <td>csv查询表是手敲</td>\n",
       "      <td>1.0</td>\n",
       "      <td>Bảng truy vấn csv có cần phải được gõ bằng tay...</td>\n",
       "    </tr>\n",
       "    <tr>\n",
       "      <th>4</th>\n",
       "      <td>C_948079</td>\n",
       "      <td>可以设置成变径软接</td>\n",
       "      <td>设置成变径软接</td>\n",
       "      <td>1.0</td>\n",
       "      <td>Có thể được đặt thành kết nối mềm có đường kín...</td>\n",
       "    </tr>\n",
       "  </tbody>\n",
       "</table>\n",
       "</div>"
      ],
      "text/plain": [
       "  course_id                          text          filtered_text  count  \\\n",
       "0  C_948079                            打卡                     打卡    1.0   \n",
       "1  C_948079                         请加qq群                  请加qq群    1.0   \n",
       "2  C_948079  哇呜学了这一节终于解决了我以前经常遇到的一个问题谢谢老师  哇呜学一节终于解决以前经常遇到问题谢谢老师    1.0   \n",
       "3  C_948079                csv查询表是要自己手敲的吗              csv查询表是手敲    1.0   \n",
       "4  C_948079                     可以设置成变径软接                设置成变径软接    1.0   \n",
       "\n",
       "                                             text_vi  \n",
       "0                                        Đăng ký vào  \n",
       "1                               Hãy tham gia nhóm qq  \n",
       "2  Wow, sau khi học xong phần này, cuối cùng em c...  \n",
       "3  Bảng truy vấn csv có cần phải được gõ bằng tay...  \n",
       "4  Có thể được đặt thành kết nối mềm có đường kín...  "
      ]
     },
     "execution_count": 6,
     "metadata": {},
     "output_type": "execute_result"
    }
   ],
   "source": [
    "from deep_translator import GoogleTranslator\n",
    "import pandas as pd\n",
    "from tqdm import tqdm  # Import tqdm để sử dụng thanh tiến độ\n",
    "\n",
    "# Khởi tạo đối tượng GoogleTranslator\n",
    "translator = GoogleTranslator(source='zh-CN', target='vi')\n",
    "\n",
    "# Tạo cột 'text_en' nếu chưa có\n",
    "if 'text_vi' not in df.columns:\n",
    "    df['text_vi'] = None\n",
    "\n",
    "df['text'] = df['text'].astype(str)\n",
    "# Sử dụng tqdm để tạo thanh tiến độ\n",
    "with tqdm(total=len(df), desc=\"Tiến độ dịch\", unit=\"dòng\") as pbar:\n",
    "    for idx, row in df.iterrows():\n",
    "        if pd.isna(row['text_vi']):  # Chỉ dịch nếu chưa có dữ liệu\n",
    "            try:\n",
    "                # Dịch từ tiếng Trung giản thể (zh-CN) sang tiếng Anh (en)\n",
    "                text_trans = translator.translate(str(row['text']))\n",
    "                df.loc[idx, 'text_vi'] = text_trans  # Sử dụng .loc để tránh SettingWithCopyWarning\n",
    "            except Exception as e:\n",
    "                print(f\"Error translating row {idx}: {e}\")\n",
    "        \n",
    "        # Cập nhật thanh tiến độ\n",
    "        pbar.update(1)\n",
    "\n",
    "# Hiển thị DataFrame để kiểm tra\n",
    "print(\"Số dòng dữ liệu:\", len(df))\n",
    "df.head(5)"
   ]
  },
  {
   "cell_type": "code",
   "execution_count": 7,
   "id": "3e1ade7c",
   "metadata": {
    "execution": {
     "iopub.execute_input": "2024-12-03T20:10:27.308140Z",
     "iopub.status.busy": "2024-12-03T20:10:27.306732Z",
     "iopub.status.idle": "2024-12-03T20:10:27.315060Z",
     "shell.execute_reply": "2024-12-03T20:10:27.314066Z"
    },
    "papermill": {
     "duration": 0.487279,
     "end_time": "2024-12-03T20:10:27.317076",
     "exception": false,
     "start_time": "2024-12-03T20:10:26.829797",
     "status": "completed"
    },
    "tags": []
   },
   "outputs": [],
   "source": [
    "df['text'] = df['text'].astype(str)\n",
    "df['text_vi'] = df['text_vi'].astype(str)"
   ]
  },
  {
   "cell_type": "markdown",
   "id": "9f06e6fe",
   "metadata": {
    "papermill": {
     "duration": 0.417762,
     "end_time": "2024-12-03T20:10:28.145270",
     "exception": false,
     "start_time": "2024-12-03T20:10:27.727508",
     "status": "completed"
    },
    "tags": []
   },
   "source": [
    "## Lưu file đã dịch"
   ]
  },
  {
   "cell_type": "code",
   "execution_count": 8,
   "id": "87d7e544",
   "metadata": {
    "execution": {
     "iopub.execute_input": "2024-12-03T20:10:29.027751Z",
     "iopub.status.busy": "2024-12-03T20:10:29.027368Z",
     "iopub.status.idle": "2024-12-03T20:10:29.152566Z",
     "shell.execute_reply": "2024-12-03T20:10:29.151498Z"
    },
    "papermill": {
     "duration": 0.543598,
     "end_time": "2024-12-03T20:10:29.154892",
     "exception": false,
     "start_time": "2024-12-03T20:10:28.611294",
     "status": "completed"
    },
    "tags": []
   },
   "outputs": [],
   "source": [
    "df.to_csv(f'/kaggle/working/translated_comments_{i}.csv', index=False)"
   ]
  },
  {
   "cell_type": "markdown",
   "id": "27cc197e",
   "metadata": {
    "papermill": {
     "duration": 0.464151,
     "end_time": "2024-12-03T20:10:30.035567",
     "exception": false,
     "start_time": "2024-12-03T20:10:29.571416",
     "status": "completed"
    },
    "tags": []
   },
   "source": [
    "# File i+1"
   ]
  },
  {
   "cell_type": "code",
   "execution_count": 9,
   "id": "f68ef350",
   "metadata": {
    "execution": {
     "iopub.execute_input": "2024-12-03T20:10:30.927729Z",
     "iopub.status.busy": "2024-12-03T20:10:30.926776Z",
     "iopub.status.idle": "2024-12-03T20:10:30.977843Z",
     "shell.execute_reply": "2024-12-03T20:10:30.976784Z"
    },
    "papermill": {
     "duration": 0.527128,
     "end_time": "2024-12-03T20:10:30.979932",
     "exception": false,
     "start_time": "2024-12-03T20:10:30.452804",
     "status": "completed"
    },
    "tags": []
   },
   "outputs": [
    {
     "name": "stdout",
     "output_type": "stream",
     "text": [
      "Số dòng dữ liệu: 2781\n"
     ]
    },
    {
     "data": {
      "text/html": [
       "<div>\n",
       "<style scoped>\n",
       "    .dataframe tbody tr th:only-of-type {\n",
       "        vertical-align: middle;\n",
       "    }\n",
       "\n",
       "    .dataframe tbody tr th {\n",
       "        vertical-align: top;\n",
       "    }\n",
       "\n",
       "    .dataframe thead th {\n",
       "        text-align: right;\n",
       "    }\n",
       "</style>\n",
       "<table border=\"1\" class=\"dataframe\">\n",
       "  <thead>\n",
       "    <tr style=\"text-align: right;\">\n",
       "      <th></th>\n",
       "      <th>course_id</th>\n",
       "      <th>text</th>\n",
       "      <th>filtered_text</th>\n",
       "      <th>count</th>\n",
       "    </tr>\n",
       "  </thead>\n",
       "  <tbody>\n",
       "    <tr>\n",
       "      <th>0</th>\n",
       "      <td>C_948419</td>\n",
       "      <td>期待更新</td>\n",
       "      <td>期待更新</td>\n",
       "      <td>1.0</td>\n",
       "    </tr>\n",
       "    <tr>\n",
       "      <th>1</th>\n",
       "      <td>C_948419</td>\n",
       "      <td>老师快快更自我隔离期间特别需要您</td>\n",
       "      <td>老师快快自我隔离期间特别需要</td>\n",
       "      <td>1.0</td>\n",
       "    </tr>\n",
       "    <tr>\n",
       "      <th>2</th>\n",
       "      <td>C_948419</td>\n",
       "      <td>涨知识谢谢老师</td>\n",
       "      <td>涨知识谢谢老师</td>\n",
       "      <td>1.0</td>\n",
       "    </tr>\n",
       "    <tr>\n",
       "      <th>3</th>\n",
       "      <td>C_948419</td>\n",
       "      <td>为什么后期不再使用异化这一概念与之对应的概念是什么</td>\n",
       "      <td>后期不再使用异化这一概念对应概念</td>\n",
       "      <td>1.0</td>\n",
       "    </tr>\n",
       "    <tr>\n",
       "      <th>4</th>\n",
       "      <td>C_948419</td>\n",
       "      <td>特别有感染力想一直听下去</td>\n",
       "      <td>特别感染力想一直听下去</td>\n",
       "      <td>1.0</td>\n",
       "    </tr>\n",
       "  </tbody>\n",
       "</table>\n",
       "</div>"
      ],
      "text/plain": [
       "  course_id                       text     filtered_text  count\n",
       "0  C_948419                       期待更新              期待更新    1.0\n",
       "1  C_948419           老师快快更自我隔离期间特别需要您    老师快快自我隔离期间特别需要    1.0\n",
       "2  C_948419                    涨知识谢谢老师           涨知识谢谢老师    1.0\n",
       "3  C_948419  为什么后期不再使用异化这一概念与之对应的概念是什么  后期不再使用异化这一概念对应概念    1.0\n",
       "4  C_948419               特别有感染力想一直听下去       特别感染力想一直听下去    1.0"
      ]
     },
     "execution_count": 9,
     "metadata": {},
     "output_type": "execute_result"
    }
   ],
   "source": [
    "import pandas as pd\n",
    "import numpy as np\n",
    "\n",
    "df = pd.read_csv(f\"/kaggle/input/preprocessing-3/cleaned_comments/file_{i+1}.csv\")\n",
    "print(\"Số dòng dữ liệu:\", len(df))\n",
    "df.head(5)"
   ]
  },
  {
   "cell_type": "code",
   "execution_count": 10,
   "id": "5668ab58",
   "metadata": {
    "execution": {
     "iopub.execute_input": "2024-12-03T20:10:31.814339Z",
     "iopub.status.busy": "2024-12-03T20:10:31.813385Z",
     "iopub.status.idle": "2024-12-03T21:07:28.750906Z",
     "shell.execute_reply": "2024-12-03T21:07:28.749788Z"
    },
    "papermill": {
     "duration": 3417.354802,
     "end_time": "2024-12-03T21:07:28.752844",
     "exception": false,
     "start_time": "2024-12-03T20:10:31.398042",
     "status": "completed"
    },
    "tags": []
   },
   "outputs": [
    {
     "name": "stderr",
     "output_type": "stream",
     "text": [
      "Tiến độ dịch: 100%|██████████| 2781/2781 [56:56<00:00,  1.23s/dòng]"
     ]
    },
    {
     "name": "stdout",
     "output_type": "stream",
     "text": [
      "Số dòng dữ liệu: 2781\n"
     ]
    },
    {
     "name": "stderr",
     "output_type": "stream",
     "text": [
      "\n"
     ]
    },
    {
     "data": {
      "text/html": [
       "<div>\n",
       "<style scoped>\n",
       "    .dataframe tbody tr th:only-of-type {\n",
       "        vertical-align: middle;\n",
       "    }\n",
       "\n",
       "    .dataframe tbody tr th {\n",
       "        vertical-align: top;\n",
       "    }\n",
       "\n",
       "    .dataframe thead th {\n",
       "        text-align: right;\n",
       "    }\n",
       "</style>\n",
       "<table border=\"1\" class=\"dataframe\">\n",
       "  <thead>\n",
       "    <tr style=\"text-align: right;\">\n",
       "      <th></th>\n",
       "      <th>course_id</th>\n",
       "      <th>text</th>\n",
       "      <th>filtered_text</th>\n",
       "      <th>count</th>\n",
       "      <th>text_vi</th>\n",
       "    </tr>\n",
       "  </thead>\n",
       "  <tbody>\n",
       "    <tr>\n",
       "      <th>0</th>\n",
       "      <td>C_948419</td>\n",
       "      <td>期待更新</td>\n",
       "      <td>期待更新</td>\n",
       "      <td>1.0</td>\n",
       "      <td>Mong nhận được thông tin cập nhật</td>\n",
       "    </tr>\n",
       "    <tr>\n",
       "      <th>1</th>\n",
       "      <td>C_948419</td>\n",
       "      <td>老师快快更自我隔离期间特别需要您</td>\n",
       "      <td>老师快快自我隔离期间特别需要</td>\n",
       "      <td>1.0</td>\n",
       "      <td>Thưa thầy, xin vui lòng cập nhật. Chúng tôi cầ...</td>\n",
       "    </tr>\n",
       "    <tr>\n",
       "      <th>2</th>\n",
       "      <td>C_948419</td>\n",
       "      <td>涨知识谢谢老师</td>\n",
       "      <td>涨知识谢谢老师</td>\n",
       "      <td>1.0</td>\n",
       "      <td>Kiến thức được nâng cao, cảm ơn thầy</td>\n",
       "    </tr>\n",
       "    <tr>\n",
       "      <th>3</th>\n",
       "      <td>C_948419</td>\n",
       "      <td>为什么后期不再使用异化这一概念与之对应的概念是什么</td>\n",
       "      <td>后期不再使用异化这一概念对应概念</td>\n",
       "      <td>1.0</td>\n",
       "      <td>Tại sao khái niệm tha hóa không còn được sử dụ...</td>\n",
       "    </tr>\n",
       "    <tr>\n",
       "      <th>4</th>\n",
       "      <td>C_948419</td>\n",
       "      <td>特别有感染力想一直听下去</td>\n",
       "      <td>特别感染力想一直听下去</td>\n",
       "      <td>1.0</td>\n",
       "      <td>Nó dễ lây lan đến mức tôi muốn tiếp tục nghe nó.</td>\n",
       "    </tr>\n",
       "  </tbody>\n",
       "</table>\n",
       "</div>"
      ],
      "text/plain": [
       "  course_id                       text     filtered_text  count  \\\n",
       "0  C_948419                       期待更新              期待更新    1.0   \n",
       "1  C_948419           老师快快更自我隔离期间特别需要您    老师快快自我隔离期间特别需要    1.0   \n",
       "2  C_948419                    涨知识谢谢老师           涨知识谢谢老师    1.0   \n",
       "3  C_948419  为什么后期不再使用异化这一概念与之对应的概念是什么  后期不再使用异化这一概念对应概念    1.0   \n",
       "4  C_948419               特别有感染力想一直听下去       特别感染力想一直听下去    1.0   \n",
       "\n",
       "                                             text_vi  \n",
       "0                  Mong nhận được thông tin cập nhật  \n",
       "1  Thưa thầy, xin vui lòng cập nhật. Chúng tôi cầ...  \n",
       "2               Kiến thức được nâng cao, cảm ơn thầy  \n",
       "3  Tại sao khái niệm tha hóa không còn được sử dụ...  \n",
       "4   Nó dễ lây lan đến mức tôi muốn tiếp tục nghe nó.  "
      ]
     },
     "execution_count": 10,
     "metadata": {},
     "output_type": "execute_result"
    }
   ],
   "source": [
    "from deep_translator import GoogleTranslator\n",
    "import pandas as pd\n",
    "from tqdm import tqdm  # Import tqdm để sử dụng thanh tiến độ\n",
    "\n",
    "# Khởi tạo đối tượng GoogleTranslator\n",
    "translator = GoogleTranslator(source='zh-CN', target='vi')\n",
    "\n",
    "# Tạo cột 'text_en' nếu chưa có\n",
    "if 'text_vi' not in df.columns:\n",
    "    df['text_vi'] = None\n",
    "\n",
    "df['text'] = df['text'].astype(str)\n",
    "# Sử dụng tqdm để tạo thanh tiến độ\n",
    "with tqdm(total=len(df), desc=\"Tiến độ dịch\", unit=\"dòng\") as pbar:\n",
    "    for idx, row in df.iterrows():\n",
    "        if pd.isna(row['text_vi']):  # Chỉ dịch nếu chưa có dữ liệu\n",
    "            try:\n",
    "                # Dịch từ tiếng Trung giản thể (zh-CN) sang tiếng Anh (en)\n",
    "                text_trans = translator.translate(str(row['text']))\n",
    "                df.loc[idx, 'text_vi'] = text_trans  # Sử dụng .loc để tránh SettingWithCopyWarning\n",
    "            except Exception as e:\n",
    "                print(f\"Error translating row {idx}: {e}\")\n",
    "        \n",
    "        # Cập nhật thanh tiến độ\n",
    "        pbar.update(1)\n",
    "\n",
    "# Hiển thị DataFrame để kiểm tra\n",
    "print(\"Số dòng dữ liệu:\", len(df))\n",
    "df.head(5)"
   ]
  },
  {
   "cell_type": "code",
   "execution_count": 11,
   "id": "72912ee4",
   "metadata": {
    "execution": {
     "iopub.execute_input": "2024-12-03T21:07:29.914090Z",
     "iopub.status.busy": "2024-12-03T21:07:29.913674Z",
     "iopub.status.idle": "2024-12-03T21:07:29.920388Z",
     "shell.execute_reply": "2024-12-03T21:07:29.919383Z"
    },
    "papermill": {
     "duration": 0.556595,
     "end_time": "2024-12-03T21:07:29.922603",
     "exception": false,
     "start_time": "2024-12-03T21:07:29.366008",
     "status": "completed"
    },
    "tags": []
   },
   "outputs": [],
   "source": [
    "df['text'] = df['text'].astype(str)\n",
    "df['text_vi'] = df['text_vi'].astype(str)"
   ]
  },
  {
   "cell_type": "code",
   "execution_count": 12,
   "id": "374a54aa",
   "metadata": {
    "execution": {
     "iopub.execute_input": "2024-12-03T21:07:31.076331Z",
     "iopub.status.busy": "2024-12-03T21:07:31.075413Z",
     "iopub.status.idle": "2024-12-03T21:07:31.111217Z",
     "shell.execute_reply": "2024-12-03T21:07:31.110155Z"
    },
    "papermill": {
     "duration": 0.641812,
     "end_time": "2024-12-03T21:07:31.113580",
     "exception": false,
     "start_time": "2024-12-03T21:07:30.471768",
     "status": "completed"
    },
    "tags": []
   },
   "outputs": [],
   "source": [
    "df.to_csv(f'/kaggle/working/translated_comments_{i+1}.csv', index=False)"
   ]
  }
 ],
 "metadata": {
  "kaggle": {
   "accelerator": "none",
   "dataSources": [
    {
     "sourceId": 209897750,
     "sourceType": "kernelVersion"
    }
   ],
   "dockerImageVersionId": 30786,
   "isGpuEnabled": false,
   "isInternetEnabled": true,
   "language": "python",
   "sourceType": "notebook"
  },
  "kernelspec": {
   "display_name": "Python 3",
   "language": "python",
   "name": "python3"
  },
  "language_info": {
   "codemirror_mode": {
    "name": "ipython",
    "version": 3
   },
   "file_extension": ".py",
   "mimetype": "text/x-python",
   "name": "python",
   "nbconvert_exporter": "python",
   "pygments_lexer": "ipython3",
   "version": "3.10.14"
  },
  "papermill": {
   "default_parameters": {},
   "duration": 15058.666345,
   "end_time": "2024-12-03T21:07:32.180993",
   "environment_variables": {},
   "exception": null,
   "input_path": "__notebook__.ipynb",
   "output_path": "__notebook__.ipynb",
   "parameters": {},
   "start_time": "2024-12-03T16:56:33.514648",
   "version": "2.6.0"
  }
 },
 "nbformat": 4,
 "nbformat_minor": 5
}
