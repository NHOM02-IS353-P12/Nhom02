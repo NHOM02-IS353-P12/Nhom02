{
 "cells": [
  {
   "cell_type": "markdown",
   "id": "28e1442e",
   "metadata": {
    "id": "Ow7J-r83yYC8",
    "papermill": {
     "duration": 0.014717,
     "end_time": "2024-12-10T02:12:11.926617",
     "exception": false,
     "start_time": "2024-12-10T02:12:11.911900",
     "status": "completed"
    },
    "tags": []
   },
   "source": [
    "# Tao bang lien ket giua course-exercise/video\n",
    "Dựa trên tỉ lệ score trung bình học sinh đặt được trên từng course_id"
   ]
  },
  {
   "cell_type": "code",
   "execution_count": 1,
   "id": "bb16e256",
   "metadata": {
    "execution": {
     "iopub.execute_input": "2024-12-10T02:12:11.954786Z",
     "iopub.status.busy": "2024-12-10T02:12:11.954439Z",
     "iopub.status.idle": "2024-12-10T02:12:15.782861Z",
     "shell.execute_reply": "2024-12-10T02:12:15.781929Z"
    },
    "id": "3d_V9nHc382A",
    "papermill": {
     "duration": 3.844732,
     "end_time": "2024-12-10T02:12:15.784922",
     "exception": false,
     "start_time": "2024-12-10T02:12:11.940190",
     "status": "completed"
    },
    "tags": []
   },
   "outputs": [],
   "source": [
    "import pandas as pd\n",
    "import dask.dataframe as dd\n",
    "import re\n",
    "import numpy as np"
   ]
  },
  {
   "cell_type": "code",
   "execution_count": 2,
   "id": "dcd9268d",
   "metadata": {
    "execution": {
     "iopub.execute_input": "2024-12-10T02:12:15.817571Z",
     "iopub.status.busy": "2024-12-10T02:12:15.816790Z",
     "iopub.status.idle": "2024-12-10T02:12:15.821776Z",
     "shell.execute_reply": "2024-12-10T02:12:15.820758Z"
    },
    "papermill": {
     "duration": 0.024311,
     "end_time": "2024-12-10T02:12:15.823805",
     "exception": false,
     "start_time": "2024-12-10T02:12:15.799494",
     "status": "completed"
    },
    "tags": []
   },
   "outputs": [],
   "source": [
    "import json"
   ]
  },
  {
   "cell_type": "code",
   "execution_count": 3,
   "id": "31c5129a",
   "metadata": {
    "execution": {
     "iopub.execute_input": "2024-12-10T02:12:15.852337Z",
     "iopub.status.busy": "2024-12-10T02:12:15.851723Z",
     "iopub.status.idle": "2024-12-10T02:12:18.289957Z",
     "shell.execute_reply": "2024-12-10T02:12:18.289024Z"
    },
    "papermill": {
     "duration": 2.454557,
     "end_time": "2024-12-10T02:12:18.291631",
     "exception": false,
     "start_time": "2024-12-10T02:12:15.837074",
     "status": "completed"
    },
    "tags": []
   },
   "outputs": [
    {
     "name": "stdout",
     "output_type": "stream",
     "text": [
      "Filtered course_df:\n"
     ]
    },
    {
     "data": {
      "text/html": [
       "<div>\n",
       "<style scoped>\n",
       "    .dataframe tbody tr th:only-of-type {\n",
       "        vertical-align: middle;\n",
       "    }\n",
       "\n",
       "    .dataframe tbody tr th {\n",
       "        vertical-align: top;\n",
       "    }\n",
       "\n",
       "    .dataframe thead th {\n",
       "        text-align: right;\n",
       "    }\n",
       "</style>\n",
       "<table border=\"1\" class=\"dataframe\">\n",
       "  <thead>\n",
       "    <tr style=\"text-align: right;\">\n",
       "      <th></th>\n",
       "      <th>id</th>\n",
       "      <th>name</th>\n",
       "      <th>field</th>\n",
       "      <th>prerequisites</th>\n",
       "      <th>about</th>\n",
       "      <th>resource</th>\n",
       "    </tr>\n",
       "  </thead>\n",
       "  <tbody>\n",
       "    <tr>\n",
       "      <th>30</th>\n",
       "      <td>C_674903</td>\n",
       "      <td>不朽的艺术：走进大师与经典</td>\n",
       "      <td>[艺术学]</td>\n",
       "      <td>无</td>\n",
       "      <td>【国家精品课】以历史为经线，中外比较为纬线，以文化解读为主导，引导修课学生欣赏和理解中西艺术...</td>\n",
       "      <td>[{'titles': ['第一讲：艺术概说：问题与方法', ' 1.图像与信息：事实缺损'...</td>\n",
       "    </tr>\n",
       "    <tr>\n",
       "      <th>31</th>\n",
       "      <td>C_674910</td>\n",
       "      <td>图案审美与创作</td>\n",
       "      <td>[]</td>\n",
       "      <td></td>\n",
       "      <td>【国家精品课】本课程提供图案感受美、提炼美、表现美的过程体验。学习图案可以了解历史，感受时代...</td>\n",
       "      <td>[{'titles': ['第一讲 图案导学1', '1-1图案与时尚、历史、文化等', '...</td>\n",
       "    </tr>\n",
       "    <tr>\n",
       "      <th>32</th>\n",
       "      <td>C_674912</td>\n",
       "      <td>音乐与健康</td>\n",
       "      <td>[]</td>\n",
       "      <td></td>\n",
       "      <td>本课程精心设计了音乐与健康、治疗、养生、音乐处方单等八个专题的内容，适合喜爱音乐和关注身心健...</td>\n",
       "      <td>[{'titles': ['1  音乐与健康', '1.1  导论', '导论'], 're...</td>\n",
       "    </tr>\n",
       "    <tr>\n",
       "      <th>33</th>\n",
       "      <td>C_674914</td>\n",
       "      <td>管理会计学</td>\n",
       "      <td>[]</td>\n",
       "      <td></td>\n",
       "      <td>本课程顺应新经济发展趋势，主要讲述了管理会计基础理论和实际运用方法，旨在为学员搭建起管理会计...</td>\n",
       "      <td>[{'titles': ['第一章 总论', '1.1管理会计的基本概念和内容', '1.1...</td>\n",
       "    </tr>\n",
       "    <tr>\n",
       "      <th>35</th>\n",
       "      <td>C_674920</td>\n",
       "      <td>逻辑学概论</td>\n",
       "      <td>[哲学]</td>\n",
       "      <td></td>\n",
       "      <td>“逻辑”是什么？大家都很熟悉却又似乎难以说清。本课程将告诉你：作为一门学科，逻辑学研究的是什...</td>\n",
       "      <td>[{'titles': ['第一讲 什么是逻辑学', '1.1 “逻辑\"和逻辑学', '默认...</td>\n",
       "    </tr>\n",
       "    <tr>\n",
       "      <th>...</th>\n",
       "      <td>...</td>\n",
       "      <td>...</td>\n",
       "      <td>...</td>\n",
       "      <td>...</td>\n",
       "      <td>...</td>\n",
       "      <td>...</td>\n",
       "    </tr>\n",
       "    <tr>\n",
       "      <th>3566</th>\n",
       "      <td>C_697821</td>\n",
       "      <td>操作系统</td>\n",
       "      <td>[计算机科学与技术]</td>\n",
       "      <td></td>\n",
       "      <td>疾风计划2021【首期限额招募】进行中\\n名校名师丨专属助教丨专业认证丨系统全面丨修炼内功丨...</td>\n",
       "      <td>[{'titles': ['第零讲 在线教学环境准备', '0.1 Piazza讨论区', ...</td>\n",
       "    </tr>\n",
       "    <tr>\n",
       "      <th>3567</th>\n",
       "      <td>C_697828</td>\n",
       "      <td>程序设计基础</td>\n",
       "      <td>[]</td>\n",
       "      <td></td>\n",
       "      <td>疾风计划2021【首期限额招募】进行中\\n名校名师丨专属助教丨专业认证丨系统全面丨修炼内功丨...</td>\n",
       "      <td>[{'titles': ['第一章 编程初步', '1.1 基础知识', '1.1.1  什...</td>\n",
       "    </tr>\n",
       "    <tr>\n",
       "      <th>3578</th>\n",
       "      <td>C_2297236</td>\n",
       "      <td>物联网概论</td>\n",
       "      <td>[]</td>\n",
       "      <td></td>\n",
       "      <td>在万物互联的时代即将到来之时，让我们一起通过这门课程，认识物联网的基本概念，掌握物联网的关键...</td>\n",
       "      <td>[{'titles': ['概述', '物联网概述', '起源与发展'], 'resourc...</td>\n",
       "    </tr>\n",
       "    <tr>\n",
       "      <th>3603</th>\n",
       "      <td>C_2308104</td>\n",
       "      <td>武术</td>\n",
       "      <td>[]</td>\n",
       "      <td>无</td>\n",
       "      <td>中华武术，博大精深，传承武术精粹，弘扬武术文化，以武修身。</td>\n",
       "      <td>[{'titles': ['专题一：《武术概述》', '1.1武术的缘起', '武术的缘起'...</td>\n",
       "    </tr>\n",
       "    <tr>\n",
       "      <th>3647</th>\n",
       "      <td>C_893812</td>\n",
       "      <td>基础笔译</td>\n",
       "      <td>[]</td>\n",
       "      <td></td>\n",
       "      <td>《基础笔译》这门课程的内容以笔译实训为主，通过CATTI二级笔译真题的讲解，帮助大家解决笔译...</td>\n",
       "      <td>[{'titles': ['第一章 翻译概述', '1.1翻译的目的', '1.1翻译的目的...</td>\n",
       "    </tr>\n",
       "  </tbody>\n",
       "</table>\n",
       "<p>989 rows × 6 columns</p>\n",
       "</div>"
      ],
      "text/plain": [
       "             id           name       field prerequisites  \\\n",
       "30     C_674903  不朽的艺术：走进大师与经典       [艺术学]             无   \n",
       "31     C_674910        图案审美与创作          []                 \n",
       "32     C_674912          音乐与健康          []                 \n",
       "33     C_674914          管理会计学          []                 \n",
       "35     C_674920          逻辑学概论        [哲学]                 \n",
       "...         ...            ...         ...           ...   \n",
       "3566   C_697821           操作系统  [计算机科学与技术]                 \n",
       "3567   C_697828         程序设计基础          []                 \n",
       "3578  C_2297236          物联网概论          []                 \n",
       "3603  C_2308104             武术          []             无   \n",
       "3647   C_893812           基础笔译          []                 \n",
       "\n",
       "                                                  about  \\\n",
       "30    【国家精品课】以历史为经线，中外比较为纬线，以文化解读为主导，引导修课学生欣赏和理解中西艺术...   \n",
       "31    【国家精品课】本课程提供图案感受美、提炼美、表现美的过程体验。学习图案可以了解历史，感受时代...   \n",
       "32    本课程精心设计了音乐与健康、治疗、养生、音乐处方单等八个专题的内容，适合喜爱音乐和关注身心健...   \n",
       "33    本课程顺应新经济发展趋势，主要讲述了管理会计基础理论和实际运用方法，旨在为学员搭建起管理会计...   \n",
       "35    “逻辑”是什么？大家都很熟悉却又似乎难以说清。本课程将告诉你：作为一门学科，逻辑学研究的是什...   \n",
       "...                                                 ...   \n",
       "3566  疾风计划2021【首期限额招募】进行中\\n名校名师丨专属助教丨专业认证丨系统全面丨修炼内功丨...   \n",
       "3567  疾风计划2021【首期限额招募】进行中\\n名校名师丨专属助教丨专业认证丨系统全面丨修炼内功丨...   \n",
       "3578  在万物互联的时代即将到来之时，让我们一起通过这门课程，认识物联网的基本概念，掌握物联网的关键...   \n",
       "3603                      中华武术，博大精深，传承武术精粹，弘扬武术文化，以武修身。   \n",
       "3647  《基础笔译》这门课程的内容以笔译实训为主，通过CATTI二级笔译真题的讲解，帮助大家解决笔译...   \n",
       "\n",
       "                                               resource  \n",
       "30    [{'titles': ['第一讲：艺术概说：问题与方法', ' 1.图像与信息：事实缺损'...  \n",
       "31    [{'titles': ['第一讲 图案导学1', '1-1图案与时尚、历史、文化等', '...  \n",
       "32    [{'titles': ['1  音乐与健康', '1.1  导论', '导论'], 're...  \n",
       "33    [{'titles': ['第一章 总论', '1.1管理会计的基本概念和内容', '1.1...  \n",
       "35    [{'titles': ['第一讲 什么是逻辑学', '1.1 “逻辑\"和逻辑学', '默认...  \n",
       "...                                                 ...  \n",
       "3566  [{'titles': ['第零讲 在线教学环境准备', '0.1 Piazza讨论区', ...  \n",
       "3567  [{'titles': ['第一章 编程初步', '1.1 基础知识', '1.1.1  什...  \n",
       "3578  [{'titles': ['概述', '物联网概述', '起源与发展'], 'resourc...  \n",
       "3603  [{'titles': ['专题一：《武术概述》', '1.1武术的缘起', '武术的缘起'...  \n",
       "3647  [{'titles': ['第一章 翻译概述', '1.1翻译的目的', '1.1翻译的目的...  \n",
       "\n",
       "[989 rows x 6 columns]"
      ]
     },
     "execution_count": 3,
     "metadata": {},
     "output_type": "execute_result"
    }
   ],
   "source": [
    "import pandas as pd\n",
    "\n",
    "# Đọc tệp JSON Lines\n",
    "course_df = pd.read_json('/kaggle/input/mooccubex-dataset/course.json', lines=True)\n",
    "\n",
    "# Đọc tệp CSV chứa thông tin top 1000 khóa học\n",
    "courses1000_df = pd.read_csv('/kaggle/input/1000course/top_1000_courses.csv')\n",
    "\n",
    "# Đổi tên cột 'course_order' thành 'course_id'\n",
    "courses1000_df.rename(columns={'course_order': 'course_id'}, inplace=True)\n",
    "\n",
    "# Thêm tiền tố \"C_\" vào cột 'course_id'\n",
    "courses1000_df['course_id'] = courses1000_df['course_id'].apply(lambda x: f\"C_{x}\")\n",
    "\n",
    "# Lấy danh sách hợp lệ của course_id\n",
    "valid_courses = courses1000_df['course_id'].tolist()\n",
    "\n",
    "# Lọc course_df để chỉ giữ lại các dòng có id thuộc danh sách hợp lệ\n",
    "course_df_filtered = course_df[course_df['id'].isin(valid_courses)]\n",
    "\n",
    "print(\"Filtered course_df:\")\n",
    "course_df_filtered"
   ]
  },
  {
   "cell_type": "code",
   "execution_count": 4,
   "id": "5a2d62c1",
   "metadata": {
    "execution": {
     "iopub.execute_input": "2024-12-10T02:12:18.320672Z",
     "iopub.status.busy": "2024-12-10T02:12:18.320073Z",
     "iopub.status.idle": "2024-12-10T02:12:18.470978Z",
     "shell.execute_reply": "2024-12-10T02:12:18.470039Z"
    },
    "papermill": {
     "duration": 0.166969,
     "end_time": "2024-12-10T02:12:18.472593",
     "exception": false,
     "start_time": "2024-12-10T02:12:18.305624",
     "status": "completed"
    },
    "tags": []
   },
   "outputs": [
    {
     "name": "stdout",
     "output_type": "stream",
     "text": [
      "30      [{'titles': ['第一讲：艺术概说：问题与方法', ' 1.图像与信息：事实缺损'...\n",
      "31      [{'titles': ['第一讲 图案导学1', '1-1图案与时尚、历史、文化等', '...\n",
      "32      [{'titles': ['1  音乐与健康', '1.1  导论', '导论'], 're...\n",
      "33      [{'titles': ['第一章 总论', '1.1管理会计的基本概念和内容', '1.1...\n",
      "35      [{'titles': ['第一讲 什么是逻辑学', '1.1 “逻辑\"和逻辑学', '默认...\n",
      "                              ...                        \n",
      "3566    [{'titles': ['第零讲 在线教学环境准备', '0.1 Piazza讨论区', ...\n",
      "3567    [{'titles': ['第一章 编程初步', '1.1 基础知识', '1.1.1  什...\n",
      "3578    [{'titles': ['概述', '物联网概述', '起源与发展'], 'resourc...\n",
      "3603    [{'titles': ['专题一：《武术概述》', '1.1武术的缘起', '武术的缘起'...\n",
      "3647    [{'titles': ['第一章 翻译概述', '1.1翻译的目的', '1.1翻译的目的...\n",
      "Name: resource, Length: 989, dtype: object\n"
     ]
    }
   ],
   "source": [
    "print(course_df_filtered['resource'])"
   ]
  },
  {
   "cell_type": "code",
   "execution_count": 5,
   "id": "b8158ceb",
   "metadata": {
    "execution": {
     "iopub.execute_input": "2024-12-10T02:12:18.499948Z",
     "iopub.status.busy": "2024-12-10T02:12:18.499296Z",
     "iopub.status.idle": "2024-12-10T02:12:18.672946Z",
     "shell.execute_reply": "2024-12-10T02:12:18.672206Z"
    },
    "papermill": {
     "duration": 0.189155,
     "end_time": "2024-12-10T02:12:18.674972",
     "exception": false,
     "start_time": "2024-12-10T02:12:18.485817",
     "status": "completed"
    },
    "tags": []
   },
   "outputs": [],
   "source": [
    "import pandas as pd\n",
    "\n",
    "# Hàm để tách các resource_id dựa trên điều kiện\n",
    "def extract_resources(course_id, resources, prefix):\n",
    "    return [\n",
    "        {\"id\": course_id, \"resource_id\": res['resource_id']}\n",
    "        for res in resources if res['resource_id'].startswith(prefix)\n",
    "    ]\n",
    "\n",
    "# Tạo dataframe chứa video_id\n",
    "video_data = []\n",
    "exercise_data = []\n",
    "\n",
    "for _, row in course_df_filtered.iterrows():\n",
    "    video_data.extend(extract_resources(row['id'], row['resource'], \"V_\"))\n",
    "    exercise_data.extend(extract_resources(row['id'], row['resource'], \"Ex_\"))\n",
    "\n",
    "video_df = pd.DataFrame(video_data)\n",
    "exercise_df = pd.DataFrame(exercise_data)"
   ]
  },
  {
   "cell_type": "code",
   "execution_count": 6,
   "id": "0baeea31",
   "metadata": {
    "execution": {
     "iopub.execute_input": "2024-12-10T02:12:18.702290Z",
     "iopub.status.busy": "2024-12-10T02:12:18.701854Z",
     "iopub.status.idle": "2024-12-10T02:12:18.782948Z",
     "shell.execute_reply": "2024-12-10T02:12:18.782069Z"
    },
    "papermill": {
     "duration": 0.096523,
     "end_time": "2024-12-10T02:12:18.784534",
     "exception": false,
     "start_time": "2024-12-10T02:12:18.688011",
     "status": "completed"
    },
    "tags": []
   },
   "outputs": [
    {
     "name": "stdout",
     "output_type": "stream",
     "text": [
      "Course - Video DataFrame:\n"
     ]
    },
    {
     "data": {
      "text/html": [
       "<div>\n",
       "<style scoped>\n",
       "    .dataframe tbody tr th:only-of-type {\n",
       "        vertical-align: middle;\n",
       "    }\n",
       "\n",
       "    .dataframe tbody tr th {\n",
       "        vertical-align: top;\n",
       "    }\n",
       "\n",
       "    .dataframe thead th {\n",
       "        text-align: right;\n",
       "    }\n",
       "</style>\n",
       "<table border=\"1\" class=\"dataframe\">\n",
       "  <thead>\n",
       "    <tr style=\"text-align: right;\">\n",
       "      <th></th>\n",
       "      <th>course_id</th>\n",
       "      <th>resource_id</th>\n",
       "    </tr>\n",
       "  </thead>\n",
       "  <tbody>\n",
       "    <tr>\n",
       "      <th>0</th>\n",
       "      <td>C_674903</td>\n",
       "      <td>V_35117</td>\n",
       "    </tr>\n",
       "    <tr>\n",
       "      <th>1</th>\n",
       "      <td>C_674903</td>\n",
       "      <td>V_35118</td>\n",
       "    </tr>\n",
       "    <tr>\n",
       "      <th>2</th>\n",
       "      <td>C_674903</td>\n",
       "      <td>V_35119</td>\n",
       "    </tr>\n",
       "    <tr>\n",
       "      <th>3</th>\n",
       "      <td>C_674903</td>\n",
       "      <td>V_35120</td>\n",
       "    </tr>\n",
       "    <tr>\n",
       "      <th>4</th>\n",
       "      <td>C_674903</td>\n",
       "      <td>V_35121</td>\n",
       "    </tr>\n",
       "    <tr>\n",
       "      <th>...</th>\n",
       "      <td>...</td>\n",
       "      <td>...</td>\n",
       "    </tr>\n",
       "    <tr>\n",
       "      <th>65914</th>\n",
       "      <td>C_893812</td>\n",
       "      <td>V_1058509</td>\n",
       "    </tr>\n",
       "    <tr>\n",
       "      <th>65915</th>\n",
       "      <td>C_893812</td>\n",
       "      <td>V_1058510</td>\n",
       "    </tr>\n",
       "    <tr>\n",
       "      <th>65916</th>\n",
       "      <td>C_893812</td>\n",
       "      <td>V_1058511</td>\n",
       "    </tr>\n",
       "    <tr>\n",
       "      <th>65917</th>\n",
       "      <td>C_893812</td>\n",
       "      <td>V_1058512</td>\n",
       "    </tr>\n",
       "    <tr>\n",
       "      <th>65918</th>\n",
       "      <td>C_893812</td>\n",
       "      <td>V_1058515</td>\n",
       "    </tr>\n",
       "  </tbody>\n",
       "</table>\n",
       "<p>65919 rows × 2 columns</p>\n",
       "</div>"
      ],
      "text/plain": [
       "      course_id resource_id\n",
       "0      C_674903     V_35117\n",
       "1      C_674903     V_35118\n",
       "2      C_674903     V_35119\n",
       "3      C_674903     V_35120\n",
       "4      C_674903     V_35121\n",
       "...         ...         ...\n",
       "65914  C_893812   V_1058509\n",
       "65915  C_893812   V_1058510\n",
       "65916  C_893812   V_1058511\n",
       "65917  C_893812   V_1058512\n",
       "65918  C_893812   V_1058515\n",
       "\n",
       "[65919 rows x 2 columns]"
      ]
     },
     "execution_count": 6,
     "metadata": {},
     "output_type": "execute_result"
    }
   ],
   "source": [
    "# Kết quả\n",
    "print(\"Course - Video DataFrame:\")\n",
    "# Đổi tên cột 'course_order' thành 'course_id'\n",
    "video_df.rename(columns={'id': 'course_id'}, inplace=True)\n",
    "video_df.to_csv(\"/kaggle/working/course_video.csv\")\n",
    "video_df"
   ]
  },
  {
   "cell_type": "code",
   "execution_count": 7,
   "id": "7c23a84b",
   "metadata": {
    "execution": {
     "iopub.execute_input": "2024-12-10T02:12:18.811434Z",
     "iopub.status.busy": "2024-12-10T02:12:18.810877Z",
     "iopub.status.idle": "2024-12-10T02:12:18.849337Z",
     "shell.execute_reply": "2024-12-10T02:12:18.848443Z"
    },
    "papermill": {
     "duration": 0.054007,
     "end_time": "2024-12-10T02:12:18.851293",
     "exception": false,
     "start_time": "2024-12-10T02:12:18.797286",
     "status": "completed"
    },
    "tags": []
   },
   "outputs": [
    {
     "name": "stdout",
     "output_type": "stream",
     "text": [
      "\n",
      "Course - Exercise DataFrame:\n"
     ]
    },
    {
     "data": {
      "text/html": [
       "<div>\n",
       "<style scoped>\n",
       "    .dataframe tbody tr th:only-of-type {\n",
       "        vertical-align: middle;\n",
       "    }\n",
       "\n",
       "    .dataframe tbody tr th {\n",
       "        vertical-align: top;\n",
       "    }\n",
       "\n",
       "    .dataframe thead th {\n",
       "        text-align: right;\n",
       "    }\n",
       "</style>\n",
       "<table border=\"1\" class=\"dataframe\">\n",
       "  <thead>\n",
       "    <tr style=\"text-align: right;\">\n",
       "      <th></th>\n",
       "      <th>course_id</th>\n",
       "      <th>resource_id</th>\n",
       "    </tr>\n",
       "  </thead>\n",
       "  <tbody>\n",
       "    <tr>\n",
       "      <th>0</th>\n",
       "      <td>C_674903</td>\n",
       "      <td>Ex_35127</td>\n",
       "    </tr>\n",
       "    <tr>\n",
       "      <th>1</th>\n",
       "      <td>C_674903</td>\n",
       "      <td>Ex_35136</td>\n",
       "    </tr>\n",
       "    <tr>\n",
       "      <th>2</th>\n",
       "      <td>C_674903</td>\n",
       "      <td>Ex_35145</td>\n",
       "    </tr>\n",
       "    <tr>\n",
       "      <th>3</th>\n",
       "      <td>C_674903</td>\n",
       "      <td>Ex_35153</td>\n",
       "    </tr>\n",
       "    <tr>\n",
       "      <th>4</th>\n",
       "      <td>C_674903</td>\n",
       "      <td>Ex_35162</td>\n",
       "    </tr>\n",
       "    <tr>\n",
       "      <th>...</th>\n",
       "      <td>...</td>\n",
       "      <td>...</td>\n",
       "    </tr>\n",
       "    <tr>\n",
       "      <th>23016</th>\n",
       "      <td>C_893812</td>\n",
       "      <td>Ex_1058493</td>\n",
       "    </tr>\n",
       "    <tr>\n",
       "      <th>23017</th>\n",
       "      <td>C_893812</td>\n",
       "      <td>Ex_1058497</td>\n",
       "    </tr>\n",
       "    <tr>\n",
       "      <th>23018</th>\n",
       "      <td>C_893812</td>\n",
       "      <td>Ex_1058507</td>\n",
       "    </tr>\n",
       "    <tr>\n",
       "      <th>23019</th>\n",
       "      <td>C_893812</td>\n",
       "      <td>Ex_1058513</td>\n",
       "    </tr>\n",
       "    <tr>\n",
       "      <th>23020</th>\n",
       "      <td>C_893812</td>\n",
       "      <td>Ex_1058516</td>\n",
       "    </tr>\n",
       "  </tbody>\n",
       "</table>\n",
       "<p>23021 rows × 2 columns</p>\n",
       "</div>"
      ],
      "text/plain": [
       "      course_id resource_id\n",
       "0      C_674903    Ex_35127\n",
       "1      C_674903    Ex_35136\n",
       "2      C_674903    Ex_35145\n",
       "3      C_674903    Ex_35153\n",
       "4      C_674903    Ex_35162\n",
       "...         ...         ...\n",
       "23016  C_893812  Ex_1058493\n",
       "23017  C_893812  Ex_1058497\n",
       "23018  C_893812  Ex_1058507\n",
       "23019  C_893812  Ex_1058513\n",
       "23020  C_893812  Ex_1058516\n",
       "\n",
       "[23021 rows x 2 columns]"
      ]
     },
     "execution_count": 7,
     "metadata": {},
     "output_type": "execute_result"
    }
   ],
   "source": [
    "print(\"\\nCourse - Exercise DataFrame:\")\n",
    "exercise_df.rename(columns={'id': 'course_id'}, inplace=True)\n",
    "exercise_df.to_csv(\"/kaggle/working/course_exercise.csv\")\n",
    "exercise_df"
   ]
  },
  {
   "cell_type": "code",
   "execution_count": 8,
   "id": "47db986c",
   "metadata": {
    "execution": {
     "iopub.execute_input": "2024-12-10T02:12:18.883479Z",
     "iopub.status.busy": "2024-12-10T02:12:18.883219Z"
    },
    "papermill": {
     "duration": 109.636576,
     "end_time": "2024-12-10T02:14:08.503913",
     "exception": false,
     "start_time": "2024-12-10T02:12:18.867337",
     "status": "completed"
    },
    "tags": []
   },
   "outputs": [],
   "source": [
    "# Đọc dữ liệu từ tệp user-problem.json\n",
    "user_problem_df = pd.read_json('/kaggle/input/mooccubex-dataset/user-problem.json', lines=True)\n",
    "\n",
    "# Lọc bảng user_problem_df để chỉ lấy các dòng có user_id trong user_df_filtered\n",
    "valid_user_ids = user_df_filtered['id'].tolist()\n",
    "user_problem_df_filtered = user_problem_df[user_problem_df['user_id'].isin(valid_user_ids)]\n",
    "\n",
    "# In kết quả lọc từ user_problem_df\n",
    "print(\"\\nFiltered user_problem_df:\")\n",
    "user_problem_df_filtered"
   ]
  },
  {
   "cell_type": "code",
   "execution_count": null,
   "id": "8a074293",
   "metadata": {
    "execution": {
     "iopub.status.busy": "2024-12-10T02:04:47.444471Z",
     "iopub.status.idle": "2024-12-10T02:04:47.444784Z",
     "shell.execute_reply": "2024-12-10T02:04:47.444656Z",
     "shell.execute_reply.started": "2024-12-10T02:04:47.444640Z"
    },
    "papermill": {
     "duration": null,
     "end_time": null,
     "exception": null,
     "start_time": null,
     "status": "completed"
    },
    "tags": []
   },
   "outputs": [],
   "source": [
    "import pandas as pd\n",
    "\n",
    "# Đọc dữ liệu từ tệp exercise-problem.txt\n",
    "exercise_problem_df = pd.read_csv('/kaggle/input/mooccubex-dataset/exercise-problem.txt', sep=\"\\t\", header=None, names=[\"exercise_id\", \"problem_id\"])\n",
    "\n",
    "# Lọc bảng exercise_problem_df để chỉ lấy các dòng có problem_id trong user_problem_df_filtered\n",
    "valid_problem_ids = user_problem_df_filtered['problem_id'].tolist()\n",
    "exercise_problem_df_filtered = exercise_problem_df[exercise_problem_df['problem_id'].isin(valid_problem_ids)]\n",
    "\n",
    "# In kết quả lọc từ exercise_problem_df\n",
    "print(\"\\nFiltered exercise_problem_df:\")\n",
    "exercise_problem_df_filtered"
   ]
  },
  {
   "cell_type": "code",
   "execution_count": null,
   "id": "a462e9b3",
   "metadata": {
    "execution": {
     "iopub.status.busy": "2024-12-10T02:04:47.446535Z",
     "iopub.status.idle": "2024-12-10T02:04:47.446979Z",
     "shell.execute_reply": "2024-12-10T02:04:47.446765Z",
     "shell.execute_reply.started": "2024-12-10T02:04:47.446742Z"
    },
    "papermill": {
     "duration": null,
     "end_time": null,
     "exception": null,
     "start_time": null,
     "status": "completed"
    },
    "tags": []
   },
   "outputs": [],
   "source": [
    "pip install tqdm"
   ]
  },
  {
   "cell_type": "code",
   "execution_count": null,
   "id": "3782839e",
   "metadata": {
    "execution": {
     "iopub.status.busy": "2024-12-10T02:04:47.448109Z",
     "iopub.status.idle": "2024-12-10T02:04:47.448532Z",
     "shell.execute_reply": "2024-12-10T02:04:47.448338Z",
     "shell.execute_reply.started": "2024-12-10T02:04:47.448315Z"
    },
    "papermill": {
     "duration": null,
     "end_time": null,
     "exception": null,
     "start_time": null,
     "status": "completed"
    },
    "tags": []
   },
   "outputs": [],
   "source": [
    "import pandas as pd\n",
    "import json\n",
    "from datetime import datetime\n",
    "from tqdm import tqdm  # Thêm thư viện tqdm\n",
    "\n",
    "# Chuyển đổi thời gian từ chuỗi sang đối tượng datetime\n",
    "def convert_to_datetime(time_str):\n",
    "    return datetime.strptime(time_str, \"%Y-%m-%d %H:%M:%S\")\n",
    "\n",
    "# Lấy thông tin khóa học và các bài tập tương ứng từ dữ liệu\n",
    "def get_submission_course_mapping(user_data, user_problem_data, exercise_problem_data):\n",
    "    # Lấy thời gian nộp bài\n",
    "    submit_time = convert_to_datetime(user_problem_data[\"submit_time\"])\n",
    "    \n",
    "    # Danh sách lưu trữ kết quả\n",
    "    result_data = []\n",
    "\n",
    "    # Lọc các problem_id từ bảng user_problem_data và bảng exercise_problem_data\n",
    "    filtered_exercise_problems = exercise_problem_data[exercise_problem_data['problem_id'] == user_problem_data[\"problem_id\"]]\n",
    "\n",
    "    # Nếu có các bài tập hợp lệ, tiếp tục xử lý\n",
    "    if not filtered_exercise_problems.empty:\n",
    "        # Duyệt qua từng bài tập trong exercise_problem_data\n",
    "        for _, row in filtered_exercise_problems.iterrows():\n",
    "            exercise_id = row['exercise_id']\n",
    "            problem_id = row['problem_id']\n",
    "\n",
    "            # Duyệt qua từng khóa học trong course_order và kiểm tra thời gian enroll\n",
    "            for j, course_id in enumerate(user_data[\"course_order\"]):\n",
    "                enroll_start_time = convert_to_datetime(user_data[\"enroll_time\"][j])\n",
    "                enroll_end_time = convert_to_datetime(user_data[\"enroll_time\"][j + 1] if j + 1 < len(user_data[\"enroll_time\"]) else user_data[\"enroll_time\"][j])\n",
    "\n",
    "                # Kiểm tra xem thời gian nộp bài có nằm trong khoảng thời gian học hay không\n",
    "                if enroll_start_time <= submit_time <= enroll_end_time:\n",
    "                    # Thêm exercise_id vào kết quả cho khóa học tương ứng\n",
    "                    if course_id not in [result['course_id'] for result in result_data]:\n",
    "                        result_data.append({\"course_id\": course_id, \"exercise_ids\": [exercise_id]})\n",
    "                    else:\n",
    "                        # Nếu khóa học đã có trong kết quả, thêm exercise_id vào chuỗi\n",
    "                        for result in result_data:\n",
    "                            if result[\"course_id\"] == course_id:\n",
    "                                result[\"exercise_ids\"].append(exercise_id)\n",
    "                                break\n",
    "\n",
    "    # Chuyển danh sách kết quả thành DataFrame, với exercise_ids là chuỗi bài tập\n",
    "    result_df = pd.DataFrame(result_data)\n",
    "    # Chuyển exercise_ids thành chuỗi các bài tập\n",
    "    result_df['exercise_ids'] = result_df['exercise_ids'].apply(lambda x: ', '.join(x))\n",
    "    return result_df\n",
    "\n",
    "# Duyệt qua các bản ghi trong bảng user_problem_df_filtered và lấy kết quả cho từng người dùng\n",
    "final_results = []\n",
    "\n",
    "# Thêm thanh tiến trình vào vòng lặp duyệt qua các bản ghi user_problem_df_filtered\n",
    "for _, user_problem_row in tqdm(user_problem_df_filtered.iterrows(), total=user_problem_df_filtered.shape[0], desc=\"Processing user problems\"):\n",
    "    user_id = user_problem_row[\"user_id\"]\n",
    "    # Lấy thông tin người dùng từ user_df_filtered\n",
    "    user_data = user_df_filtered[user_df_filtered[\"id\"] == user_id].iloc[0]  # Lấy thông tin người dùng\n",
    "    result_df = get_submission_course_mapping(user_data, user_problem_row, exercise_problem_df_filtered)\n",
    "    \n",
    "    # Gộp kết quả cho người dùng\n",
    "    final_results.append(result_df)\n",
    "\n",
    "# Kết quả cuối cùng là DataFrame với course_id và exercise_ids cho từng người dùng\n",
    "course_exercise = pd.concat(final_results, ignore_index=True)\n",
    "\n",
    "# In kết quả\n",
    "course_exercise"
   ]
  },
  {
   "cell_type": "code",
   "execution_count": null,
   "id": "c7fdbb88",
   "metadata": {
    "execution": {
     "iopub.status.busy": "2024-12-10T02:04:47.449604Z",
     "iopub.status.idle": "2024-12-10T02:04:47.450033Z",
     "shell.execute_reply": "2024-12-10T02:04:47.449819Z",
     "shell.execute_reply.started": "2024-12-10T02:04:47.449797Z"
    },
    "papermill": {
     "duration": null,
     "end_time": null,
     "exception": null,
     "start_time": null,
     "status": "completed"
    },
    "tags": []
   },
   "outputs": [],
   "source": [
    "course_exercise.to_csv(\"/kaggle/working/course_exercise.csv\")"
   ]
  },
  {
   "cell_type": "code",
   "execution_count": null,
   "id": "6828ef48",
   "metadata": {
    "papermill": {
     "duration": null,
     "end_time": null,
     "exception": null,
     "start_time": null,
     "status": "completed"
    },
    "tags": []
   },
   "outputs": [],
   "source": []
  },
  {
   "cell_type": "code",
   "execution_count": null,
   "id": "8ab4af88",
   "metadata": {
    "execution": {
     "iopub.status.busy": "2024-12-10T02:04:47.451715Z",
     "iopub.status.idle": "2024-12-10T02:04:47.452212Z",
     "shell.execute_reply": "2024-12-10T02:04:47.452003Z",
     "shell.execute_reply.started": "2024-12-10T02:04:47.451979Z"
    },
    "executionInfo": {
     "elapsed": 765,
     "status": "ok",
     "timestamp": 1716290821242,
     "user": {
      "displayName": "Lê Ý",
      "userId": "10437331741939090357"
     },
     "user_tz": -420
    },
    "id": "i_kwEAUx5BPD",
    "outputId": "3f0acb65-c611-4f7c-a80a-20f87f731517",
    "papermill": {
     "duration": null,
     "end_time": null,
     "exception": null,
     "start_time": null,
     "status": "completed"
    },
    "tags": []
   },
   "outputs": [],
   "source": [
    "user_problem_score_df = cudf.read_csv('/content/drive/MyDrive/CS313/user_problem_score_df.csv')\n",
    "user_problem_score_df"
   ]
  },
  {
   "cell_type": "code",
   "execution_count": null,
   "id": "6f59e6cc",
   "metadata": {
    "execution": {
     "iopub.status.busy": "2024-12-10T02:04:47.453380Z",
     "iopub.status.idle": "2024-12-10T02:04:47.453794Z",
     "shell.execute_reply": "2024-12-10T02:04:47.453601Z",
     "shell.execute_reply.started": "2024-12-10T02:04:47.453579Z"
    },
    "executionInfo": {
     "elapsed": 353,
     "status": "ok",
     "timestamp": 1716285628899,
     "user": {
      "displayName": "Ý Như",
      "userId": "16178685278829772495"
     },
     "user_tz": -420
    },
    "id": "sOym_8Tsk0_U",
    "outputId": "f1f8cd67-e5d9-41bb-e82b-83998462c51b",
    "papermill": {
     "duration": null,
     "end_time": null,
     "exception": null,
     "start_time": null,
     "status": "completed"
    },
    "tags": []
   },
   "outputs": [],
   "source": [
    "x = user_problem_score_df[user_problem_score_df['problem_id'] == '47064']\n",
    "print(x)"
   ]
  },
  {
   "cell_type": "code",
   "execution_count": null,
   "id": "ebedadff",
   "metadata": {
    "execution": {
     "iopub.status.busy": "2024-12-10T02:04:47.455259Z",
     "iopub.status.idle": "2024-12-10T02:04:47.455566Z",
     "shell.execute_reply": "2024-12-10T02:04:47.455440Z",
     "shell.execute_reply.started": "2024-12-10T02:04:47.455425Z"
    },
    "executionInfo": {
     "elapsed": 339,
     "status": "ok",
     "timestamp": 1716286124973,
     "user": {
      "displayName": "Ý Như",
      "userId": "16178685278829772495"
     },
     "user_tz": -420
    },
    "id": "-fk7AAfqmeCt",
    "outputId": "8d7fad73-ae8c-4e2b-907e-b08952b98fad",
    "papermill": {
     "duration": null,
     "end_time": null,
     "exception": null,
     "start_time": null,
     "status": "completed"
    },
    "tags": []
   },
   "outputs": [],
   "source": [
    "user_problem_score_df[user_problem_score_df['score'] == -1]"
   ]
  },
  {
   "cell_type": "code",
   "execution_count": null,
   "id": "719c7600",
   "metadata": {
    "execution": {
     "iopub.status.busy": "2024-12-10T02:04:47.456365Z",
     "iopub.status.idle": "2024-12-10T02:04:47.456626Z",
     "shell.execute_reply": "2024-12-10T02:04:47.456509Z",
     "shell.execute_reply.started": "2024-12-10T02:04:47.456496Z"
    },
    "executionInfo": {
     "elapsed": 709,
     "status": "ok",
     "timestamp": 1716290821947,
     "user": {
      "displayName": "Lê Ý",
      "userId": "10437331741939090357"
     },
     "user_tz": -420
    },
    "id": "4wPpfqDT5lKs",
    "outputId": "c0da3c84-55d1-4d41-8dd4-ac0056284b6a",
    "papermill": {
     "duration": null,
     "end_time": null,
     "exception": null,
     "start_time": null,
     "status": "completed"
    },
    "tags": []
   },
   "outputs": [],
   "source": [
    "problem_df = cudf.read_csv('/content/drive/MyDrive/CS313/problem_df.csv')\n",
    "problem_df"
   ]
  },
  {
   "cell_type": "code",
   "execution_count": null,
   "id": "ee2f1a6f",
   "metadata": {
    "execution": {
     "iopub.status.busy": "2024-12-10T02:04:47.457425Z",
     "iopub.status.idle": "2024-12-10T02:04:47.457690Z",
     "shell.execute_reply": "2024-12-10T02:04:47.457573Z",
     "shell.execute_reply.started": "2024-12-10T02:04:47.457560Z"
    },
    "executionInfo": {
     "elapsed": 5,
     "status": "ok",
     "timestamp": 1716281709526,
     "user": {
      "displayName": "Ý Như",
      "userId": "16178685278829772495"
     },
     "user_tz": -420
    },
    "id": "JuDbv_mv5wFz",
    "outputId": "55bb6d5d-ae9c-42a5-beea-ba2c5a99a5f5",
    "papermill": {
     "duration": null,
     "end_time": null,
     "exception": null,
     "start_time": null,
     "status": "completed"
    },
    "tags": []
   },
   "outputs": [],
   "source": [
    "count_zeros = (problem_df['score'] == 0).sum()\n",
    "print(count_zeros)"
   ]
  },
  {
   "cell_type": "code",
   "execution_count": null,
   "id": "609bb451",
   "metadata": {
    "execution": {
     "iopub.status.busy": "2024-12-10T02:04:47.458999Z",
     "iopub.status.idle": "2024-12-10T02:04:47.459265Z",
     "shell.execute_reply": "2024-12-10T02:04:47.459150Z",
     "shell.execute_reply.started": "2024-12-10T02:04:47.459136Z"
    },
    "executionInfo": {
     "elapsed": 443,
     "status": "ok",
     "timestamp": 1716290856431,
     "user": {
      "displayName": "Lê Ý",
      "userId": "10437331741939090357"
     },
     "user_tz": -420
    },
    "id": "530A_G7knmrL",
    "outputId": "11aa880c-bb7b-4688-f49b-ca84c52f72c4",
    "papermill": {
     "duration": null,
     "end_time": null,
     "exception": null,
     "start_time": null,
     "status": "completed"
    },
    "tags": []
   },
   "outputs": [],
   "source": [
    "problem_df[problem_df['problem_id'] == 47064]"
   ]
  },
  {
   "cell_type": "markdown",
   "id": "39acdb6f",
   "metadata": {
    "id": "0twH9unb6gdR",
    "papermill": {
     "duration": null,
     "end_time": null,
     "exception": null,
     "start_time": null,
     "status": "completed"
    },
    "tags": []
   },
   "source": [
    "## Hàm tính problem_score"
   ]
  },
  {
   "cell_type": "code",
   "execution_count": null,
   "id": "c3551433",
   "metadata": {
    "execution": {
     "iopub.status.busy": "2024-12-10T02:04:47.460649Z",
     "iopub.status.idle": "2024-12-10T02:04:47.460982Z",
     "shell.execute_reply": "2024-12-10T02:04:47.460821Z",
     "shell.execute_reply.started": "2024-12-10T02:04:47.460805Z"
    },
    "id": "JPuld1jEa_6L",
    "papermill": {
     "duration": null,
     "end_time": null,
     "exception": null,
     "start_time": null,
     "status": "completed"
    },
    "tags": []
   },
   "outputs": [],
   "source": [
    "# Hàm tính tỷ lệ\n",
    "def calculate_average_ratio(problem_id):\n",
    "    # Truy xuất score từ problem_df\n",
    "    problem_score = problem_df[problem_df['problem_id'] == problem_id]['score'].values\n",
    "    # Truy xuất user_score từ user_problem_score_df\n",
    "    user_score = user_problem_score_df[user_problem_score_df['problem_id'] == problem_id]['problem_score'].values\n",
    "\n",
    "    # Kiểm tra xem có tồn tại score và user_score hay không\n",
    "    if len(problem_score) > 0 and len(user_score) > 0:\n",
    "        score_chuan = problem_score[0]\n",
    "        user_score = user_score[0]\n",
    "        if user_score > 0 and score_chuan > 0:\n",
    "            ratio = user_score / score_chuan\n",
    "        else:\n",
    "            ratio = 0\n",
    "    else:\n",
    "        ratio = 0\n",
    "\n",
    "    return cudf.DataFrame({'problem_id': [problem_id], 'score': [ratio]})"
   ]
  },
  {
   "cell_type": "code",
   "execution_count": null,
   "id": "c6698e3e",
   "metadata": {
    "execution": {
     "iopub.status.busy": "2024-12-10T02:04:47.462343Z",
     "iopub.status.idle": "2024-12-10T02:04:47.462608Z",
     "shell.execute_reply": "2024-12-10T02:04:47.462491Z",
     "shell.execute_reply.started": "2024-12-10T02:04:47.462477Z"
    },
    "executionInfo": {
     "elapsed": 603,
     "status": "ok",
     "timestamp": 1716299543426,
     "user": {
      "displayName": "Lê Ý",
      "userId": "10437331741939090357"
     },
     "user_tz": -420
    },
    "id": "Afj4QKS1dMMg",
    "outputId": "0582400f-087b-4461-9241-2cc92b9e0d50",
    "papermill": {
     "duration": null,
     "end_time": null,
     "exception": null,
     "start_time": null,
     "status": "completed"
    },
    "tags": []
   },
   "outputs": [],
   "source": [
    "x = calculate_average_ratio(47064)\n",
    "x"
   ]
  },
  {
   "cell_type": "code",
   "execution_count": null,
   "id": "ead76aaa",
   "metadata": {
    "execution": {
     "iopub.status.busy": "2024-12-10T02:04:47.463545Z",
     "iopub.status.idle": "2024-12-10T02:04:47.463830Z",
     "shell.execute_reply": "2024-12-10T02:04:47.463708Z",
     "shell.execute_reply.started": "2024-12-10T02:04:47.463692Z"
    },
    "id": "LydzTv-c8Gxj",
    "papermill": {
     "duration": null,
     "end_time": null,
     "exception": null,
     "start_time": null,
     "status": "completed"
    },
    "tags": []
   },
   "outputs": [],
   "source": [
    "problem_ids = problem_df['problem_id'].to_arrow().to_pylist()\n",
    "results = [calculate_average_ratio(id) for id in problem_ids]\n",
    "result_df = cudf.concat(results)"
   ]
  },
  {
   "cell_type": "code",
   "execution_count": null,
   "id": "52c7291f",
   "metadata": {
    "execution": {
     "iopub.status.busy": "2024-12-10T02:04:47.465312Z",
     "iopub.status.idle": "2024-12-10T02:04:47.465574Z",
     "shell.execute_reply": "2024-12-10T02:04:47.465457Z",
     "shell.execute_reply.started": "2024-12-10T02:04:47.465444Z"
    },
    "executionInfo": {
     "elapsed": 431,
     "status": "ok",
     "timestamp": 1716291012443,
     "user": {
      "displayName": "Lê Ý",
      "userId": "10437331741939090357"
     },
     "user_tz": -420
    },
    "id": "HwgmVHka6fiG",
    "outputId": "9c6d21af-6a26-44ae-b207-10ea4f86f06f",
    "papermill": {
     "duration": null,
     "end_time": null,
     "exception": null,
     "start_time": null,
     "status": "completed"
    },
    "tags": []
   },
   "outputs": [],
   "source": [
    "problem_ids = problem_df['problem_id'].to_arrow().to_pylist()\n",
    "len(problem_ids)"
   ]
  },
  {
   "cell_type": "code",
   "execution_count": null,
   "id": "c1fb0af9",
   "metadata": {
    "execution": {
     "iopub.status.busy": "2024-12-10T02:04:47.466638Z",
     "iopub.status.idle": "2024-12-10T02:04:47.467045Z",
     "shell.execute_reply": "2024-12-10T02:04:47.466858Z",
     "shell.execute_reply.started": "2024-12-10T02:04:47.466835Z"
    },
    "executionInfo": {
     "elapsed": 551,
     "status": "ok",
     "timestamp": 1716301041430,
     "user": {
      "displayName": "Lê Ý",
      "userId": "10437331741939090357"
     },
     "user_tz": -420
    },
    "id": "BClq88_-gtwL",
    "outputId": "11ca0abe-f2b4-4c9f-8837-11e9c1bfd06c",
    "papermill": {
     "duration": null,
     "end_time": null,
     "exception": null,
     "start_time": null,
     "status": "completed"
    },
    "tags": []
   },
   "outputs": [],
   "source": [
    "count_zeros = (result_df['score'] == 0).sum()\n",
    "print(count_zeros)"
   ]
  },
  {
   "cell_type": "code",
   "execution_count": null,
   "id": "fcc78f93",
   "metadata": {
    "execution": {
     "iopub.status.busy": "2024-12-10T02:04:47.468631Z",
     "iopub.status.idle": "2024-12-10T02:04:47.469070Z",
     "shell.execute_reply": "2024-12-10T02:04:47.468854Z",
     "shell.execute_reply.started": "2024-12-10T02:04:47.468833Z"
    },
    "executionInfo": {
     "elapsed": 21,
     "status": "ok",
     "timestamp": 1716300906830,
     "user": {
      "displayName": "Lê Ý",
      "userId": "10437331741939090357"
     },
     "user_tz": -420
    },
    "id": "x87kfSlEqQzr",
    "outputId": "a6661cc0-5d33-4c45-d493-6b1ccf7dabf2",
    "papermill": {
     "duration": null,
     "end_time": null,
     "exception": null,
     "start_time": null,
     "status": "completed"
    },
    "tags": []
   },
   "outputs": [],
   "source": [
    "file_path = '/content/drive/MyDrive/CS313/problem_score.csv'\n",
    "result_df.to_csv(file_path, index=False)\n",
    "\n",
    "print(f'DataFrame đã được lưu vào {file_path}')"
   ]
  },
  {
   "cell_type": "markdown",
   "id": "f0562cff",
   "metadata": {
    "id": "2zYFUFhv7-jJ",
    "papermill": {
     "duration": null,
     "end_time": null,
     "exception": null,
     "start_time": null,
     "status": "completed"
    },
    "tags": []
   },
   "source": [
    "## Exercise_score"
   ]
  },
  {
   "cell_type": "code",
   "execution_count": null,
   "id": "95eb570a",
   "metadata": {
    "execution": {
     "iopub.status.busy": "2024-12-10T02:04:47.470449Z",
     "iopub.status.idle": "2024-12-10T02:04:47.470881Z",
     "shell.execute_reply": "2024-12-10T02:04:47.470672Z",
     "shell.execute_reply.started": "2024-12-10T02:04:47.470650Z"
    },
    "executionInfo": {
     "elapsed": 2069,
     "status": "ok",
     "timestamp": 1716647194445,
     "user": {
      "displayName": "Lê Ý",
      "userId": "10437331741939090357"
     },
     "user_tz": -420
    },
    "id": "zOcJP5o978xR",
    "outputId": "26316816-2614-44ab-e052-e3d68b1f6e2a",
    "papermill": {
     "duration": null,
     "end_time": null,
     "exception": null,
     "start_time": null,
     "status": "completed"
    },
    "tags": []
   },
   "outputs": [],
   "source": [
    "exercise_problem_df = cudf.read_csv('/content/drive/MyDrive/CS313/exercise_problemlist.csv')\n",
    "exercise_problem_df"
   ]
  },
  {
   "cell_type": "code",
   "execution_count": null,
   "id": "bf818ce8",
   "metadata": {
    "execution": {
     "iopub.status.busy": "2024-12-10T02:04:47.472054Z",
     "iopub.status.idle": "2024-12-10T02:04:47.472316Z",
     "shell.execute_reply": "2024-12-10T02:04:47.472201Z",
     "shell.execute_reply.started": "2024-12-10T02:04:47.472187Z"
    },
    "executionInfo": {
     "elapsed": 701,
     "status": "ok",
     "timestamp": 1716302990516,
     "user": {
      "displayName": "Lê Ý",
      "userId": "10437331741939090357"
     },
     "user_tz": -420
    },
    "id": "rEJAOOlEoRDF",
    "outputId": "a75f3ef3-f8ee-42d5-f376-5cc4774f4012",
    "papermill": {
     "duration": null,
     "end_time": null,
     "exception": null,
     "start_time": null,
     "status": "completed"
    },
    "tags": []
   },
   "outputs": [],
   "source": [
    "exercise_problem_df.info()"
   ]
  },
  {
   "cell_type": "code",
   "execution_count": null,
   "id": "bc40b653",
   "metadata": {
    "execution": {
     "iopub.status.busy": "2024-12-10T02:04:47.473052Z",
     "iopub.status.idle": "2024-12-10T02:04:47.473312Z",
     "shell.execute_reply": "2024-12-10T02:04:47.473196Z",
     "shell.execute_reply.started": "2024-12-10T02:04:47.473182Z"
    },
    "executionInfo": {
     "elapsed": 751,
     "status": "ok",
     "timestamp": 1716647195188,
     "user": {
      "displayName": "Lê Ý",
      "userId": "10437331741939090357"
     },
     "user_tz": -420
    },
    "id": "8XOy0TyF8eTo",
    "outputId": "4adf92e8-575c-4be2-a91f-e59524084e10",
    "papermill": {
     "duration": null,
     "end_time": null,
     "exception": null,
     "start_time": null,
     "status": "completed"
    },
    "tags": []
   },
   "outputs": [],
   "source": [
    "problem_score_df = cudf.read_csv('/content/drive/MyDrive/CS313/problem_score.csv')\n",
    "problem_score_df"
   ]
  },
  {
   "cell_type": "code",
   "execution_count": null,
   "id": "d319dc23",
   "metadata": {
    "execution": {
     "iopub.status.busy": "2024-12-10T02:04:47.474265Z",
     "iopub.status.idle": "2024-12-10T02:04:47.474567Z",
     "shell.execute_reply": "2024-12-10T02:04:47.474437Z",
     "shell.execute_reply.started": "2024-12-10T02:04:47.474421Z"
    },
    "id": "bV2BToYiIUg_",
    "papermill": {
     "duration": null,
     "end_time": null,
     "exception": null,
     "start_time": null,
     "status": "completed"
    },
    "tags": []
   },
   "outputs": [],
   "source": [
    "# Function to calculate the average score for each exercise_id\n",
    "def calculate_average_score(problem_list):\n",
    "    # Split the problem_list into individual IDs\n",
    "    problem_ids_str = problem_list.split(',')\n",
    "    problem_ids = []\n",
    "\n",
    "    # Convert to integers, ignoring non-integer values\n",
    "    for pid in problem_ids_str:\n",
    "        try:\n",
    "            problem_ids.append(int(pid))\n",
    "        except ValueError:\n",
    "            continue\n",
    "\n",
    "    # Retrieve scores from problem_score_df\n",
    "    scores = []\n",
    "    for problem_id in problem_ids:\n",
    "        score = problem_score_df[problem_score_df['problem_id'] == problem_id]['score']\n",
    "        if len(score) > 0:\n",
    "            scores.append(score.iloc[0])\n",
    "        else:\n",
    "            scores.append(0)\n",
    "\n",
    "    # Calculate the average score\n",
    "    average_score = np.mean(scores) if scores else 0\n",
    "    return float(average_score)"
   ]
  },
  {
   "cell_type": "code",
   "execution_count": null,
   "id": "dc85faa0",
   "metadata": {
    "execution": {
     "iopub.status.busy": "2024-12-10T02:04:47.475406Z",
     "iopub.status.idle": "2024-12-10T02:04:47.475705Z",
     "shell.execute_reply": "2024-12-10T02:04:47.475580Z",
     "shell.execute_reply.started": "2024-12-10T02:04:47.475564Z"
    },
    "id": "7pDuKq6uIglq",
    "papermill": {
     "duration": null,
     "end_time": null,
     "exception": null,
     "start_time": null,
     "status": "completed"
    },
    "tags": []
   },
   "outputs": [],
   "source": [
    "def ex_score(ex_id):\n",
    "    # Find the corresponding index for ex_id in exercise_problem_df\n",
    "    index = exercise_problem_df[exercise_problem_df['exercise_id'] == ex_id].index[0]\n",
    "\n",
    "    # Get the value of problem_ids at the corresponding index\n",
    "    problem_ids = exercise_problem_df['problem_ids'].iloc[index]\n",
    "    score = calculate_average_score(problem_ids)\n",
    "    return cudf.DataFrame({'exercise_id': [ex_id], 'score': [score]})"
   ]
  },
  {
   "cell_type": "code",
   "execution_count": null,
   "id": "a653659b",
   "metadata": {
    "execution": {
     "iopub.status.busy": "2024-12-10T02:04:47.476547Z",
     "iopub.status.idle": "2024-12-10T02:04:47.476803Z",
     "shell.execute_reply": "2024-12-10T02:04:47.476690Z",
     "shell.execute_reply.started": "2024-12-10T02:04:47.476677Z"
    },
    "executionInfo": {
     "elapsed": 581,
     "status": "ok",
     "timestamp": 1716647268418,
     "user": {
      "displayName": "Lê Ý",
      "userId": "10437331741939090357"
     },
     "user_tz": -420
    },
    "id": "kILJ9MyLnYIt",
    "outputId": "99c7ed78-74aa-4ffe-a20a-9a36444c013f",
    "papermill": {
     "duration": null,
     "end_time": null,
     "exception": null,
     "start_time": null,
     "status": "completed"
    },
    "tags": []
   },
   "outputs": [],
   "source": [
    "x = ex_score(8825283)\n",
    "x"
   ]
  },
  {
   "cell_type": "code",
   "execution_count": null,
   "id": "c124ba97",
   "metadata": {
    "execution": {
     "iopub.status.busy": "2024-12-10T02:04:47.478148Z",
     "iopub.status.idle": "2024-12-10T02:04:47.478443Z",
     "shell.execute_reply": "2024-12-10T02:04:47.478319Z",
     "shell.execute_reply.started": "2024-12-10T02:04:47.478301Z"
    },
    "id": "gTtQ6jaNmSp3",
    "papermill": {
     "duration": null,
     "end_time": null,
     "exception": null,
     "start_time": null,
     "status": "completed"
    },
    "tags": []
   },
   "outputs": [],
   "source": [
    "ex_ids = exercise_problem_df['exercise_id'].to_arrow().to_pylist()\n",
    "results = [ex_score(id) for id in ex_ids]\n",
    "result_df = cudf.concat(results)"
   ]
  },
  {
   "cell_type": "code",
   "execution_count": null,
   "id": "243bb16f",
   "metadata": {
    "execution": {
     "iopub.status.busy": "2024-12-10T02:04:47.480079Z",
     "iopub.status.idle": "2024-12-10T02:04:47.480511Z",
     "shell.execute_reply": "2024-12-10T02:04:47.480312Z",
     "shell.execute_reply.started": "2024-12-10T02:04:47.480289Z"
    },
    "executionInfo": {
     "elapsed": 27,
     "status": "ok",
     "timestamp": 1716648439518,
     "user": {
      "displayName": "Lê Ý",
      "userId": "10437331741939090357"
     },
     "user_tz": -420
    },
    "id": "hOOgJq_3JxUk",
    "outputId": "fc402ef1-7798-4a03-ab05-af545f813b63",
    "papermill": {
     "duration": null,
     "end_time": null,
     "exception": null,
     "start_time": null,
     "status": "completed"
    },
    "tags": []
   },
   "outputs": [],
   "source": [
    "count_zeros = (result_df['score'] == 0).sum()\n",
    "print(count_zeros)"
   ]
  },
  {
   "cell_type": "code",
   "execution_count": null,
   "id": "5b26afaf",
   "metadata": {
    "execution": {
     "iopub.status.busy": "2024-12-10T02:04:47.481626Z",
     "iopub.status.idle": "2024-12-10T02:04:47.482065Z",
     "shell.execute_reply": "2024-12-10T02:04:47.481848Z",
     "shell.execute_reply.started": "2024-12-10T02:04:47.481827Z"
    },
    "executionInfo": {
     "elapsed": 515,
     "status": "ok",
     "timestamp": 1716648665012,
     "user": {
      "displayName": "Lê Ý",
      "userId": "10437331741939090357"
     },
     "user_tz": -420
    },
    "id": "0NZNYfWfO45Y",
    "outputId": "7a27d4c7-1e30-428c-aef6-7ae831325a4e",
    "papermill": {
     "duration": null,
     "end_time": null,
     "exception": null,
     "start_time": null,
     "status": "completed"
    },
    "tags": []
   },
   "outputs": [],
   "source": [
    "result_df"
   ]
  },
  {
   "cell_type": "code",
   "execution_count": null,
   "id": "208aad41",
   "metadata": {
    "execution": {
     "iopub.status.busy": "2024-12-10T02:04:47.483439Z",
     "iopub.status.idle": "2024-12-10T02:04:47.483856Z",
     "shell.execute_reply": "2024-12-10T02:04:47.483657Z",
     "shell.execute_reply.started": "2024-12-10T02:04:47.483636Z"
    },
    "executionInfo": {
     "elapsed": 506,
     "status": "ok",
     "timestamp": 1716648718659,
     "user": {
      "displayName": "Lê Ý",
      "userId": "10437331741939090357"
     },
     "user_tz": -420
    },
    "id": "wTQQYz74-Veh",
    "outputId": "32ed6ec0-a0cf-4c41-b572-8aac773692b5",
    "papermill": {
     "duration": null,
     "end_time": null,
     "exception": null,
     "start_time": null,
     "status": "completed"
    },
    "tags": []
   },
   "outputs": [],
   "source": [
    "result_df.to_csv(\"/kaggle/working/exercise_score.csv\", index=False)"
   ]
  },
  {
   "cell_type": "markdown",
   "id": "2025649d",
   "metadata": {
    "id": "ekRsai6BKGQC",
    "papermill": {
     "duration": null,
     "end_time": null,
     "exception": null,
     "start_time": null,
     "status": "completed"
    },
    "tags": []
   },
   "source": [
    "##Course_score"
   ]
  },
  {
   "cell_type": "code",
   "execution_count": null,
   "id": "f60f6820",
   "metadata": {
    "execution": {
     "iopub.status.busy": "2024-12-10T02:04:47.484912Z",
     "iopub.status.idle": "2024-12-10T02:04:47.485333Z",
     "shell.execute_reply": "2024-12-10T02:04:47.485128Z",
     "shell.execute_reply.started": "2024-12-10T02:04:47.485106Z"
    },
    "executionInfo": {
     "elapsed": 635,
     "status": "ok",
     "timestamp": 1716649246618,
     "user": {
      "displayName": "Lê Ý",
      "userId": "10437331741939090357"
     },
     "user_tz": -420
    },
    "id": "t1RYIVzaKJ3f",
    "outputId": "ccbff2e3-d856-4afb-af7e-315dadbae05c",
    "papermill": {
     "duration": null,
     "end_time": null,
     "exception": null,
     "start_time": null,
     "status": "completed"
    },
    "tags": []
   },
   "outputs": [],
   "source": [
    "course_exercise_df = pd.read_csv('/content/drive/MyDrive/CS313/course-exercise.txt',header=None)\n",
    "course_exercise_df"
   ]
  },
  {
   "cell_type": "code",
   "execution_count": null,
   "id": "3ed87ec7",
   "metadata": {
    "execution": {
     "iopub.status.busy": "2024-12-10T02:04:47.486199Z",
     "iopub.status.idle": "2024-12-10T02:04:47.486621Z",
     "shell.execute_reply": "2024-12-10T02:04:47.486424Z",
     "shell.execute_reply.started": "2024-12-10T02:04:47.486403Z"
    },
    "executionInfo": {
     "elapsed": 504,
     "status": "ok",
     "timestamp": 1716649249928,
     "user": {
      "displayName": "Lê Ý",
      "userId": "10437331741939090357"
     },
     "user_tz": -420
    },
    "id": "yVaGBitoQ0AY",
    "outputId": "d2a67e43-3a3f-4e53-f847-616161672783",
    "papermill": {
     "duration": null,
     "end_time": null,
     "exception": null,
     "start_time": null,
     "status": "completed"
    },
    "tags": []
   },
   "outputs": [],
   "source": [
    "course_exercise_df[0]"
   ]
  },
  {
   "cell_type": "code",
   "execution_count": null,
   "id": "006545d5",
   "metadata": {
    "execution": {
     "iopub.status.busy": "2024-12-10T02:04:47.487743Z",
     "iopub.status.idle": "2024-12-10T02:04:47.488269Z",
     "shell.execute_reply": "2024-12-10T02:04:47.488018Z",
     "shell.execute_reply.started": "2024-12-10T02:04:47.487993Z"
    },
    "executionInfo": {
     "elapsed": 724,
     "status": "ok",
     "timestamp": 1716649253756,
     "user": {
      "displayName": "Lê Ý",
      "userId": "10437331741939090357"
     },
     "user_tz": -420
    },
    "id": "XdqQskLbPvTD",
    "outputId": "a7d38be7-7ea2-4b47-d5c4-f8523442d537",
    "papermill": {
     "duration": null,
     "end_time": null,
     "exception": null,
     "start_time": null,
     "status": "completed"
    },
    "tags": []
   },
   "outputs": [],
   "source": [
    "# Tách cột 'combined' thành hai cột 'exercise_id' và 'problem_id'\n",
    "course_exercise_df[['course_id', 'exercise_id']] = course_exercise_df[0].str.split('\\\\t', expand=True)\n",
    "\n",
    "# Xóa cột 'combined' vì không còn cần thiết nữa\n",
    "course_exercise_df.drop(columns=[0], inplace=True)\n",
    "\n",
    "# Chuyển đổi các cột thành kiểu dữ liệu phù hợp (nếu cần thiết)\n",
    "course_exercise_df['course_id'] = course_exercise_df['course_id'].astype(int)\n",
    "course_exercise_df['exercise_id'] = course_exercise_df['exercise_id'].astype(int)\n",
    "\n",
    "# Nhóm các problem_id theo exercise_id\n",
    "grouped = course_exercise_df.groupby('course_id')['exercise_id'].apply(list).reset_index()\n",
    "\n",
    "# Đổi tên cột kết quả cho rõ ràng hơn\n",
    "grouped.columns = ['course_id', 'exercise_ids']\n",
    "\n",
    "# Hiển thị kết quả\n",
    "print(grouped)"
   ]
  },
  {
   "cell_type": "code",
   "execution_count": null,
   "id": "fb7816b2",
   "metadata": {
    "execution": {
     "iopub.status.busy": "2024-12-10T02:04:47.490072Z",
     "iopub.status.idle": "2024-12-10T02:04:47.490501Z",
     "shell.execute_reply": "2024-12-10T02:04:47.490302Z",
     "shell.execute_reply.started": "2024-12-10T02:04:47.490279Z"
    },
    "executionInfo": {
     "elapsed": 505,
     "status": "ok",
     "timestamp": 1716649313828,
     "user": {
      "displayName": "Lê Ý",
      "userId": "10437331741939090357"
     },
     "user_tz": -420
    },
    "id": "3Es4DnBlRVyG",
    "outputId": "7db5b06f-cd5d-4238-abea-98598992584e",
    "papermill": {
     "duration": null,
     "end_time": null,
     "exception": null,
     "start_time": null,
     "status": "completed"
    },
    "tags": []
   },
   "outputs": [],
   "source": [
    "result_df = pd.DataFrame(grouped)\n",
    "file_path = '/content/drive/MyDrive/CS313/course_exlist.csv'\n",
    "result_df.to_csv(file_path, index=False)\n",
    "\n",
    "print(f'DataFrame đã được lưu vào {file_path}')"
   ]
  },
  {
   "cell_type": "code",
   "execution_count": null,
   "id": "815308fe",
   "metadata": {
    "execution": {
     "iopub.status.busy": "2024-12-10T02:04:47.491602Z",
     "iopub.status.idle": "2024-12-10T02:04:47.492098Z",
     "shell.execute_reply": "2024-12-10T02:04:47.491869Z",
     "shell.execute_reply.started": "2024-12-10T02:04:47.491845Z"
    },
    "executionInfo": {
     "elapsed": 503,
     "status": "ok",
     "timestamp": 1716649477787,
     "user": {
      "displayName": "Lê Ý",
      "userId": "10437331741939090357"
     },
     "user_tz": -420
    },
    "id": "B4nLYzA7R7nD",
    "outputId": "72c036fa-a7f3-4efd-810f-cd6fb499a8b6",
    "papermill": {
     "duration": null,
     "end_time": null,
     "exception": null,
     "start_time": null,
     "status": "completed"
    },
    "tags": []
   },
   "outputs": [],
   "source": [
    "course_exerciselist_df = cudf.read_csv('/content/drive/MyDrive/CS313/course_exlist.csv')\n",
    "course_exerciselist_df"
   ]
  },
  {
   "cell_type": "code",
   "execution_count": null,
   "id": "70dbd74d",
   "metadata": {
    "execution": {
     "iopub.status.busy": "2024-12-10T02:04:47.493811Z",
     "iopub.status.idle": "2024-12-10T02:04:47.494260Z",
     "shell.execute_reply": "2024-12-10T02:04:47.494053Z",
     "shell.execute_reply.started": "2024-12-10T02:04:47.494031Z"
    },
    "executionInfo": {
     "elapsed": 513,
     "status": "ok",
     "timestamp": 1716649517515,
     "user": {
      "displayName": "Lê Ý",
      "userId": "10437331741939090357"
     },
     "user_tz": -420
    },
    "id": "QaRzlqM5SFQq",
    "outputId": "45ec6ee2-819c-4dc7-c822-3b908027b12d",
    "papermill": {
     "duration": null,
     "end_time": null,
     "exception": null,
     "start_time": null,
     "status": "completed"
    },
    "tags": []
   },
   "outputs": [],
   "source": [
    "ex_score_df = cudf.read_csv('/content/drive/MyDrive/CS313/exercise_score.csv')\n",
    "ex_score_df"
   ]
  },
  {
   "cell_type": "code",
   "execution_count": null,
   "id": "7b319018",
   "metadata": {
    "execution": {
     "iopub.status.busy": "2024-12-10T02:04:47.495283Z",
     "iopub.status.idle": "2024-12-10T02:04:47.495694Z",
     "shell.execute_reply": "2024-12-10T02:04:47.495499Z",
     "shell.execute_reply.started": "2024-12-10T02:04:47.495477Z"
    },
    "id": "-b3_vE6zRoBc",
    "papermill": {
     "duration": null,
     "end_time": null,
     "exception": null,
     "start_time": null,
     "status": "completed"
    },
    "tags": []
   },
   "outputs": [],
   "source": [
    "# Function to calculate the average score for each exercise_id\n",
    "def calculate_average_score(ex_list):\n",
    "    # Split the problem_list into individual IDs\n",
    "    ex_ids_str = ex_list.split(',')\n",
    "    ex_ids = []\n",
    "\n",
    "    # Convert to integers, ignoring non-integer values\n",
    "    for eid in ex_ids_str:\n",
    "        try:\n",
    "            ex_ids.append(int(eid))\n",
    "        except ValueError:\n",
    "            continue\n",
    "\n",
    "    # Retrieve scores from problem_score_df\n",
    "    scores = []\n",
    "    for ex_id in ex_ids:\n",
    "        score = ex_score_df[ex_score_df['exercise_id'] == ex_id]['score']\n",
    "        if len(score) > 0:\n",
    "            scores.append(score.iloc[0])\n",
    "        else:\n",
    "            scores.append(0)\n",
    "\n",
    "    # Calculate the average score\n",
    "    average_score = np.mean(scores) if scores else 0\n",
    "    return float(average_score)"
   ]
  },
  {
   "cell_type": "code",
   "execution_count": null,
   "id": "1c7a11f7",
   "metadata": {
    "execution": {
     "iopub.status.busy": "2024-12-10T02:04:47.496629Z",
     "iopub.status.idle": "2024-12-10T02:04:47.497064Z",
     "shell.execute_reply": "2024-12-10T02:04:47.496847Z",
     "shell.execute_reply.started": "2024-12-10T02:04:47.496825Z"
    },
    "id": "UFbPSGPGRv4S",
    "papermill": {
     "duration": null,
     "end_time": null,
     "exception": null,
     "start_time": null,
     "status": "completed"
    },
    "tags": []
   },
   "outputs": [],
   "source": [
    "def course_score(course_id):\n",
    "    # Find the corresponding index for ex_id in exercise_problem_df\n",
    "    index = course_exerciselist_df[course_exerciselist_df['course_id'] == course_id].index[0]\n",
    "\n",
    "    # Get the value of problem_ids at the corresponding index\n",
    "    ex_ids = course_exerciselist_df['exercise_ids'].iloc[index]\n",
    "    score = calculate_average_score(ex_ids)\n",
    "    return cudf.DataFrame({'course_id': [course_id], 'score': [score]})"
   ]
  },
  {
   "cell_type": "code",
   "execution_count": null,
   "id": "c819daed",
   "metadata": {
    "execution": {
     "iopub.status.busy": "2024-12-10T02:04:47.498004Z",
     "iopub.status.idle": "2024-12-10T02:04:47.498428Z",
     "shell.execute_reply": "2024-12-10T02:04:47.498224Z",
     "shell.execute_reply.started": "2024-12-10T02:04:47.498202Z"
    },
    "executionInfo": {
     "elapsed": 7,
     "status": "ok",
     "timestamp": 1716649960021,
     "user": {
      "displayName": "Lê Ý",
      "userId": "10437331741939090357"
     },
     "user_tz": -420
    },
    "id": "I6rSg111Tw_k",
    "outputId": "96a2f43f-a3e7-4e6d-d2e2-04bd5656cfa6",
    "papermill": {
     "duration": null,
     "end_time": null,
     "exception": null,
     "start_time": null,
     "status": "completed"
    },
    "tags": []
   },
   "outputs": [],
   "source": [
    "x = course_score(597225)\n",
    "x"
   ]
  },
  {
   "cell_type": "code",
   "execution_count": null,
   "id": "37a0d35a",
   "metadata": {
    "execution": {
     "iopub.status.busy": "2024-12-10T02:04:47.500068Z",
     "iopub.status.idle": "2024-12-10T02:04:47.500489Z",
     "shell.execute_reply": "2024-12-10T02:04:47.500296Z",
     "shell.execute_reply.started": "2024-12-10T02:04:47.500273Z"
    },
    "id": "4pEsXKmDTUSX",
    "papermill": {
     "duration": null,
     "end_time": null,
     "exception": null,
     "start_time": null,
     "status": "completed"
    },
    "tags": []
   },
   "outputs": [],
   "source": [
    "course_ids = course_exerciselist_df['course_id'].to_arrow().to_pylist()\n",
    "results = [course_score(id) for id in course_ids]\n",
    "result_df = cudf.concat(results)"
   ]
  },
  {
   "cell_type": "code",
   "execution_count": null,
   "id": "f7948f30",
   "metadata": {
    "execution": {
     "iopub.status.busy": "2024-12-10T02:04:47.501687Z",
     "iopub.status.idle": "2024-12-10T02:04:47.502127Z",
     "shell.execute_reply": "2024-12-10T02:04:47.501929Z",
     "shell.execute_reply.started": "2024-12-10T02:04:47.501905Z"
    },
    "executionInfo": {
     "elapsed": 11,
     "status": "ok",
     "timestamp": 1716650156060,
     "user": {
      "displayName": "Lê Ý",
      "userId": "10437331741939090357"
     },
     "user_tz": -420
    },
    "id": "UHz2_vvTTXrq",
    "outputId": "25e4a0c4-2a98-4ca5-c46c-ad79c78af677",
    "papermill": {
     "duration": null,
     "end_time": null,
     "exception": null,
     "start_time": null,
     "status": "completed"
    },
    "tags": []
   },
   "outputs": [],
   "source": [
    "count_zeros = (result_df['score'] == 0).sum()\n",
    "print(count_zeros)"
   ]
  },
  {
   "cell_type": "code",
   "execution_count": null,
   "id": "fd1bb668",
   "metadata": {
    "execution": {
     "iopub.status.busy": "2024-12-10T02:04:47.503756Z",
     "iopub.status.idle": "2024-12-10T02:04:47.504196Z",
     "shell.execute_reply": "2024-12-10T02:04:47.503997Z",
     "shell.execute_reply.started": "2024-12-10T02:04:47.503975Z"
    },
    "executionInfo": {
     "elapsed": 7,
     "status": "ok",
     "timestamp": 1716650156061,
     "user": {
      "displayName": "Lê Ý",
      "userId": "10437331741939090357"
     },
     "user_tz": -420
    },
    "id": "RcdWvcChTZDg",
    "outputId": "cfd426e1-abac-4495-9f63-60ab67ca08dc",
    "papermill": {
     "duration": null,
     "end_time": null,
     "exception": null,
     "start_time": null,
     "status": "completed"
    },
    "tags": []
   },
   "outputs": [],
   "source": [
    "file_path = '/content/drive/MyDrive/CS313/course_score.csv'\n",
    "result_df.to_csv(file_path, index=False)\n",
    "\n",
    "print(f'DataFrame đã được lưu vào {file_path}')"
   ]
  },
  {
   "cell_type": "markdown",
   "id": "4d92a3c6",
   "metadata": {
    "id": "1_0duTMQhX-0",
    "papermill": {
     "duration": null,
     "end_time": null,
     "exception": null,
     "start_time": null,
     "status": "completed"
    },
    "tags": []
   },
   "source": [
    "##Full Course_score"
   ]
  },
  {
   "cell_type": "code",
   "execution_count": null,
   "id": "a223910a",
   "metadata": {
    "execution": {
     "iopub.status.busy": "2024-12-10T02:04:47.505415Z",
     "iopub.status.idle": "2024-12-10T02:04:47.505689Z",
     "shell.execute_reply": "2024-12-10T02:04:47.505572Z",
     "shell.execute_reply.started": "2024-12-10T02:04:47.505558Z"
    },
    "executionInfo": {
     "elapsed": 3117,
     "status": "ok",
     "timestamp": 1716652937882,
     "user": {
      "displayName": "Lê Ý",
      "userId": "10437331741939090357"
     },
     "user_tz": -420
    },
    "id": "N8IXkXXgcO1l",
    "outputId": "530063d5-24a6-491c-b3a8-611e77e0442c",
    "papermill": {
     "duration": null,
     "end_time": null,
     "exception": null,
     "start_time": null,
     "status": "completed"
    },
    "tags": []
   },
   "outputs": [],
   "source": [
    "course_df = dd.read_json('/content/drive/MyDrive/CS313/course.json')\n",
    "course_df"
   ]
  },
  {
   "cell_type": "code",
   "execution_count": null,
   "id": "23786625",
   "metadata": {
    "execution": {
     "iopub.status.busy": "2024-12-10T02:04:47.506620Z",
     "iopub.status.idle": "2024-12-10T02:04:47.506941Z",
     "shell.execute_reply": "2024-12-10T02:04:47.506786Z",
     "shell.execute_reply.started": "2024-12-10T02:04:47.506768Z"
    },
    "executionInfo": {
     "elapsed": 3893,
     "status": "ok",
     "timestamp": 1716653054997,
     "user": {
      "displayName": "Lê Ý",
      "userId": "10437331741939090357"
     },
     "user_tz": -420
    },
    "id": "KsE8gtc-fqk1",
    "outputId": "399f5495-ac4d-4617-a5f6-9ebf4b49beac",
    "papermill": {
     "duration": null,
     "end_time": null,
     "exception": null,
     "start_time": null,
     "status": "completed"
    },
    "tags": []
   },
   "outputs": [],
   "source": [
    "course_df = course_df.iloc[:, [0]]\n",
    "\n",
    "# Compute and print the resulting DataFrame to verify\n",
    "print(course_df.compute())"
   ]
  },
  {
   "cell_type": "code",
   "execution_count": null,
   "id": "00173c40",
   "metadata": {
    "execution": {
     "iopub.status.busy": "2024-12-10T02:04:47.507944Z",
     "iopub.status.idle": "2024-12-10T02:04:47.508237Z",
     "shell.execute_reply": "2024-12-10T02:04:47.508113Z",
     "shell.execute_reply.started": "2024-12-10T02:04:47.508097Z"
    },
    "executionInfo": {
     "elapsed": 3887,
     "status": "ok",
     "timestamp": 1716653233237,
     "user": {
      "displayName": "Lê Ý",
      "userId": "10437331741939090357"
     },
     "user_tz": -420
    },
    "id": "yfvCStlFf0Vl",
    "outputId": "e9481afd-af7c-4478-e841-586890872fa2",
    "papermill": {
     "duration": null,
     "end_time": null,
     "exception": null,
     "start_time": null,
     "status": "completed"
    },
    "tags": []
   },
   "outputs": [],
   "source": [
    "file_path = '/content/drive/MyDrive/CS313/course_id.csv'\n",
    "course_df.to_csv(file_path, index=False)\n",
    "\n",
    "print(f'DataFrame đã được lưu vào {file_path}')"
   ]
  },
  {
   "cell_type": "code",
   "execution_count": null,
   "id": "02d5d058",
   "metadata": {
    "execution": {
     "iopub.status.busy": "2024-12-10T02:04:47.509417Z",
     "iopub.status.idle": "2024-12-10T02:04:47.509717Z",
     "shell.execute_reply": "2024-12-10T02:04:47.509592Z",
     "shell.execute_reply.started": "2024-12-10T02:04:47.509577Z"
    },
    "executionInfo": {
     "elapsed": 545,
     "status": "ok",
     "timestamp": 1716653458780,
     "user": {
      "displayName": "Lê Ý",
      "userId": "10437331741939090357"
     },
     "user_tz": -420
    },
    "id": "B8P6GYv8hFlh",
    "outputId": "05a5de5d-36a0-47cc-b946-7e5b76975529",
    "papermill": {
     "duration": null,
     "end_time": null,
     "exception": null,
     "start_time": null,
     "status": "completed"
    },
    "tags": []
   },
   "outputs": [],
   "source": [
    "course_id_df = cudf.read_csv('/content/drive/MyDrive/CS313/course_id.csv/course_id.txt')\n",
    "course_id_df"
   ]
  },
  {
   "cell_type": "code",
   "execution_count": null,
   "id": "4273e7f6",
   "metadata": {
    "execution": {
     "iopub.status.busy": "2024-12-10T02:04:47.511363Z",
     "iopub.status.idle": "2024-12-10T02:04:47.511665Z",
     "shell.execute_reply": "2024-12-10T02:04:47.511539Z",
     "shell.execute_reply.started": "2024-12-10T02:04:47.511517Z"
    },
    "executionInfo": {
     "elapsed": 607,
     "status": "ok",
     "timestamp": 1716653551267,
     "user": {
      "displayName": "Lê Ý",
      "userId": "10437331741939090357"
     },
     "user_tz": -420
    },
    "id": "IVx4O93chetY",
    "outputId": "e52026ae-3bb7-43bc-e297-9d1324114a6c",
    "papermill": {
     "duration": null,
     "end_time": null,
     "exception": null,
     "start_time": null,
     "status": "completed"
    },
    "tags": []
   },
   "outputs": [],
   "source": [
    "course_score_df = cudf.read_csv('/content/drive/MyDrive/CS313/course_score.csv')\n",
    "course_score_df"
   ]
  },
  {
   "cell_type": "code",
   "execution_count": null,
   "id": "387351cf",
   "metadata": {
    "execution": {
     "iopub.status.busy": "2024-12-10T02:04:47.512962Z",
     "iopub.status.idle": "2024-12-10T02:04:47.513261Z",
     "shell.execute_reply": "2024-12-10T02:04:47.513137Z",
     "shell.execute_reply.started": "2024-12-10T02:04:47.513121Z"
    },
    "executionInfo": {
     "elapsed": 10416,
     "status": "ok",
     "timestamp": 1716654071130,
     "user": {
      "displayName": "Lê Ý",
      "userId": "10437331741939090357"
     },
     "user_tz": -420
    },
    "id": "1P4m-PzKhoYh",
    "outputId": "9ee80944-6b5f-469b-e3b5-067da04e88ad",
    "papermill": {
     "duration": null,
     "end_time": null,
     "exception": null,
     "start_time": null,
     "status": "completed"
    },
    "tags": []
   },
   "outputs": [],
   "source": [
    "# Initialize an empty list to store the results\n",
    "results = []\n",
    "\n",
    "# Iterate through each course_id in course_id_df\n",
    "for course_id in course_id_df['id'].to_arrow().to_pylist():\n",
    "    stripped_course_id = int(course_id.split('_')[1])\n",
    "\n",
    "    # Try to get the score for the current stripped_course_id\n",
    "    score = course_score_df[course_score_df['course_id'] == stripped_course_id]['score']\n",
    "\n",
    "    # If the score exists, get the value; otherwise, assign 0\n",
    "    if len(score) > 0:\n",
    "        results.append((course_id, score.iloc[0]))\n",
    "    else:\n",
    "        results.append((course_id, 0))\n",
    "\n",
    "# Create a new DataFrame with the results\n",
    "result_df = cudf.DataFrame(results, columns=['course_id', 'score'])\n",
    "\n",
    "# Display the result DataFrame\n",
    "print(result_df)"
   ]
  },
  {
   "cell_type": "code",
   "execution_count": null,
   "id": "49143203",
   "metadata": {
    "execution": {
     "iopub.status.busy": "2024-12-10T02:04:47.514925Z",
     "iopub.status.idle": "2024-12-10T02:04:47.515352Z",
     "shell.execute_reply": "2024-12-10T02:04:47.515147Z",
     "shell.execute_reply.started": "2024-12-10T02:04:47.515125Z"
    },
    "executionInfo": {
     "elapsed": 486,
     "status": "ok",
     "timestamp": 1716654117851,
     "user": {
      "displayName": "Lê Ý",
      "userId": "10437331741939090357"
     },
     "user_tz": -420
    },
    "id": "TKJlcyiujoL1",
    "outputId": "eb700542-047b-4b10-9fd0-4de31c921e19",
    "papermill": {
     "duration": null,
     "end_time": null,
     "exception": null,
     "start_time": null,
     "status": "completed"
    },
    "tags": []
   },
   "outputs": [],
   "source": [
    "count_zeros = (result_df['score'] == 0).sum()\n",
    "print(count_zeros)"
   ]
  },
  {
   "cell_type": "code",
   "execution_count": null,
   "id": "e3603768",
   "metadata": {
    "execution": {
     "iopub.status.busy": "2024-12-10T02:04:47.516765Z",
     "iopub.status.idle": "2024-12-10T02:04:47.517204Z",
     "shell.execute_reply": "2024-12-10T02:04:47.517005Z",
     "shell.execute_reply.started": "2024-12-10T02:04:47.516983Z"
    },
    "executionInfo": {
     "elapsed": 486,
     "status": "ok",
     "timestamp": 1716654224800,
     "user": {
      "displayName": "Lê Ý",
      "userId": "10437331741939090357"
     },
     "user_tz": -420
    },
    "id": "gW15iQDqkEZi",
    "outputId": "ee25f7fa-e0a8-4f26-ed70-a9ae4f3132c3",
    "papermill": {
     "duration": null,
     "end_time": null,
     "exception": null,
     "start_time": null,
     "status": "completed"
    },
    "tags": []
   },
   "outputs": [],
   "source": [
    "file_path = '/content/drive/MyDrive/CS313/full_course_score.csv'\n",
    "result_df.to_csv(file_path, index=False)\n",
    "\n",
    "print(f'DataFrame đã được lưu vào {file_path}')"
   ]
  },
  {
   "cell_type": "code",
   "execution_count": null,
   "id": "483494a1",
   "metadata": {
    "execution": {
     "iopub.status.busy": "2024-12-10T02:04:47.518888Z",
     "iopub.status.idle": "2024-12-10T02:04:47.519316Z",
     "shell.execute_reply": "2024-12-10T02:04:47.519111Z",
     "shell.execute_reply.started": "2024-12-10T02:04:47.519090Z"
    },
    "executionInfo": {
     "elapsed": 508,
     "status": "ok",
     "timestamp": 1716654295678,
     "user": {
      "displayName": "Lê Ý",
      "userId": "10437331741939090357"
     },
     "user_tz": -420
    },
    "id": "BcEHRVgXkSnV",
    "outputId": "8414892a-b655-4868-d8c0-542e57554f4f",
    "papermill": {
     "duration": null,
     "end_time": null,
     "exception": null,
     "start_time": null,
     "status": "completed"
    },
    "tags": []
   },
   "outputs": [],
   "source": [
    "full_course_score_df = cudf.read_csv('/content/drive/MyDrive/CS313/full_course_score.csv')\n",
    "full_course_score_df"
   ]
  },
  {
   "cell_type": "markdown",
   "id": "fca6ac78",
   "metadata": {
    "id": "ndBaOglGkgts",
    "papermill": {
     "duration": null,
     "end_time": null,
     "exception": null,
     "start_time": null,
     "status": "completed"
    },
    "tags": []
   },
   "source": [
    "## Gán nhanx Xếp hạng 1 - 5"
   ]
  },
  {
   "cell_type": "code",
   "execution_count": null,
   "id": "f390b5e0",
   "metadata": {
    "execution": {
     "iopub.status.busy": "2024-12-10T02:04:47.520893Z",
     "iopub.status.idle": "2024-12-10T02:04:47.521204Z",
     "shell.execute_reply": "2024-12-10T02:04:47.521080Z",
     "shell.execute_reply.started": "2024-12-10T02:04:47.521064Z"
    },
    "id": "AwlrqwBMsJTc",
    "papermill": {
     "duration": null,
     "end_time": null,
     "exception": null,
     "start_time": null,
     "status": "completed"
    },
    "tags": []
   },
   "outputs": [],
   "source": [
    "full_course_score_df = full_course_score_df.to_pandas()"
   ]
  },
  {
   "cell_type": "code",
   "execution_count": null,
   "id": "65235b32",
   "metadata": {
    "execution": {
     "iopub.status.busy": "2024-12-10T02:04:47.522075Z",
     "iopub.status.idle": "2024-12-10T02:04:47.522369Z",
     "shell.execute_reply": "2024-12-10T02:04:47.522244Z",
     "shell.execute_reply.started": "2024-12-10T02:04:47.522228Z"
    },
    "executionInfo": {
     "elapsed": 702,
     "status": "ok",
     "timestamp": 1716656495515,
     "user": {
      "displayName": "Lê Ý",
      "userId": "10437331741939090357"
     },
     "user_tz": -420
    },
    "id": "s6yGKwDtpqzW",
    "outputId": "17d9fcea-3f39-42c9-c3fd-d2d2f38d1840",
    "papermill": {
     "duration": null,
     "end_time": null,
     "exception": null,
     "start_time": null,
     "status": "completed"
    },
    "tags": []
   },
   "outputs": [],
   "source": [
    "# Calculate the quantiles for the scores\n",
    "quantiles = full_course_score_df['score'].quantile([0.2, 0.8, 0.85, 0.95])\n",
    "\n",
    "# Function to assign rank based on score\n",
    "def assign_rank(score, quantiles):\n",
    "    if score <= quantiles.loc[0.2]:\n",
    "        return 1\n",
    "    elif score <= quantiles.loc[0.8]:\n",
    "        return 2\n",
    "    elif score <= quantiles.loc[0.85]:\n",
    "        return 3\n",
    "    elif score <= quantiles.loc[0.95]:\n",
    "        return 4\n",
    "    else:\n",
    "        return 5\n",
    "\n",
    "# Apply the ranking function to the score column\n",
    "full_course_score_df['rank'] = full_course_score_df['score'].apply(lambda x: assign_rank(x, quantiles))\n",
    "\n",
    "# Display the result DataFrame\n",
    "print(full_course_score_df)"
   ]
  },
  {
   "cell_type": "code",
   "execution_count": null,
   "id": "2be4a4c3",
   "metadata": {
    "execution": {
     "iopub.status.busy": "2024-12-10T02:04:47.523170Z",
     "iopub.status.idle": "2024-12-10T02:04:47.523433Z",
     "shell.execute_reply": "2024-12-10T02:04:47.523318Z",
     "shell.execute_reply.started": "2024-12-10T02:04:47.523305Z"
    },
    "executionInfo": {
     "elapsed": 659,
     "status": "ok",
     "timestamp": 1716656557530,
     "user": {
      "displayName": "Lê Ý",
      "userId": "10437331741939090357"
     },
     "user_tz": -420
    },
    "id": "W-d1qQdTrMkB",
    "outputId": "0a32ea66-8716-4523-990f-d198c86ae65e",
    "papermill": {
     "duration": null,
     "end_time": null,
     "exception": null,
     "start_time": null,
     "status": "completed"
    },
    "tags": []
   },
   "outputs": [],
   "source": [
    "file_path = '/content/drive/MyDrive/CS313/course_score_rank.csv'\n",
    "full_course_score_df.to_csv(file_path, index=False)\n",
    "\n",
    "print(f'DataFrame đã được lưu vào {file_path}')"
   ]
  },
  {
   "cell_type": "code",
   "execution_count": null,
   "id": "bce2a3d8",
   "metadata": {
    "execution": {
     "iopub.status.busy": "2024-12-10T02:04:47.525059Z",
     "iopub.status.idle": "2024-12-10T02:04:47.525325Z",
     "shell.execute_reply": "2024-12-10T02:04:47.525207Z",
     "shell.execute_reply.started": "2024-12-10T02:04:47.525194Z"
    },
    "executionInfo": {
     "elapsed": 576,
     "status": "ok",
     "timestamp": 1716656499374,
     "user": {
      "displayName": "Lê Ý",
      "userId": "10437331741939090357"
     },
     "user_tz": -420
    },
    "id": "6LwPLG_OrtXv",
    "outputId": "2df0ce15-2efb-4116-c49e-295dcc31951a",
    "papermill": {
     "duration": null,
     "end_time": null,
     "exception": null,
     "start_time": null,
     "status": "completed"
    },
    "tags": []
   },
   "outputs": [],
   "source": [
    "import matplotlib.pyplot as plt\n",
    "# Plot the distribution of course_ids for each rank\n",
    "rank_counts = full_course_score_df['rank'].value_counts().sort_index()\n",
    "\n",
    "plt.figure(figsize=(10, 6))\n",
    "rank_counts.plot(kind='bar')\n",
    "plt.xlabel('Rank')\n",
    "plt.ylabel('Number of Courses')\n",
    "plt.title('Distribution of Courses by Rank')\n",
    "plt.xticks(rotation=0)\n",
    "plt.show()"
   ]
  },
  {
   "cell_type": "markdown",
   "id": "744c7e1c",
   "metadata": {
    "id": "FMSMc0D08-R0",
    "papermill": {
     "duration": null,
     "end_time": null,
     "exception": null,
     "start_time": null,
     "status": "completed"
    },
    "tags": []
   },
   "source": [
    "##Course"
   ]
  },
  {
   "cell_type": "code",
   "execution_count": null,
   "id": "dcd4e30c",
   "metadata": {
    "execution": {
     "iopub.status.busy": "2024-12-10T02:04:47.526331Z",
     "iopub.status.idle": "2024-12-10T02:04:47.526622Z",
     "shell.execute_reply": "2024-12-10T02:04:47.526495Z",
     "shell.execute_reply.started": "2024-12-10T02:04:47.526477Z"
    },
    "executionInfo": {
     "elapsed": 9977,
     "status": "ok",
     "timestamp": 1716281729448,
     "user": {
      "displayName": "Ý Như",
      "userId": "16178685278829772495"
     },
     "user_tz": -420
    },
    "id": "i74iTNfMCYL2",
    "outputId": "595a9151-59b3-4fde-a482-cb62f0653a3b",
    "papermill": {
     "duration": null,
     "end_time": null,
     "exception": null,
     "start_time": null,
     "status": "completed"
    },
    "tags": []
   },
   "outputs": [],
   "source": [
    "course_df = dd.read_json('/content/drive/MyDrive/CS313/data/entities/course.json')\n",
    "course_df.head()"
   ]
  },
  {
   "cell_type": "code",
   "execution_count": null,
   "id": "7ca182a2",
   "metadata": {
    "execution": {
     "iopub.status.busy": "2024-12-10T02:04:47.528459Z",
     "iopub.status.idle": "2024-12-10T02:04:47.528730Z",
     "shell.execute_reply": "2024-12-10T02:04:47.528613Z",
     "shell.execute_reply.started": "2024-12-10T02:04:47.528599Z"
    },
    "executionInfo": {
     "elapsed": 4634,
     "status": "ok",
     "timestamp": 1716281953037,
     "user": {
      "displayName": "Ý Như",
      "userId": "16178685278829772495"
     },
     "user_tz": -420
    },
    "id": "VANZ99BUX8KB",
    "outputId": "7984fba5-9d85-4c9e-fffa-92754c268800",
    "papermill": {
     "duration": null,
     "end_time": null,
     "exception": null,
     "start_time": null,
     "status": "completed"
    },
    "tags": []
   },
   "outputs": [],
   "source": [
    "x = course_df.loc[course_df['id'] == 'C_584313']['resource'].compute()\n",
    "x"
   ]
  },
  {
   "cell_type": "code",
   "execution_count": null,
   "id": "d163cca8",
   "metadata": {
    "execution": {
     "iopub.status.busy": "2024-12-10T02:04:47.530109Z",
     "iopub.status.idle": "2024-12-10T02:04:47.530537Z",
     "shell.execute_reply": "2024-12-10T02:04:47.530341Z",
     "shell.execute_reply.started": "2024-12-10T02:04:47.530319Z"
    },
    "executionInfo": {
     "elapsed": 1814,
     "status": "ok",
     "timestamp": 1716281731258,
     "user": {
      "displayName": "Ý Như",
      "userId": "16178685278829772495"
     },
     "user_tz": -420
    },
    "id": "bR4bqSwlC-X6",
    "outputId": "95b4b00c-783e-4a62-afb1-ae2568bb48b5",
    "papermill": {
     "duration": null,
     "end_time": null,
     "exception": null,
     "start_time": null,
     "status": "completed"
    },
    "tags": []
   },
   "outputs": [],
   "source": [
    "ex_problem_df = pd.read_csv('/content/drive/MyDrive/CS313/data/Input/exercise-problem.txt',header=None)\n",
    "ex_problem_df"
   ]
  },
  {
   "cell_type": "code",
   "execution_count": null,
   "id": "7f3d4ea6",
   "metadata": {
    "execution": {
     "iopub.status.busy": "2024-12-10T02:04:47.532394Z",
     "iopub.status.idle": "2024-12-10T02:04:47.532820Z",
     "shell.execute_reply": "2024-12-10T02:04:47.532621Z",
     "shell.execute_reply.started": "2024-12-10T02:04:47.532598Z"
    },
    "id": "PMlHhdRnC_rF",
    "papermill": {
     "duration": null,
     "end_time": null,
     "exception": null,
     "start_time": null,
     "status": "completed"
    },
    "tags": []
   },
   "outputs": [],
   "source": [
    "def ex_pro(ex_id): #ex_id => pro_id\n",
    "  ex_id = ex_id.split('_')[1]\n",
    "  ex_list = []\n",
    "  result_list = []\n",
    "\n",
    "    # Duyệt qua từng phần tử trong cột văn bản của DataFrame\n",
    "  for text in ex_problem_df[0]:\n",
    "    text = text.split('\\t')\n",
    "    if text[0] == ex_id:\n",
    "      result_list.append(text[1])\n",
    "  return result_list"
   ]
  },
  {
   "cell_type": "code",
   "execution_count": null,
   "id": "ba820d61",
   "metadata": {
    "execution": {
     "iopub.status.busy": "2024-12-10T02:04:47.533697Z",
     "iopub.status.idle": "2024-12-10T02:04:47.534133Z",
     "shell.execute_reply": "2024-12-10T02:04:47.533935Z",
     "shell.execute_reply.started": "2024-12-10T02:04:47.533911Z"
    },
    "id": "6906e9BfCwIn",
    "papermill": {
     "duration": null,
     "end_time": null,
     "exception": null,
     "start_time": null,
     "status": "completed"
    },
    "tags": []
   },
   "outputs": [],
   "source": [
    "def process_course_id(course_id):\n",
    "  resource = course_df.loc[course_df['id'] == course_id]['resource'].compute()\n",
    "  if len(resource) == 0:\n",
    "    return cudf.DataFrame({'course_id': [course_id], 'score': [None]})\n",
    "  pattern = r'Ex_\\w*'\n",
    "  ex_id = re.findall(pattern, resource.iloc[0]) #Ex_12344\n",
    "  problem_list = []\n",
    "  for i in ex_id:\n",
    "    problem_list += ex_pro(i)\n",
    "  score = calculate_average_ratio(problem_list)\n",
    "  return cudf.DataFrame({'course_id': [course_id], 'score': [score]})"
   ]
  },
  {
   "cell_type": "code",
   "execution_count": null,
   "id": "5e36c0f6",
   "metadata": {
    "execution": {
     "iopub.status.busy": "2024-12-10T02:04:47.535581Z",
     "iopub.status.idle": "2024-12-10T02:04:47.535841Z",
     "shell.execute_reply": "2024-12-10T02:04:47.535725Z",
     "shell.execute_reply.started": "2024-12-10T02:04:47.535712Z"
    },
    "executionInfo": {
     "elapsed": 7183,
     "status": "ok",
     "timestamp": 1716281969666,
     "user": {
      "displayName": "Ý Như",
      "userId": "16178685278829772495"
     },
     "user_tz": -420
    },
    "id": "MTEGsKwHGO9z",
    "outputId": "2a58e6c9-66ad-4a9b-bb26-28530a560df0",
    "papermill": {
     "duration": null,
     "end_time": null,
     "exception": null,
     "start_time": null,
     "status": "completed"
    },
    "tags": []
   },
   "outputs": [],
   "source": [
    "x = process_course_id('C_584313')\n",
    "x"
   ]
  },
  {
   "cell_type": "code",
   "execution_count": null,
   "id": "cd9ffe96",
   "metadata": {
    "execution": {
     "iopub.status.busy": "2024-12-10T02:04:47.536813Z",
     "iopub.status.idle": "2024-12-10T02:04:47.537132Z",
     "shell.execute_reply": "2024-12-10T02:04:47.537008Z",
     "shell.execute_reply.started": "2024-12-10T02:04:47.536992Z"
    },
    "executionInfo": {
     "elapsed": 1926993,
     "status": "error",
     "timestamp": 1716284021202,
     "user": {
      "displayName": "Ý Như",
      "userId": "16178685278829772495"
     },
     "user_tz": -420
    },
    "id": "Ku_5ZEdHEXcK",
    "outputId": "93368fce-975b-4174-c784-45c2ace0d746",
    "papermill": {
     "duration": null,
     "end_time": null,
     "exception": null,
     "start_time": null,
     "status": "completed"
    },
    "tags": []
   },
   "outputs": [],
   "source": [
    "# Lấy giá trị course_id từ course_df\n",
    "course_ids = course_df['id'].compute()\n",
    "\n",
    "# Áp dụng hàm process_course_id cho từng course_id và tạo một danh sách các DataFrame kết quả\n",
    "results = [process_course_id(course_id) for course_id in course_ids]\n",
    "\n",
    "# Kết hợp các DataFrame trong danh sách lại thành một DataFrame duy nhất\n",
    "result_df = cudf.concat(results)"
   ]
  },
  {
   "cell_type": "code",
   "execution_count": null,
   "id": "1c317772",
   "metadata": {
    "execution": {
     "iopub.status.busy": "2024-12-10T02:04:47.538452Z",
     "iopub.status.idle": "2024-12-10T02:04:47.538723Z",
     "shell.execute_reply": "2024-12-10T02:04:47.538605Z",
     "shell.execute_reply.started": "2024-12-10T02:04:47.538591Z"
    },
    "executionInfo": {
     "elapsed": 348,
     "status": "error",
     "timestamp": 1716266751881,
     "user": {
      "displayName": "Ý Như",
      "userId": "16178685278829772495"
     },
     "user_tz": -420
    },
    "id": "A_Tkg_4AeDQJ",
    "outputId": "4087099f-6ec6-4927-a0af-201c546679a0",
    "papermill": {
     "duration": null,
     "end_time": null,
     "exception": null,
     "start_time": null,
     "status": "completed"
    },
    "tags": []
   },
   "outputs": [],
   "source": [
    "result_df = cudf.concat(results)"
   ]
  },
  {
   "cell_type": "code",
   "execution_count": null,
   "id": "00407819",
   "metadata": {
    "execution": {
     "iopub.status.busy": "2024-12-10T02:04:47.539648Z",
     "iopub.status.idle": "2024-12-10T02:04:47.539998Z",
     "shell.execute_reply": "2024-12-10T02:04:47.539814Z",
     "shell.execute_reply.started": "2024-12-10T02:04:47.539799Z"
    },
    "id": "qV9_jPWJFlGJ",
    "papermill": {
     "duration": null,
     "end_time": null,
     "exception": null,
     "start_time": null,
     "status": "completed"
    },
    "tags": []
   },
   "outputs": [],
   "source": [
    "file_path = '/content/drive/MyDrive/CS313/course_score.csv'\n",
    "result_df.to_csv(file_path, index=False)\n",
    "\n",
    "print(f'DataFrame đã được lưu vào {file_path}')"
   ]
  }
 ],
 "metadata": {
  "colab": {
   "collapsed_sections": [
    "FMSMc0D08-R0"
   ],
   "provenance": []
  },
  "kaggle": {
   "accelerator": "nvidiaTeslaT4",
   "dataSources": [
    {
     "datasetId": 5906743,
     "sourceId": 9768477,
     "sourceType": "datasetVersion"
    },
    {
     "datasetId": 6163275,
     "sourceId": 10011201,
     "sourceType": "datasetVersion"
    }
   ],
   "dockerImageVersionId": 30804,
   "isGpuEnabled": true,
   "isInternetEnabled": true,
   "language": "python",
   "sourceType": "notebook"
  },
  "kernelspec": {
   "display_name": "Python 3",
   "language": "python",
   "name": "python3"
  },
  "language_info": {
   "codemirror_mode": {
    "name": "ipython",
    "version": 3
   },
   "file_extension": ".py",
   "mimetype": "text/x-python",
   "name": "python",
   "nbconvert_exporter": "python",
   "pygments_lexer": "ipython3",
   "version": "3.10.14"
  },
  "papermill": {
   "default_parameters": {},
   "duration": 120.280235,
   "end_time": "2024-12-10T02:14:09.529636",
   "environment_variables": {},
   "exception": null,
   "input_path": "__notebook__.ipynb",
   "output_path": "__notebook__.ipynb",
   "parameters": {},
   "start_time": "2024-12-10T02:12:09.249401",
   "version": "2.6.0"
  }
 },
 "nbformat": 4,
 "nbformat_minor": 5
}
