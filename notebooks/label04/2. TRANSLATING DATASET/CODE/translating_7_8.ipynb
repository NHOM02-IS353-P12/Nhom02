{
 "cells": [
  {
   "cell_type": "code",
   "execution_count": 1,
   "id": "8a6271e9",
   "metadata": {
    "execution": {
     "iopub.execute_input": "2024-12-03T16:51:14.731511Z",
     "iopub.status.busy": "2024-12-03T16:51:14.731023Z",
     "iopub.status.idle": "2024-12-03T16:51:14.740023Z",
     "shell.execute_reply": "2024-12-03T16:51:14.738936Z"
    },
    "papermill": {
     "duration": 0.016862,
     "end_time": "2024-12-03T16:51:14.742005",
     "exception": false,
     "start_time": "2024-12-03T16:51:14.725143",
     "status": "completed"
    },
    "tags": []
   },
   "outputs": [],
   "source": [
    "i = 7"
   ]
  },
  {
   "cell_type": "markdown",
   "id": "ec31a8da",
   "metadata": {
    "papermill": {
     "duration": 0.003172,
     "end_time": "2024-12-03T16:51:14.748828",
     "exception": false,
     "start_time": "2024-12-03T16:51:14.745656",
     "status": "completed"
    },
    "tags": []
   },
   "source": [
    "# Translating data"
   ]
  },
  {
   "cell_type": "markdown",
   "id": "0c2385d3",
   "metadata": {
    "papermill": {
     "duration": 0.003033,
     "end_time": "2024-12-03T16:51:14.755287",
     "exception": false,
     "start_time": "2024-12-03T16:51:14.752254",
     "status": "completed"
    },
    "tags": []
   },
   "source": [
    "## Đọc dữ liệu"
   ]
  },
  {
   "cell_type": "code",
   "execution_count": 2,
   "id": "972f536c",
   "metadata": {
    "_cell_guid": "b1076dfc-b9ad-4769-8c92-a6c4dae69d19",
    "_uuid": "8f2839f25d086af736a60e9eeb907d3b93b6e0e5",
    "execution": {
     "iopub.execute_input": "2024-12-03T16:51:14.764115Z",
     "iopub.status.busy": "2024-12-03T16:51:14.763159Z",
     "iopub.status.idle": "2024-12-03T16:51:15.767278Z",
     "shell.execute_reply": "2024-12-03T16:51:15.765749Z"
    },
    "papermill": {
     "duration": 1.011342,
     "end_time": "2024-12-03T16:51:15.769950",
     "exception": false,
     "start_time": "2024-12-03T16:51:14.758608",
     "status": "completed"
    },
    "tags": []
   },
   "outputs": [
    {
     "name": "stdout",
     "output_type": "stream",
     "text": [
      "Số dòng dữ liệu: 5370\n"
     ]
    },
    {
     "data": {
      "text/html": [
       "<div>\n",
       "<style scoped>\n",
       "    .dataframe tbody tr th:only-of-type {\n",
       "        vertical-align: middle;\n",
       "    }\n",
       "\n",
       "    .dataframe tbody tr th {\n",
       "        vertical-align: top;\n",
       "    }\n",
       "\n",
       "    .dataframe thead th {\n",
       "        text-align: right;\n",
       "    }\n",
       "</style>\n",
       "<table border=\"1\" class=\"dataframe\">\n",
       "  <thead>\n",
       "    <tr style=\"text-align: right;\">\n",
       "      <th></th>\n",
       "      <th>course_id</th>\n",
       "      <th>text</th>\n",
       "      <th>filtered_text</th>\n",
       "      <th>count</th>\n",
       "    </tr>\n",
       "  </thead>\n",
       "  <tbody>\n",
       "    <tr>\n",
       "      <th>0</th>\n",
       "      <td>C_682155</td>\n",
       "      <td>如沐春风受益匪浅</td>\n",
       "      <td>如沐春风受益匪浅</td>\n",
       "      <td>1.0</td>\n",
       "    </tr>\n",
       "    <tr>\n",
       "      <th>1</th>\n",
       "      <td>C_682155</td>\n",
       "      <td>看看账号</td>\n",
       "      <td>看看账号</td>\n",
       "      <td>1.0</td>\n",
       "    </tr>\n",
       "    <tr>\n",
       "      <th>2</th>\n",
       "      <td>C_682155</td>\n",
       "      <td>用户名</td>\n",
       "      <td>用户名</td>\n",
       "      <td>1.0</td>\n",
       "    </tr>\n",
       "    <tr>\n",
       "      <th>3</th>\n",
       "      <td>C_682155</td>\n",
       "      <td>用户名</td>\n",
       "      <td>用户名</td>\n",
       "      <td>1.0</td>\n",
       "    </tr>\n",
       "    <tr>\n",
       "      <th>4</th>\n",
       "      <td>C_682155</td>\n",
       "      <td>本节再一次提及逻辑努力的意义的时候提出逻辑努力是某种逻辑门在负载效应和驱动能力的比值上与反相...</td>\n",
       "      <td>本节一次提及逻辑努力意义提出逻辑努力某种逻辑门负载效应驱动能力比值反相器之间差异似乎应该负载...</td>\n",
       "      <td>1.0</td>\n",
       "    </tr>\n",
       "  </tbody>\n",
       "</table>\n",
       "</div>"
      ],
      "text/plain": [
       "  course_id                                               text  \\\n",
       "0  C_682155                                           如沐春风受益匪浅   \n",
       "1  C_682155                                               看看账号   \n",
       "2  C_682155                                                用户名   \n",
       "3  C_682155                                                用户名   \n",
       "4  C_682155  本节再一次提及逻辑努力的意义的时候提出逻辑努力是某种逻辑门在负载效应和驱动能力的比值上与反相...   \n",
       "\n",
       "                                       filtered_text  count  \n",
       "0                                           如沐春风受益匪浅    1.0  \n",
       "1                                               看看账号    1.0  \n",
       "2                                                用户名    1.0  \n",
       "3                                                用户名    1.0  \n",
       "4  本节一次提及逻辑努力意义提出逻辑努力某种逻辑门负载效应驱动能力比值反相器之间差异似乎应该负载...    1.0  "
      ]
     },
     "execution_count": 2,
     "metadata": {},
     "output_type": "execute_result"
    }
   ],
   "source": [
    "import pandas as pd\n",
    "import numpy as np\n",
    "\n",
    "df = pd.read_csv(f\"/kaggle/input/preprocessing-3/cleaned_comments/file_{i}.csv\")\n",
    "print(\"Số dòng dữ liệu:\", len(df))\n",
    "df.head(5)"
   ]
  },
  {
   "cell_type": "code",
   "execution_count": 3,
   "id": "c3d7ac9b",
   "metadata": {
    "execution": {
     "iopub.execute_input": "2024-12-03T16:51:15.779081Z",
     "iopub.status.busy": "2024-12-03T16:51:15.778698Z",
     "iopub.status.idle": "2024-12-03T16:51:15.789521Z",
     "shell.execute_reply": "2024-12-03T16:51:15.788643Z"
    },
    "papermill": {
     "duration": 0.017629,
     "end_time": "2024-12-03T16:51:15.791572",
     "exception": false,
     "start_time": "2024-12-03T16:51:15.773943",
     "status": "completed"
    },
    "tags": []
   },
   "outputs": [
    {
     "data": {
      "text/plain": [
       "course_id        0\n",
       "text             0\n",
       "filtered_text    0\n",
       "count            0\n",
       "dtype: int64"
      ]
     },
     "execution_count": 3,
     "metadata": {},
     "output_type": "execute_result"
    }
   ],
   "source": [
    "df.isnull().sum()"
   ]
  },
  {
   "cell_type": "markdown",
   "id": "d211163f",
   "metadata": {
    "papermill": {
     "duration": 0.003445,
     "end_time": "2024-12-03T16:51:15.798872",
     "exception": false,
     "start_time": "2024-12-03T16:51:15.795427",
     "status": "completed"
    },
    "tags": []
   },
   "source": [
    "## Dịch sang tiếng anh với thư viện GoogleTranslator"
   ]
  },
  {
   "cell_type": "code",
   "execution_count": 4,
   "id": "963e68cc",
   "metadata": {
    "execution": {
     "iopub.execute_input": "2024-12-03T16:51:15.807763Z",
     "iopub.status.busy": "2024-12-03T16:51:15.807406Z",
     "iopub.status.idle": "2024-12-03T16:51:27.775175Z",
     "shell.execute_reply": "2024-12-03T16:51:27.773932Z"
    },
    "papermill": {
     "duration": 11.974884,
     "end_time": "2024-12-03T16:51:27.777541",
     "exception": false,
     "start_time": "2024-12-03T16:51:15.802657",
     "status": "completed"
    },
    "tags": []
   },
   "outputs": [
    {
     "name": "stdout",
     "output_type": "stream",
     "text": [
      "Collecting deep-translator\r\n",
      "  Downloading deep_translator-1.11.4-py3-none-any.whl.metadata (30 kB)\r\n",
      "Requirement already satisfied: beautifulsoup4<5.0.0,>=4.9.1 in /opt/conda/lib/python3.10/site-packages (from deep-translator) (4.12.3)\r\n",
      "Requirement already satisfied: requests<3.0.0,>=2.23.0 in /opt/conda/lib/python3.10/site-packages (from deep-translator) (2.32.3)\r\n",
      "Requirement already satisfied: soupsieve>1.2 in /opt/conda/lib/python3.10/site-packages (from beautifulsoup4<5.0.0,>=4.9.1->deep-translator) (2.5)\r\n",
      "Requirement already satisfied: charset-normalizer<4,>=2 in /opt/conda/lib/python3.10/site-packages (from requests<3.0.0,>=2.23.0->deep-translator) (3.3.2)\r\n",
      "Requirement already satisfied: idna<4,>=2.5 in /opt/conda/lib/python3.10/site-packages (from requests<3.0.0,>=2.23.0->deep-translator) (3.7)\r\n",
      "Requirement already satisfied: urllib3<3,>=1.21.1 in /opt/conda/lib/python3.10/site-packages (from requests<3.0.0,>=2.23.0->deep-translator) (1.26.18)\r\n",
      "Requirement already satisfied: certifi>=2017.4.17 in /opt/conda/lib/python3.10/site-packages (from requests<3.0.0,>=2.23.0->deep-translator) (2024.8.30)\r\n",
      "Downloading deep_translator-1.11.4-py3-none-any.whl (42 kB)\r\n",
      "\u001b[2K   \u001b[90m━━━━━━━━━━━━━━━━━━━━━━━━━━━━━━━━━━━━━━━━\u001b[0m \u001b[32m42.3/42.3 kB\u001b[0m \u001b[31m1.7 MB/s\u001b[0m eta \u001b[36m0:00:00\u001b[0m\r\n",
      "\u001b[?25hInstalling collected packages: deep-translator\r\n",
      "Successfully installed deep-translator-1.11.4\r\n"
     ]
    }
   ],
   "source": [
    "!pip install deep-translator"
   ]
  },
  {
   "cell_type": "code",
   "execution_count": 5,
   "id": "503fbaae",
   "metadata": {
    "execution": {
     "iopub.execute_input": "2024-12-03T16:51:27.787798Z",
     "iopub.status.busy": "2024-12-03T16:51:27.787394Z",
     "iopub.status.idle": "2024-12-03T16:51:37.695397Z",
     "shell.execute_reply": "2024-12-03T16:51:37.693892Z"
    },
    "papermill": {
     "duration": 9.916007,
     "end_time": "2024-12-03T16:51:37.697843",
     "exception": false,
     "start_time": "2024-12-03T16:51:27.781836",
     "status": "completed"
    },
    "tags": []
   },
   "outputs": [
    {
     "name": "stdout",
     "output_type": "stream",
     "text": [
      "Requirement already satisfied: tqdm in /opt/conda/lib/python3.10/site-packages (4.66.4)\r\n",
      "Note: you may need to restart the kernel to use updated packages.\n"
     ]
    }
   ],
   "source": [
    "pip install tqdm"
   ]
  },
  {
   "cell_type": "code",
   "execution_count": 6,
   "id": "60860e4b",
   "metadata": {
    "execution": {
     "iopub.execute_input": "2024-12-03T16:51:37.710135Z",
     "iopub.status.busy": "2024-12-03T16:51:37.708932Z",
     "iopub.status.idle": "2024-12-03T18:31:10.467819Z",
     "shell.execute_reply": "2024-12-03T18:31:10.466748Z"
    },
    "papermill": {
     "duration": 5972.76634,
     "end_time": "2024-12-03T18:31:10.469644",
     "exception": false,
     "start_time": "2024-12-03T16:51:37.703304",
     "status": "completed"
    },
    "tags": []
   },
   "outputs": [
    {
     "name": "stderr",
     "output_type": "stream",
     "text": [
      "Tiến độ dịch: 100%|██████████| 5370/5370 [1:39:32<00:00,  1.11s/dòng]"
     ]
    },
    {
     "name": "stdout",
     "output_type": "stream",
     "text": [
      "Số dòng dữ liệu: 5370\n"
     ]
    },
    {
     "name": "stderr",
     "output_type": "stream",
     "text": [
      "\n"
     ]
    },
    {
     "data": {
      "text/html": [
       "<div>\n",
       "<style scoped>\n",
       "    .dataframe tbody tr th:only-of-type {\n",
       "        vertical-align: middle;\n",
       "    }\n",
       "\n",
       "    .dataframe tbody tr th {\n",
       "        vertical-align: top;\n",
       "    }\n",
       "\n",
       "    .dataframe thead th {\n",
       "        text-align: right;\n",
       "    }\n",
       "</style>\n",
       "<table border=\"1\" class=\"dataframe\">\n",
       "  <thead>\n",
       "    <tr style=\"text-align: right;\">\n",
       "      <th></th>\n",
       "      <th>course_id</th>\n",
       "      <th>text</th>\n",
       "      <th>filtered_text</th>\n",
       "      <th>count</th>\n",
       "      <th>text_vi</th>\n",
       "    </tr>\n",
       "  </thead>\n",
       "  <tbody>\n",
       "    <tr>\n",
       "      <th>0</th>\n",
       "      <td>C_682155</td>\n",
       "      <td>如沐春风受益匪浅</td>\n",
       "      <td>如沐春风受益匪浅</td>\n",
       "      <td>1.0</td>\n",
       "      <td>Được hưởng nhiều lợi ích từ gió xuân</td>\n",
       "    </tr>\n",
       "    <tr>\n",
       "      <th>1</th>\n",
       "      <td>C_682155</td>\n",
       "      <td>看看账号</td>\n",
       "      <td>看看账号</td>\n",
       "      <td>1.0</td>\n",
       "      <td>Nhìn vào tài khoản</td>\n",
       "    </tr>\n",
       "    <tr>\n",
       "      <th>2</th>\n",
       "      <td>C_682155</td>\n",
       "      <td>用户名</td>\n",
       "      <td>用户名</td>\n",
       "      <td>1.0</td>\n",
       "      <td>tên người dùng</td>\n",
       "    </tr>\n",
       "    <tr>\n",
       "      <th>3</th>\n",
       "      <td>C_682155</td>\n",
       "      <td>用户名</td>\n",
       "      <td>用户名</td>\n",
       "      <td>1.0</td>\n",
       "      <td>tên người dùng</td>\n",
       "    </tr>\n",
       "    <tr>\n",
       "      <th>4</th>\n",
       "      <td>C_682155</td>\n",
       "      <td>本节再一次提及逻辑努力的意义的时候提出逻辑努力是某种逻辑门在负载效应和驱动能力的比值上与反相...</td>\n",
       "      <td>本节一次提及逻辑努力意义提出逻辑努力某种逻辑门负载效应驱动能力比值反相器之间差异似乎应该负载...</td>\n",
       "      <td>1.0</td>\n",
       "      <td>Khi phần này một lần nữa đề cập đến ý nghĩa củ...</td>\n",
       "    </tr>\n",
       "  </tbody>\n",
       "</table>\n",
       "</div>"
      ],
      "text/plain": [
       "  course_id                                               text  \\\n",
       "0  C_682155                                           如沐春风受益匪浅   \n",
       "1  C_682155                                               看看账号   \n",
       "2  C_682155                                                用户名   \n",
       "3  C_682155                                                用户名   \n",
       "4  C_682155  本节再一次提及逻辑努力的意义的时候提出逻辑努力是某种逻辑门在负载效应和驱动能力的比值上与反相...   \n",
       "\n",
       "                                       filtered_text  count  \\\n",
       "0                                           如沐春风受益匪浅    1.0   \n",
       "1                                               看看账号    1.0   \n",
       "2                                                用户名    1.0   \n",
       "3                                                用户名    1.0   \n",
       "4  本节一次提及逻辑努力意义提出逻辑努力某种逻辑门负载效应驱动能力比值反相器之间差异似乎应该负载...    1.0   \n",
       "\n",
       "                                             text_vi  \n",
       "0               Được hưởng nhiều lợi ích từ gió xuân  \n",
       "1                                 Nhìn vào tài khoản  \n",
       "2                                     tên người dùng  \n",
       "3                                     tên người dùng  \n",
       "4  Khi phần này một lần nữa đề cập đến ý nghĩa củ...  "
      ]
     },
     "execution_count": 6,
     "metadata": {},
     "output_type": "execute_result"
    }
   ],
   "source": [
    "from deep_translator import GoogleTranslator\n",
    "import pandas as pd\n",
    "from tqdm import tqdm  # Import tqdm để sử dụng thanh tiến độ\n",
    "\n",
    "# Khởi tạo đối tượng GoogleTranslator\n",
    "translator = GoogleTranslator(source='zh-CN', target='vi')\n",
    "\n",
    "# Tạo cột 'text_en' nếu chưa có\n",
    "if 'text_vi' not in df.columns:\n",
    "    df['text_vi'] = None\n",
    "\n",
    "df['text'] = df['text'].astype(str)\n",
    "# Sử dụng tqdm để tạo thanh tiến độ\n",
    "with tqdm(total=len(df), desc=\"Tiến độ dịch\", unit=\"dòng\") as pbar:\n",
    "    for idx, row in df.iterrows():\n",
    "        if pd.isna(row['text_vi']):  # Chỉ dịch nếu chưa có dữ liệu\n",
    "            try:\n",
    "                # Dịch từ tiếng Trung giản thể (zh-CN) sang tiếng Anh (en)\n",
    "                text_trans = translator.translate(str(row['text']))\n",
    "                df.loc[idx, 'text_vi'] = text_trans  # Sử dụng .loc để tránh SettingWithCopyWarning\n",
    "            except Exception as e:\n",
    "                print(f\"Error translating row {idx}: {e}\")\n",
    "        \n",
    "        # Cập nhật thanh tiến độ\n",
    "        pbar.update(1)\n",
    "\n",
    "# Hiển thị DataFrame để kiểm tra\n",
    "print(\"Số dòng dữ liệu:\", len(df))\n",
    "df.head(5)"
   ]
  },
  {
   "cell_type": "code",
   "execution_count": 7,
   "id": "18e6a9f8",
   "metadata": {
    "execution": {
     "iopub.execute_input": "2024-12-03T18:31:11.042016Z",
     "iopub.status.busy": "2024-12-03T18:31:11.041472Z",
     "iopub.status.idle": "2024-12-03T18:31:11.048700Z",
     "shell.execute_reply": "2024-12-03T18:31:11.047765Z"
    },
    "papermill": {
     "duration": 0.268762,
     "end_time": "2024-12-03T18:31:11.050660",
     "exception": false,
     "start_time": "2024-12-03T18:31:10.781898",
     "status": "completed"
    },
    "tags": []
   },
   "outputs": [],
   "source": [
    "df['text'] = df['text'].astype(str)\n",
    "df['text_vi'] = df['text_vi'].astype(str)"
   ]
  },
  {
   "cell_type": "markdown",
   "id": "a4a92fd4",
   "metadata": {
    "papermill": {
     "duration": 0.255976,
     "end_time": "2024-12-03T18:31:11.564983",
     "exception": false,
     "start_time": "2024-12-03T18:31:11.309007",
     "status": "completed"
    },
    "tags": []
   },
   "source": [
    "## Lưu file đã dịch"
   ]
  },
  {
   "cell_type": "code",
   "execution_count": 8,
   "id": "d9e8c179",
   "metadata": {
    "execution": {
     "iopub.execute_input": "2024-12-03T18:31:12.077829Z",
     "iopub.status.busy": "2024-12-03T18:31:12.077132Z",
     "iopub.status.idle": "2024-12-03T18:31:12.140279Z",
     "shell.execute_reply": "2024-12-03T18:31:12.139101Z"
    },
    "papermill": {
     "duration": 0.322976,
     "end_time": "2024-12-03T18:31:12.142703",
     "exception": false,
     "start_time": "2024-12-03T18:31:11.819727",
     "status": "completed"
    },
    "tags": []
   },
   "outputs": [],
   "source": [
    "df.to_csv(f'/kaggle/working/translated_comments_{i}.csv', index=False)"
   ]
  },
  {
   "cell_type": "markdown",
   "id": "5e4fa7fa",
   "metadata": {
    "papermill": {
     "duration": 0.255555,
     "end_time": "2024-12-03T18:31:12.715096",
     "exception": false,
     "start_time": "2024-12-03T18:31:12.459541",
     "status": "completed"
    },
    "tags": []
   },
   "source": [
    "# File i+1"
   ]
  },
  {
   "cell_type": "code",
   "execution_count": 9,
   "id": "47dcea74",
   "metadata": {
    "execution": {
     "iopub.execute_input": "2024-12-03T18:31:13.230276Z",
     "iopub.status.busy": "2024-12-03T18:31:13.229701Z",
     "iopub.status.idle": "2024-12-03T18:31:13.294742Z",
     "shell.execute_reply": "2024-12-03T18:31:13.293713Z"
    },
    "papermill": {
     "duration": 0.326055,
     "end_time": "2024-12-03T18:31:13.296724",
     "exception": false,
     "start_time": "2024-12-03T18:31:12.970669",
     "status": "completed"
    },
    "tags": []
   },
   "outputs": [
    {
     "name": "stdout",
     "output_type": "stream",
     "text": [
      "Số dòng dữ liệu: 5270\n"
     ]
    },
    {
     "data": {
      "text/html": [
       "<div>\n",
       "<style scoped>\n",
       "    .dataframe tbody tr th:only-of-type {\n",
       "        vertical-align: middle;\n",
       "    }\n",
       "\n",
       "    .dataframe tbody tr th {\n",
       "        vertical-align: top;\n",
       "    }\n",
       "\n",
       "    .dataframe thead th {\n",
       "        text-align: right;\n",
       "    }\n",
       "</style>\n",
       "<table border=\"1\" class=\"dataframe\">\n",
       "  <thead>\n",
       "    <tr style=\"text-align: right;\">\n",
       "      <th></th>\n",
       "      <th>course_id</th>\n",
       "      <th>text</th>\n",
       "      <th>filtered_text</th>\n",
       "      <th>count</th>\n",
       "    </tr>\n",
       "  </thead>\n",
       "  <tbody>\n",
       "    <tr>\n",
       "      <th>0</th>\n",
       "      <td>C_682439</td>\n",
       "      <td>打卡</td>\n",
       "      <td>打卡</td>\n",
       "      <td>1.0</td>\n",
       "    </tr>\n",
       "    <tr>\n",
       "      <th>1</th>\n",
       "      <td>C_682440</td>\n",
       "      <td>挺好</td>\n",
       "      <td>挺</td>\n",
       "      <td>1.0</td>\n",
       "    </tr>\n",
       "    <tr>\n",
       "      <th>2</th>\n",
       "      <td>C_682440</td>\n",
       "      <td>一般般</td>\n",
       "      <td>一般般</td>\n",
       "      <td>1.0</td>\n",
       "    </tr>\n",
       "    <tr>\n",
       "      <th>3</th>\n",
       "      <td>C_682440</td>\n",
       "      <td>不错</td>\n",
       "      <td>不错</td>\n",
       "      <td>1.0</td>\n",
       "    </tr>\n",
       "    <tr>\n",
       "      <th>4</th>\n",
       "      <td>C_682440</td>\n",
       "      <td>进来了</td>\n",
       "      <td>进来</td>\n",
       "      <td>1.0</td>\n",
       "    </tr>\n",
       "  </tbody>\n",
       "</table>\n",
       "</div>"
      ],
      "text/plain": [
       "  course_id text filtered_text  count\n",
       "0  C_682439   打卡            打卡    1.0\n",
       "1  C_682440   挺好             挺    1.0\n",
       "2  C_682440  一般般           一般般    1.0\n",
       "3  C_682440   不错            不错    1.0\n",
       "4  C_682440  进来了            进来    1.0"
      ]
     },
     "execution_count": 9,
     "metadata": {},
     "output_type": "execute_result"
    }
   ],
   "source": [
    "import pandas as pd\n",
    "import numpy as np\n",
    "\n",
    "df = pd.read_csv(f\"/kaggle/input/preprocessing-3/cleaned_comments/file_{i+1}.csv\")\n",
    "print(\"Số dòng dữ liệu:\", len(df))\n",
    "df.head(5)"
   ]
  },
  {
   "cell_type": "code",
   "execution_count": 10,
   "id": "cdb12390",
   "metadata": {
    "execution": {
     "iopub.execute_input": "2024-12-03T18:31:13.868332Z",
     "iopub.status.busy": "2024-12-03T18:31:13.867953Z",
     "iopub.status.idle": "2024-12-03T20:16:35.277141Z",
     "shell.execute_reply": "2024-12-03T20:16:35.275923Z"
    },
    "papermill": {
     "duration": 6321.725286,
     "end_time": "2024-12-03T20:16:35.279485",
     "exception": false,
     "start_time": "2024-12-03T18:31:13.554199",
     "status": "completed"
    },
    "tags": []
   },
   "outputs": [
    {
     "name": "stderr",
     "output_type": "stream",
     "text": [
      "Tiến độ dịch: 100%|██████████| 5270/5270 [1:45:21<00:00,  1.20s/dòng]"
     ]
    },
    {
     "name": "stdout",
     "output_type": "stream",
     "text": [
      "Số dòng dữ liệu: 5270\n"
     ]
    },
    {
     "name": "stderr",
     "output_type": "stream",
     "text": [
      "\n"
     ]
    },
    {
     "data": {
      "text/html": [
       "<div>\n",
       "<style scoped>\n",
       "    .dataframe tbody tr th:only-of-type {\n",
       "        vertical-align: middle;\n",
       "    }\n",
       "\n",
       "    .dataframe tbody tr th {\n",
       "        vertical-align: top;\n",
       "    }\n",
       "\n",
       "    .dataframe thead th {\n",
       "        text-align: right;\n",
       "    }\n",
       "</style>\n",
       "<table border=\"1\" class=\"dataframe\">\n",
       "  <thead>\n",
       "    <tr style=\"text-align: right;\">\n",
       "      <th></th>\n",
       "      <th>course_id</th>\n",
       "      <th>text</th>\n",
       "      <th>filtered_text</th>\n",
       "      <th>count</th>\n",
       "      <th>text_vi</th>\n",
       "    </tr>\n",
       "  </thead>\n",
       "  <tbody>\n",
       "    <tr>\n",
       "      <th>0</th>\n",
       "      <td>C_682439</td>\n",
       "      <td>打卡</td>\n",
       "      <td>打卡</td>\n",
       "      <td>1.0</td>\n",
       "      <td>Đăng ký vào</td>\n",
       "    </tr>\n",
       "    <tr>\n",
       "      <th>1</th>\n",
       "      <td>C_682440</td>\n",
       "      <td>挺好</td>\n",
       "      <td>挺</td>\n",
       "      <td>1.0</td>\n",
       "      <td>Tốt</td>\n",
       "    </tr>\n",
       "    <tr>\n",
       "      <th>2</th>\n",
       "      <td>C_682440</td>\n",
       "      <td>一般般</td>\n",
       "      <td>一般般</td>\n",
       "      <td>1.0</td>\n",
       "      <td>Tương tự</td>\n",
       "    </tr>\n",
       "    <tr>\n",
       "      <th>3</th>\n",
       "      <td>C_682440</td>\n",
       "      <td>不错</td>\n",
       "      <td>不错</td>\n",
       "      <td>1.0</td>\n",
       "      <td>Tốt</td>\n",
       "    </tr>\n",
       "    <tr>\n",
       "      <th>4</th>\n",
       "      <td>C_682440</td>\n",
       "      <td>进来了</td>\n",
       "      <td>进来</td>\n",
       "      <td>1.0</td>\n",
       "      <td>Đã đến</td>\n",
       "    </tr>\n",
       "  </tbody>\n",
       "</table>\n",
       "</div>"
      ],
      "text/plain": [
       "  course_id text filtered_text  count      text_vi\n",
       "0  C_682439   打卡            打卡    1.0  Đăng ký vào\n",
       "1  C_682440   挺好             挺    1.0          Tốt\n",
       "2  C_682440  一般般           一般般    1.0     Tương tự\n",
       "3  C_682440   不错            不错    1.0          Tốt\n",
       "4  C_682440  进来了            进来    1.0       Đã đến"
      ]
     },
     "execution_count": 10,
     "metadata": {},
     "output_type": "execute_result"
    }
   ],
   "source": [
    "from deep_translator import GoogleTranslator\n",
    "import pandas as pd\n",
    "from tqdm import tqdm  # Import tqdm để sử dụng thanh tiến độ\n",
    "\n",
    "# Khởi tạo đối tượng GoogleTranslator\n",
    "translator = GoogleTranslator(source='zh-CN', target='vi')\n",
    "\n",
    "# Tạo cột 'text_en' nếu chưa có\n",
    "if 'text_vi' not in df.columns:\n",
    "    df['text_vi'] = None\n",
    "\n",
    "df['text'] = df['text'].astype(str)\n",
    "# Sử dụng tqdm để tạo thanh tiến độ\n",
    "with tqdm(total=len(df), desc=\"Tiến độ dịch\", unit=\"dòng\") as pbar:\n",
    "    for idx, row in df.iterrows():\n",
    "        if pd.isna(row['text_vi']):  # Chỉ dịch nếu chưa có dữ liệu\n",
    "            try:\n",
    "                # Dịch từ tiếng Trung giản thể (zh-CN) sang tiếng Anh (en)\n",
    "                text_trans = translator.translate(str(row['text']))\n",
    "                df.loc[idx, 'text_vi'] = text_trans  # Sử dụng .loc để tránh SettingWithCopyWarning\n",
    "            except Exception as e:\n",
    "                print(f\"Error translating row {idx}: {e}\")\n",
    "        \n",
    "        # Cập nhật thanh tiến độ\n",
    "        pbar.update(1)\n",
    "\n",
    "# Hiển thị DataFrame để kiểm tra\n",
    "print(\"Số dòng dữ liệu:\", len(df))\n",
    "df.head(5)"
   ]
  },
  {
   "cell_type": "code",
   "execution_count": 11,
   "id": "488a079a",
   "metadata": {
    "execution": {
     "iopub.execute_input": "2024-12-03T20:16:36.366157Z",
     "iopub.status.busy": "2024-12-03T20:16:36.365736Z",
     "iopub.status.idle": "2024-12-03T20:16:36.373293Z",
     "shell.execute_reply": "2024-12-03T20:16:36.372317Z"
    },
    "papermill": {
     "duration": 0.582316,
     "end_time": "2024-12-03T20:16:36.375393",
     "exception": false,
     "start_time": "2024-12-03T20:16:35.793077",
     "status": "completed"
    },
    "tags": []
   },
   "outputs": [],
   "source": [
    "df['text'] = df['text'].astype(str)\n",
    "df['text_vi'] = df['text_vi'].astype(str)"
   ]
  },
  {
   "cell_type": "code",
   "execution_count": 12,
   "id": "fabf2030",
   "metadata": {
    "execution": {
     "iopub.execute_input": "2024-12-03T20:16:37.468086Z",
     "iopub.status.busy": "2024-12-03T20:16:37.467677Z",
     "iopub.status.idle": "2024-12-03T20:16:37.536080Z",
     "shell.execute_reply": "2024-12-03T20:16:37.535057Z"
    },
    "papermill": {
     "duration": 0.647059,
     "end_time": "2024-12-03T20:16:37.538229",
     "exception": false,
     "start_time": "2024-12-03T20:16:36.891170",
     "status": "completed"
    },
    "tags": []
   },
   "outputs": [],
   "source": [
    "df.to_csv(f'/kaggle/working/translated_comments_{i+1}.csv', index=False)"
   ]
  }
 ],
 "metadata": {
  "kaggle": {
   "accelerator": "none",
   "dataSources": [
    {
     "sourceId": 209897750,
     "sourceType": "kernelVersion"
    }
   ],
   "dockerImageVersionId": 30787,
   "isGpuEnabled": false,
   "isInternetEnabled": true,
   "language": "python",
   "sourceType": "notebook"
  },
  "kernelspec": {
   "display_name": "Python 3",
   "language": "python",
   "name": "python3"
  },
  "language_info": {
   "codemirror_mode": {
    "name": "ipython",
    "version": 3
   },
   "file_extension": ".py",
   "mimetype": "text/x-python",
   "name": "python",
   "nbconvert_exporter": "python",
   "pygments_lexer": "ipython3",
   "version": "3.10.14"
  },
  "papermill": {
   "default_parameters": {},
   "duration": 12326.787203,
   "end_time": "2024-12-03T20:16:38.669994",
   "environment_variables": {},
   "exception": null,
   "input_path": "__notebook__.ipynb",
   "output_path": "__notebook__.ipynb",
   "parameters": {},
   "start_time": "2024-12-03T16:51:11.882791",
   "version": "2.6.0"
  }
 },
 "nbformat": 4,
 "nbformat_minor": 5
}
