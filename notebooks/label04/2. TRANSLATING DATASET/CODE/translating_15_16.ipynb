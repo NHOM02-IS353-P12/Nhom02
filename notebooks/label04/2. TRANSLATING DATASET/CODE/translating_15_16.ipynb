{
 "cells": [
  {
   "cell_type": "code",
   "execution_count": 1,
   "id": "7ae01a99",
   "metadata": {
    "execution": {
     "iopub.execute_input": "2024-12-03T16:55:59.944648Z",
     "iopub.status.busy": "2024-12-03T16:55:59.944128Z",
     "iopub.status.idle": "2024-12-03T16:55:59.954954Z",
     "shell.execute_reply": "2024-12-03T16:55:59.953235Z"
    },
    "papermill": {
     "duration": 0.019398,
     "end_time": "2024-12-03T16:55:59.957533",
     "exception": false,
     "start_time": "2024-12-03T16:55:59.938135",
     "status": "completed"
    },
    "tags": []
   },
   "outputs": [],
   "source": [
    "i = 15"
   ]
  },
  {
   "cell_type": "markdown",
   "id": "a5ec5e90",
   "metadata": {
    "papermill": {
     "duration": 0.003991,
     "end_time": "2024-12-03T16:55:59.965654",
     "exception": false,
     "start_time": "2024-12-03T16:55:59.961663",
     "status": "completed"
    },
    "tags": []
   },
   "source": [
    "# Translating data"
   ]
  },
  {
   "cell_type": "markdown",
   "id": "3f27326e",
   "metadata": {
    "papermill": {
     "duration": 0.003279,
     "end_time": "2024-12-03T16:55:59.972805",
     "exception": false,
     "start_time": "2024-12-03T16:55:59.969526",
     "status": "completed"
    },
    "tags": []
   },
   "source": [
    "## Đọc dữ liệu"
   ]
  },
  {
   "cell_type": "code",
   "execution_count": 2,
   "id": "f71d2e6a",
   "metadata": {
    "_cell_guid": "b1076dfc-b9ad-4769-8c92-a6c4dae69d19",
    "_uuid": "8f2839f25d086af736a60e9eeb907d3b93b6e0e5",
    "execution": {
     "iopub.execute_input": "2024-12-03T16:55:59.981449Z",
     "iopub.status.busy": "2024-12-03T16:55:59.981063Z",
     "iopub.status.idle": "2024-12-03T16:56:01.139063Z",
     "shell.execute_reply": "2024-12-03T16:56:01.137780Z"
    },
    "papermill": {
     "duration": 1.165284,
     "end_time": "2024-12-03T16:56:01.141569",
     "exception": false,
     "start_time": "2024-12-03T16:55:59.976285",
     "status": "completed"
    },
    "tags": []
   },
   "outputs": [
    {
     "name": "stdout",
     "output_type": "stream",
     "text": [
      "Số dòng dữ liệu: 9136\n"
     ]
    },
    {
     "data": {
      "text/html": [
       "<div>\n",
       "<style scoped>\n",
       "    .dataframe tbody tr th:only-of-type {\n",
       "        vertical-align: middle;\n",
       "    }\n",
       "\n",
       "    .dataframe tbody tr th {\n",
       "        vertical-align: top;\n",
       "    }\n",
       "\n",
       "    .dataframe thead th {\n",
       "        text-align: right;\n",
       "    }\n",
       "</style>\n",
       "<table border=\"1\" class=\"dataframe\">\n",
       "  <thead>\n",
       "    <tr style=\"text-align: right;\">\n",
       "      <th></th>\n",
       "      <th>course_id</th>\n",
       "      <th>text</th>\n",
       "      <th>filtered_text</th>\n",
       "      <th>count</th>\n",
       "    </tr>\n",
       "  </thead>\n",
       "  <tbody>\n",
       "    <tr>\n",
       "      <th>0</th>\n",
       "      <td>C_769273</td>\n",
       "      <td>有点难</td>\n",
       "      <td>有点难</td>\n",
       "      <td>1.0</td>\n",
       "    </tr>\n",
       "    <tr>\n",
       "      <th>1</th>\n",
       "      <td>C_769273</td>\n",
       "      <td>打卡</td>\n",
       "      <td>打卡</td>\n",
       "      <td>89.0</td>\n",
       "    </tr>\n",
       "    <tr>\n",
       "      <th>2</th>\n",
       "      <td>C_769273</td>\n",
       "      <td>马克思是一个热爱哲学也是一位伟大的思想家</td>\n",
       "      <td>马克思热爱哲学一位伟大思想家</td>\n",
       "      <td>1.0</td>\n",
       "    </tr>\n",
       "    <tr>\n",
       "      <th>3</th>\n",
       "      <td>C_769273</td>\n",
       "      <td>马克思的一生为人类解放的崇高理想而奋斗一生伟人</td>\n",
       "      <td>马克思一生人类解放崇高理想奋斗一生伟人</td>\n",
       "      <td>1.0</td>\n",
       "    </tr>\n",
       "    <tr>\n",
       "      <th>4</th>\n",
       "      <td>C_769273</td>\n",
       "      <td>恩格斯是马克斯的厚盾</td>\n",
       "      <td>恩格斯马克斯厚盾</td>\n",
       "      <td>1.0</td>\n",
       "    </tr>\n",
       "  </tbody>\n",
       "</table>\n",
       "</div>"
      ],
      "text/plain": [
       "  course_id                     text        filtered_text  count\n",
       "0  C_769273                      有点难                  有点难    1.0\n",
       "1  C_769273                       打卡                   打卡   89.0\n",
       "2  C_769273     马克思是一个热爱哲学也是一位伟大的思想家       马克思热爱哲学一位伟大思想家    1.0\n",
       "3  C_769273  马克思的一生为人类解放的崇高理想而奋斗一生伟人  马克思一生人类解放崇高理想奋斗一生伟人    1.0\n",
       "4  C_769273               恩格斯是马克斯的厚盾             恩格斯马克斯厚盾    1.0"
      ]
     },
     "execution_count": 2,
     "metadata": {},
     "output_type": "execute_result"
    }
   ],
   "source": [
    "import pandas as pd\n",
    "import numpy as np\n",
    "\n",
    "df = pd.read_csv(f\"/kaggle/input/preprocessing-3/cleaned_comments/file_{i}.csv\")\n",
    "print(\"Số dòng dữ liệu:\", len(df))\n",
    "df.head(5)"
   ]
  },
  {
   "cell_type": "code",
   "execution_count": 3,
   "id": "390eb32f",
   "metadata": {
    "execution": {
     "iopub.execute_input": "2024-12-03T16:56:01.151364Z",
     "iopub.status.busy": "2024-12-03T16:56:01.151008Z",
     "iopub.status.idle": "2024-12-03T16:56:01.162337Z",
     "shell.execute_reply": "2024-12-03T16:56:01.161269Z"
    },
    "papermill": {
     "duration": 0.019229,
     "end_time": "2024-12-03T16:56:01.164817",
     "exception": false,
     "start_time": "2024-12-03T16:56:01.145588",
     "status": "completed"
    },
    "tags": []
   },
   "outputs": [
    {
     "data": {
      "text/plain": [
       "course_id        0\n",
       "text             0\n",
       "filtered_text    0\n",
       "count            0\n",
       "dtype: int64"
      ]
     },
     "execution_count": 3,
     "metadata": {},
     "output_type": "execute_result"
    }
   ],
   "source": [
    "df.isnull().sum()"
   ]
  },
  {
   "cell_type": "markdown",
   "id": "80711ff2",
   "metadata": {
    "papermill": {
     "duration": 0.003578,
     "end_time": "2024-12-03T16:56:01.172482",
     "exception": false,
     "start_time": "2024-12-03T16:56:01.168904",
     "status": "completed"
    },
    "tags": []
   },
   "source": [
    "## Dịch sang tiếng anh với thư viện GoogleTranslator"
   ]
  },
  {
   "cell_type": "code",
   "execution_count": 4,
   "id": "4564a97b",
   "metadata": {
    "execution": {
     "iopub.execute_input": "2024-12-03T16:56:01.182079Z",
     "iopub.status.busy": "2024-12-03T16:56:01.181643Z",
     "iopub.status.idle": "2024-12-03T16:56:13.635857Z",
     "shell.execute_reply": "2024-12-03T16:56:13.634371Z"
    },
    "papermill": {
     "duration": 12.462128,
     "end_time": "2024-12-03T16:56:13.638531",
     "exception": false,
     "start_time": "2024-12-03T16:56:01.176403",
     "status": "completed"
    },
    "tags": []
   },
   "outputs": [
    {
     "name": "stdout",
     "output_type": "stream",
     "text": [
      "Collecting deep-translator\r\n",
      "  Downloading deep_translator-1.11.4-py3-none-any.whl.metadata (30 kB)\r\n",
      "Requirement already satisfied: beautifulsoup4<5.0.0,>=4.9.1 in /opt/conda/lib/python3.10/site-packages (from deep-translator) (4.12.3)\r\n",
      "Requirement already satisfied: requests<3.0.0,>=2.23.0 in /opt/conda/lib/python3.10/site-packages (from deep-translator) (2.32.3)\r\n",
      "Requirement already satisfied: soupsieve>1.2 in /opt/conda/lib/python3.10/site-packages (from beautifulsoup4<5.0.0,>=4.9.1->deep-translator) (2.5)\r\n",
      "Requirement already satisfied: charset-normalizer<4,>=2 in /opt/conda/lib/python3.10/site-packages (from requests<3.0.0,>=2.23.0->deep-translator) (3.3.2)\r\n",
      "Requirement already satisfied: idna<4,>=2.5 in /opt/conda/lib/python3.10/site-packages (from requests<3.0.0,>=2.23.0->deep-translator) (3.7)\r\n",
      "Requirement already satisfied: urllib3<3,>=1.21.1 in /opt/conda/lib/python3.10/site-packages (from requests<3.0.0,>=2.23.0->deep-translator) (1.26.18)\r\n",
      "Requirement already satisfied: certifi>=2017.4.17 in /opt/conda/lib/python3.10/site-packages (from requests<3.0.0,>=2.23.0->deep-translator) (2024.8.30)\r\n",
      "Downloading deep_translator-1.11.4-py3-none-any.whl (42 kB)\r\n",
      "\u001b[2K   \u001b[90m━━━━━━━━━━━━━━━━━━━━━━━━━━━━━━━━━━━━━━━━\u001b[0m \u001b[32m42.3/42.3 kB\u001b[0m \u001b[31m1.8 MB/s\u001b[0m eta \u001b[36m0:00:00\u001b[0m\r\n",
      "\u001b[?25hInstalling collected packages: deep-translator\r\n",
      "Successfully installed deep-translator-1.11.4\r\n"
     ]
    }
   ],
   "source": [
    "!pip install deep-translator"
   ]
  },
  {
   "cell_type": "code",
   "execution_count": 5,
   "id": "38d67528",
   "metadata": {
    "execution": {
     "iopub.execute_input": "2024-12-03T16:56:13.649347Z",
     "iopub.status.busy": "2024-12-03T16:56:13.648925Z",
     "iopub.status.idle": "2024-12-03T16:56:24.063262Z",
     "shell.execute_reply": "2024-12-03T16:56:24.060040Z"
    },
    "papermill": {
     "duration": 10.42372,
     "end_time": "2024-12-03T16:56:24.066799",
     "exception": false,
     "start_time": "2024-12-03T16:56:13.643079",
     "status": "completed"
    },
    "tags": []
   },
   "outputs": [
    {
     "name": "stdout",
     "output_type": "stream",
     "text": [
      "Requirement already satisfied: tqdm in /opt/conda/lib/python3.10/site-packages (4.66.4)\r\n",
      "Note: you may need to restart the kernel to use updated packages.\n"
     ]
    }
   ],
   "source": [
    "pip install tqdm"
   ]
  },
  {
   "cell_type": "code",
   "execution_count": 6,
   "id": "c18c4c4c",
   "metadata": {
    "execution": {
     "iopub.execute_input": "2024-12-03T16:56:24.087436Z",
     "iopub.status.busy": "2024-12-03T16:56:24.086476Z",
     "iopub.status.idle": "2024-12-03T20:47:01.089712Z",
     "shell.execute_reply": "2024-12-03T20:47:01.088504Z"
    },
    "papermill": {
     "duration": 13837.015284,
     "end_time": "2024-12-03T20:47:01.092230",
     "exception": false,
     "start_time": "2024-12-03T16:56:24.076946",
     "status": "completed"
    },
    "tags": []
   },
   "outputs": [
    {
     "name": "stderr",
     "output_type": "stream",
     "text": [
      "Tiến độ dịch: 100%|██████████| 9136/9136 [3:50:36<00:00,  1.51s/dòng]"
     ]
    },
    {
     "name": "stdout",
     "output_type": "stream",
     "text": [
      "Số dòng dữ liệu: 9136\n"
     ]
    },
    {
     "name": "stderr",
     "output_type": "stream",
     "text": [
      "\n"
     ]
    },
    {
     "data": {
      "text/html": [
       "<div>\n",
       "<style scoped>\n",
       "    .dataframe tbody tr th:only-of-type {\n",
       "        vertical-align: middle;\n",
       "    }\n",
       "\n",
       "    .dataframe tbody tr th {\n",
       "        vertical-align: top;\n",
       "    }\n",
       "\n",
       "    .dataframe thead th {\n",
       "        text-align: right;\n",
       "    }\n",
       "</style>\n",
       "<table border=\"1\" class=\"dataframe\">\n",
       "  <thead>\n",
       "    <tr style=\"text-align: right;\">\n",
       "      <th></th>\n",
       "      <th>course_id</th>\n",
       "      <th>text</th>\n",
       "      <th>filtered_text</th>\n",
       "      <th>count</th>\n",
       "      <th>text_vi</th>\n",
       "    </tr>\n",
       "  </thead>\n",
       "  <tbody>\n",
       "    <tr>\n",
       "      <th>0</th>\n",
       "      <td>C_769273</td>\n",
       "      <td>有点难</td>\n",
       "      <td>有点难</td>\n",
       "      <td>1.0</td>\n",
       "      <td>hơi khó khăn</td>\n",
       "    </tr>\n",
       "    <tr>\n",
       "      <th>1</th>\n",
       "      <td>C_769273</td>\n",
       "      <td>打卡</td>\n",
       "      <td>打卡</td>\n",
       "      <td>89.0</td>\n",
       "      <td>Đăng ký vào</td>\n",
       "    </tr>\n",
       "    <tr>\n",
       "      <th>2</th>\n",
       "      <td>C_769273</td>\n",
       "      <td>马克思是一个热爱哲学也是一位伟大的思想家</td>\n",
       "      <td>马克思热爱哲学一位伟大思想家</td>\n",
       "      <td>1.0</td>\n",
       "      <td>Marx là người yêu triết học và là nhà tư tưởng...</td>\n",
       "    </tr>\n",
       "    <tr>\n",
       "      <th>3</th>\n",
       "      <td>C_769273</td>\n",
       "      <td>马克思的一生为人类解放的崇高理想而奋斗一生伟人</td>\n",
       "      <td>马克思一生人类解放崇高理想奋斗一生伟人</td>\n",
       "      <td>1.0</td>\n",
       "      <td>Marx đã dành cả cuộc đời đấu tranh cho lý tưởn...</td>\n",
       "    </tr>\n",
       "    <tr>\n",
       "      <th>4</th>\n",
       "      <td>C_769273</td>\n",
       "      <td>恩格斯是马克斯的厚盾</td>\n",
       "      <td>恩格斯马克斯厚盾</td>\n",
       "      <td>1.0</td>\n",
       "      <td>Engels là lá chắn dày của Marx</td>\n",
       "    </tr>\n",
       "  </tbody>\n",
       "</table>\n",
       "</div>"
      ],
      "text/plain": [
       "  course_id                     text        filtered_text  count  \\\n",
       "0  C_769273                      有点难                  有点难    1.0   \n",
       "1  C_769273                       打卡                   打卡   89.0   \n",
       "2  C_769273     马克思是一个热爱哲学也是一位伟大的思想家       马克思热爱哲学一位伟大思想家    1.0   \n",
       "3  C_769273  马克思的一生为人类解放的崇高理想而奋斗一生伟人  马克思一生人类解放崇高理想奋斗一生伟人    1.0   \n",
       "4  C_769273               恩格斯是马克斯的厚盾             恩格斯马克斯厚盾    1.0   \n",
       "\n",
       "                                             text_vi  \n",
       "0                                       hơi khó khăn  \n",
       "1                                        Đăng ký vào  \n",
       "2  Marx là người yêu triết học và là nhà tư tưởng...  \n",
       "3  Marx đã dành cả cuộc đời đấu tranh cho lý tưởn...  \n",
       "4                     Engels là lá chắn dày của Marx  "
      ]
     },
     "execution_count": 6,
     "metadata": {},
     "output_type": "execute_result"
    }
   ],
   "source": [
    "from deep_translator import GoogleTranslator\n",
    "import pandas as pd\n",
    "from tqdm import tqdm  # Import tqdm để sử dụng thanh tiến độ\n",
    "\n",
    "# Khởi tạo đối tượng GoogleTranslator\n",
    "translator = GoogleTranslator(source='zh-CN', target='vi')\n",
    "\n",
    "# Tạo cột 'text_en' nếu chưa có\n",
    "if 'text_vi' not in df.columns:\n",
    "    df['text_vi'] = None\n",
    "\n",
    "df['text'] = df['text'].astype(str)\n",
    "# Sử dụng tqdm để tạo thanh tiến độ\n",
    "with tqdm(total=len(df), desc=\"Tiến độ dịch\", unit=\"dòng\") as pbar:\n",
    "    for idx, row in df.iterrows():\n",
    "        if pd.isna(row['text_vi']):  # Chỉ dịch nếu chưa có dữ liệu\n",
    "            try:\n",
    "                # Dịch từ tiếng Trung giản thể (zh-CN) sang tiếng Anh (en)\n",
    "                text_trans = translator.translate(str(row['text']))\n",
    "                df.loc[idx, 'text_vi'] = text_trans  # Sử dụng .loc để tránh SettingWithCopyWarning\n",
    "            except Exception as e:\n",
    "                print(f\"Error translating row {idx}: {e}\")\n",
    "        \n",
    "        # Cập nhật thanh tiến độ\n",
    "        pbar.update(1)\n",
    "\n",
    "# Hiển thị DataFrame để kiểm tra\n",
    "print(\"Số dòng dữ liệu:\", len(df))\n",
    "df.head(5)"
   ]
  },
  {
   "cell_type": "code",
   "execution_count": 7,
   "id": "46ad572d",
   "metadata": {
    "execution": {
     "iopub.execute_input": "2024-12-03T20:47:02.093619Z",
     "iopub.status.busy": "2024-12-03T20:47:02.093066Z",
     "iopub.status.idle": "2024-12-03T20:47:02.101454Z",
     "shell.execute_reply": "2024-12-03T20:47:02.100106Z"
    },
    "papermill": {
     "duration": 0.480457,
     "end_time": "2024-12-03T20:47:02.103890",
     "exception": false,
     "start_time": "2024-12-03T20:47:01.623433",
     "status": "completed"
    },
    "tags": []
   },
   "outputs": [],
   "source": [
    "df['text'] = df['text'].astype(str)\n",
    "df['text_vi'] = df['text_vi'].astype(str)"
   ]
  },
  {
   "cell_type": "markdown",
   "id": "c79b85aa",
   "metadata": {
    "papermill": {
     "duration": 0.518563,
     "end_time": "2024-12-03T20:47:03.082997",
     "exception": false,
     "start_time": "2024-12-03T20:47:02.564434",
     "status": "completed"
    },
    "tags": []
   },
   "source": [
    "## Lưu file đã dịch"
   ]
  },
  {
   "cell_type": "code",
   "execution_count": 8,
   "id": "18d43f03",
   "metadata": {
    "execution": {
     "iopub.execute_input": "2024-12-03T20:47:04.101807Z",
     "iopub.status.busy": "2024-12-03T20:47:04.101398Z",
     "iopub.status.idle": "2024-12-03T20:47:04.205574Z",
     "shell.execute_reply": "2024-12-03T20:47:04.204327Z"
    },
    "papermill": {
     "duration": 0.670701,
     "end_time": "2024-12-03T20:47:04.208336",
     "exception": false,
     "start_time": "2024-12-03T20:47:03.537635",
     "status": "completed"
    },
    "tags": []
   },
   "outputs": [],
   "source": [
    "df.to_csv(f'/kaggle/working/translated_comments_{i}.csv', index=False)"
   ]
  },
  {
   "cell_type": "markdown",
   "id": "a81104ad",
   "metadata": {
    "papermill": {
     "duration": 0.466212,
     "end_time": "2024-12-03T20:47:05.131557",
     "exception": false,
     "start_time": "2024-12-03T20:47:04.665345",
     "status": "completed"
    },
    "tags": []
   },
   "source": [
    "# File i+1"
   ]
  },
  {
   "cell_type": "code",
   "execution_count": 9,
   "id": "b3bf59d9",
   "metadata": {
    "execution": {
     "iopub.execute_input": "2024-12-03T20:47:06.133499Z",
     "iopub.status.busy": "2024-12-03T20:47:06.133119Z",
     "iopub.status.idle": "2024-12-03T20:47:06.254342Z",
     "shell.execute_reply": "2024-12-03T20:47:06.253138Z"
    },
    "papermill": {
     "duration": 0.585778,
     "end_time": "2024-12-03T20:47:06.256609",
     "exception": false,
     "start_time": "2024-12-03T20:47:05.670831",
     "status": "completed"
    },
    "tags": []
   },
   "outputs": [
    {
     "name": "stdout",
     "output_type": "stream",
     "text": [
      "Số dòng dữ liệu: 8661\n"
     ]
    },
    {
     "data": {
      "text/html": [
       "<div>\n",
       "<style scoped>\n",
       "    .dataframe tbody tr th:only-of-type {\n",
       "        vertical-align: middle;\n",
       "    }\n",
       "\n",
       "    .dataframe tbody tr th {\n",
       "        vertical-align: top;\n",
       "    }\n",
       "\n",
       "    .dataframe thead th {\n",
       "        text-align: right;\n",
       "    }\n",
       "</style>\n",
       "<table border=\"1\" class=\"dataframe\">\n",
       "  <thead>\n",
       "    <tr style=\"text-align: right;\">\n",
       "      <th></th>\n",
       "      <th>course_id</th>\n",
       "      <th>text</th>\n",
       "      <th>filtered_text</th>\n",
       "      <th>count</th>\n",
       "    </tr>\n",
       "  </thead>\n",
       "  <tbody>\n",
       "    <tr>\n",
       "      <th>0</th>\n",
       "      <td>C_819290</td>\n",
       "      <td>多次练习</td>\n",
       "      <td>多次练习</td>\n",
       "      <td>1.0</td>\n",
       "    </tr>\n",
       "    <tr>\n",
       "      <th>1</th>\n",
       "      <td>C_819290</td>\n",
       "      <td>能很好防范学生作弊处分利用</td>\n",
       "      <td>防范学生作弊处分利用</td>\n",
       "      <td>1.0</td>\n",
       "    </tr>\n",
       "    <tr>\n",
       "      <th>2</th>\n",
       "      <td>C_819290</td>\n",
       "      <td>注意选题的实用价值选择具有现实意义的题目</td>\n",
       "      <td>注意选题实用价值选择具有现实意义题目</td>\n",
       "      <td>1.0</td>\n",
       "    </tr>\n",
       "    <tr>\n",
       "      <th>3</th>\n",
       "      <td>C_819290</td>\n",
       "      <td>免费网站图书馆贴吧百度文库知网等</td>\n",
       "      <td>免费网站图书馆贴百度文库知网</td>\n",
       "      <td>1.0</td>\n",
       "    </tr>\n",
       "    <tr>\n",
       "      <th>4</th>\n",
       "      <td>C_819290</td>\n",
       "      <td>首先需要结合自己的兴趣和专业方向其次做好相关研究材料的积累在此基础上构思个人观点和导师探讨选...</td>\n",
       "      <td>需要结合兴趣专业方向做好相关研究材料积累此基础构思个人观点导师探讨选题可行性</td>\n",
       "      <td>2.0</td>\n",
       "    </tr>\n",
       "  </tbody>\n",
       "</table>\n",
       "</div>"
      ],
      "text/plain": [
       "  course_id                                               text  \\\n",
       "0  C_819290                                               多次练习   \n",
       "1  C_819290                                      能很好防范学生作弊处分利用   \n",
       "2  C_819290                               注意选题的实用价值选择具有现实意义的题目   \n",
       "3  C_819290                                   免费网站图书馆贴吧百度文库知网等   \n",
       "4  C_819290  首先需要结合自己的兴趣和专业方向其次做好相关研究材料的积累在此基础上构思个人观点和导师探讨选...   \n",
       "\n",
       "                            filtered_text  count  \n",
       "0                                    多次练习    1.0  \n",
       "1                              防范学生作弊处分利用    1.0  \n",
       "2                      注意选题实用价值选择具有现实意义题目    1.0  \n",
       "3                          免费网站图书馆贴百度文库知网    1.0  \n",
       "4  需要结合兴趣专业方向做好相关研究材料积累此基础构思个人观点导师探讨选题可行性    2.0  "
      ]
     },
     "execution_count": 9,
     "metadata": {},
     "output_type": "execute_result"
    }
   ],
   "source": [
    "import pandas as pd\n",
    "import numpy as np\n",
    "\n",
    "df = pd.read_csv(f\"/kaggle/input/preprocessing-3/cleaned_comments/file_{i+1}.csv\")\n",
    "print(\"Số dòng dữ liệu:\", len(df))\n",
    "df.head(5)"
   ]
  },
  {
   "cell_type": "code",
   "execution_count": 10,
   "id": "461f248b",
   "metadata": {
    "execution": {
     "iopub.execute_input": "2024-12-03T20:47:07.192562Z",
     "iopub.status.busy": "2024-12-03T20:47:07.192184Z",
     "iopub.status.idle": "2024-12-04T00:36:05.031681Z",
     "shell.execute_reply": "2024-12-04T00:36:05.030050Z"
    },
    "papermill": {
     "duration": 13738.312961,
     "end_time": "2024-12-04T00:36:05.034590",
     "exception": false,
     "start_time": "2024-12-03T20:47:06.721629",
     "status": "completed"
    },
    "tags": []
   },
   "outputs": [
    {
     "name": "stderr",
     "output_type": "stream",
     "text": [
      "Tiến độ dịch: 100%|██████████| 8661/8661 [3:48:57<00:00,  1.59s/dòng]"
     ]
    },
    {
     "name": "stdout",
     "output_type": "stream",
     "text": [
      "Số dòng dữ liệu: 8661\n"
     ]
    },
    {
     "name": "stderr",
     "output_type": "stream",
     "text": [
      "\n"
     ]
    },
    {
     "data": {
      "text/html": [
       "<div>\n",
       "<style scoped>\n",
       "    .dataframe tbody tr th:only-of-type {\n",
       "        vertical-align: middle;\n",
       "    }\n",
       "\n",
       "    .dataframe tbody tr th {\n",
       "        vertical-align: top;\n",
       "    }\n",
       "\n",
       "    .dataframe thead th {\n",
       "        text-align: right;\n",
       "    }\n",
       "</style>\n",
       "<table border=\"1\" class=\"dataframe\">\n",
       "  <thead>\n",
       "    <tr style=\"text-align: right;\">\n",
       "      <th></th>\n",
       "      <th>course_id</th>\n",
       "      <th>text</th>\n",
       "      <th>filtered_text</th>\n",
       "      <th>count</th>\n",
       "      <th>text_vi</th>\n",
       "    </tr>\n",
       "  </thead>\n",
       "  <tbody>\n",
       "    <tr>\n",
       "      <th>0</th>\n",
       "      <td>C_819290</td>\n",
       "      <td>多次练习</td>\n",
       "      <td>多次练习</td>\n",
       "      <td>1.0</td>\n",
       "      <td>luyện tập nhiều lần</td>\n",
       "    </tr>\n",
       "    <tr>\n",
       "      <th>1</th>\n",
       "      <td>C_819290</td>\n",
       "      <td>能很好防范学生作弊处分利用</td>\n",
       "      <td>防范学生作弊处分利用</td>\n",
       "      <td>1.0</td>\n",
       "      <td>Có thể ngăn chặn rất tốt việc học sinh gian lậ...</td>\n",
       "    </tr>\n",
       "    <tr>\n",
       "      <th>2</th>\n",
       "      <td>C_819290</td>\n",
       "      <td>注意选题的实用价值选择具有现实意义的题目</td>\n",
       "      <td>注意选题实用价值选择具有现实意义题目</td>\n",
       "      <td>1.0</td>\n",
       "      <td>Chú ý đến giá trị thực tiễn của việc lựa chọn ...</td>\n",
       "    </tr>\n",
       "    <tr>\n",
       "      <th>3</th>\n",
       "      <td>C_819290</td>\n",
       "      <td>免费网站图书馆贴吧百度文库知网等</td>\n",
       "      <td>免费网站图书馆贴百度文库知网</td>\n",
       "      <td>1.0</td>\n",
       "      <td>Các trang web, thư viện miễn phí, Tieba, Thư v...</td>\n",
       "    </tr>\n",
       "    <tr>\n",
       "      <th>4</th>\n",
       "      <td>C_819290</td>\n",
       "      <td>首先需要结合自己的兴趣和专业方向其次做好相关研究材料的积累在此基础上构思个人观点和导师探讨选...</td>\n",
       "      <td>需要结合兴趣专业方向做好相关研究材料积累此基础构思个人观点导师探讨选题可行性</td>\n",
       "      <td>2.0</td>\n",
       "      <td>Đầu tiên, bạn cần kết hợp sở thích của bản thâ...</td>\n",
       "    </tr>\n",
       "  </tbody>\n",
       "</table>\n",
       "</div>"
      ],
      "text/plain": [
       "  course_id                                               text  \\\n",
       "0  C_819290                                               多次练习   \n",
       "1  C_819290                                      能很好防范学生作弊处分利用   \n",
       "2  C_819290                               注意选题的实用价值选择具有现实意义的题目   \n",
       "3  C_819290                                   免费网站图书馆贴吧百度文库知网等   \n",
       "4  C_819290  首先需要结合自己的兴趣和专业方向其次做好相关研究材料的积累在此基础上构思个人观点和导师探讨选...   \n",
       "\n",
       "                            filtered_text  count  \\\n",
       "0                                    多次练习    1.0   \n",
       "1                              防范学生作弊处分利用    1.0   \n",
       "2                      注意选题实用价值选择具有现实意义题目    1.0   \n",
       "3                          免费网站图书馆贴百度文库知网    1.0   \n",
       "4  需要结合兴趣专业方向做好相关研究材料积累此基础构思个人观点导师探讨选题可行性    2.0   \n",
       "\n",
       "                                             text_vi  \n",
       "0                                luyện tập nhiều lần  \n",
       "1  Có thể ngăn chặn rất tốt việc học sinh gian lậ...  \n",
       "2  Chú ý đến giá trị thực tiễn của việc lựa chọn ...  \n",
       "3  Các trang web, thư viện miễn phí, Tieba, Thư v...  \n",
       "4  Đầu tiên, bạn cần kết hợp sở thích của bản thâ...  "
      ]
     },
     "execution_count": 10,
     "metadata": {},
     "output_type": "execute_result"
    }
   ],
   "source": [
    "from deep_translator import GoogleTranslator\n",
    "import pandas as pd\n",
    "from tqdm import tqdm  # Import tqdm để sử dụng thanh tiến độ\n",
    "\n",
    "# Khởi tạo đối tượng GoogleTranslator\n",
    "translator = GoogleTranslator(source='zh-CN', target='vi')\n",
    "\n",
    "# Tạo cột 'text_en' nếu chưa có\n",
    "if 'text_vi' not in df.columns:\n",
    "    df['text_vi'] = None\n",
    "\n",
    "df['text'] = df['text'].astype(str)\n",
    "# Sử dụng tqdm để tạo thanh tiến độ\n",
    "with tqdm(total=len(df), desc=\"Tiến độ dịch\", unit=\"dòng\") as pbar:\n",
    "    for idx, row in df.iterrows():\n",
    "        if pd.isna(row['text_vi']):  # Chỉ dịch nếu chưa có dữ liệu\n",
    "            try:\n",
    "                # Dịch từ tiếng Trung giản thể (zh-CN) sang tiếng Anh (en)\n",
    "                text_trans = translator.translate(str(row['text']))\n",
    "                df.loc[idx, 'text_vi'] = text_trans  # Sử dụng .loc để tránh SettingWithCopyWarning\n",
    "            except Exception as e:\n",
    "                print(f\"Error translating row {idx}: {e}\")\n",
    "        \n",
    "        # Cập nhật thanh tiến độ\n",
    "        pbar.update(1)\n",
    "\n",
    "# Hiển thị DataFrame để kiểm tra\n",
    "print(\"Số dòng dữ liệu:\", len(df))\n",
    "df.head(5)"
   ]
  },
  {
   "cell_type": "code",
   "execution_count": 11,
   "id": "4464bb23",
   "metadata": {
    "execution": {
     "iopub.execute_input": "2024-12-04T00:36:06.959699Z",
     "iopub.status.busy": "2024-12-04T00:36:06.958443Z",
     "iopub.status.idle": "2024-12-04T00:36:06.966315Z",
     "shell.execute_reply": "2024-12-04T00:36:06.965104Z"
    },
    "papermill": {
     "duration": 0.96835,
     "end_time": "2024-12-04T00:36:06.968441",
     "exception": false,
     "start_time": "2024-12-04T00:36:06.000091",
     "status": "completed"
    },
    "tags": []
   },
   "outputs": [],
   "source": [
    "df['text'] = df['text'].astype(str)\n",
    "df['text_vi'] = df['text_vi'].astype(str)"
   ]
  },
  {
   "cell_type": "code",
   "execution_count": 12,
   "id": "f9bc116a",
   "metadata": {
    "execution": {
     "iopub.execute_input": "2024-12-04T00:36:08.821698Z",
     "iopub.status.busy": "2024-12-04T00:36:08.820706Z",
     "iopub.status.idle": "2024-12-04T00:36:08.931490Z",
     "shell.execute_reply": "2024-12-04T00:36:08.930087Z"
    },
    "papermill": {
     "duration": 1.0149,
     "end_time": "2024-12-04T00:36:08.934589",
     "exception": false,
     "start_time": "2024-12-04T00:36:07.919689",
     "status": "completed"
    },
    "tags": []
   },
   "outputs": [],
   "source": [
    "df.to_csv(f'/kaggle/working/translated_comments_{i+1}.csv', index=False)"
   ]
  }
 ],
 "metadata": {
  "kaggle": {
   "accelerator": "none",
   "dataSources": [
    {
     "sourceId": 209897750,
     "sourceType": "kernelVersion"
    }
   ],
   "dockerImageVersionId": 30786,
   "isGpuEnabled": false,
   "isInternetEnabled": true,
   "language": "python",
   "sourceType": "notebook"
  },
  "kernelspec": {
   "display_name": "Python 3",
   "language": "python",
   "name": "python3"
  },
  "language_info": {
   "codemirror_mode": {
    "name": "ipython",
    "version": 3
   },
   "file_extension": ".py",
   "mimetype": "text/x-python",
   "name": "python",
   "nbconvert_exporter": "python",
   "pygments_lexer": "ipython3",
   "version": "3.10.14"
  },
  "papermill": {
   "default_parameters": {},
   "duration": 27613.557045,
   "end_time": "2024-12-04T00:36:10.513288",
   "environment_variables": {},
   "exception": null,
   "input_path": "__notebook__.ipynb",
   "output_path": "__notebook__.ipynb",
   "parameters": {},
   "start_time": "2024-12-03T16:55:56.956243",
   "version": "2.6.0"
  }
 },
 "nbformat": 4,
 "nbformat_minor": 5
}
