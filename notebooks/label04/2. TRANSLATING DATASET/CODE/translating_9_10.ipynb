{
 "cells": [
  {
   "cell_type": "code",
   "execution_count": 1,
   "id": "81a09ae2",
   "metadata": {
    "execution": {
     "iopub.execute_input": "2024-12-03T16:51:28.075578Z",
     "iopub.status.busy": "2024-12-03T16:51:28.074836Z",
     "iopub.status.idle": "2024-12-03T16:51:28.083554Z",
     "shell.execute_reply": "2024-12-03T16:51:28.082686Z"
    },
    "papermill": {
     "duration": 0.016536,
     "end_time": "2024-12-03T16:51:28.085628",
     "exception": false,
     "start_time": "2024-12-03T16:51:28.069092",
     "status": "completed"
    },
    "tags": []
   },
   "outputs": [],
   "source": [
    "i = 9"
   ]
  },
  {
   "cell_type": "markdown",
   "id": "5a54597f",
   "metadata": {
    "papermill": {
     "duration": 0.003229,
     "end_time": "2024-12-03T16:51:28.092807",
     "exception": false,
     "start_time": "2024-12-03T16:51:28.089578",
     "status": "completed"
    },
    "tags": []
   },
   "source": [
    "# Translating data"
   ]
  },
  {
   "cell_type": "markdown",
   "id": "a553e508",
   "metadata": {
    "papermill": {
     "duration": 0.002934,
     "end_time": "2024-12-03T16:51:28.099029",
     "exception": false,
     "start_time": "2024-12-03T16:51:28.096095",
     "status": "completed"
    },
    "tags": []
   },
   "source": [
    "## Đọc dữ liệu"
   ]
  },
  {
   "cell_type": "code",
   "execution_count": 2,
   "id": "84d0e797",
   "metadata": {
    "_cell_guid": "b1076dfc-b9ad-4769-8c92-a6c4dae69d19",
    "_uuid": "8f2839f25d086af736a60e9eeb907d3b93b6e0e5",
    "execution": {
     "iopub.execute_input": "2024-12-03T16:51:28.106837Z",
     "iopub.status.busy": "2024-12-03T16:51:28.106446Z",
     "iopub.status.idle": "2024-12-03T16:51:28.994220Z",
     "shell.execute_reply": "2024-12-03T16:51:28.993081Z"
    },
    "papermill": {
     "duration": 0.894324,
     "end_time": "2024-12-03T16:51:28.996433",
     "exception": false,
     "start_time": "2024-12-03T16:51:28.102109",
     "status": "completed"
    },
    "tags": []
   },
   "outputs": [
    {
     "name": "stdout",
     "output_type": "stream",
     "text": [
      "Số dòng dữ liệu: 8203\n"
     ]
    },
    {
     "data": {
      "text/html": [
       "<div>\n",
       "<style scoped>\n",
       "    .dataframe tbody tr th:only-of-type {\n",
       "        vertical-align: middle;\n",
       "    }\n",
       "\n",
       "    .dataframe tbody tr th {\n",
       "        vertical-align: top;\n",
       "    }\n",
       "\n",
       "    .dataframe thead th {\n",
       "        text-align: right;\n",
       "    }\n",
       "</style>\n",
       "<table border=\"1\" class=\"dataframe\">\n",
       "  <thead>\n",
       "    <tr style=\"text-align: right;\">\n",
       "      <th></th>\n",
       "      <th>course_id</th>\n",
       "      <th>text</th>\n",
       "      <th>filtered_text</th>\n",
       "      <th>count</th>\n",
       "    </tr>\n",
       "  </thead>\n",
       "  <tbody>\n",
       "    <tr>\n",
       "      <th>0</th>\n",
       "      <td>C_682754</td>\n",
       "      <td>希望学完本课程后在生活工作中可以较为正确地应用色彩让生活变得更美好</td>\n",
       "      <td>希望学完本课程生活工作较为正确应用色彩生活变得美好</td>\n",
       "      <td>1.0</td>\n",
       "    </tr>\n",
       "    <tr>\n",
       "      <th>1</th>\n",
       "      <td>C_682754</td>\n",
       "      <td>因为黑色看起来会更有重量一点所以可以更加增加安全心理的重量</td>\n",
       "      <td>黑色看起来重量一点更加增加安全心理重量</td>\n",
       "      <td>1.0</td>\n",
       "    </tr>\n",
       "    <tr>\n",
       "      <th>2</th>\n",
       "      <td>C_682754</td>\n",
       "      <td>希望拓宽自己知识面学以致用能为生活增添色彩</td>\n",
       "      <td>希望拓宽知识面学以致用能为生活增添色彩</td>\n",
       "      <td>1.0</td>\n",
       "    </tr>\n",
       "    <tr>\n",
       "      <th>3</th>\n",
       "      <td>C_682754</td>\n",
       "      <td>光的三原色红蓝绿不断相交变成白色而印刷三原色洋红青蓝柠檬黄全部叠加变成黑色</td>\n",
       "      <td>三原色红蓝绿不断相交变成白色印刷三原色洋红青蓝柠檬黄叠加变成黑色</td>\n",
       "      <td>1.0</td>\n",
       "    </tr>\n",
       "    <tr>\n",
       "      <th>4</th>\n",
       "      <td>C_682754</td>\n",
       "      <td>更喜欢暖色因为暖色让人感到温暖舒适心情会更好</td>\n",
       "      <td>喜欢暖色暖色感到温暖舒适心情更好</td>\n",
       "      <td>1.0</td>\n",
       "    </tr>\n",
       "  </tbody>\n",
       "</table>\n",
       "</div>"
      ],
      "text/plain": [
       "  course_id                                   text  \\\n",
       "0  C_682754      希望学完本课程后在生活工作中可以较为正确地应用色彩让生活变得更美好   \n",
       "1  C_682754          因为黑色看起来会更有重量一点所以可以更加增加安全心理的重量   \n",
       "2  C_682754                  希望拓宽自己知识面学以致用能为生活增添色彩   \n",
       "3  C_682754  光的三原色红蓝绿不断相交变成白色而印刷三原色洋红青蓝柠檬黄全部叠加变成黑色   \n",
       "4  C_682754                 更喜欢暖色因为暖色让人感到温暖舒适心情会更好   \n",
       "\n",
       "                      filtered_text  count  \n",
       "0         希望学完本课程生活工作较为正确应用色彩生活变得美好    1.0  \n",
       "1               黑色看起来重量一点更加增加安全心理重量    1.0  \n",
       "2               希望拓宽知识面学以致用能为生活增添色彩    1.0  \n",
       "3  三原色红蓝绿不断相交变成白色印刷三原色洋红青蓝柠檬黄叠加变成黑色    1.0  \n",
       "4                  喜欢暖色暖色感到温暖舒适心情更好    1.0  "
      ]
     },
     "execution_count": 2,
     "metadata": {},
     "output_type": "execute_result"
    }
   ],
   "source": [
    "import pandas as pd\n",
    "import numpy as np\n",
    "\n",
    "df = pd.read_csv(f\"/kaggle/input/preprocessing-3/cleaned_comments/file_{i}.csv\")\n",
    "print(\"Số dòng dữ liệu:\", len(df))\n",
    "df.head(5)"
   ]
  },
  {
   "cell_type": "code",
   "execution_count": 3,
   "id": "11fb0fe0",
   "metadata": {
    "execution": {
     "iopub.execute_input": "2024-12-03T16:51:29.005416Z",
     "iopub.status.busy": "2024-12-03T16:51:29.005050Z",
     "iopub.status.idle": "2024-12-03T16:51:29.015331Z",
     "shell.execute_reply": "2024-12-03T16:51:29.014356Z"
    },
    "papermill": {
     "duration": 0.017307,
     "end_time": "2024-12-03T16:51:29.017505",
     "exception": false,
     "start_time": "2024-12-03T16:51:29.000198",
     "status": "completed"
    },
    "tags": []
   },
   "outputs": [
    {
     "data": {
      "text/plain": [
       "course_id        0\n",
       "text             0\n",
       "filtered_text    0\n",
       "count            0\n",
       "dtype: int64"
      ]
     },
     "execution_count": 3,
     "metadata": {},
     "output_type": "execute_result"
    }
   ],
   "source": [
    "df.isnull().sum()"
   ]
  },
  {
   "cell_type": "markdown",
   "id": "b89dd0cd",
   "metadata": {
    "papermill": {
     "duration": 0.003753,
     "end_time": "2024-12-03T16:51:29.025140",
     "exception": false,
     "start_time": "2024-12-03T16:51:29.021387",
     "status": "completed"
    },
    "tags": []
   },
   "source": [
    "## Dịch sang tiếng anh với thư viện GoogleTranslator"
   ]
  },
  {
   "cell_type": "code",
   "execution_count": 4,
   "id": "a28dcbab",
   "metadata": {
    "execution": {
     "iopub.execute_input": "2024-12-03T16:51:29.034063Z",
     "iopub.status.busy": "2024-12-03T16:51:29.033631Z",
     "iopub.status.idle": "2024-12-03T16:51:40.302408Z",
     "shell.execute_reply": "2024-12-03T16:51:40.301177Z"
    },
    "papermill": {
     "duration": 11.275932,
     "end_time": "2024-12-03T16:51:40.304865",
     "exception": false,
     "start_time": "2024-12-03T16:51:29.028933",
     "status": "completed"
    },
    "tags": []
   },
   "outputs": [
    {
     "name": "stdout",
     "output_type": "stream",
     "text": [
      "Collecting deep-translator\r\n",
      "  Downloading deep_translator-1.11.4-py3-none-any.whl.metadata (30 kB)\r\n",
      "Requirement already satisfied: beautifulsoup4<5.0.0,>=4.9.1 in /opt/conda/lib/python3.10/site-packages (from deep-translator) (4.12.3)\r\n",
      "Requirement already satisfied: requests<3.0.0,>=2.23.0 in /opt/conda/lib/python3.10/site-packages (from deep-translator) (2.32.3)\r\n",
      "Requirement already satisfied: soupsieve>1.2 in /opt/conda/lib/python3.10/site-packages (from beautifulsoup4<5.0.0,>=4.9.1->deep-translator) (2.5)\r\n",
      "Requirement already satisfied: charset-normalizer<4,>=2 in /opt/conda/lib/python3.10/site-packages (from requests<3.0.0,>=2.23.0->deep-translator) (3.3.2)\r\n",
      "Requirement already satisfied: idna<4,>=2.5 in /opt/conda/lib/python3.10/site-packages (from requests<3.0.0,>=2.23.0->deep-translator) (3.7)\r\n",
      "Requirement already satisfied: urllib3<3,>=1.21.1 in /opt/conda/lib/python3.10/site-packages (from requests<3.0.0,>=2.23.0->deep-translator) (1.26.18)\r\n",
      "Requirement already satisfied: certifi>=2017.4.17 in /opt/conda/lib/python3.10/site-packages (from requests<3.0.0,>=2.23.0->deep-translator) (2024.8.30)\r\n",
      "Downloading deep_translator-1.11.4-py3-none-any.whl (42 kB)\r\n",
      "\u001b[2K   \u001b[90m━━━━━━━━━━━━━━━━━━━━━━━━━━━━━━━━━━━━━━━━\u001b[0m \u001b[32m42.3/42.3 kB\u001b[0m \u001b[31m2.2 MB/s\u001b[0m eta \u001b[36m0:00:00\u001b[0m\r\n",
      "\u001b[?25hInstalling collected packages: deep-translator\r\n",
      "Successfully installed deep-translator-1.11.4\r\n"
     ]
    }
   ],
   "source": [
    "!pip install deep-translator"
   ]
  },
  {
   "cell_type": "code",
   "execution_count": 5,
   "id": "ffea5e81",
   "metadata": {
    "execution": {
     "iopub.execute_input": "2024-12-03T16:51:40.315164Z",
     "iopub.status.busy": "2024-12-03T16:51:40.314763Z",
     "iopub.status.idle": "2024-12-03T16:51:50.148711Z",
     "shell.execute_reply": "2024-12-03T16:51:50.147317Z"
    },
    "papermill": {
     "duration": 9.842152,
     "end_time": "2024-12-03T16:51:50.151246",
     "exception": false,
     "start_time": "2024-12-03T16:51:40.309094",
     "status": "completed"
    },
    "tags": []
   },
   "outputs": [
    {
     "name": "stdout",
     "output_type": "stream",
     "text": [
      "Requirement already satisfied: tqdm in /opt/conda/lib/python3.10/site-packages (4.66.4)\r\n",
      "Note: you may need to restart the kernel to use updated packages.\n"
     ]
    }
   ],
   "source": [
    "pip install tqdm"
   ]
  },
  {
   "cell_type": "code",
   "execution_count": 6,
   "id": "29f51865",
   "metadata": {
    "execution": {
     "iopub.execute_input": "2024-12-03T16:51:50.162583Z",
     "iopub.status.busy": "2024-12-03T16:51:50.162199Z",
     "iopub.status.idle": "2024-12-03T20:16:14.229578Z",
     "shell.execute_reply": "2024-12-03T20:16:14.228323Z"
    },
    "papermill": {
     "duration": 12264.075481,
     "end_time": "2024-12-03T20:16:14.231976",
     "exception": false,
     "start_time": "2024-12-03T16:51:50.156495",
     "status": "completed"
    },
    "tags": []
   },
   "outputs": [
    {
     "name": "stderr",
     "output_type": "stream",
     "text": [
      "Tiến độ dịch: 100%|██████████| 8203/8203 [3:24:23<00:00,  1.50s/dòng]"
     ]
    },
    {
     "name": "stdout",
     "output_type": "stream",
     "text": [
      "Số dòng dữ liệu: 8203\n"
     ]
    },
    {
     "name": "stderr",
     "output_type": "stream",
     "text": [
      "\n"
     ]
    },
    {
     "data": {
      "text/html": [
       "<div>\n",
       "<style scoped>\n",
       "    .dataframe tbody tr th:only-of-type {\n",
       "        vertical-align: middle;\n",
       "    }\n",
       "\n",
       "    .dataframe tbody tr th {\n",
       "        vertical-align: top;\n",
       "    }\n",
       "\n",
       "    .dataframe thead th {\n",
       "        text-align: right;\n",
       "    }\n",
       "</style>\n",
       "<table border=\"1\" class=\"dataframe\">\n",
       "  <thead>\n",
       "    <tr style=\"text-align: right;\">\n",
       "      <th></th>\n",
       "      <th>course_id</th>\n",
       "      <th>text</th>\n",
       "      <th>filtered_text</th>\n",
       "      <th>count</th>\n",
       "      <th>text_vi</th>\n",
       "    </tr>\n",
       "  </thead>\n",
       "  <tbody>\n",
       "    <tr>\n",
       "      <th>0</th>\n",
       "      <td>C_682754</td>\n",
       "      <td>希望学完本课程后在生活工作中可以较为正确地应用色彩让生活变得更美好</td>\n",
       "      <td>希望学完本课程生活工作较为正确应用色彩生活变得美好</td>\n",
       "      <td>1.0</td>\n",
       "      <td>Tôi hy vọng rằng sau khi hoàn thành khóa học n...</td>\n",
       "    </tr>\n",
       "    <tr>\n",
       "      <th>1</th>\n",
       "      <td>C_682754</td>\n",
       "      <td>因为黑色看起来会更有重量一点所以可以更加增加安全心理的重量</td>\n",
       "      <td>黑色看起来重量一点更加增加安全心理重量</td>\n",
       "      <td>1.0</td>\n",
       "      <td>Vì màu đen trông nặng nề hơn nên nó có thể làm...</td>\n",
       "    </tr>\n",
       "    <tr>\n",
       "      <th>2</th>\n",
       "      <td>C_682754</td>\n",
       "      <td>希望拓宽自己知识面学以致用能为生活增添色彩</td>\n",
       "      <td>希望拓宽知识面学以致用能为生活增添色彩</td>\n",
       "      <td>1.0</td>\n",
       "      <td>Tôi hy vọng có thể mở rộng kiến ​​thức và áp d...</td>\n",
       "    </tr>\n",
       "    <tr>\n",
       "      <th>3</th>\n",
       "      <td>C_682754</td>\n",
       "      <td>光的三原色红蓝绿不断相交变成白色而印刷三原色洋红青蓝柠檬黄全部叠加变成黑色</td>\n",
       "      <td>三原色红蓝绿不断相交变成白色印刷三原色洋红青蓝柠檬黄叠加变成黑色</td>\n",
       "      <td>1.0</td>\n",
       "      <td>Ba màu cơ bản là ánh sáng, đỏ, xanh lam và xan...</td>\n",
       "    </tr>\n",
       "    <tr>\n",
       "      <th>4</th>\n",
       "      <td>C_682754</td>\n",
       "      <td>更喜欢暖色因为暖色让人感到温暖舒适心情会更好</td>\n",
       "      <td>喜欢暖色暖色感到温暖舒适心情更好</td>\n",
       "      <td>1.0</td>\n",
       "      <td>Tôi thích màu ấm vì màu ấm khiến mọi người cảm...</td>\n",
       "    </tr>\n",
       "  </tbody>\n",
       "</table>\n",
       "</div>"
      ],
      "text/plain": [
       "  course_id                                   text  \\\n",
       "0  C_682754      希望学完本课程后在生活工作中可以较为正确地应用色彩让生活变得更美好   \n",
       "1  C_682754          因为黑色看起来会更有重量一点所以可以更加增加安全心理的重量   \n",
       "2  C_682754                  希望拓宽自己知识面学以致用能为生活增添色彩   \n",
       "3  C_682754  光的三原色红蓝绿不断相交变成白色而印刷三原色洋红青蓝柠檬黄全部叠加变成黑色   \n",
       "4  C_682754                 更喜欢暖色因为暖色让人感到温暖舒适心情会更好   \n",
       "\n",
       "                      filtered_text  count  \\\n",
       "0         希望学完本课程生活工作较为正确应用色彩生活变得美好    1.0   \n",
       "1               黑色看起来重量一点更加增加安全心理重量    1.0   \n",
       "2               希望拓宽知识面学以致用能为生活增添色彩    1.0   \n",
       "3  三原色红蓝绿不断相交变成白色印刷三原色洋红青蓝柠檬黄叠加变成黑色    1.0   \n",
       "4                  喜欢暖色暖色感到温暖舒适心情更好    1.0   \n",
       "\n",
       "                                             text_vi  \n",
       "0  Tôi hy vọng rằng sau khi hoàn thành khóa học n...  \n",
       "1  Vì màu đen trông nặng nề hơn nên nó có thể làm...  \n",
       "2  Tôi hy vọng có thể mở rộng kiến ​​thức và áp d...  \n",
       "3  Ba màu cơ bản là ánh sáng, đỏ, xanh lam và xan...  \n",
       "4  Tôi thích màu ấm vì màu ấm khiến mọi người cảm...  "
      ]
     },
     "execution_count": 6,
     "metadata": {},
     "output_type": "execute_result"
    }
   ],
   "source": [
    "from deep_translator import GoogleTranslator\n",
    "import pandas as pd\n",
    "from tqdm import tqdm  # Import tqdm để sử dụng thanh tiến độ\n",
    "\n",
    "# Khởi tạo đối tượng GoogleTranslator\n",
    "translator = GoogleTranslator(source='zh-CN', target='vi')\n",
    "\n",
    "# Tạo cột 'text_en' nếu chưa có\n",
    "if 'text_vi' not in df.columns:\n",
    "    df['text_vi'] = None\n",
    "\n",
    "df['text'] = df['text'].astype(str)\n",
    "# Sử dụng tqdm để tạo thanh tiến độ\n",
    "with tqdm(total=len(df), desc=\"Tiến độ dịch\", unit=\"dòng\") as pbar:\n",
    "    for idx, row in df.iterrows():\n",
    "        if pd.isna(row['text_vi']):  # Chỉ dịch nếu chưa có dữ liệu\n",
    "            try:\n",
    "                # Dịch từ tiếng Trung giản thể (zh-CN) sang tiếng Anh (en)\n",
    "                text_trans = translator.translate(str(row['text']))\n",
    "                df.loc[idx, 'text_vi'] = text_trans  # Sử dụng .loc để tránh SettingWithCopyWarning\n",
    "            except Exception as e:\n",
    "                print(f\"Error translating row {idx}: {e}\")\n",
    "        \n",
    "        # Cập nhật thanh tiến độ\n",
    "        pbar.update(1)\n",
    "\n",
    "# Hiển thị DataFrame để kiểm tra\n",
    "print(\"Số dòng dữ liệu:\", len(df))\n",
    "df.head(5)"
   ]
  },
  {
   "cell_type": "code",
   "execution_count": 7,
   "id": "1b408cc6",
   "metadata": {
    "execution": {
     "iopub.execute_input": "2024-12-03T20:16:15.101680Z",
     "iopub.status.busy": "2024-12-03T20:16:15.100231Z",
     "iopub.status.idle": "2024-12-03T20:16:15.108677Z",
     "shell.execute_reply": "2024-12-03T20:16:15.107635Z"
    },
    "papermill": {
     "duration": 0.415839,
     "end_time": "2024-12-03T20:16:15.110728",
     "exception": false,
     "start_time": "2024-12-03T20:16:14.694889",
     "status": "completed"
    },
    "tags": []
   },
   "outputs": [],
   "source": [
    "df['text'] = df['text'].astype(str)\n",
    "df['text_vi'] = df['text_vi'].astype(str)"
   ]
  },
  {
   "cell_type": "markdown",
   "id": "9a912a68",
   "metadata": {
    "papermill": {
     "duration": 0.506118,
     "end_time": "2024-12-03T20:16:16.015381",
     "exception": false,
     "start_time": "2024-12-03T20:16:15.509263",
     "status": "completed"
    },
    "tags": []
   },
   "source": [
    "## Lưu file đã dịch"
   ]
  },
  {
   "cell_type": "code",
   "execution_count": 8,
   "id": "64d31448",
   "metadata": {
    "execution": {
     "iopub.execute_input": "2024-12-03T20:16:16.835055Z",
     "iopub.status.busy": "2024-12-03T20:16:16.834611Z",
     "iopub.status.idle": "2024-12-03T20:16:16.929046Z",
     "shell.execute_reply": "2024-12-03T20:16:16.927676Z"
    },
    "papermill": {
     "duration": 0.510538,
     "end_time": "2024-12-03T20:16:16.931997",
     "exception": false,
     "start_time": "2024-12-03T20:16:16.421459",
     "status": "completed"
    },
    "tags": []
   },
   "outputs": [],
   "source": [
    "df.to_csv(f'/kaggle/working/translated_comments_{i}.csv', index=False)"
   ]
  },
  {
   "cell_type": "markdown",
   "id": "0d151f24",
   "metadata": {
    "papermill": {
     "duration": 0.40593,
     "end_time": "2024-12-03T20:16:17.802498",
     "exception": false,
     "start_time": "2024-12-03T20:16:17.396568",
     "status": "completed"
    },
    "tags": []
   },
   "source": [
    "# File i+1"
   ]
  },
  {
   "cell_type": "code",
   "execution_count": 9,
   "id": "fceb2191",
   "metadata": {
    "execution": {
     "iopub.execute_input": "2024-12-03T20:16:18.662193Z",
     "iopub.status.busy": "2024-12-03T20:16:18.661797Z",
     "iopub.status.idle": "2024-12-03T20:16:18.736346Z",
     "shell.execute_reply": "2024-12-03T20:16:18.735346Z"
    },
    "papermill": {
     "duration": 0.534584,
     "end_time": "2024-12-03T20:16:18.738293",
     "exception": false,
     "start_time": "2024-12-03T20:16:18.203709",
     "status": "completed"
    },
    "tags": []
   },
   "outputs": [
    {
     "name": "stdout",
     "output_type": "stream",
     "text": [
      "Số dòng dữ liệu: 7506\n"
     ]
    },
    {
     "data": {
      "text/html": [
       "<div>\n",
       "<style scoped>\n",
       "    .dataframe tbody tr th:only-of-type {\n",
       "        vertical-align: middle;\n",
       "    }\n",
       "\n",
       "    .dataframe tbody tr th {\n",
       "        vertical-align: top;\n",
       "    }\n",
       "\n",
       "    .dataframe thead th {\n",
       "        text-align: right;\n",
       "    }\n",
       "</style>\n",
       "<table border=\"1\" class=\"dataframe\">\n",
       "  <thead>\n",
       "    <tr style=\"text-align: right;\">\n",
       "      <th></th>\n",
       "      <th>course_id</th>\n",
       "      <th>text</th>\n",
       "      <th>filtered_text</th>\n",
       "      <th>count</th>\n",
       "    </tr>\n",
       "  </thead>\n",
       "  <tbody>\n",
       "    <tr>\n",
       "      <th>0</th>\n",
       "      <td>C_696787</td>\n",
       "      <td>biu</td>\n",
       "      <td>biu</td>\n",
       "      <td>1.0</td>\n",
       "    </tr>\n",
       "    <tr>\n",
       "      <th>1</th>\n",
       "      <td>C_696787</td>\n",
       "      <td>优秀</td>\n",
       "      <td>优秀</td>\n",
       "      <td>1.0</td>\n",
       "    </tr>\n",
       "    <tr>\n",
       "      <th>2</th>\n",
       "      <td>C_696787</td>\n",
       "      <td>太六了</td>\n",
       "      <td>太六</td>\n",
       "      <td>1.0</td>\n",
       "    </tr>\n",
       "    <tr>\n",
       "      <th>3</th>\n",
       "      <td>C_696787</td>\n",
       "      <td>老师讲的很精简</td>\n",
       "      <td>老师讲精简</td>\n",
       "      <td>1.0</td>\n",
       "    </tr>\n",
       "    <tr>\n",
       "      <th>4</th>\n",
       "      <td>C_696787</td>\n",
       "      <td>学到了</td>\n",
       "      <td>学到</td>\n",
       "      <td>3.0</td>\n",
       "    </tr>\n",
       "  </tbody>\n",
       "</table>\n",
       "</div>"
      ],
      "text/plain": [
       "  course_id     text filtered_text  count\n",
       "0  C_696787      biu           biu    1.0\n",
       "1  C_696787       优秀            优秀    1.0\n",
       "2  C_696787      太六了            太六    1.0\n",
       "3  C_696787  老师讲的很精简         老师讲精简    1.0\n",
       "4  C_696787      学到了            学到    3.0"
      ]
     },
     "execution_count": 9,
     "metadata": {},
     "output_type": "execute_result"
    }
   ],
   "source": [
    "import pandas as pd\n",
    "import numpy as np\n",
    "\n",
    "df = pd.read_csv(f\"/kaggle/input/preprocessing-3/cleaned_comments/file_{i+1}.csv\")\n",
    "print(\"Số dòng dữ liệu:\", len(df))\n",
    "df.head(5)"
   ]
  },
  {
   "cell_type": "code",
   "execution_count": 10,
   "id": "8835cc82",
   "metadata": {
    "execution": {
     "iopub.execute_input": "2024-12-03T20:16:19.550084Z",
     "iopub.status.busy": "2024-12-03T20:16:19.549183Z",
     "iopub.status.idle": "2024-12-03T23:18:23.543160Z",
     "shell.execute_reply": "2024-12-03T23:18:23.541727Z"
    },
    "papermill": {
     "duration": 10924.402937,
     "end_time": "2024-12-03T23:18:23.545565",
     "exception": false,
     "start_time": "2024-12-03T20:16:19.142628",
     "status": "completed"
    },
    "tags": []
   },
   "outputs": [
    {
     "name": "stderr",
     "output_type": "stream",
     "text": [
      "Tiến độ dịch:  96%|█████████▌| 7196/7506 [2:57:34<04:20,  1.19dòng/s]"
     ]
    },
    {
     "name": "stdout",
     "output_type": "stream",
     "text": [
      "Error translating row 7195: 谁可以分享波答案谢谢 --> No translation was found using the current translator. Try another translator?\n"
     ]
    },
    {
     "name": "stderr",
     "output_type": "stream",
     "text": [
      "Tiến độ dịch:  96%|█████████▌| 7200/7506 [2:57:35<02:19,  2.19dòng/s]"
     ]
    },
    {
     "name": "stdout",
     "output_type": "stream",
     "text": [
      "Error translating row 7198: 视频也刷不出来 --> No translation was found using the current translator. Try another translator?\n"
     ]
    },
    {
     "name": "stderr",
     "output_type": "stream",
     "text": [
      "Tiến độ dịch:  96%|█████████▋| 7225/7506 [2:58:01<04:49,  1.03s/dòng]"
     ]
    },
    {
     "name": "stdout",
     "output_type": "stream",
     "text": [
      "Error translating row 7224: 我爱学习别拦我 --> No translation was found using the current translator. Try another translator?\n"
     ]
    },
    {
     "name": "stderr",
     "output_type": "stream",
     "text": [
      "Tiến độ dịch: 100%|██████████| 7506/7506 [3:02:03<00:00,  1.46s/dòng]"
     ]
    },
    {
     "name": "stdout",
     "output_type": "stream",
     "text": [
      "Số dòng dữ liệu: 7506\n"
     ]
    },
    {
     "name": "stderr",
     "output_type": "stream",
     "text": [
      "\n"
     ]
    },
    {
     "data": {
      "text/html": [
       "<div>\n",
       "<style scoped>\n",
       "    .dataframe tbody tr th:only-of-type {\n",
       "        vertical-align: middle;\n",
       "    }\n",
       "\n",
       "    .dataframe tbody tr th {\n",
       "        vertical-align: top;\n",
       "    }\n",
       "\n",
       "    .dataframe thead th {\n",
       "        text-align: right;\n",
       "    }\n",
       "</style>\n",
       "<table border=\"1\" class=\"dataframe\">\n",
       "  <thead>\n",
       "    <tr style=\"text-align: right;\">\n",
       "      <th></th>\n",
       "      <th>course_id</th>\n",
       "      <th>text</th>\n",
       "      <th>filtered_text</th>\n",
       "      <th>count</th>\n",
       "      <th>text_vi</th>\n",
       "    </tr>\n",
       "  </thead>\n",
       "  <tbody>\n",
       "    <tr>\n",
       "      <th>0</th>\n",
       "      <td>C_696787</td>\n",
       "      <td>biu</td>\n",
       "      <td>biu</td>\n",
       "      <td>1.0</td>\n",
       "      <td>biu</td>\n",
       "    </tr>\n",
       "    <tr>\n",
       "      <th>1</th>\n",
       "      <td>C_696787</td>\n",
       "      <td>优秀</td>\n",
       "      <td>优秀</td>\n",
       "      <td>1.0</td>\n",
       "      <td>xuất sắc</td>\n",
       "    </tr>\n",
       "    <tr>\n",
       "      <th>2</th>\n",
       "      <td>C_696787</td>\n",
       "      <td>太六了</td>\n",
       "      <td>太六</td>\n",
       "      <td>1.0</td>\n",
       "      <td>Quá sáu</td>\n",
       "    </tr>\n",
       "    <tr>\n",
       "      <th>3</th>\n",
       "      <td>C_696787</td>\n",
       "      <td>老师讲的很精简</td>\n",
       "      <td>老师讲精简</td>\n",
       "      <td>1.0</td>\n",
       "      <td>Thầy giảng rất ngắn gọn</td>\n",
       "    </tr>\n",
       "    <tr>\n",
       "      <th>4</th>\n",
       "      <td>C_696787</td>\n",
       "      <td>学到了</td>\n",
       "      <td>学到</td>\n",
       "      <td>3.0</td>\n",
       "      <td>đã học</td>\n",
       "    </tr>\n",
       "  </tbody>\n",
       "</table>\n",
       "</div>"
      ],
      "text/plain": [
       "  course_id     text filtered_text  count                  text_vi\n",
       "0  C_696787      biu           biu    1.0                      biu\n",
       "1  C_696787       优秀            优秀    1.0                 xuất sắc\n",
       "2  C_696787      太六了            太六    1.0                  Quá sáu\n",
       "3  C_696787  老师讲的很精简         老师讲精简    1.0  Thầy giảng rất ngắn gọn\n",
       "4  C_696787      学到了            学到    3.0                   đã học"
      ]
     },
     "execution_count": 10,
     "metadata": {},
     "output_type": "execute_result"
    }
   ],
   "source": [
    "from deep_translator import GoogleTranslator\n",
    "import pandas as pd\n",
    "from tqdm import tqdm  # Import tqdm để sử dụng thanh tiến độ\n",
    "\n",
    "# Khởi tạo đối tượng GoogleTranslator\n",
    "translator = GoogleTranslator(source='zh-CN', target='vi')\n",
    "\n",
    "# Tạo cột 'text_en' nếu chưa có\n",
    "if 'text_vi' not in df.columns:\n",
    "    df['text_vi'] = None\n",
    "\n",
    "df['text'] = df['text'].astype(str)\n",
    "# Sử dụng tqdm để tạo thanh tiến độ\n",
    "with tqdm(total=len(df), desc=\"Tiến độ dịch\", unit=\"dòng\") as pbar:\n",
    "    for idx, row in df.iterrows():\n",
    "        if pd.isna(row['text_vi']):  # Chỉ dịch nếu chưa có dữ liệu\n",
    "            try:\n",
    "                # Dịch từ tiếng Trung giản thể (zh-CN) sang tiếng Anh (en)\n",
    "                text_trans = translator.translate(str(row['text']))\n",
    "                df.loc[idx, 'text_vi'] = text_trans  # Sử dụng .loc để tránh SettingWithCopyWarning\n",
    "            except Exception as e:\n",
    "                print(f\"Error translating row {idx}: {e}\")\n",
    "        \n",
    "        # Cập nhật thanh tiến độ\n",
    "        pbar.update(1)\n",
    "\n",
    "# Hiển thị DataFrame để kiểm tra\n",
    "print(\"Số dòng dữ liệu:\", len(df))\n",
    "df.head(5)"
   ]
  },
  {
   "cell_type": "code",
   "execution_count": 11,
   "id": "27dcc27a",
   "metadata": {
    "execution": {
     "iopub.execute_input": "2024-12-03T23:18:25.144700Z",
     "iopub.status.busy": "2024-12-03T23:18:25.144304Z",
     "iopub.status.idle": "2024-12-03T23:18:25.153033Z",
     "shell.execute_reply": "2024-12-03T23:18:25.152089Z"
    },
    "papermill": {
     "duration": 0.773015,
     "end_time": "2024-12-03T23:18:25.154853",
     "exception": false,
     "start_time": "2024-12-03T23:18:24.381838",
     "status": "completed"
    },
    "tags": []
   },
   "outputs": [],
   "source": [
    "df['text'] = df['text'].astype(str)\n",
    "df['text_vi'] = df['text_vi'].astype(str)"
   ]
  },
  {
   "cell_type": "code",
   "execution_count": 12,
   "id": "63948e8b",
   "metadata": {
    "execution": {
     "iopub.execute_input": "2024-12-03T23:18:26.739486Z",
     "iopub.status.busy": "2024-12-03T23:18:26.739106Z",
     "iopub.status.idle": "2024-12-03T23:18:26.807169Z",
     "shell.execute_reply": "2024-12-03T23:18:26.806299Z"
    },
    "papermill": {
     "duration": 0.833575,
     "end_time": "2024-12-03T23:18:26.809462",
     "exception": false,
     "start_time": "2024-12-03T23:18:25.975887",
     "status": "completed"
    },
    "tags": []
   },
   "outputs": [],
   "source": [
    "df.to_csv(f'/kaggle/working/translated_comments_{i+1}.csv', index=False)"
   ]
  }
 ],
 "metadata": {
  "kaggle": {
   "accelerator": "none",
   "dataSources": [
    {
     "sourceId": 209897750,
     "sourceType": "kernelVersion"
    }
   ],
   "dockerImageVersionId": 30787,
   "isGpuEnabled": false,
   "isInternetEnabled": true,
   "language": "python",
   "sourceType": "notebook"
  },
  "kernelspec": {
   "display_name": "Python 3",
   "language": "python",
   "name": "python3"
  },
  "language_info": {
   "codemirror_mode": {
    "name": "ipython",
    "version": 3
   },
   "file_extension": ".py",
   "mimetype": "text/x-python",
   "name": "python",
   "nbconvert_exporter": "python",
   "pygments_lexer": "ipython3",
   "version": "3.10.14"
  },
  "papermill": {
   "default_parameters": {},
   "duration": 23222.671546,
   "end_time": "2024-12-03T23:18:28.139989",
   "environment_variables": {},
   "exception": null,
   "input_path": "__notebook__.ipynb",
   "output_path": "__notebook__.ipynb",
   "parameters": {},
   "start_time": "2024-12-03T16:51:25.468443",
   "version": "2.6.0"
  }
 },
 "nbformat": 4,
 "nbformat_minor": 5
}
